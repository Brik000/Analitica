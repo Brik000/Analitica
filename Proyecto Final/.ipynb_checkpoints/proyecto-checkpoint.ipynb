{
 "cells": [
  {
   "cell_type": "code",
   "execution_count": 2,
   "metadata": {},
   "outputs": [],
   "source": [
    "import numpy as np #operaciones matriciales y con vectores\n",
    "import pandas as pd #tratamiento de datos\n",
    "import matplotlib.pyplot as plt #gráficos\n",
    "from sklearn import tree, datasets, metrics\n",
    "from sklearn.metrics import precision_score\n",
    "from sklearn import neighbors, metrics\n",
    "from matplotlib.colors import ListedColormap\n",
    "from sklearn import preprocessing\n",
    "import matplotlib.patches as mpatches\n",
    "#from sklearn import neighbors, datasets, metrics\n",
    "from sklearn.model_selection import train_test_split #metodo de particionamiento de datasets para evaluación\n",
    "from sklearn.model_selection import cross_val_score, cross_validate #método para evaluar varios particionamientos de C-V\n",
    "from sklearn.model_selection import KFold, StratifiedKFold, RepeatedKFold, LeaveOneOut #Iteradores de C-V\n",
    "import seaborn as sns\n",
    "import math\n",
    "import warnings\n",
    "from sklearn.model_selection import train_test_split\n",
    "from sklearn.preprocessing import StandardScaler\n",
    "from sklearn.neighbors import KNeighborsClassifier\n",
    "from sklearn.metrics import classification_report, confusion_matrix\n",
    "from IPython.display import Image  \n",
    "from sklearn.externals.six import StringIO  \n",
    "\n",
    "from sklearn.neural_network import MLPClassifier\n",
    "import time\n",
    "from sklearn.metrics import make_scorer \n",
    "from sklearn.metrics import accuracy_score, cohen_kappa_score, classification_report\n",
    "from sklearn.model_selection import GridSearchCV\n",
    "\n",
    "\n",
    "\n",
    "\n",
    "\n",
    "warnings.filterwarnings(\"ignore\")"
   ]
  },
  {
   "cell_type": "code",
   "execution_count": 3,
   "metadata": {},
   "outputs": [
    {
     "name": "stdout",
     "output_type": "stream",
     "text": [
      "(23162, 9)\n"
     ]
    },
    {
     "data": {
      "text/html": [
       "<div>\n",
       "<style scoped>\n",
       "    .dataframe tbody tr th:only-of-type {\n",
       "        vertical-align: middle;\n",
       "    }\n",
       "\n",
       "    .dataframe tbody tr th {\n",
       "        vertical-align: top;\n",
       "    }\n",
       "\n",
       "    .dataframe thead th {\n",
       "        text-align: right;\n",
       "    }\n",
       "</style>\n",
       "<table border=\"1\" class=\"dataframe\">\n",
       "  <thead>\n",
       "    <tr style=\"text-align: right;\">\n",
       "      <th></th>\n",
       "      <th>ESTADO</th>\n",
       "      <th>INGRESOS</th>\n",
       "      <th>CASA</th>\n",
       "      <th>PRECIO_DISPOSITIVO</th>\n",
       "      <th>MESES</th>\n",
       "      <th>DURACION</th>\n",
       "      <th>SOBRECARGO</th>\n",
       "      <th>SALDO_RESTANTE</th>\n",
       "      <th>SATISFACCION</th>\n",
       "    </tr>\n",
       "  </thead>\n",
       "  <tbody>\n",
       "    <tr>\n",
       "      <th>0</th>\n",
       "      <td>VINCULADO</td>\n",
       "      <td>4074840</td>\n",
       "      <td>8.830000e+08</td>\n",
       "      <td>1444153.0</td>\n",
       "      <td>26</td>\n",
       "      <td>2.3</td>\n",
       "      <td>11.167542</td>\n",
       "      <td>20.3</td>\n",
       "      <td>1.762872</td>\n",
       "    </tr>\n",
       "    <tr>\n",
       "      <th>1</th>\n",
       "      <td>VINCULADO</td>\n",
       "      <td>8574088</td>\n",
       "      <td>1.745000e+09</td>\n",
       "      <td>2157661.0</td>\n",
       "      <td>23</td>\n",
       "      <td>3.7</td>\n",
       "      <td>0.000000</td>\n",
       "      <td>53.5</td>\n",
       "      <td>3.361266</td>\n",
       "    </tr>\n",
       "    <tr>\n",
       "      <th>2</th>\n",
       "      <td>RETIRADO</td>\n",
       "      <td>795993</td>\n",
       "      <td>9.500000e+07</td>\n",
       "      <td>452809.0</td>\n",
       "      <td>38</td>\n",
       "      <td>16.8</td>\n",
       "      <td>350.610224</td>\n",
       "      <td>13.9</td>\n",
       "      <td>8.359438</td>\n",
       "    </tr>\n",
       "    <tr>\n",
       "      <th>3</th>\n",
       "      <td>RETIRADO</td>\n",
       "      <td>8115015</td>\n",
       "      <td>8.300000e+07</td>\n",
       "      <td>2617184.0</td>\n",
       "      <td>37</td>\n",
       "      <td>17.6</td>\n",
       "      <td>230.913888</td>\n",
       "      <td>45.7</td>\n",
       "      <td>8.964017</td>\n",
       "    </tr>\n",
       "    <tr>\n",
       "      <th>4</th>\n",
       "      <td>RETIRADO</td>\n",
       "      <td>8187499</td>\n",
       "      <td>6.770000e+08</td>\n",
       "      <td>666069.0</td>\n",
       "      <td>19</td>\n",
       "      <td>0.0</td>\n",
       "      <td>131.541983</td>\n",
       "      <td>67.2</td>\n",
       "      <td>8.808206</td>\n",
       "    </tr>\n",
       "  </tbody>\n",
       "</table>\n",
       "</div>"
      ],
      "text/plain": [
       "      ESTADO  INGRESOS          CASA  PRECIO_DISPOSITIVO  MESES  DURACION  \\\n",
       "0  VINCULADO   4074840  8.830000e+08           1444153.0     26       2.3   \n",
       "1  VINCULADO   8574088  1.745000e+09           2157661.0     23       3.7   \n",
       "2   RETIRADO    795993  9.500000e+07            452809.0     38      16.8   \n",
       "3   RETIRADO   8115015  8.300000e+07           2617184.0     37      17.6   \n",
       "4   RETIRADO   8187499  6.770000e+08            666069.0     19       0.0   \n",
       "\n",
       "   SOBRECARGO  SALDO_RESTANTE  SATISFACCION  \n",
       "0   11.167542            20.3      1.762872  \n",
       "1    0.000000            53.5      3.361266  \n",
       "2  350.610224            13.9      8.359438  \n",
       "3  230.913888            45.7      8.964017  \n",
       "4  131.541983            67.2      8.808206  "
      ]
     },
     "execution_count": 3,
     "metadata": {},
     "output_type": "execute_result"
    }
   ],
   "source": [
    "data = pd.read_csv('PF-02-DatosTelco.csv', sep=',')\n",
    "print(data.shape)\n",
    "data.head(5)"
   ]
  },
  {
   "cell_type": "code",
   "execution_count": 4,
   "metadata": {
    "scrolled": true
   },
   "outputs": [
    {
     "name": "stdout",
     "output_type": "stream",
     "text": [
      "<class 'pandas.core.frame.DataFrame'>\n",
      "RangeIndex: 23162 entries, 0 to 23161\n",
      "Data columns (total 9 columns):\n",
      " #   Column              Non-Null Count  Dtype  \n",
      "---  ------              --------------  -----  \n",
      " 0   ESTADO              23162 non-null  object \n",
      " 1   INGRESOS            23162 non-null  int64  \n",
      " 2   CASA                23162 non-null  float64\n",
      " 3   PRECIO_DISPOSITIVO  23162 non-null  float64\n",
      " 4   MESES               23162 non-null  int64  \n",
      " 5   DURACION            23162 non-null  float64\n",
      " 6   SOBRECARGO          23162 non-null  float64\n",
      " 7   SALDO_RESTANTE      23162 non-null  float64\n",
      " 8   SATISFACCION        23162 non-null  float64\n",
      "dtypes: float64(6), int64(2), object(1)\n",
      "memory usage: 1.6+ MB\n"
     ]
    }
   ],
   "source": [
    "data.info()"
   ]
  },
  {
   "cell_type": "code",
   "execution_count": 5,
   "metadata": {},
   "outputs": [
    {
     "data": {
      "text/html": [
       "<div>\n",
       "<style scoped>\n",
       "    .dataframe tbody tr th:only-of-type {\n",
       "        vertical-align: middle;\n",
       "    }\n",
       "\n",
       "    .dataframe tbody tr th {\n",
       "        vertical-align: top;\n",
       "    }\n",
       "\n",
       "    .dataframe thead th {\n",
       "        text-align: right;\n",
       "    }\n",
       "</style>\n",
       "<table border=\"1\" class=\"dataframe\">\n",
       "  <thead>\n",
       "    <tr style=\"text-align: right;\">\n",
       "      <th></th>\n",
       "      <th>ESTADO</th>\n",
       "      <th>INGRESOS</th>\n",
       "      <th>CASA</th>\n",
       "      <th>PRECIO_DISPOSITIVO</th>\n",
       "      <th>MESES</th>\n",
       "      <th>DURACION</th>\n",
       "      <th>SOBRECARGO</th>\n",
       "      <th>SALDO_RESTANTE</th>\n",
       "      <th>SATISFACCION</th>\n",
       "    </tr>\n",
       "  </thead>\n",
       "  <tbody>\n",
       "    <tr>\n",
       "      <th>count</th>\n",
       "      <td>23162</td>\n",
       "      <td>2.316200e+04</td>\n",
       "      <td>2.316200e+04</td>\n",
       "      <td>2.316200e+04</td>\n",
       "      <td>23162.000000</td>\n",
       "      <td>23162.000000</td>\n",
       "      <td>23162.000000</td>\n",
       "      <td>23162.000000</td>\n",
       "      <td>23162.000000</td>\n",
       "    </tr>\n",
       "    <tr>\n",
       "      <th>unique</th>\n",
       "      <td>2</td>\n",
       "      <td>NaN</td>\n",
       "      <td>NaN</td>\n",
       "      <td>NaN</td>\n",
       "      <td>NaN</td>\n",
       "      <td>NaN</td>\n",
       "      <td>NaN</td>\n",
       "      <td>NaN</td>\n",
       "      <td>NaN</td>\n",
       "    </tr>\n",
       "    <tr>\n",
       "      <th>top</th>\n",
       "      <td>RETIRADO</td>\n",
       "      <td>NaN</td>\n",
       "      <td>NaN</td>\n",
       "      <td>NaN</td>\n",
       "      <td>NaN</td>\n",
       "      <td>NaN</td>\n",
       "      <td>NaN</td>\n",
       "      <td>NaN</td>\n",
       "      <td>NaN</td>\n",
       "    </tr>\n",
       "    <tr>\n",
       "      <th>freq</th>\n",
       "      <td>11665</td>\n",
       "      <td>NaN</td>\n",
       "      <td>NaN</td>\n",
       "      <td>NaN</td>\n",
       "      <td>NaN</td>\n",
       "      <td>NaN</td>\n",
       "      <td>NaN</td>\n",
       "      <td>NaN</td>\n",
       "      <td>NaN</td>\n",
       "    </tr>\n",
       "    <tr>\n",
       "      <th>mean</th>\n",
       "      <td>NaN</td>\n",
       "      <td>4.813115e+06</td>\n",
       "      <td>7.161435e+08</td>\n",
       "      <td>1.315340e+06</td>\n",
       "      <td>24.197133</td>\n",
       "      <td>9.609852</td>\n",
       "      <td>110.056296</td>\n",
       "      <td>42.991888</td>\n",
       "      <td>5.480840</td>\n",
       "    </tr>\n",
       "    <tr>\n",
       "      <th>std</th>\n",
       "      <td>NaN</td>\n",
       "      <td>2.737374e+06</td>\n",
       "      <td>4.811551e+08</td>\n",
       "      <td>7.485700e+05</td>\n",
       "      <td>14.264014</td>\n",
       "      <td>7.040007</td>\n",
       "      <td>100.771503</td>\n",
       "      <td>30.204540</td>\n",
       "      <td>2.809938</td>\n",
       "    </tr>\n",
       "    <tr>\n",
       "      <th>min</th>\n",
       "      <td>NaN</td>\n",
       "      <td>1.500000e+05</td>\n",
       "      <td>8.000000e+07</td>\n",
       "      <td>2.000000e+05</td>\n",
       "      <td>0.000000</td>\n",
       "      <td>0.000000</td>\n",
       "      <td>0.000000</td>\n",
       "      <td>0.000000</td>\n",
       "      <td>0.613580</td>\n",
       "    </tr>\n",
       "    <tr>\n",
       "      <th>25%</th>\n",
       "      <td>NaN</td>\n",
       "      <td>2.156296e+06</td>\n",
       "      <td>3.570000e+08</td>\n",
       "      <td>6.571840e+05</td>\n",
       "      <td>14.000000</td>\n",
       "      <td>2.100000</td>\n",
       "      <td>12.566883</td>\n",
       "      <td>15.200000</td>\n",
       "      <td>2.705504</td>\n",
       "    </tr>\n",
       "    <tr>\n",
       "      <th>50%</th>\n",
       "      <td>NaN</td>\n",
       "      <td>6.137553e+06</td>\n",
       "      <td>6.240000e+08</td>\n",
       "      <td>1.237456e+06</td>\n",
       "      <td>24.000000</td>\n",
       "      <td>14.600000</td>\n",
       "      <td>75.383640</td>\n",
       "      <td>37.650000</td>\n",
       "      <td>4.064550</td>\n",
       "    </tr>\n",
       "    <tr>\n",
       "      <th>75%</th>\n",
       "      <td>NaN</td>\n",
       "      <td>7.347180e+06</td>\n",
       "      <td>9.077500e+08</td>\n",
       "      <td>1.829581e+06</td>\n",
       "      <td>34.000000</td>\n",
       "      <td>16.100000</td>\n",
       "      <td>201.550049</td>\n",
       "      <td>70.000000</td>\n",
       "      <td>8.268244</td>\n",
       "    </tr>\n",
       "    <tr>\n",
       "      <th>max</th>\n",
       "      <td>NaN</td>\n",
       "      <td>9.650000e+06</td>\n",
       "      <td>2.180000e+09</td>\n",
       "      <td>4.700000e+06</td>\n",
       "      <td>79.000000</td>\n",
       "      <td>20.100000</td>\n",
       "      <td>411.168400</td>\n",
       "      <td>130.700000</td>\n",
       "      <td>9.642618</td>\n",
       "    </tr>\n",
       "  </tbody>\n",
       "</table>\n",
       "</div>"
      ],
      "text/plain": [
       "          ESTADO      INGRESOS          CASA  PRECIO_DISPOSITIVO  \\\n",
       "count      23162  2.316200e+04  2.316200e+04        2.316200e+04   \n",
       "unique         2           NaN           NaN                 NaN   \n",
       "top     RETIRADO           NaN           NaN                 NaN   \n",
       "freq       11665           NaN           NaN                 NaN   \n",
       "mean         NaN  4.813115e+06  7.161435e+08        1.315340e+06   \n",
       "std          NaN  2.737374e+06  4.811551e+08        7.485700e+05   \n",
       "min          NaN  1.500000e+05  8.000000e+07        2.000000e+05   \n",
       "25%          NaN  2.156296e+06  3.570000e+08        6.571840e+05   \n",
       "50%          NaN  6.137553e+06  6.240000e+08        1.237456e+06   \n",
       "75%          NaN  7.347180e+06  9.077500e+08        1.829581e+06   \n",
       "max          NaN  9.650000e+06  2.180000e+09        4.700000e+06   \n",
       "\n",
       "               MESES      DURACION    SOBRECARGO  SALDO_RESTANTE  SATISFACCION  \n",
       "count   23162.000000  23162.000000  23162.000000    23162.000000  23162.000000  \n",
       "unique           NaN           NaN           NaN             NaN           NaN  \n",
       "top              NaN           NaN           NaN             NaN           NaN  \n",
       "freq             NaN           NaN           NaN             NaN           NaN  \n",
       "mean       24.197133      9.609852    110.056296       42.991888      5.480840  \n",
       "std        14.264014      7.040007    100.771503       30.204540      2.809938  \n",
       "min         0.000000      0.000000      0.000000        0.000000      0.613580  \n",
       "25%        14.000000      2.100000     12.566883       15.200000      2.705504  \n",
       "50%        24.000000     14.600000     75.383640       37.650000      4.064550  \n",
       "75%        34.000000     16.100000    201.550049       70.000000      8.268244  \n",
       "max        79.000000     20.100000    411.168400      130.700000      9.642618  "
      ]
     },
     "execution_count": 5,
     "metadata": {},
     "output_type": "execute_result"
    }
   ],
   "source": [
    "data.describe(include=\"all\")"
   ]
  },
  {
   "cell_type": "markdown",
   "metadata": {},
   "source": [
    "# Busco valores duplicados"
   ]
  },
  {
   "cell_type": "code",
   "execution_count": 6,
   "metadata": {},
   "outputs": [
    {
     "data": {
      "text/html": [
       "<div>\n",
       "<style scoped>\n",
       "    .dataframe tbody tr th:only-of-type {\n",
       "        vertical-align: middle;\n",
       "    }\n",
       "\n",
       "    .dataframe tbody tr th {\n",
       "        vertical-align: top;\n",
       "    }\n",
       "\n",
       "    .dataframe thead th {\n",
       "        text-align: right;\n",
       "    }\n",
       "</style>\n",
       "<table border=\"1\" class=\"dataframe\">\n",
       "  <thead>\n",
       "    <tr style=\"text-align: right;\">\n",
       "      <th></th>\n",
       "      <th>ESTADO</th>\n",
       "      <th>INGRESOS</th>\n",
       "      <th>CASA</th>\n",
       "      <th>PRECIO_DISPOSITIVO</th>\n",
       "      <th>MESES</th>\n",
       "      <th>DURACION</th>\n",
       "      <th>SOBRECARGO</th>\n",
       "      <th>SALDO_RESTANTE</th>\n",
       "      <th>SATISFACCION</th>\n",
       "    </tr>\n",
       "  </thead>\n",
       "  <tbody>\n",
       "  </tbody>\n",
       "</table>\n",
       "</div>"
      ],
      "text/plain": [
       "Empty DataFrame\n",
       "Columns: [ESTADO, INGRESOS, CASA, PRECIO_DISPOSITIVO, MESES, DURACION, SOBRECARGO, SALDO_RESTANTE, SATISFACCION]\n",
       "Index: []"
      ]
     },
     "execution_count": 6,
     "metadata": {},
     "output_type": "execute_result"
    }
   ],
   "source": [
    "data[data.duplicated()]"
   ]
  },
  {
   "cell_type": "markdown",
   "metadata": {},
   "source": [
    "# Buscamos valores nulos"
   ]
  },
  {
   "cell_type": "code",
   "execution_count": 7,
   "metadata": {},
   "outputs": [
    {
     "data": {
      "text/plain": [
       "False"
      ]
     },
     "execution_count": 7,
     "metadata": {},
     "output_type": "execute_result"
    }
   ],
   "source": [
    "data.isnull().values.any()"
   ]
  },
  {
   "cell_type": "markdown",
   "metadata": {},
   "source": [
    "# Revisamos qu elos datos esten completos"
   ]
  },
  {
   "cell_type": "code",
   "execution_count": 8,
   "metadata": {},
   "outputs": [
    {
     "data": {
      "text/plain": [
       "ESTADO                23162\n",
       "INGRESOS              23162\n",
       "CASA                  23162\n",
       "PRECIO_DISPOSITIVO    23162\n",
       "MESES                 23162\n",
       "DURACION              23162\n",
       "SOBRECARGO            23162\n",
       "SALDO_RESTANTE        23162\n",
       "SATISFACCION          23162\n",
       "dtype: int64"
      ]
     },
     "execution_count": 8,
     "metadata": {},
     "output_type": "execute_result"
    }
   ],
   "source": [
    "data.count()"
   ]
  },
  {
   "cell_type": "markdown",
   "metadata": {},
   "source": [
    "# Buscamos valores atipicos en INGRESOS"
   ]
  },
  {
   "cell_type": "code",
   "execution_count": 9,
   "metadata": {},
   "outputs": [
    {
     "data": {
      "text/plain": [
       "<matplotlib.axes._subplots.AxesSubplot at 0xd80ec99e08>"
      ]
     },
     "execution_count": 9,
     "metadata": {},
     "output_type": "execute_result"
    },
    {
     "data": {
      "image/png": "[encoded data removed]",
      "text/plain": [
       "<Figure size 432x288 with 1 Axes>"
      ]
     },
     "metadata": {
      "needs_background": "light"
     },
     "output_type": "display_data"
    }
   ],
   "source": [
    "data.boxplot(column=['INGRESOS'])"
   ]
  },
  {
   "cell_type": "markdown",
   "metadata": {},
   "source": [
    "# Buscamos valores atipicos en CASA"
   ]
  },
  {
   "cell_type": "code",
   "execution_count": 10,
   "metadata": {
    "scrolled": true
   },
   "outputs": [
    {
     "data": {
      "text/plain": [
       "<matplotlib.axes._subplots.AxesSubplot at 0xd811f2c148>"
      ]
     },
     "execution_count": 10,
     "metadata": {},
     "output_type": "execute_result"
    },
    {
     "data": {
      "image/png": "[encoded data removed]",
      "text/plain": [
       "<Figure size 432x288 with 1 Axes>"
      ]
     },
     "metadata": {
      "needs_background": "light"
     },
     "output_type": "display_data"
    }
   ],
   "source": [
    "data.boxplot(column=['CASA'])"
   ]
  },
  {
   "cell_type": "markdown",
   "metadata": {},
   "source": [
    "## Segun este boxPlot hay una gran cantidad de datos atipicos en la variable CASA"
   ]
  },
  {
   "cell_type": "markdown",
   "metadata": {},
   "source": [
    "# Buscamos valores atipicos en PRECIO_DISPOSITIVO\t"
   ]
  },
  {
   "cell_type": "code",
   "execution_count": 11,
   "metadata": {},
   "outputs": [
    {
     "data": {
      "text/plain": [
       "<matplotlib.axes._subplots.AxesSubplot at 0xd811f96dc8>"
      ]
     },
     "execution_count": 11,
     "metadata": {},
     "output_type": "execute_result"
    },
    {
     "data": {
      "image/png": "[encoded data removed]",
      "text/plain": [
       "<Figure size 432x288 with 1 Axes>"
      ]
     },
     "metadata": {
      "needs_background": "light"
     },
     "output_type": "display_data"
    }
   ],
   "source": [
    "data.boxplot(column=['PRECIO_DISPOSITIVO'])"
   ]
  },
  {
   "cell_type": "markdown",
   "metadata": {},
   "source": [
    "## Segun este boxPlot hay una gran cantidad de datos atipicos en la variable PRECIO_DISPOSITIVO"
   ]
  },
  {
   "cell_type": "markdown",
   "metadata": {},
   "source": [
    "# Buscamos valores atipicos en MESES\t"
   ]
  },
  {
   "cell_type": "code",
   "execution_count": 12,
   "metadata": {},
   "outputs": [
    {
     "data": {
      "text/plain": [
       "<matplotlib.axes._subplots.AxesSubplot at 0xd811ffd988>"
      ]
     },
     "execution_count": 12,
     "metadata": {},
     "output_type": "execute_result"
    },
    {
     "data": {
      "image/png": "[encoded data removed]",
      "text/plain": [
       "<Figure size 432x288 with 1 Axes>"
      ]
     },
     "metadata": {
      "needs_background": "light"
     },
     "output_type": "display_data"
    }
   ],
   "source": [
    "data.boxplot(column=['MESES'])"
   ]
  },
  {
   "cell_type": "markdown",
   "metadata": {},
   "source": [
    "## Segun este boxPlot hay una gran cantidad de datos atipicos en la variable MESES"
   ]
  },
  {
   "cell_type": "markdown",
   "metadata": {},
   "source": [
    "# Buscamos valores atipicos en DURACION"
   ]
  },
  {
   "cell_type": "code",
   "execution_count": 13,
   "metadata": {},
   "outputs": [
    {
     "data": {
      "text/plain": [
       "<matplotlib.axes._subplots.AxesSubplot at 0xd812069e08>"
      ]
     },
     "execution_count": 13,
     "metadata": {},
     "output_type": "execute_result"
    },
    {
     "data": {
      "image/png": "[encoded data removed]",
      "text/plain": [
       "<Figure size 432x288 with 1 Axes>"
      ]
     },
     "metadata": {
      "needs_background": "light"
     },
     "output_type": "display_data"
    }
   ],
   "source": [
    "data.boxplot(column=['DURACION'])"
   ]
  },
  {
   "cell_type": "markdown",
   "metadata": {},
   "source": [
    "# Buscamos valores atipicos en SOBRECARGO"
   ]
  },
  {
   "cell_type": "code",
   "execution_count": 14,
   "metadata": {},
   "outputs": [
    {
     "data": {
      "text/plain": [
       "<matplotlib.axes._subplots.AxesSubplot at 0xd8120d4f48>"
      ]
     },
     "execution_count": 14,
     "metadata": {},
     "output_type": "execute_result"
    },
    {
     "data": {
      "image/png": "[encoded data removed]",
      "text/plain": [
       "<Figure size 432x288 with 1 Axes>"
      ]
     },
     "metadata": {
      "needs_background": "light"
     },
     "output_type": "display_data"
    }
   ],
   "source": [
    "data.boxplot(column=['SOBRECARGO'])"
   ]
  },
  {
   "cell_type": "markdown",
   "metadata": {},
   "source": [
    "# Buscamos valores atipicos en SALDO_RESTANTE"
   ]
  },
  {
   "cell_type": "code",
   "execution_count": 15,
   "metadata": {},
   "outputs": [
    {
     "data": {
      "text/plain": [
       "<matplotlib.axes._subplots.AxesSubplot at 0xd812156c88>"
      ]
     },
     "execution_count": 15,
     "metadata": {},
     "output_type": "execute_result"
    },
    {
     "data": {
      "image/png": "[encoded data removed]",
      "text/plain": [
       "<Figure size 432x288 with 1 Axes>"
      ]
     },
     "metadata": {
      "needs_background": "light"
     },
     "output_type": "display_data"
    }
   ],
   "source": [
    "data.boxplot(column=['SALDO_RESTANTE'])"
   ]
  },
  {
   "cell_type": "markdown",
   "metadata": {},
   "source": [
    "# Buscamos valores atipicos en SATISFACCION"
   ]
  },
  {
   "cell_type": "code",
   "execution_count": 16,
   "metadata": {
    "scrolled": true
   },
   "outputs": [
    {
     "data": {
      "text/plain": [
       "<matplotlib.axes._subplots.AxesSubplot at 0xd8121b2088>"
      ]
     },
     "execution_count": 16,
     "metadata": {},
     "output_type": "execute_result"
    },
    {
     "data": {
      "image/png": "[encoded data removed]",
      "text/plain": [
       "<Figure size 432x288 with 1 Axes>"
      ]
     },
     "metadata": {
      "needs_background": "light"
     },
     "output_type": "display_data"
    }
   ],
   "source": [
    "data.boxplot(column=['SATISFACCION'])"
   ]
  },
  {
   "cell_type": "markdown",
   "metadata": {},
   "source": [
    "________________"
   ]
  },
  {
   "cell_type": "markdown",
   "metadata": {},
   "source": [
    "________________"
   ]
  },
  {
   "cell_type": "markdown",
   "metadata": {},
   "source": [
    "________________"
   ]
  },
  {
   "cell_type": "markdown",
   "metadata": {},
   "source": [
    "# Solucion de inconsistencias en los datos\n"
   ]
  },
  {
   "cell_type": "code",
   "execution_count": 64,
   "metadata": {},
   "outputs": [],
   "source": [
    "deletedData=data.copy()"
   ]
  },
  {
   "cell_type": "code",
   "execution_count": 66,
   "metadata": {},
   "outputs": [
    {
     "name": "stdout",
     "output_type": "stream",
     "text": [
      "Antes: (23162, 9)\n"
     ]
    },
    {
     "ename": "TypeError",
     "evalue": "<lambda>() got an unexpected keyword argument 'reduce'",
     "output_type": "error",
     "traceback": [
      "\u001b[1;31m---------------------------------------------------------------------------\u001b[0m",
      "\u001b[1;31mTypeError\u001b[0m                                 Traceback (most recent call last)",
      "\u001b[1;32m<ipython-input-66-26fcb6f05bfb>\u001b[0m in \u001b[0;36m<module>\u001b[1;34m\u001b[0m\n\u001b[0;32m      7\u001b[0m     \u001b[1;31m# Drop (inplace) values set to be rejected\u001b[0m\u001b[1;33m\u001b[0m\u001b[1;33m\u001b[0m\u001b[1;33m\u001b[0m\u001b[0m\n\u001b[0;32m      8\u001b[0m     \u001b[0mdata\u001b[0m\u001b[1;33m.\u001b[0m\u001b[0mdrop\u001b[0m\u001b[1;33m(\u001b[0m\u001b[0mdata\u001b[0m\u001b[1;33m.\u001b[0m\u001b[0mindex\u001b[0m\u001b[1;33m[\u001b[0m\u001b[1;33m~\u001b[0m\u001b[0mconstrains\u001b[0m\u001b[1;33m]\u001b[0m\u001b[1;33m,\u001b[0m \u001b[0minplace\u001b[0m\u001b[1;33m=\u001b[0m\u001b[1;32mTrue\u001b[0m\u001b[1;33m)\u001b[0m\u001b[1;33m\u001b[0m\u001b[1;33m\u001b[0m\u001b[0m\n\u001b[1;32m----> 9\u001b[1;33m \u001b[0mdrop_numerical_outliers\u001b[0m\u001b[1;33m(\u001b[0m\u001b[0mdata\u001b[0m\u001b[1;33m)\u001b[0m\u001b[1;33m\u001b[0m\u001b[1;33m\u001b[0m\u001b[0m\n\u001b[0m\u001b[0;32m     10\u001b[0m \u001b[0mdata\u001b[0m\u001b[1;33m\u001b[0m\u001b[1;33m\u001b[0m\u001b[0m\n\u001b[0;32m     11\u001b[0m \u001b[0mprint\u001b[0m\u001b[1;33m(\u001b[0m\u001b[1;34m\"Despues: \"\u001b[0m\u001b[1;33m+\u001b[0m\u001b[0mstr\u001b[0m\u001b[1;33m(\u001b[0m\u001b[0mdata\u001b[0m\u001b[1;33m.\u001b[0m\u001b[0mshape\u001b[0m\u001b[1;33m)\u001b[0m\u001b[1;33m)\u001b[0m\u001b[1;33m\u001b[0m\u001b[1;33m\u001b[0m\u001b[0m\n",
      "\u001b[1;32m<ipython-input-66-26fcb6f05bfb>\u001b[0m in \u001b[0;36mdrop_numerical_outliers\u001b[1;34m(data, minq, maxq)\u001b[0m\n\u001b[0;32m      3\u001b[0m     \u001b[1;31m# Constrains will contain `True` or `False` depending on if it is a value below the threshold.\u001b[0m\u001b[1;33m\u001b[0m\u001b[1;33m\u001b[0m\u001b[1;33m\u001b[0m\u001b[0m\n\u001b[0;32m      4\u001b[0m     \u001b[0mconstrains\u001b[0m \u001b[1;33m=\u001b[0m \u001b[0mdata\u001b[0m\u001b[1;33m.\u001b[0m\u001b[0mselect_dtypes\u001b[0m\u001b[1;33m(\u001b[0m\u001b[0minclude\u001b[0m\u001b[1;33m=\u001b[0m\u001b[1;33m[\u001b[0m\u001b[0mnp\u001b[0m\u001b[1;33m.\u001b[0m\u001b[0mnumber\u001b[0m\u001b[1;33m]\u001b[0m\u001b[1;33m)\u001b[0m\u001b[0;31m \u001b[0m\u001b[0;31m\\\u001b[0m\u001b[1;33m\u001b[0m\u001b[1;33m\u001b[0m\u001b[0m\n\u001b[1;32m----> 5\u001b[1;33m         \u001b[1;33m.\u001b[0m\u001b[0mapply\u001b[0m\u001b[1;33m(\u001b[0m\u001b[1;32mlambda\u001b[0m \u001b[0mx\u001b[0m\u001b[1;33m:\u001b[0m \u001b[0mx\u001b[0m\u001b[1;33m.\u001b[0m\u001b[0mbetween\u001b[0m\u001b[1;33m(\u001b[0m\u001b[0mx\u001b[0m\u001b[1;33m.\u001b[0m\u001b[0mquantile\u001b[0m\u001b[1;33m(\u001b[0m\u001b[0mminq\u001b[0m\u001b[1;33m)\u001b[0m\u001b[1;33m,\u001b[0m \u001b[0mx\u001b[0m\u001b[1;33m.\u001b[0m\u001b[0mquantile\u001b[0m\u001b[1;33m(\u001b[0m\u001b[0mmaxq\u001b[0m\u001b[1;33m)\u001b[0m\u001b[1;33m)\u001b[0m\u001b[1;33m,\u001b[0m \u001b[0mreduce\u001b[0m\u001b[1;33m=\u001b[0m\u001b[1;32mFalse\u001b[0m\u001b[1;33m)\u001b[0m\u001b[0;31m \u001b[0m\u001b[0;31m\\\u001b[0m\u001b[1;33m\u001b[0m\u001b[1;33m\u001b[0m\u001b[0m\n\u001b[0m\u001b[0;32m      6\u001b[0m         \u001b[1;33m.\u001b[0m\u001b[0mall\u001b[0m\u001b[1;33m(\u001b[0m\u001b[0maxis\u001b[0m\u001b[1;33m=\u001b[0m\u001b[1;36m1\u001b[0m\u001b[1;33m)\u001b[0m\u001b[1;33m\u001b[0m\u001b[1;33m\u001b[0m\u001b[0m\n\u001b[0;32m      7\u001b[0m     \u001b[1;31m# Drop (inplace) values set to be rejected\u001b[0m\u001b[1;33m\u001b[0m\u001b[1;33m\u001b[0m\u001b[1;33m\u001b[0m\u001b[0m\n",
      "\u001b[1;32m~\\anaconda3\\lib\\site-packages\\pandas\\core\\frame.py\u001b[0m in \u001b[0;36mapply\u001b[1;34m(self, func, axis, raw, result_type, args, **kwds)\u001b[0m\n\u001b[0;32m   6876\u001b[0m             \u001b[0mkwds\u001b[0m\u001b[1;33m=\u001b[0m\u001b[0mkwds\u001b[0m\u001b[1;33m,\u001b[0m\u001b[1;33m\u001b[0m\u001b[1;33m\u001b[0m\u001b[0m\n\u001b[0;32m   6877\u001b[0m         )\n\u001b[1;32m-> 6878\u001b[1;33m         \u001b[1;32mreturn\u001b[0m \u001b[0mop\u001b[0m\u001b[1;33m.\u001b[0m\u001b[0mget_result\u001b[0m\u001b[1;33m(\u001b[0m\u001b[1;33m)\u001b[0m\u001b[1;33m\u001b[0m\u001b[1;33m\u001b[0m\u001b[0m\n\u001b[0m\u001b[0;32m   6879\u001b[0m \u001b[1;33m\u001b[0m\u001b[0m\n\u001b[0;32m   6880\u001b[0m     \u001b[1;32mdef\u001b[0m \u001b[0mapplymap\u001b[0m\u001b[1;33m(\u001b[0m\u001b[0mself\u001b[0m\u001b[1;33m,\u001b[0m \u001b[0mfunc\u001b[0m\u001b[1;33m)\u001b[0m \u001b[1;33m->\u001b[0m \u001b[1;34m\"DataFrame\"\u001b[0m\u001b[1;33m:\u001b[0m\u001b[1;33m\u001b[0m\u001b[1;33m\u001b[0m\u001b[0m\n",
      "\u001b[1;32m~\\anaconda3\\lib\\site-packages\\pandas\\core\\apply.py\u001b[0m in \u001b[0;36mget_result\u001b[1;34m(self)\u001b[0m\n\u001b[0;32m    184\u001b[0m             \u001b[1;32mreturn\u001b[0m \u001b[0mself\u001b[0m\u001b[1;33m.\u001b[0m\u001b[0mapply_raw\u001b[0m\u001b[1;33m(\u001b[0m\u001b[1;33m)\u001b[0m\u001b[1;33m\u001b[0m\u001b[1;33m\u001b[0m\u001b[0m\n\u001b[0;32m    185\u001b[0m \u001b[1;33m\u001b[0m\u001b[0m\n\u001b[1;32m--> 186\u001b[1;33m         \u001b[1;32mreturn\u001b[0m \u001b[0mself\u001b[0m\u001b[1;33m.\u001b[0m\u001b[0mapply_standard\u001b[0m\u001b[1;33m(\u001b[0m\u001b[1;33m)\u001b[0m\u001b[1;33m\u001b[0m\u001b[1;33m\u001b[0m\u001b[0m\n\u001b[0m\u001b[0;32m    187\u001b[0m \u001b[1;33m\u001b[0m\u001b[0m\n\u001b[0;32m    188\u001b[0m     \u001b[1;32mdef\u001b[0m \u001b[0mapply_empty_result\u001b[0m\u001b[1;33m(\u001b[0m\u001b[0mself\u001b[0m\u001b[1;33m)\u001b[0m\u001b[1;33m:\u001b[0m\u001b[1;33m\u001b[0m\u001b[1;33m\u001b[0m\u001b[0m\n",
      "\u001b[1;32m~\\anaconda3\\lib\\site-packages\\pandas\\core\\apply.py\u001b[0m in \u001b[0;36mapply_standard\u001b[1;34m(self)\u001b[0m\n\u001b[0;32m    294\u001b[0m             \u001b[1;32mtry\u001b[0m\u001b[1;33m:\u001b[0m\u001b[1;33m\u001b[0m\u001b[1;33m\u001b[0m\u001b[0m\n\u001b[0;32m    295\u001b[0m                 result = libreduction.compute_reduction(\n\u001b[1;32m--> 296\u001b[1;33m                     \u001b[0mvalues\u001b[0m\u001b[1;33m,\u001b[0m \u001b[0mself\u001b[0m\u001b[1;33m.\u001b[0m\u001b[0mf\u001b[0m\u001b[1;33m,\u001b[0m \u001b[0maxis\u001b[0m\u001b[1;33m=\u001b[0m\u001b[0mself\u001b[0m\u001b[1;33m.\u001b[0m\u001b[0maxis\u001b[0m\u001b[1;33m,\u001b[0m \u001b[0mdummy\u001b[0m\u001b[1;33m=\u001b[0m\u001b[0mdummy\u001b[0m\u001b[1;33m,\u001b[0m \u001b[0mlabels\u001b[0m\u001b[1;33m=\u001b[0m\u001b[0mlabels\u001b[0m\u001b[1;33m\u001b[0m\u001b[1;33m\u001b[0m\u001b[0m\n\u001b[0m\u001b[0;32m    297\u001b[0m                 )\n\u001b[0;32m    298\u001b[0m             \u001b[1;32mexcept\u001b[0m \u001b[0mValueError\u001b[0m \u001b[1;32mas\u001b[0m \u001b[0merr\u001b[0m\u001b[1;33m:\u001b[0m\u001b[1;33m\u001b[0m\u001b[1;33m\u001b[0m\u001b[0m\n",
      "\u001b[1;32mpandas\\_libs\\reduction.pyx\u001b[0m in \u001b[0;36mpandas._libs.reduction.compute_reduction\u001b[1;34m()\u001b[0m\n",
      "\u001b[1;32mpandas\\_libs\\reduction.pyx\u001b[0m in \u001b[0;36mpandas._libs.reduction.Reducer.get_result\u001b[1;34m()\u001b[0m\n",
      "\u001b[1;32m~\\anaconda3\\lib\\site-packages\\pandas\\core\\apply.py\u001b[0m in \u001b[0;36mf\u001b[1;34m(x)\u001b[0m\n\u001b[0;32m    111\u001b[0m \u001b[1;33m\u001b[0m\u001b[0m\n\u001b[0;32m    112\u001b[0m             \u001b[1;32mdef\u001b[0m \u001b[0mf\u001b[0m\u001b[1;33m(\u001b[0m\u001b[0mx\u001b[0m\u001b[1;33m)\u001b[0m\u001b[1;33m:\u001b[0m\u001b[1;33m\u001b[0m\u001b[1;33m\u001b[0m\u001b[0m\n\u001b[1;32m--> 113\u001b[1;33m                 \u001b[1;32mreturn\u001b[0m \u001b[0mfunc\u001b[0m\u001b[1;33m(\u001b[0m\u001b[0mx\u001b[0m\u001b[1;33m,\u001b[0m \u001b[1;33m*\u001b[0m\u001b[0margs\u001b[0m\u001b[1;33m,\u001b[0m \u001b[1;33m**\u001b[0m\u001b[0mkwds\u001b[0m\u001b[1;33m)\u001b[0m\u001b[1;33m\u001b[0m\u001b[1;33m\u001b[0m\u001b[0m\n\u001b[0m\u001b[0;32m    114\u001b[0m \u001b[1;33m\u001b[0m\u001b[0m\n\u001b[0;32m    115\u001b[0m         \u001b[1;32melse\u001b[0m\u001b[1;33m:\u001b[0m\u001b[1;33m\u001b[0m\u001b[1;33m\u001b[0m\u001b[0m\n",
      "\u001b[1;31mTypeError\u001b[0m: <lambda>() got an unexpected keyword argument 'reduce'"
     ]
    }
   ],
   "source": [
    "print(\"Antes: \"+str(data.shape))\n",
    "def drop_numerical_outliers(data, minq=0.01,maxq=0.99):\n",
    "    # Constrains will contain `True` or `False` depending on if it is a value below the threshold.\n",
    "    constrains = data.select_dtypes(include=[np.number]) \\\n",
    "        .apply(lambda x: x.between(x.quantile(minq), x.quantile(maxq)), reduce=False) \\\n",
    "        .all(axis=1)\n",
    "    # Drop (inplace) values set to be rejected\n",
    "    data.drop(data.index[~constrains], inplace=True)\n",
    "drop_numerical_outliers(data)\n",
    "data\n",
    "print(\"Despues: \"+str(data.shape))"
   ]
  },
  {
   "cell_type": "code",
   "execution_count": 67,
   "metadata": {},
   "outputs": [
    {
     "name": "stdout",
     "output_type": "stream",
     "text": [
      "Antes: (23162, 9)\n"
     ]
    },
    {
     "ename": "TypeError",
     "evalue": "<lambda>() got an unexpected keyword argument 'reduce'",
     "output_type": "error",
     "traceback": [
      "\u001b[1;31m---------------------------------------------------------------------------\u001b[0m",
      "\u001b[1;31mTypeError\u001b[0m                                 Traceback (most recent call last)",
      "\u001b[1;32m<ipython-input-67-0f68d02f28c1>\u001b[0m in \u001b[0;36m<module>\u001b[1;34m\u001b[0m\n\u001b[0;32m      7\u001b[0m     \u001b[1;31m# Drop (inplace) values set to be rejected\u001b[0m\u001b[1;33m\u001b[0m\u001b[1;33m\u001b[0m\u001b[1;33m\u001b[0m\u001b[0m\n\u001b[0;32m      8\u001b[0m     \u001b[0mdeletedData\u001b[0m\u001b[1;33m.\u001b[0m\u001b[0mdrop\u001b[0m\u001b[1;33m(\u001b[0m\u001b[0mdeletedData\u001b[0m\u001b[1;33m.\u001b[0m\u001b[0mindex\u001b[0m\u001b[1;33m[\u001b[0m\u001b[0mconstrains\u001b[0m\u001b[1;33m]\u001b[0m\u001b[1;33m,\u001b[0m \u001b[0minplace\u001b[0m\u001b[1;33m=\u001b[0m\u001b[1;32mTrue\u001b[0m\u001b[1;33m)\u001b[0m\u001b[1;33m\u001b[0m\u001b[1;33m\u001b[0m\u001b[0m\n\u001b[1;32m----> 9\u001b[1;33m \u001b[0mdrop_numerical_outliers1\u001b[0m\u001b[1;33m(\u001b[0m\u001b[0mdeletedData\u001b[0m\u001b[1;33m)\u001b[0m\u001b[1;33m\u001b[0m\u001b[1;33m\u001b[0m\u001b[0m\n\u001b[0m\u001b[0;32m     10\u001b[0m \u001b[0mdeletedData\u001b[0m\u001b[1;33m\u001b[0m\u001b[1;33m\u001b[0m\u001b[0m\n\u001b[0;32m     11\u001b[0m \u001b[0mprint\u001b[0m\u001b[1;33m(\u001b[0m\u001b[1;34m\"Despues: \"\u001b[0m\u001b[1;33m+\u001b[0m\u001b[0mstr\u001b[0m\u001b[1;33m(\u001b[0m\u001b[0mdeletedData\u001b[0m\u001b[1;33m.\u001b[0m\u001b[0mshape\u001b[0m\u001b[1;33m)\u001b[0m\u001b[1;33m)\u001b[0m\u001b[1;33m\u001b[0m\u001b[1;33m\u001b[0m\u001b[0m\n",
      "\u001b[1;32m<ipython-input-67-0f68d02f28c1>\u001b[0m in \u001b[0;36mdrop_numerical_outliers1\u001b[1;34m(deletedData, minq, maxq)\u001b[0m\n\u001b[0;32m      3\u001b[0m     \u001b[1;31m# Constrains will contain `True` or `False` depending on if it is a value below the threshold.\u001b[0m\u001b[1;33m\u001b[0m\u001b[1;33m\u001b[0m\u001b[1;33m\u001b[0m\u001b[0m\n\u001b[0;32m      4\u001b[0m     \u001b[0mconstrains\u001b[0m \u001b[1;33m=\u001b[0m \u001b[0mdeletedData\u001b[0m\u001b[1;33m.\u001b[0m\u001b[0mselect_dtypes\u001b[0m\u001b[1;33m(\u001b[0m\u001b[0minclude\u001b[0m\u001b[1;33m=\u001b[0m\u001b[1;33m[\u001b[0m\u001b[0mnp\u001b[0m\u001b[1;33m.\u001b[0m\u001b[0mnumber\u001b[0m\u001b[1;33m]\u001b[0m\u001b[1;33m)\u001b[0m\u001b[0;31m \u001b[0m\u001b[0;31m\\\u001b[0m\u001b[1;33m\u001b[0m\u001b[1;33m\u001b[0m\u001b[0m\n\u001b[1;32m----> 5\u001b[1;33m         \u001b[1;33m.\u001b[0m\u001b[0mapply\u001b[0m\u001b[1;33m(\u001b[0m\u001b[1;32mlambda\u001b[0m \u001b[0mx\u001b[0m\u001b[1;33m:\u001b[0m \u001b[0mx\u001b[0m\u001b[1;33m.\u001b[0m\u001b[0mbetween\u001b[0m\u001b[1;33m(\u001b[0m\u001b[0mx\u001b[0m\u001b[1;33m.\u001b[0m\u001b[0mquantile\u001b[0m\u001b[1;33m(\u001b[0m\u001b[0mminq\u001b[0m\u001b[1;33m)\u001b[0m\u001b[1;33m,\u001b[0m \u001b[0mx\u001b[0m\u001b[1;33m.\u001b[0m\u001b[0mquantile\u001b[0m\u001b[1;33m(\u001b[0m\u001b[0mmaxq\u001b[0m\u001b[1;33m)\u001b[0m\u001b[1;33m)\u001b[0m\u001b[1;33m,\u001b[0m \u001b[0mreduce\u001b[0m\u001b[1;33m=\u001b[0m\u001b[1;32mFalse\u001b[0m\u001b[1;33m)\u001b[0m\u001b[0;31m \u001b[0m\u001b[0;31m\\\u001b[0m\u001b[1;33m\u001b[0m\u001b[1;33m\u001b[0m\u001b[0m\n\u001b[0m\u001b[0;32m      6\u001b[0m         \u001b[1;33m.\u001b[0m\u001b[0mall\u001b[0m\u001b[1;33m(\u001b[0m\u001b[0maxis\u001b[0m\u001b[1;33m=\u001b[0m\u001b[1;36m1\u001b[0m\u001b[1;33m)\u001b[0m\u001b[1;33m\u001b[0m\u001b[1;33m\u001b[0m\u001b[0m\n\u001b[0;32m      7\u001b[0m     \u001b[1;31m# Drop (inplace) values set to be rejected\u001b[0m\u001b[1;33m\u001b[0m\u001b[1;33m\u001b[0m\u001b[1;33m\u001b[0m\u001b[0m\n",
      "\u001b[1;32m~\\anaconda3\\lib\\site-packages\\pandas\\core\\frame.py\u001b[0m in \u001b[0;36mapply\u001b[1;34m(self, func, axis, raw, result_type, args, **kwds)\u001b[0m\n\u001b[0;32m   6876\u001b[0m             \u001b[0mkwds\u001b[0m\u001b[1;33m=\u001b[0m\u001b[0mkwds\u001b[0m\u001b[1;33m,\u001b[0m\u001b[1;33m\u001b[0m\u001b[1;33m\u001b[0m\u001b[0m\n\u001b[0;32m   6877\u001b[0m         )\n\u001b[1;32m-> 6878\u001b[1;33m         \u001b[1;32mreturn\u001b[0m \u001b[0mop\u001b[0m\u001b[1;33m.\u001b[0m\u001b[0mget_result\u001b[0m\u001b[1;33m(\u001b[0m\u001b[1;33m)\u001b[0m\u001b[1;33m\u001b[0m\u001b[1;33m\u001b[0m\u001b[0m\n\u001b[0m\u001b[0;32m   6879\u001b[0m \u001b[1;33m\u001b[0m\u001b[0m\n\u001b[0;32m   6880\u001b[0m     \u001b[1;32mdef\u001b[0m \u001b[0mapplymap\u001b[0m\u001b[1;33m(\u001b[0m\u001b[0mself\u001b[0m\u001b[1;33m,\u001b[0m \u001b[0mfunc\u001b[0m\u001b[1;33m)\u001b[0m \u001b[1;33m->\u001b[0m \u001b[1;34m\"DataFrame\"\u001b[0m\u001b[1;33m:\u001b[0m\u001b[1;33m\u001b[0m\u001b[1;33m\u001b[0m\u001b[0m\n",
      "\u001b[1;32m~\\anaconda3\\lib\\site-packages\\pandas\\core\\apply.py\u001b[0m in \u001b[0;36mget_result\u001b[1;34m(self)\u001b[0m\n\u001b[0;32m    184\u001b[0m             \u001b[1;32mreturn\u001b[0m \u001b[0mself\u001b[0m\u001b[1;33m.\u001b[0m\u001b[0mapply_raw\u001b[0m\u001b[1;33m(\u001b[0m\u001b[1;33m)\u001b[0m\u001b[1;33m\u001b[0m\u001b[1;33m\u001b[0m\u001b[0m\n\u001b[0;32m    185\u001b[0m \u001b[1;33m\u001b[0m\u001b[0m\n\u001b[1;32m--> 186\u001b[1;33m         \u001b[1;32mreturn\u001b[0m \u001b[0mself\u001b[0m\u001b[1;33m.\u001b[0m\u001b[0mapply_standard\u001b[0m\u001b[1;33m(\u001b[0m\u001b[1;33m)\u001b[0m\u001b[1;33m\u001b[0m\u001b[1;33m\u001b[0m\u001b[0m\n\u001b[0m\u001b[0;32m    187\u001b[0m \u001b[1;33m\u001b[0m\u001b[0m\n\u001b[0;32m    188\u001b[0m     \u001b[1;32mdef\u001b[0m \u001b[0mapply_empty_result\u001b[0m\u001b[1;33m(\u001b[0m\u001b[0mself\u001b[0m\u001b[1;33m)\u001b[0m\u001b[1;33m:\u001b[0m\u001b[1;33m\u001b[0m\u001b[1;33m\u001b[0m\u001b[0m\n",
      "\u001b[1;32m~\\anaconda3\\lib\\site-packages\\pandas\\core\\apply.py\u001b[0m in \u001b[0;36mapply_standard\u001b[1;34m(self)\u001b[0m\n\u001b[0;32m    294\u001b[0m             \u001b[1;32mtry\u001b[0m\u001b[1;33m:\u001b[0m\u001b[1;33m\u001b[0m\u001b[1;33m\u001b[0m\u001b[0m\n\u001b[0;32m    295\u001b[0m                 result = libreduction.compute_reduction(\n\u001b[1;32m--> 296\u001b[1;33m                     \u001b[0mvalues\u001b[0m\u001b[1;33m,\u001b[0m \u001b[0mself\u001b[0m\u001b[1;33m.\u001b[0m\u001b[0mf\u001b[0m\u001b[1;33m,\u001b[0m \u001b[0maxis\u001b[0m\u001b[1;33m=\u001b[0m\u001b[0mself\u001b[0m\u001b[1;33m.\u001b[0m\u001b[0maxis\u001b[0m\u001b[1;33m,\u001b[0m \u001b[0mdummy\u001b[0m\u001b[1;33m=\u001b[0m\u001b[0mdummy\u001b[0m\u001b[1;33m,\u001b[0m \u001b[0mlabels\u001b[0m\u001b[1;33m=\u001b[0m\u001b[0mlabels\u001b[0m\u001b[1;33m\u001b[0m\u001b[1;33m\u001b[0m\u001b[0m\n\u001b[0m\u001b[0;32m    297\u001b[0m                 )\n\u001b[0;32m    298\u001b[0m             \u001b[1;32mexcept\u001b[0m \u001b[0mValueError\u001b[0m \u001b[1;32mas\u001b[0m \u001b[0merr\u001b[0m\u001b[1;33m:\u001b[0m\u001b[1;33m\u001b[0m\u001b[1;33m\u001b[0m\u001b[0m\n",
      "\u001b[1;32mpandas\\_libs\\reduction.pyx\u001b[0m in \u001b[0;36mpandas._libs.reduction.compute_reduction\u001b[1;34m()\u001b[0m\n",
      "\u001b[1;32mpandas\\_libs\\reduction.pyx\u001b[0m in \u001b[0;36mpandas._libs.reduction.Reducer.get_result\u001b[1;34m()\u001b[0m\n",
      "\u001b[1;32m~\\anaconda3\\lib\\site-packages\\pandas\\core\\apply.py\u001b[0m in \u001b[0;36mf\u001b[1;34m(x)\u001b[0m\n\u001b[0;32m    111\u001b[0m \u001b[1;33m\u001b[0m\u001b[0m\n\u001b[0;32m    112\u001b[0m             \u001b[1;32mdef\u001b[0m \u001b[0mf\u001b[0m\u001b[1;33m(\u001b[0m\u001b[0mx\u001b[0m\u001b[1;33m)\u001b[0m\u001b[1;33m:\u001b[0m\u001b[1;33m\u001b[0m\u001b[1;33m\u001b[0m\u001b[0m\n\u001b[1;32m--> 113\u001b[1;33m                 \u001b[1;32mreturn\u001b[0m \u001b[0mfunc\u001b[0m\u001b[1;33m(\u001b[0m\u001b[0mx\u001b[0m\u001b[1;33m,\u001b[0m \u001b[1;33m*\u001b[0m\u001b[0margs\u001b[0m\u001b[1;33m,\u001b[0m \u001b[1;33m**\u001b[0m\u001b[0mkwds\u001b[0m\u001b[1;33m)\u001b[0m\u001b[1;33m\u001b[0m\u001b[1;33m\u001b[0m\u001b[0m\n\u001b[0m\u001b[0;32m    114\u001b[0m \u001b[1;33m\u001b[0m\u001b[0m\n\u001b[0;32m    115\u001b[0m         \u001b[1;32melse\u001b[0m\u001b[1;33m:\u001b[0m\u001b[1;33m\u001b[0m\u001b[1;33m\u001b[0m\u001b[0m\n",
      "\u001b[1;31mTypeError\u001b[0m: <lambda>() got an unexpected keyword argument 'reduce'"
     ]
    }
   ],
   "source": [
    "print(\"Antes: \"+str(deletedData.shape))\n",
    "def drop_numerical_outliers1(deletedData, minq=0.01,maxq=0.99):\n",
    "    # Constrains will contain `True` or `False` depending on if it is a value below the threshold.\n",
    "    constrains = deletedData.select_dtypes(include=[np.number]) \\\n",
    "        .apply(lambda x: x.between(x.quantile(minq), x.quantile(maxq)), reduce=False) \\\n",
    "        .all(axis=1)\n",
    "    # Drop (inplace) values set to be rejected\n",
    "    deletedData.drop(deletedData.index[constrains], inplace=True)\n",
    "drop_numerical_outliers1(deletedData)\n",
    "deletedData\n",
    "print(\"Despues: \"+str(deletedData.shape))"
   ]
  },
  {
   "cell_type": "markdown",
   "metadata": {
    "scrolled": true
   },
   "source": [
    "## Aqui estan los datos atipicos encontrados y separados de dataFrame original"
   ]
  },
  {
   "cell_type": "code",
   "execution_count": 68,
   "metadata": {},
   "outputs": [
    {
     "data": {
      "text/html": [
       "<div>\n",
       "<style scoped>\n",
       "    .dataframe tbody tr th:only-of-type {\n",
       "        vertical-align: middle;\n",
       "    }\n",
       "\n",
       "    .dataframe tbody tr th {\n",
       "        vertical-align: top;\n",
       "    }\n",
       "\n",
       "    .dataframe thead th {\n",
       "        text-align: right;\n",
       "    }\n",
       "</style>\n",
       "<table border=\"1\" class=\"dataframe\">\n",
       "  <thead>\n",
       "    <tr style=\"text-align: right;\">\n",
       "      <th></th>\n",
       "      <th>ESTADO</th>\n",
       "      <th>INGRESOS</th>\n",
       "      <th>CASA</th>\n",
       "      <th>PRECIO_DISPOSITIVO</th>\n",
       "      <th>MESES</th>\n",
       "      <th>DURACION</th>\n",
       "      <th>SOBRECARGO</th>\n",
       "      <th>SALDO_RESTANTE</th>\n",
       "      <th>SATISFACCION</th>\n",
       "    </tr>\n",
       "  </thead>\n",
       "  <tbody>\n",
       "    <tr>\n",
       "      <th>0</th>\n",
       "      <td>1</td>\n",
       "      <td>4074840</td>\n",
       "      <td>8.830000e+08</td>\n",
       "      <td>1444153.0</td>\n",
       "      <td>26</td>\n",
       "      <td>2.3</td>\n",
       "      <td>11.167542</td>\n",
       "      <td>20.3</td>\n",
       "      <td>1.762872</td>\n",
       "    </tr>\n",
       "    <tr>\n",
       "      <th>1</th>\n",
       "      <td>1</td>\n",
       "      <td>8574088</td>\n",
       "      <td>1.745000e+09</td>\n",
       "      <td>2157661.0</td>\n",
       "      <td>23</td>\n",
       "      <td>3.7</td>\n",
       "      <td>0.000000</td>\n",
       "      <td>53.5</td>\n",
       "      <td>3.361266</td>\n",
       "    </tr>\n",
       "    <tr>\n",
       "      <th>2</th>\n",
       "      <td>0</td>\n",
       "      <td>795993</td>\n",
       "      <td>9.500000e+07</td>\n",
       "      <td>452809.0</td>\n",
       "      <td>38</td>\n",
       "      <td>16.8</td>\n",
       "      <td>350.610224</td>\n",
       "      <td>13.9</td>\n",
       "      <td>8.359438</td>\n",
       "    </tr>\n",
       "    <tr>\n",
       "      <th>3</th>\n",
       "      <td>0</td>\n",
       "      <td>8115015</td>\n",
       "      <td>8.300000e+07</td>\n",
       "      <td>2617184.0</td>\n",
       "      <td>37</td>\n",
       "      <td>17.6</td>\n",
       "      <td>230.913888</td>\n",
       "      <td>45.7</td>\n",
       "      <td>8.964017</td>\n",
       "    </tr>\n",
       "    <tr>\n",
       "      <th>4</th>\n",
       "      <td>0</td>\n",
       "      <td>8187499</td>\n",
       "      <td>6.770000e+08</td>\n",
       "      <td>666069.0</td>\n",
       "      <td>19</td>\n",
       "      <td>0.0</td>\n",
       "      <td>131.541983</td>\n",
       "      <td>67.2</td>\n",
       "      <td>8.808206</td>\n",
       "    </tr>\n",
       "    <tr>\n",
       "      <th>...</th>\n",
       "      <td>...</td>\n",
       "      <td>...</td>\n",
       "      <td>...</td>\n",
       "      <td>...</td>\n",
       "      <td>...</td>\n",
       "      <td>...</td>\n",
       "      <td>...</td>\n",
       "      <td>...</td>\n",
       "      <td>...</td>\n",
       "    </tr>\n",
       "    <tr>\n",
       "      <th>23157</th>\n",
       "      <td>0</td>\n",
       "      <td>473169</td>\n",
       "      <td>9.900000e+07</td>\n",
       "      <td>1128088.0</td>\n",
       "      <td>28</td>\n",
       "      <td>14.9</td>\n",
       "      <td>153.900600</td>\n",
       "      <td>18.6</td>\n",
       "      <td>8.359296</td>\n",
       "    </tr>\n",
       "    <tr>\n",
       "      <th>23158</th>\n",
       "      <td>1</td>\n",
       "      <td>3544204</td>\n",
       "      <td>7.730000e+08</td>\n",
       "      <td>332460.0</td>\n",
       "      <td>0</td>\n",
       "      <td>2.0</td>\n",
       "      <td>20.314400</td>\n",
       "      <td>16.4</td>\n",
       "      <td>2.670153</td>\n",
       "    </tr>\n",
       "    <tr>\n",
       "      <th>23159</th>\n",
       "      <td>0</td>\n",
       "      <td>7523054</td>\n",
       "      <td>4.460000e+08</td>\n",
       "      <td>296138.0</td>\n",
       "      <td>6</td>\n",
       "      <td>17.8</td>\n",
       "      <td>290.730900</td>\n",
       "      <td>58.9</td>\n",
       "      <td>8.510907</td>\n",
       "    </tr>\n",
       "    <tr>\n",
       "      <th>23160</th>\n",
       "      <td>1</td>\n",
       "      <td>1205914</td>\n",
       "      <td>2.610000e+08</td>\n",
       "      <td>2206199.0</td>\n",
       "      <td>44</td>\n",
       "      <td>16.1</td>\n",
       "      <td>139.296300</td>\n",
       "      <td>18.2</td>\n",
       "      <td>8.773616</td>\n",
       "    </tr>\n",
       "    <tr>\n",
       "      <th>23161</th>\n",
       "      <td>1</td>\n",
       "      <td>8343704</td>\n",
       "      <td>5.280000e+08</td>\n",
       "      <td>2022312.0</td>\n",
       "      <td>0</td>\n",
       "      <td>16.8</td>\n",
       "      <td>21.575940</td>\n",
       "      <td>64.9</td>\n",
       "      <td>2.332979</td>\n",
       "    </tr>\n",
       "  </tbody>\n",
       "</table>\n",
       "<p>23162 rows × 9 columns</p>\n",
       "</div>"
      ],
      "text/plain": [
       "       ESTADO  INGRESOS          CASA  PRECIO_DISPOSITIVO  MESES  DURACION  \\\n",
       "0           1   4074840  8.830000e+08           1444153.0     26       2.3   \n",
       "1           1   8574088  1.745000e+09           2157661.0     23       3.7   \n",
       "2           0    795993  9.500000e+07            452809.0     38      16.8   \n",
       "3           0   8115015  8.300000e+07           2617184.0     37      17.6   \n",
       "4           0   8187499  6.770000e+08            666069.0     19       0.0   \n",
       "...       ...       ...           ...                 ...    ...       ...   \n",
       "23157       0    473169  9.900000e+07           1128088.0     28      14.9   \n",
       "23158       1   3544204  7.730000e+08            332460.0      0       2.0   \n",
       "23159       0   7523054  4.460000e+08            296138.0      6      17.8   \n",
       "23160       1   1205914  2.610000e+08           2206199.0     44      16.1   \n",
       "23161       1   8343704  5.280000e+08           2022312.0      0      16.8   \n",
       "\n",
       "       SOBRECARGO  SALDO_RESTANTE  SATISFACCION  \n",
       "0       11.167542            20.3      1.762872  \n",
       "1        0.000000            53.5      3.361266  \n",
       "2      350.610224            13.9      8.359438  \n",
       "3      230.913888            45.7      8.964017  \n",
       "4      131.541983            67.2      8.808206  \n",
       "...           ...             ...           ...  \n",
       "23157  153.900600            18.6      8.359296  \n",
       "23158   20.314400            16.4      2.670153  \n",
       "23159  290.730900            58.9      8.510907  \n",
       "23160  139.296300            18.2      8.773616  \n",
       "23161   21.575940            64.9      2.332979  \n",
       "\n",
       "[23162 rows x 9 columns]"
      ]
     },
     "execution_count": 68,
     "metadata": {},
     "output_type": "execute_result"
    }
   ],
   "source": [
    "deletedData"
   ]
  },
  {
   "cell_type": "markdown",
   "metadata": {},
   "source": [
    "# 3 Tipos de modelos"
   ]
  },
  {
   "cell_type": "markdown",
   "metadata": {},
   "source": [
    "# Protocolo de evalucaion HoldOut\n"
   ]
  },
  {
   "cell_type": "markdown",
   "metadata": {},
   "source": [
    "## Vamos a utilizar el protocolo de evaluacion holdout con un 70% train y 30% test para los 3 modelos a evaluar."
   ]
  },
  {
   "cell_type": "markdown",
   "metadata": {},
   "source": [
    "Para este proyecto vamos a utilizar las metricas  de <b>Kappa global</b>, <b>Accuracy</b> y la <b>Precision</b> que nos permitiran determinar el mejor modelo a seguir. En este caso el <b>Kappa global</b> determinar el mejor modelo que se encuentre por encima del baseline. El <b>Accuracy</b> nos permitira ver la cantidad de predicciones positivas que fueron correctas. Por ultimo la <b>Precision</b> nos dara una vista del porcentaje de casos positivos detectados."
   ]
  },
  {
   "cell_type": "code",
   "execution_count": 69,
   "metadata": {},
   "outputs": [],
   "source": [
    "def transformar(n):\n",
    "  if n==\"VINCULADO\" or n==\"1\" :\n",
    "    return 1\n",
    "  if n==\"RETIRADO\" or n==\"0\":\n",
    "    return 0\n",
    "  return n"
   ]
  },
  {
   "cell_type": "code",
   "execution_count": 70,
   "metadata": {},
   "outputs": [],
   "source": [
    "def transformar2(n):\n",
    "  if n==\"VINCULADO\" or n==\"1\" :\n",
    "    return 1\n",
    "  if n==\"RETIRADO\" or n==\"0\":\n",
    "    return 0\n",
    "  return n"
   ]
  },
  {
   "cell_type": "code",
   "execution_count": 71,
   "metadata": {},
   "outputs": [],
   "source": [
    "data['ESTADO'] = data.applymap(transformar)['ESTADO']"
   ]
  },
  {
   "cell_type": "code",
   "execution_count": 72,
   "metadata": {
    "scrolled": true
   },
   "outputs": [
    {
     "data": {
      "text/html": [
       "<div>\n",
       "<style scoped>\n",
       "    .dataframe tbody tr th:only-of-type {\n",
       "        vertical-align: middle;\n",
       "    }\n",
       "\n",
       "    .dataframe tbody tr th {\n",
       "        vertical-align: top;\n",
       "    }\n",
       "\n",
       "    .dataframe thead th {\n",
       "        text-align: right;\n",
       "    }\n",
       "</style>\n",
       "<table border=\"1\" class=\"dataframe\">\n",
       "  <thead>\n",
       "    <tr style=\"text-align: right;\">\n",
       "      <th></th>\n",
       "      <th>ESTADO</th>\n",
       "      <th>INGRESOS</th>\n",
       "      <th>CASA</th>\n",
       "      <th>PRECIO_DISPOSITIVO</th>\n",
       "      <th>MESES</th>\n",
       "      <th>DURACION</th>\n",
       "      <th>SOBRECARGO</th>\n",
       "      <th>SALDO_RESTANTE</th>\n",
       "      <th>SATISFACCION</th>\n",
       "    </tr>\n",
       "  </thead>\n",
       "  <tbody>\n",
       "    <tr>\n",
       "      <th>0</th>\n",
       "      <td>1</td>\n",
       "      <td>4074840</td>\n",
       "      <td>8.830000e+08</td>\n",
       "      <td>1444153.0</td>\n",
       "      <td>26</td>\n",
       "      <td>2.3</td>\n",
       "      <td>11.167542</td>\n",
       "      <td>20.3</td>\n",
       "      <td>1.762872</td>\n",
       "    </tr>\n",
       "    <tr>\n",
       "      <th>1</th>\n",
       "      <td>1</td>\n",
       "      <td>8574088</td>\n",
       "      <td>1.745000e+09</td>\n",
       "      <td>2157661.0</td>\n",
       "      <td>23</td>\n",
       "      <td>3.7</td>\n",
       "      <td>0.000000</td>\n",
       "      <td>53.5</td>\n",
       "      <td>3.361266</td>\n",
       "    </tr>\n",
       "    <tr>\n",
       "      <th>2</th>\n",
       "      <td>0</td>\n",
       "      <td>795993</td>\n",
       "      <td>9.500000e+07</td>\n",
       "      <td>452809.0</td>\n",
       "      <td>38</td>\n",
       "      <td>16.8</td>\n",
       "      <td>350.610224</td>\n",
       "      <td>13.9</td>\n",
       "      <td>8.359438</td>\n",
       "    </tr>\n",
       "    <tr>\n",
       "      <th>3</th>\n",
       "      <td>0</td>\n",
       "      <td>8115015</td>\n",
       "      <td>8.300000e+07</td>\n",
       "      <td>2617184.0</td>\n",
       "      <td>37</td>\n",
       "      <td>17.6</td>\n",
       "      <td>230.913888</td>\n",
       "      <td>45.7</td>\n",
       "      <td>8.964017</td>\n",
       "    </tr>\n",
       "    <tr>\n",
       "      <th>4</th>\n",
       "      <td>0</td>\n",
       "      <td>8187499</td>\n",
       "      <td>6.770000e+08</td>\n",
       "      <td>666069.0</td>\n",
       "      <td>19</td>\n",
       "      <td>0.0</td>\n",
       "      <td>131.541983</td>\n",
       "      <td>67.2</td>\n",
       "      <td>8.808206</td>\n",
       "    </tr>\n",
       "  </tbody>\n",
       "</table>\n",
       "</div>"
      ],
      "text/plain": [
       "   ESTADO  INGRESOS          CASA  PRECIO_DISPOSITIVO  MESES  DURACION  \\\n",
       "0       1   4074840  8.830000e+08           1444153.0     26       2.3   \n",
       "1       1   8574088  1.745000e+09           2157661.0     23       3.7   \n",
       "2       0    795993  9.500000e+07            452809.0     38      16.8   \n",
       "3       0   8115015  8.300000e+07           2617184.0     37      17.6   \n",
       "4       0   8187499  6.770000e+08            666069.0     19       0.0   \n",
       "\n",
       "   SOBRECARGO  SALDO_RESTANTE  SATISFACCION  \n",
       "0   11.167542            20.3      1.762872  \n",
       "1    0.000000            53.5      3.361266  \n",
       "2  350.610224            13.9      8.359438  \n",
       "3  230.913888            45.7      8.964017  \n",
       "4  131.541983            67.2      8.808206  "
      ]
     },
     "execution_count": 72,
     "metadata": {},
     "output_type": "execute_result"
    }
   ],
   "source": [
    "data.head(5)"
   ]
  },
  {
   "cell_type": "markdown",
   "metadata": {},
   "source": [
    "# BaseLine"
   ]
  },
  {
   "cell_type": "code",
   "execution_count": 73,
   "metadata": {},
   "outputs": [
    {
     "data": {
      "text/html": [
       "<div>\n",
       "<style scoped>\n",
       "    .dataframe tbody tr th:only-of-type {\n",
       "        vertical-align: middle;\n",
       "    }\n",
       "\n",
       "    .dataframe tbody tr th {\n",
       "        vertical-align: top;\n",
       "    }\n",
       "\n",
       "    .dataframe thead th {\n",
       "        text-align: right;\n",
       "    }\n",
       "</style>\n",
       "<table border=\"1\" class=\"dataframe\">\n",
       "  <thead>\n",
       "    <tr style=\"text-align: right;\">\n",
       "      <th></th>\n",
       "      <th>ESTADO</th>\n",
       "      <th>INGRESOS</th>\n",
       "      <th>CASA</th>\n",
       "      <th>PRECIO_DISPOSITIVO</th>\n",
       "      <th>MESES</th>\n",
       "      <th>DURACION</th>\n",
       "      <th>SOBRECARGO</th>\n",
       "      <th>SALDO_RESTANTE</th>\n",
       "      <th>SATISFACCION</th>\n",
       "    </tr>\n",
       "  </thead>\n",
       "  <tbody>\n",
       "    <tr>\n",
       "      <th>0</th>\n",
       "      <td>1</td>\n",
       "      <td>4074840</td>\n",
       "      <td>8.830000e+08</td>\n",
       "      <td>1444153.0</td>\n",
       "      <td>26</td>\n",
       "      <td>2.3</td>\n",
       "      <td>11.167542</td>\n",
       "      <td>20.3</td>\n",
       "      <td>1.762872</td>\n",
       "    </tr>\n",
       "    <tr>\n",
       "      <th>1</th>\n",
       "      <td>1</td>\n",
       "      <td>8574088</td>\n",
       "      <td>1.745000e+09</td>\n",
       "      <td>2157661.0</td>\n",
       "      <td>23</td>\n",
       "      <td>3.7</td>\n",
       "      <td>0.000000</td>\n",
       "      <td>53.5</td>\n",
       "      <td>3.361266</td>\n",
       "    </tr>\n",
       "    <tr>\n",
       "      <th>2</th>\n",
       "      <td>0</td>\n",
       "      <td>795993</td>\n",
       "      <td>9.500000e+07</td>\n",
       "      <td>452809.0</td>\n",
       "      <td>38</td>\n",
       "      <td>16.8</td>\n",
       "      <td>350.610224</td>\n",
       "      <td>13.9</td>\n",
       "      <td>8.359438</td>\n",
       "    </tr>\n",
       "    <tr>\n",
       "      <th>3</th>\n",
       "      <td>0</td>\n",
       "      <td>8115015</td>\n",
       "      <td>8.300000e+07</td>\n",
       "      <td>2617184.0</td>\n",
       "      <td>37</td>\n",
       "      <td>17.6</td>\n",
       "      <td>230.913888</td>\n",
       "      <td>45.7</td>\n",
       "      <td>8.964017</td>\n",
       "    </tr>\n",
       "    <tr>\n",
       "      <th>4</th>\n",
       "      <td>0</td>\n",
       "      <td>8187499</td>\n",
       "      <td>6.770000e+08</td>\n",
       "      <td>666069.0</td>\n",
       "      <td>19</td>\n",
       "      <td>0.0</td>\n",
       "      <td>131.541983</td>\n",
       "      <td>67.2</td>\n",
       "      <td>8.808206</td>\n",
       "    </tr>\n",
       "  </tbody>\n",
       "</table>\n",
       "</div>"
      ],
      "text/plain": [
       "   ESTADO  INGRESOS          CASA  PRECIO_DISPOSITIVO  MESES  DURACION  \\\n",
       "0       1   4074840  8.830000e+08           1444153.0     26       2.3   \n",
       "1       1   8574088  1.745000e+09           2157661.0     23       3.7   \n",
       "2       0    795993  9.500000e+07            452809.0     38      16.8   \n",
       "3       0   8115015  8.300000e+07           2617184.0     37      17.6   \n",
       "4       0   8187499  6.770000e+08            666069.0     19       0.0   \n",
       "\n",
       "   SOBRECARGO  SALDO_RESTANTE  SATISFACCION  \n",
       "0   11.167542            20.3      1.762872  \n",
       "1    0.000000            53.5      3.361266  \n",
       "2  350.610224            13.9      8.359438  \n",
       "3  230.913888            45.7      8.964017  \n",
       "4  131.541983            67.2      8.808206  "
      ]
     },
     "execution_count": 73,
     "metadata": {},
     "output_type": "execute_result"
    }
   ],
   "source": [
    "data.head()"
   ]
  },
  {
   "cell_type": "code",
   "execution_count": 74,
   "metadata": {},
   "outputs": [
    {
     "data": {
      "text/plain": [
       "49.63733701752871"
      ]
     },
     "execution_count": 74,
     "metadata": {},
     "output_type": "execute_result"
    },
    {
     "data": {
      "image/png": "[encoded data removed]",
      "text/plain": [
       "<Figure size 432x288 with 1 Axes>"
      ]
     },
     "metadata": {
      "needs_background": "light"
     },
     "output_type": "display_data"
    }
   ],
   "source": [
    "### Baseline\n",
    "ax = sns.countplot(x=\"ESTADO\", data=data)\n",
    "data.ESTADO[data.ESTADO==1].aggregate('count') / data.shape[0] * 100"
   ]
  },
  {
   "cell_type": "markdown",
   "metadata": {},
   "source": [
    "## La probabilidad de que el siguiente cliente sea vinculado, accuracy del baseLine 50.136018%"
   ]
  },
  {
   "cell_type": "markdown",
   "metadata": {},
   "source": [
    "# Holdout del datset"
   ]
  },
  {
   "cell_type": "code",
   "execution_count": 75,
   "metadata": {},
   "outputs": [],
   "source": [
    "data['ESTADO'] = data.applymap(transformar2)['ESTADO']"
   ]
  },
  {
   "cell_type": "code",
   "execution_count": 76,
   "metadata": {},
   "outputs": [
    {
     "data": {
      "text/html": [
       "<div>\n",
       "<style scoped>\n",
       "    .dataframe tbody tr th:only-of-type {\n",
       "        vertical-align: middle;\n",
       "    }\n",
       "\n",
       "    .dataframe tbody tr th {\n",
       "        vertical-align: top;\n",
       "    }\n",
       "\n",
       "    .dataframe thead th {\n",
       "        text-align: right;\n",
       "    }\n",
       "</style>\n",
       "<table border=\"1\" class=\"dataframe\">\n",
       "  <thead>\n",
       "    <tr style=\"text-align: right;\">\n",
       "      <th></th>\n",
       "      <th>ESTADO</th>\n",
       "      <th>INGRESOS</th>\n",
       "      <th>CASA</th>\n",
       "      <th>PRECIO_DISPOSITIVO</th>\n",
       "      <th>MESES</th>\n",
       "      <th>DURACION</th>\n",
       "      <th>SOBRECARGO</th>\n",
       "      <th>SALDO_RESTANTE</th>\n",
       "      <th>SATISFACCION</th>\n",
       "    </tr>\n",
       "  </thead>\n",
       "  <tbody>\n",
       "    <tr>\n",
       "      <th>ESTADO</th>\n",
       "      <td>1.000000</td>\n",
       "      <td>-0.001584</td>\n",
       "      <td>0.001066</td>\n",
       "      <td>0.002907</td>\n",
       "      <td>0.001977</td>\n",
       "      <td>-0.000076</td>\n",
       "      <td>-0.731439</td>\n",
       "      <td>-0.004029</td>\n",
       "      <td>-0.801472</td>\n",
       "    </tr>\n",
       "    <tr>\n",
       "      <th>INGRESOS</th>\n",
       "      <td>-0.001584</td>\n",
       "      <td>1.000000</td>\n",
       "      <td>0.384504</td>\n",
       "      <td>-0.006743</td>\n",
       "      <td>-0.005581</td>\n",
       "      <td>-0.158168</td>\n",
       "      <td>-0.000683</td>\n",
       "      <td>0.844898</td>\n",
       "      <td>0.002585</td>\n",
       "    </tr>\n",
       "    <tr>\n",
       "      <th>CASA</th>\n",
       "      <td>0.001066</td>\n",
       "      <td>0.384504</td>\n",
       "      <td>1.000000</td>\n",
       "      <td>0.002072</td>\n",
       "      <td>-0.002583</td>\n",
       "      <td>-0.063850</td>\n",
       "      <td>0.003101</td>\n",
       "      <td>0.326638</td>\n",
       "      <td>0.002311</td>\n",
       "    </tr>\n",
       "    <tr>\n",
       "      <th>PRECIO_DISPOSITIVO</th>\n",
       "      <td>0.002907</td>\n",
       "      <td>-0.006743</td>\n",
       "      <td>0.002072</td>\n",
       "      <td>1.000000</td>\n",
       "      <td>-0.000815</td>\n",
       "      <td>0.010783</td>\n",
       "      <td>0.004415</td>\n",
       "      <td>-0.004306</td>\n",
       "      <td>-0.000814</td>\n",
       "    </tr>\n",
       "    <tr>\n",
       "      <th>MESES</th>\n",
       "      <td>0.001977</td>\n",
       "      <td>-0.005581</td>\n",
       "      <td>-0.002583</td>\n",
       "      <td>-0.000815</td>\n",
       "      <td>1.000000</td>\n",
       "      <td>0.006929</td>\n",
       "      <td>0.004622</td>\n",
       "      <td>-0.003475</td>\n",
       "      <td>0.002688</td>\n",
       "    </tr>\n",
       "    <tr>\n",
       "      <th>DURACION</th>\n",
       "      <td>-0.000076</td>\n",
       "      <td>-0.158168</td>\n",
       "      <td>-0.063850</td>\n",
       "      <td>0.010783</td>\n",
       "      <td>0.006929</td>\n",
       "      <td>1.000000</td>\n",
       "      <td>0.002041</td>\n",
       "      <td>0.046902</td>\n",
       "      <td>0.001023</td>\n",
       "    </tr>\n",
       "    <tr>\n",
       "      <th>SOBRECARGO</th>\n",
       "      <td>-0.731439</td>\n",
       "      <td>-0.000683</td>\n",
       "      <td>0.003101</td>\n",
       "      <td>0.004415</td>\n",
       "      <td>0.004622</td>\n",
       "      <td>0.002041</td>\n",
       "      <td>1.000000</td>\n",
       "      <td>0.002448</td>\n",
       "      <td>0.889798</td>\n",
       "    </tr>\n",
       "    <tr>\n",
       "      <th>SALDO_RESTANTE</th>\n",
       "      <td>-0.004029</td>\n",
       "      <td>0.844898</td>\n",
       "      <td>0.326638</td>\n",
       "      <td>-0.004306</td>\n",
       "      <td>-0.003475</td>\n",
       "      <td>0.046902</td>\n",
       "      <td>0.002448</td>\n",
       "      <td>1.000000</td>\n",
       "      <td>0.004315</td>\n",
       "    </tr>\n",
       "    <tr>\n",
       "      <th>SATISFACCION</th>\n",
       "      <td>-0.801472</td>\n",
       "      <td>0.002585</td>\n",
       "      <td>0.002311</td>\n",
       "      <td>-0.000814</td>\n",
       "      <td>0.002688</td>\n",
       "      <td>0.001023</td>\n",
       "      <td>0.889798</td>\n",
       "      <td>0.004315</td>\n",
       "      <td>1.000000</td>\n",
       "    </tr>\n",
       "  </tbody>\n",
       "</table>\n",
       "</div>"
      ],
      "text/plain": [
       "                      ESTADO  INGRESOS      CASA  PRECIO_DISPOSITIVO  \\\n",
       "ESTADO              1.000000 -0.001584  0.001066            0.002907   \n",
       "INGRESOS           -0.001584  1.000000  0.384504           -0.006743   \n",
       "CASA                0.001066  0.384504  1.000000            0.002072   \n",
       "PRECIO_DISPOSITIVO  0.002907 -0.006743  0.002072            1.000000   \n",
       "MESES               0.001977 -0.005581 -0.002583           -0.000815   \n",
       "DURACION           -0.000076 -0.158168 -0.063850            0.010783   \n",
       "SOBRECARGO         -0.731439 -0.000683  0.003101            0.004415   \n",
       "SALDO_RESTANTE     -0.004029  0.844898  0.326638           -0.004306   \n",
       "SATISFACCION       -0.801472  0.002585  0.002311           -0.000814   \n",
       "\n",
       "                       MESES  DURACION  SOBRECARGO  SALDO_RESTANTE  \\\n",
       "ESTADO              0.001977 -0.000076   -0.731439       -0.004029   \n",
       "INGRESOS           -0.005581 -0.158168   -0.000683        0.844898   \n",
       "CASA               -0.002583 -0.063850    0.003101        0.326638   \n",
       "PRECIO_DISPOSITIVO -0.000815  0.010783    0.004415       -0.004306   \n",
       "MESES               1.000000  0.006929    0.004622       -0.003475   \n",
       "DURACION            0.006929  1.000000    0.002041        0.046902   \n",
       "SOBRECARGO          0.004622  0.002041    1.000000        0.002448   \n",
       "SALDO_RESTANTE     -0.003475  0.046902    0.002448        1.000000   \n",
       "SATISFACCION        0.002688  0.001023    0.889798        0.004315   \n",
       "\n",
       "                    SATISFACCION  \n",
       "ESTADO                 -0.801472  \n",
       "INGRESOS                0.002585  \n",
       "CASA                    0.002311  \n",
       "PRECIO_DISPOSITIVO     -0.000814  \n",
       "MESES                   0.002688  \n",
       "DURACION                0.001023  \n",
       "SOBRECARGO              0.889798  \n",
       "SALDO_RESTANTE          0.004315  \n",
       "SATISFACCION            1.000000  "
      ]
     },
     "execution_count": 76,
     "metadata": {},
     "output_type": "execute_result"
    }
   ],
   "source": [
    "data.corr(method=\"pearson\")"
   ]
  },
  {
   "cell_type": "code",
   "execution_count": 77,
   "metadata": {
    "scrolled": false
   },
   "outputs": [
    {
     "data": {
      "text/html": [
       "<div>\n",
       "<style scoped>\n",
       "    .dataframe tbody tr th:only-of-type {\n",
       "        vertical-align: middle;\n",
       "    }\n",
       "\n",
       "    .dataframe tbody tr th {\n",
       "        vertical-align: top;\n",
       "    }\n",
       "\n",
       "    .dataframe thead th {\n",
       "        text-align: right;\n",
       "    }\n",
       "</style>\n",
       "<table border=\"1\" class=\"dataframe\">\n",
       "  <thead>\n",
       "    <tr style=\"text-align: right;\">\n",
       "      <th></th>\n",
       "      <th>ESTADO</th>\n",
       "      <th>INGRESOS</th>\n",
       "      <th>CASA</th>\n",
       "      <th>PRECIO_DISPOSITIVO</th>\n",
       "      <th>MESES</th>\n",
       "      <th>DURACION</th>\n",
       "      <th>SOBRECARGO</th>\n",
       "      <th>SALDO_RESTANTE</th>\n",
       "      <th>SATISFACCION</th>\n",
       "    </tr>\n",
       "  </thead>\n",
       "  <tbody>\n",
       "    <tr>\n",
       "      <th>0</th>\n",
       "      <td>1</td>\n",
       "      <td>4074840</td>\n",
       "      <td>8.830000e+08</td>\n",
       "      <td>1444153.0</td>\n",
       "      <td>26</td>\n",
       "      <td>2.3</td>\n",
       "      <td>11.167542</td>\n",
       "      <td>20.3</td>\n",
       "      <td>1.762872</td>\n",
       "    </tr>\n",
       "    <tr>\n",
       "      <th>1</th>\n",
       "      <td>1</td>\n",
       "      <td>8574088</td>\n",
       "      <td>1.745000e+09</td>\n",
       "      <td>2157661.0</td>\n",
       "      <td>23</td>\n",
       "      <td>3.7</td>\n",
       "      <td>0.000000</td>\n",
       "      <td>53.5</td>\n",
       "      <td>3.361266</td>\n",
       "    </tr>\n",
       "    <tr>\n",
       "      <th>2</th>\n",
       "      <td>0</td>\n",
       "      <td>795993</td>\n",
       "      <td>9.500000e+07</td>\n",
       "      <td>452809.0</td>\n",
       "      <td>38</td>\n",
       "      <td>16.8</td>\n",
       "      <td>350.610224</td>\n",
       "      <td>13.9</td>\n",
       "      <td>8.359438</td>\n",
       "    </tr>\n",
       "    <tr>\n",
       "      <th>3</th>\n",
       "      <td>0</td>\n",
       "      <td>8115015</td>\n",
       "      <td>8.300000e+07</td>\n",
       "      <td>2617184.0</td>\n",
       "      <td>37</td>\n",
       "      <td>17.6</td>\n",
       "      <td>230.913888</td>\n",
       "      <td>45.7</td>\n",
       "      <td>8.964017</td>\n",
       "    </tr>\n",
       "    <tr>\n",
       "      <th>4</th>\n",
       "      <td>0</td>\n",
       "      <td>8187499</td>\n",
       "      <td>6.770000e+08</td>\n",
       "      <td>666069.0</td>\n",
       "      <td>19</td>\n",
       "      <td>0.0</td>\n",
       "      <td>131.541983</td>\n",
       "      <td>67.2</td>\n",
       "      <td>8.808206</td>\n",
       "    </tr>\n",
       "  </tbody>\n",
       "</table>\n",
       "</div>"
      ],
      "text/plain": [
       "   ESTADO  INGRESOS          CASA  PRECIO_DISPOSITIVO  MESES  DURACION  \\\n",
       "0       1   4074840  8.830000e+08           1444153.0     26       2.3   \n",
       "1       1   8574088  1.745000e+09           2157661.0     23       3.7   \n",
       "2       0    795993  9.500000e+07            452809.0     38      16.8   \n",
       "3       0   8115015  8.300000e+07           2617184.0     37      17.6   \n",
       "4       0   8187499  6.770000e+08            666069.0     19       0.0   \n",
       "\n",
       "   SOBRECARGO  SALDO_RESTANTE  SATISFACCION  \n",
       "0   11.167542            20.3      1.762872  \n",
       "1    0.000000            53.5      3.361266  \n",
       "2  350.610224            13.9      8.359438  \n",
       "3  230.913888            45.7      8.964017  \n",
       "4  131.541983            67.2      8.808206  "
      ]
     },
     "execution_count": 77,
     "metadata": {},
     "output_type": "execute_result"
    }
   ],
   "source": [
    "data.head()"
   ]
  },
  {
   "cell_type": "code",
   "execution_count": 78,
   "metadata": {},
   "outputs": [],
   "source": [
    "x=data[[\"SOBRECARGO\",\"SATISFACCION\"]].values\n",
    "y=data[[\"ESTADO\"]].values"
   ]
  },
  {
   "cell_type": "code",
   "execution_count": 79,
   "metadata": {},
   "outputs": [],
   "source": [
    "from sklearn.model_selection import train_test_split\n",
    "X_train, X_test, y_train, y_test = train_test_split(x, y, test_size=0.30)"
   ]
  },
  {
   "cell_type": "code",
   "execution_count": 80,
   "metadata": {},
   "outputs": [],
   "source": [
    "from sklearn.preprocessing import StandardScaler\n",
    "scaler = StandardScaler()\n",
    "scaler.fit(X_train)\n",
    "\n",
    "X_train = scaler.transform(X_train)\n",
    "X_test = scaler.transform(X_test)"
   ]
  },
  {
   "cell_type": "markdown",
   "metadata": {},
   "source": [
    "# Modelo KNN"
   ]
  },
  {
   "cell_type": "code",
   "execution_count": 81,
   "metadata": {},
   "outputs": [],
   "source": [
    "from sklearn.neighbors import KNeighborsClassifier\n",
    "from sklearn.metrics import classification_report, confusion_matrix\n",
    "\n",
    "\n",
    "\n"
   ]
  },
  {
   "cell_type": "markdown",
   "metadata": {},
   "source": [
    "# Holdout"
   ]
  },
  {
   "cell_type": "code",
   "execution_count": 82,
   "metadata": {},
   "outputs": [],
   "source": [
    "X_normalized = preprocessing.normalize(x, norm='l2')\n",
    "X_train, X_test, y_train, y_test = train_test_split(X_normalized, y, test_size=0.3,random_state=12345)"
   ]
  },
  {
   "cell_type": "code",
   "execution_count": 83,
   "metadata": {},
   "outputs": [
    {
     "data": {
      "text/plain": [
       "array([ 1,  4,  7, 10, 13, 16, 19, 22, 25, 28, 31, 34, 37])"
      ]
     },
     "execution_count": 83,
     "metadata": {},
     "output_type": "execute_result"
    }
   ],
   "source": [
    "k_vec= np.arange(1,40,3)\n",
    "k_vec"
   ]
  },
  {
   "cell_type": "code",
   "execution_count": 84,
   "metadata": {},
   "outputs": [
    {
     "name": "stdout",
     "output_type": "stream",
     "text": [
      "------------------------------------------------------------------------\n",
      "1\n",
      "[[2430 1112]\n",
      " [ 986 2421]]\n",
      "              precision    recall  f1-score   support\n",
      "\n",
      "           0       0.71      0.69      0.70      3542\n",
      "           1       0.69      0.71      0.70      3407\n",
      "\n",
      "    accuracy                           0.70      6949\n",
      "   macro avg       0.70      0.70      0.70      6949\n",
      "weighted avg       0.70      0.70      0.70      6949\n",
      "\n",
      "------------------------------------------------------------------------\n",
      "------------------------------------------------------------------------\n",
      "4\n",
      "[[2991  551]\n",
      " [1157 2250]]\n",
      "              precision    recall  f1-score   support\n",
      "\n",
      "           0       0.72      0.84      0.78      3542\n",
      "           1       0.80      0.66      0.72      3407\n",
      "\n",
      "    accuracy                           0.75      6949\n",
      "   macro avg       0.76      0.75      0.75      6949\n",
      "weighted avg       0.76      0.75      0.75      6949\n",
      "\n",
      "------------------------------------------------------------------------\n",
      "------------------------------------------------------------------------\n",
      "7\n",
      "[[2847  695]\n",
      " [ 921 2486]]\n",
      "              precision    recall  f1-score   support\n",
      "\n",
      "           0       0.76      0.80      0.78      3542\n",
      "           1       0.78      0.73      0.75      3407\n",
      "\n",
      "    accuracy                           0.77      6949\n",
      "   macro avg       0.77      0.77      0.77      6949\n",
      "weighted avg       0.77      0.77      0.77      6949\n",
      "\n",
      "------------------------------------------------------------------------\n",
      "------------------------------------------------------------------------\n",
      "10\n",
      "[[2971  571]\n",
      " [1004 2403]]\n",
      "              precision    recall  f1-score   support\n",
      "\n",
      "           0       0.75      0.84      0.79      3542\n",
      "           1       0.81      0.71      0.75      3407\n",
      "\n",
      "    accuracy                           0.77      6949\n",
      "   macro avg       0.78      0.77      0.77      6949\n",
      "weighted avg       0.78      0.77      0.77      6949\n",
      "\n",
      "------------------------------------------------------------------------\n",
      "------------------------------------------------------------------------\n",
      "13\n",
      "[[2917  625]\n",
      " [ 917 2490]]\n",
      "              precision    recall  f1-score   support\n",
      "\n",
      "           0       0.76      0.82      0.79      3542\n",
      "           1       0.80      0.73      0.76      3407\n",
      "\n",
      "    accuracy                           0.78      6949\n",
      "   macro avg       0.78      0.78      0.78      6949\n",
      "weighted avg       0.78      0.78      0.78      6949\n",
      "\n",
      "------------------------------------------------------------------------\n",
      "------------------------------------------------------------------------\n",
      "16\n",
      "[[3010  532]\n",
      " [ 974 2433]]\n",
      "              precision    recall  f1-score   support\n",
      "\n",
      "           0       0.76      0.85      0.80      3542\n",
      "           1       0.82      0.71      0.76      3407\n",
      "\n",
      "    accuracy                           0.78      6949\n",
      "   macro avg       0.79      0.78      0.78      6949\n",
      "weighted avg       0.79      0.78      0.78      6949\n",
      "\n",
      "------------------------------------------------------------------------\n",
      "------------------------------------------------------------------------\n",
      "19\n",
      "[[2958  584]\n",
      " [ 903 2504]]\n",
      "              precision    recall  f1-score   support\n",
      "\n",
      "           0       0.77      0.84      0.80      3542\n",
      "           1       0.81      0.73      0.77      3407\n",
      "\n",
      "    accuracy                           0.79      6949\n",
      "   macro avg       0.79      0.79      0.79      6949\n",
      "weighted avg       0.79      0.79      0.79      6949\n",
      "\n",
      "------------------------------------------------------------------------\n",
      "------------------------------------------------------------------------\n",
      "22\n",
      "[[3003  539]\n",
      " [ 940 2467]]\n",
      "              precision    recall  f1-score   support\n",
      "\n",
      "           0       0.76      0.85      0.80      3542\n",
      "           1       0.82      0.72      0.77      3407\n",
      "\n",
      "    accuracy                           0.79      6949\n",
      "   macro avg       0.79      0.79      0.79      6949\n",
      "weighted avg       0.79      0.79      0.79      6949\n",
      "\n",
      "------------------------------------------------------------------------\n",
      "------------------------------------------------------------------------\n",
      "25\n",
      "[[2966  576]\n",
      " [ 889 2518]]\n",
      "              precision    recall  f1-score   support\n",
      "\n",
      "           0       0.77      0.84      0.80      3542\n",
      "           1       0.81      0.74      0.77      3407\n",
      "\n",
      "    accuracy                           0.79      6949\n",
      "   macro avg       0.79      0.79      0.79      6949\n",
      "weighted avg       0.79      0.79      0.79      6949\n",
      "\n",
      "------------------------------------------------------------------------\n",
      "------------------------------------------------------------------------\n",
      "28\n",
      "[[3003  539]\n",
      " [ 918 2489]]\n",
      "              precision    recall  f1-score   support\n",
      "\n",
      "           0       0.77      0.85      0.80      3542\n",
      "           1       0.82      0.73      0.77      3407\n",
      "\n",
      "    accuracy                           0.79      6949\n",
      "   macro avg       0.79      0.79      0.79      6949\n",
      "weighted avg       0.79      0.79      0.79      6949\n",
      "\n",
      "------------------------------------------------------------------------\n",
      "------------------------------------------------------------------------\n",
      "31\n",
      "[[2969  573]\n",
      " [ 884 2523]]\n",
      "              precision    recall  f1-score   support\n",
      "\n",
      "           0       0.77      0.84      0.80      3542\n",
      "           1       0.81      0.74      0.78      3407\n",
      "\n",
      "    accuracy                           0.79      6949\n",
      "   macro avg       0.79      0.79      0.79      6949\n",
      "weighted avg       0.79      0.79      0.79      6949\n",
      "\n",
      "------------------------------------------------------------------------\n",
      "------------------------------------------------------------------------\n",
      "34\n",
      "[[2998  544]\n",
      " [ 908 2499]]\n",
      "              precision    recall  f1-score   support\n",
      "\n",
      "           0       0.77      0.85      0.81      3542\n",
      "           1       0.82      0.73      0.77      3407\n",
      "\n",
      "    accuracy                           0.79      6949\n",
      "   macro avg       0.79      0.79      0.79      6949\n",
      "weighted avg       0.79      0.79      0.79      6949\n",
      "\n",
      "------------------------------------------------------------------------\n",
      "------------------------------------------------------------------------\n",
      "37\n",
      "[[2985  557]\n",
      " [ 898 2509]]\n",
      "              precision    recall  f1-score   support\n",
      "\n",
      "           0       0.77      0.84      0.80      3542\n",
      "           1       0.82      0.74      0.78      3407\n",
      "\n",
      "    accuracy                           0.79      6949\n",
      "   macro avg       0.79      0.79      0.79      6949\n",
      "weighted avg       0.79      0.79      0.79      6949\n",
      "\n",
      "------------------------------------------------------------------------\n"
     ]
    }
   ],
   "source": [
    "error_test_vect = []\n",
    "error_train_vect = []\n",
    "kappa_train_vec=[]\n",
    "kappa_test_vec=[]\n",
    "acc_train_vec=[]\n",
    "acc_test_vec=[]\n",
    "Confusion_matrix_vect=[]\n",
    "report_vect=[]\n",
    "\n",
    "for k in k_vec:\n",
    "    knn = neighbors.KNeighborsClassifier(n_neighbors=k)\n",
    "    knn.fit(X_train, y_train)\n",
    "    y_pred = knn.predict(X_train)\n",
    "    error_train_vect.append(metrics.precision_score(y_train, y_pred))\n",
    "    acc_train_vec.append(metrics.accuracy_score(y_train, y_pred))\n",
    "    kappa_train_vec.append(metrics.cohen_kappa_score(y_train, y_pred))\n",
    "    \n",
    "    \n",
    "    \n",
    "    \n",
    "    y_pred = knn.predict(X_test)\n",
    "    acc_test_vec.append(metrics.accuracy_score(y_test, y_pred))\n",
    "    error_test_vect.append(metrics.precision_score(y_test, y_pred))\n",
    "    kappa_test_vec.append(metrics.cohen_kappa_score(y_test, y_pred))\n",
    "    print(\"------------------------------------------------------------------------\")\n",
    "    print(k)\n",
    "    print(confusion_matrix(y_test, y_pred))\n",
    "    print(classification_report(y_test, y_pred))\n",
    "    print(\"------------------------------------------------------------------------\")"
   ]
  },
  {
   "cell_type": "markdown",
   "metadata": {},
   "source": [
    "## Grafica Kappa vs complejidad del modelo K-NN"
   ]
  },
  {
   "cell_type": "code",
   "execution_count": 85,
   "metadata": {
    "scrolled": true
   },
   "outputs": [
    {
     "data": {
      "text/plain": [
       "<matplotlib.legend.Legend at 0xd8164861c8>"
      ]
     },
     "execution_count": 85,
     "metadata": {},
     "output_type": "execute_result"
    },
    {
     "data": {
      "image/png": "[encoded data removed]",
      "text/plain": [
       "<Figure size 720x360 with 1 Axes>"
      ]
     },
     "metadata": {
      "needs_background": "light"
     },
     "output_type": "display_data"
    }
   ],
   "source": [
    "plt.figure(figsize=(10,5))\n",
    "ax = plt.gca() # get current axis\n",
    "plt.plot(k_vec, kappa_train_vec)\n",
    "plt.plot(k_vec, kappa_test_vec)\n",
    "ax.set_xlim(ax.get_xlim()[::-1])  # reverse axis\n",
    "plt.axis('tight')\n",
    "plt.xlabel('k')\n",
    "plt.ylabel('Kappa')\n",
    "plt.title('Evolución de le kappa vs complejidad del modelo k-nn (valor de k más pequeño)')\n",
    "plt.legend(['train', 'test'])"
   ]
  },
  {
   "cell_type": "markdown",
   "metadata": {},
   "source": [
    "## Grafica exactitud vs complejidad del modelo K-NN"
   ]
  },
  {
   "cell_type": "code",
   "execution_count": 86,
   "metadata": {
    "scrolled": false
   },
   "outputs": [
    {
     "data": {
      "text/plain": [
       "<matplotlib.legend.Legend at 0xd812aba048>"
      ]
     },
     "execution_count": 86,
     "metadata": {},
     "output_type": "execute_result"
    },
    {
     "data": {
      "image/png": "[encoded data removed]",
      "text/plain": [
       "<Figure size 720x360 with 1 Axes>"
      ]
     },
     "metadata": {
      "needs_background": "light"
     },
     "output_type": "display_data"
    }
   ],
   "source": [
    "plt.figure(figsize=(10,5))\n",
    "ax = plt.gca() # get current axis\n",
    "plt.plot(k_vec, acc_train_vec)\n",
    "plt.plot(k_vec, acc_test_vec)\n",
    "ax.set_xlim(ax.get_xlim()[::-1])  # reverse axis\n",
    "plt.axis('tight')\n",
    "plt.xlabel('k')\n",
    "plt.ylabel('accuracy')\n",
    "plt.title('Evolución de le exactitud vs complejidad del modelo k-nn (valor de k más pequeño)')\n",
    "plt.legend(['train', 'test'])"
   ]
  },
  {
   "cell_type": "markdown",
   "metadata": {},
   "source": [
    "## Grafica Precision vs complejidad del modelo K-NN"
   ]
  },
  {
   "cell_type": "code",
   "execution_count": 87,
   "metadata": {
    "scrolled": false
   },
   "outputs": [
    {
     "data": {
      "text/plain": [
       "<matplotlib.legend.Legend at 0xd8124ccac8>"
      ]
     },
     "execution_count": 87,
     "metadata": {},
     "output_type": "execute_result"
    },
    {
     "data": {
      "image/png": "[encoded data removed]",
      "text/plain": [
       "<Figure size 720x360 with 1 Axes>"
      ]
     },
     "metadata": {
      "needs_background": "light"
     },
     "output_type": "display_data"
    }
   ],
   "source": [
    "plt.figure(figsize=(10,5))\n",
    "ax = plt.gca() # get current axis\n",
    "plt.plot(k_vec, error_test_vect)\n",
    "plt.plot(k_vec, error_train_vect)\n",
    "ax.set_xlim(ax.get_xlim()[::-1])  # reverse axis\n",
    "plt.axis('tight')\n",
    "plt.xlabel('k')\n",
    "plt.ylabel('precison')\n",
    "plt.title('Evolución de la precision vs complejidad del modelo k-nn (valor de k más pequeño)')\n",
    "plt.legend(['train', 'test'])"
   ]
  },
  {
   "cell_type": "markdown",
   "metadata": {},
   "source": [
    "# Modelo Arbol de decision"
   ]
  },
  {
   "cell_type": "code",
   "execution_count": 88,
   "metadata": {},
   "outputs": [],
   "source": [
    "np.random.seed(1234)\n",
    "ctree = tree.DecisionTreeClassifier(\n",
    "    criterion='entropy', # el criterio de particionamiento de un conjunto de datos (gini, entropy)\n",
    "    max_depth=8,      # prepoda: controla la profundidad del árbol (largo máximo de las ramas)\n",
    "    min_samples_split=4, # prepoda: el mínimo número de registros necesarios para crear una nueva rama\n",
    "    min_samples_leaf=2,  # prepoda: el mínimo número de registros en una hoja\n",
    "    random_state=None,   # semilla del generador aleatorio utilizado para \n",
    "    max_leaf_nodes=2, # prepoda: máximo número de nodos hojas\n",
    "    min_impurity_decrease=0.0, # prepoda: umbral mínimo de reducción de la impureza para aceptar la creación de una rama\n",
    "    class_weight=None    # permite asociar pesos a las clases, en el caso de diferencias de importancia entre ellas\n",
    ")"
   ]
  },
  {
   "cell_type": "code",
   "execution_count": 89,
   "metadata": {},
   "outputs": [
    {
     "data": {
      "text/plain": [
       "DecisionTreeClassifier(ccp_alpha=0.0, class_weight=None, criterion='entropy',\n",
       "                       max_depth=8, max_features=None, max_leaf_nodes=2,\n",
       "                       min_impurity_decrease=0.0, min_impurity_split=None,\n",
       "                       min_samples_leaf=2, min_samples_split=4,\n",
       "                       min_weight_fraction_leaf=0.0, presort='deprecated',\n",
       "                       random_state=None, splitter='best')"
      ]
     },
     "execution_count": 89,
     "metadata": {},
     "output_type": "execute_result"
    }
   ],
   "source": [
    "ctree.fit(X_train, y_train)"
   ]
  },
  {
   "cell_type": "code",
   "execution_count": 90,
   "metadata": {
    "scrolled": false
   },
   "outputs": [
    {
     "data": {
      "text/plain": [
       "array([1., 0.])"
      ]
     },
     "execution_count": 90,
     "metadata": {},
     "output_type": "execute_result"
    }
   ],
   "source": [
    "ctree.feature_importances_"
   ]
  },
  {
   "cell_type": "markdown",
   "metadata": {},
   "source": [
    "## Imagen Arbol de decision"
   ]
  },
  {
   "cell_type": "code",
   "execution_count": 91,
   "metadata": {},
   "outputs": [
    {
     "ename": "ModuleNotFoundError",
     "evalue": "No module named 'pydotplus'",
     "output_type": "error",
     "traceback": [
      "\u001b[1;31m---------------------------------------------------------------------------\u001b[0m",
      "\u001b[1;31mModuleNotFoundError\u001b[0m                       Traceback (most recent call last)",
      "\u001b[1;32m<ipython-input-91-359bbc8495ac>\u001b[0m in \u001b[0;36m<module>\u001b[1;34m\u001b[0m\n\u001b[1;32m----> 1\u001b[1;33m \u001b[1;32mimport\u001b[0m \u001b[0mpydotplus\u001b[0m\u001b[1;33m\u001b[0m\u001b[1;33m\u001b[0m\u001b[0m\n\u001b[0m\u001b[0;32m      2\u001b[0m \u001b[1;32mfrom\u001b[0m \u001b[0mIPython\u001b[0m\u001b[1;33m.\u001b[0m\u001b[0mdisplay\u001b[0m \u001b[1;32mimport\u001b[0m \u001b[0mImage\u001b[0m\u001b[1;33m\u001b[0m\u001b[1;33m\u001b[0m\u001b[0m\n\u001b[0;32m      3\u001b[0m \u001b[1;32mfrom\u001b[0m \u001b[0msklearn\u001b[0m\u001b[1;33m.\u001b[0m\u001b[0mexternals\u001b[0m\u001b[1;33m.\u001b[0m\u001b[0msix\u001b[0m \u001b[1;32mimport\u001b[0m \u001b[0mStringIO\u001b[0m\u001b[1;33m\u001b[0m\u001b[1;33m\u001b[0m\u001b[0m\n",
      "\u001b[1;31mModuleNotFoundError\u001b[0m: No module named 'pydotplus'"
     ]
    }
   ],
   "source": [
    "import pydotplus\n",
    "from IPython.display import Image  \n",
    "from sklearn.externals.six import StringIO  "
   ]
  },
  {
   "cell_type": "markdown",
   "metadata": {},
   "source": [
    "Evaluacion del modelo"
   ]
  },
  {
   "cell_type": "code",
   "execution_count": 114,
   "metadata": {},
   "outputs": [],
   "source": [
    "y_pred = ctree.predict(X_test)"
   ]
  },
  {
   "cell_type": "code",
   "execution_count": 115,
   "metadata": {},
   "outputs": [
    {
     "data": {
      "image/png": "[encoded data removed]",
      "text/plain": [
       "<Figure size 432x288 with 2 Axes>"
      ]
     },
     "metadata": {
      "needs_background": "light"
     },
     "output_type": "display_data"
    }
   ],
   "source": [
    "cm= metrics.confusion_matrix(y_test, y_pred)\n",
    "plt.imshow(cm, cmap=plt.cm.Blues)\n",
    "plt.title(\"Matriz de confusión\")\n",
    "plt.colorbar()\n",
    "tick_marks = np.arange(2)\n",
    "plt.xticks(tick_marks, y_test)\n",
    "plt.yticks(tick_marks, y_test)\n",
    "plt.show()"
   ]
  },
  {
   "cell_type": "code",
   "execution_count": 116,
   "metadata": {},
   "outputs": [
    {
     "name": "stdout",
     "output_type": "stream",
     "text": [
      "[[3074  468]\n",
      " [ 974 2433]]\n",
      "Exactitud:  0.792488127788171\n",
      "Kappa    :  0.5836411353396149\n",
      "Precisión     :  0.7990318351447572\n",
      "Recall        :  0.7909946257721299\n",
      "Especificidad :  0.8386763185108583\n",
      "F1-score      :  0.7907072851422332\n"
     ]
    }
   ],
   "source": [
    "print(cm)\n",
    "print(\"Exactitud: \", metrics.accuracy_score(y_test, y_pred))\n",
    "print(\"Kappa    : \", metrics.cohen_kappa_score(y_test, y_pred))\n",
    "print(\"Precisión     : \", metrics.precision_score(y_test, y_pred, average='macro'))\n",
    "print(\"Recall        : \", metrics.recall_score(y_test, y_pred, average='macro'))\n",
    "VN = np.sum(cm[1:3,1:3])\n",
    "FP = np.sum(cm[0,1:3])\n",
    "specificity = VN/(VN+FP)\n",
    "print(\"Especificidad : \", specificity)\n",
    "print(\"F1-score      : \", metrics.f1_score(y_test, y_pred, average='macro'))\n"
   ]
  },
  {
   "cell_type": "markdown",
   "metadata": {},
   "source": [
    "# Red Neuronal"
   ]
  },
  {
   "cell_type": "code",
   "execution_count": null,
   "metadata": {},
   "outputs": [],
   "source": [
    "X_normalized = preprocessing.normalize(x, norm='l2')\n",
    "X_train, X_test, y_train, y_test = train_test_split(X_normalized, y, test_size=0.3,random_state=12345)"
   ]
  },
  {
   "cell_type": "code",
   "execution_count": null,
   "metadata": {
    "scrolled": true
   },
   "outputs": [],
   "source": [
    "print(X_train.shape); print(X_test.shape)"
   ]
  },
  {
   "cell_type": "code",
   "execution_count": null,
   "metadata": {},
   "outputs": [],
   "source": [
    "activation_vec = ['logistic', 'relu', 'tanh']\n",
    "max_iter_vec = [10, 20, 50, 75, 100, 200, 300, 400, 500, 1000, 2000]\n",
    "hidden_layer_sizes_vec = [(10,), (20,), (30,), (10, 10), (20, 20), (30, 30), (20, 10), (30, 20, 10)]\n",
    "learning_rate_init_vec = [0.001, 0.002, 0.003, 0.004, 0.005, 0.006, 0.007, 0.008, 0.009, 0.01, 0.02, 0.03, 0.04, 0.05]"
   ]
  },
  {
   "cell_type": "code",
   "execution_count": 92,
   "metadata": {},
   "outputs": [],
   "source": [
    "mlp = MLPClassifier(hidden_layer_sizes=(30,30,30))"
   ]
  },
  {
   "cell_type": "markdown",
   "metadata": {},
   "source": [
    "### Activation"
   ]
  },
  {
   "cell_type": "code",
   "execution_count": 93,
   "metadata": {},
   "outputs": [],
   "source": [
    "import time\n",
    "from sklearn.metrics import make_scorer \n",
    "from sklearn.metrics import accuracy_score, cohen_kappa_score, classification_report\n",
    "from sklearn.model_selection import GridSearchCV\n",
    "\n",
    "start = time.time() # Devuelve el tiempo actual en segundos desde el 1o de enero de 1970 (punto de referencia)\n",
    "\n",
    "np.random.seed(1234)\n",
    "parametros = {'activation': activation_vec\n",
    "              }\n",
    "scoring = {'kappa':make_scorer(cohen_kappa_score), 'accuracy':'accuracy'}\n",
    "grid = GridSearchCV(mlp, param_grid=parametros, cv=5, scoring=scoring, refit='accuracy', n_jobs=-1, iid=True)"
   ]
  },
  {
   "cell_type": "code",
   "execution_count": 94,
   "metadata": {},
   "outputs": [
    {
     "name": "stdout",
     "output_type": "stream",
     "text": [
      "Los parámetros del mejor modelo fueron {'activation': 'logistic'}, que permiten obtener un Accuracy de 79.38% y un Kappa del 58.75%\n",
      "Tiempo total: 0.41 minutos\n"
     ]
    }
   ],
   "source": [
    "grid.fit(X_train, y_train)\n",
    "\n",
    "print(\"Los parámetros del mejor modelo fueron {0}, que permiten obtener un Accuracy de {1:.2f}% y un Kappa del {2:.2f}%\".format(\n",
    "    grid.best_params_, grid.best_score_*100, grid.cv_results_['mean_test_kappa'][grid.best_index_]*100))\n",
    "end = time.time() # Tiempo después de finalizar el entrenamiento del modelo\n",
    "print(\"Tiempo total: {0:.2f} minutos\".format((end-start)/60))"
   ]
  },
  {
   "cell_type": "code",
   "execution_count": 95,
   "metadata": {},
   "outputs": [],
   "source": [
    "df = pd.DataFrame([(activation, acc*100, kappa*100) for (activation, acc, kappa) in \n",
    "                   zip(activation_vec, \n",
    "                       grid.cv_results_['mean_test_accuracy'], \n",
    "                       grid.cv_results_['mean_test_kappa'],\n",
    "                      )\n",
    "                   ], columns = ('activation', 'Accuracy', 'Kappa'))"
   ]
  },
  {
   "cell_type": "code",
   "execution_count": 96,
   "metadata": {},
   "outputs": [
    {
     "data": {
      "text/html": [
       "<div>\n",
       "<style scoped>\n",
       "    .dataframe tbody tr th:only-of-type {\n",
       "        vertical-align: middle;\n",
       "    }\n",
       "\n",
       "    .dataframe tbody tr th {\n",
       "        vertical-align: top;\n",
       "    }\n",
       "\n",
       "    .dataframe thead th {\n",
       "        text-align: right;\n",
       "    }\n",
       "</style>\n",
       "<table border=\"1\" class=\"dataframe\">\n",
       "  <thead>\n",
       "    <tr style=\"text-align: right;\">\n",
       "      <th></th>\n",
       "      <th>activation</th>\n",
       "      <th>Accuracy</th>\n",
       "      <th>Kappa</th>\n",
       "    </tr>\n",
       "  </thead>\n",
       "  <tbody>\n",
       "    <tr>\n",
       "      <th>0</th>\n",
       "      <td>logistic</td>\n",
       "      <td>79.380744</td>\n",
       "      <td>58.752242</td>\n",
       "    </tr>\n",
       "    <tr>\n",
       "      <th>1</th>\n",
       "      <td>relu</td>\n",
       "      <td>79.146364</td>\n",
       "      <td>58.280970</td>\n",
       "    </tr>\n",
       "    <tr>\n",
       "      <th>2</th>\n",
       "      <td>tanh</td>\n",
       "      <td>79.312897</td>\n",
       "      <td>58.616295</td>\n",
       "    </tr>\n",
       "  </tbody>\n",
       "</table>\n",
       "</div>"
      ],
      "text/plain": [
       "  activation   Accuracy      Kappa\n",
       "0   logistic  79.380744  58.752242\n",
       "1       relu  79.146364  58.280970\n",
       "2       tanh  79.312897  58.616295"
      ]
     },
     "execution_count": 96,
     "metadata": {},
     "output_type": "execute_result"
    }
   ],
   "source": [
    "df"
   ]
  },
  {
   "cell_type": "code",
   "execution_count": 97,
   "metadata": {
    "scrolled": true
   },
   "outputs": [
    {
     "name": "stdout",
     "output_type": "stream",
     "text": [
      "Accuracy: 0.7934954669736652 , Kappa: 0.5858318900658158 \n",
      "\n",
      "              precision    recall  f1-score   support\n",
      "\n",
      "           0       0.77      0.86      0.81      3542\n",
      "           1       0.83      0.73      0.78      3407\n",
      "\n",
      "    accuracy                           0.79      6949\n",
      "   macro avg       0.80      0.79      0.79      6949\n",
      "weighted avg       0.80      0.79      0.79      6949\n",
      "\n"
     ]
    }
   ],
   "source": [
    "y_pred = grid.best_estimator_.predict(X_test)\n",
    "print(\"Accuracy:\", accuracy_score(y_test, y_pred), \", Kappa:\", cohen_kappa_score(y_test, y_pred), \"\\n\")\n",
    "print(classification_report(y_test, y_pred))"
   ]
  },
  {
   "cell_type": "markdown",
   "metadata": {},
   "source": [
    "### max_iter"
   ]
  },
  {
   "cell_type": "code",
   "execution_count": 98,
   "metadata": {},
   "outputs": [],
   "source": [
    "import time\n",
    "start = time.time() # Devuelve el tiempo actual en segundos desde el 1o de enero de 1970 (punto de referencia)\n",
    "\n",
    "np.random.seed(1234)\n",
    "parametros = {'max_iter':max_iter_vec\n",
    "              }\n",
    "scoring = {'kappa':make_scorer(cohen_kappa_score), 'accuracy':'accuracy'}\n",
    "grid = GridSearchCV(mlp, param_grid=parametros, cv=5, scoring=scoring, refit='accuracy', n_jobs=-1, iid=True)"
   ]
  },
  {
   "cell_type": "code",
   "execution_count": 99,
   "metadata": {},
   "outputs": [
    {
     "name": "stdout",
     "output_type": "stream",
     "text": [
      "Los parámetros del mejor modelo fueron {'max_iter': 75}, que permiten obtener un Accuracy de 79.34% y un Kappa del 58.68\n",
      "Tiempo total: 0.62 minutos\n"
     ]
    }
   ],
   "source": [
    "grid.fit(X_train, y_train)\n",
    "\n",
    "print(\"Los parámetros del mejor modelo fueron {0}, que permiten obtener un Accuracy de {1:.2f}% y un Kappa del {2:.2f}\".format(\n",
    "    grid.best_params_, grid.best_score_*100, grid.cv_results_['mean_test_kappa'][grid.best_index_]*100))\n",
    "end = time.time() # Tiempo después de finalizar el entrenamiento del modelo\n",
    "print(\"Tiempo total: {0:.2f} minutos\".format((end-start)/60))"
   ]
  },
  {
   "cell_type": "code",
   "execution_count": 100,
   "metadata": {},
   "outputs": [],
   "source": [
    "df = pd.DataFrame([(max_iter, acc*100, kappa*100) for (max_iter, acc, kappa) in \n",
    "                   zip(max_iter_vec, \n",
    "                       grid.cv_results_['mean_test_accuracy'], \n",
    "                       grid.cv_results_['mean_test_kappa'],\n",
    "                      )\n",
    "                   ], columns = ('max_iter', 'Accuracy', 'Kappa'))"
   ]
  },
  {
   "cell_type": "code",
   "execution_count": 101,
   "metadata": {},
   "outputs": [
    {
     "data": {
      "image/png": "[encoded data removed]",
      "text/plain": [
       "<Figure size 576x432 with 1 Axes>"
      ]
     },
     "metadata": {
      "needs_background": "light"
     },
     "output_type": "display_data"
    }
   ],
   "source": [
    "plt.figure(figsize=(8,6))\n",
    "ax = plt.gca() # get current axis\n",
    "plt.plot(df.max_iter, df.Accuracy)\n",
    "plt.xlabel('max_iter')\n",
    "plt.ylabel('Accuracy')\n",
    "plt.title('Evolución del Accuracy en función de max_iter')\n",
    "plt.show()"
   ]
  },
  {
   "cell_type": "code",
   "execution_count": 102,
   "metadata": {},
   "outputs": [
    {
     "name": "stdout",
     "output_type": "stream",
     "text": [
      "Accuracy: 0.7916246942006044 , Kappa: 0.5823538318602348 \n",
      "\n",
      "              precision    recall  f1-score   support\n",
      "\n",
      "           0       0.77      0.84      0.80      3542\n",
      "           1       0.82      0.74      0.78      3407\n",
      "\n",
      "    accuracy                           0.79      6949\n",
      "   macro avg       0.79      0.79      0.79      6949\n",
      "weighted avg       0.79      0.79      0.79      6949\n",
      "\n"
     ]
    }
   ],
   "source": [
    "y_pred = grid.best_estimator_.predict(X_test)\n",
    "print(\"Accuracy:\", accuracy_score(y_test, y_pred), \", Kappa:\", cohen_kappa_score(y_test, y_pred), \"\\n\")\n",
    "print(classification_report(y_test, y_pred))"
   ]
  },
  {
   "cell_type": "markdown",
   "metadata": {},
   "source": [
    "### hidden_layer_sizes"
   ]
  },
  {
   "cell_type": "code",
   "execution_count": 103,
   "metadata": {},
   "outputs": [],
   "source": [
    "import time\n",
    "start = time.time() # Devuelve el tiempo actual en segundos desde el 1o de enero de 1970 (punto de referencia)\n",
    "\n",
    "np.random.seed(1234)\n",
    "parametros = {'hidden_layer_sizes':hidden_layer_sizes_vec\n",
    "              }\n",
    "scoring = {'kappa':make_scorer(cohen_kappa_score), 'accuracy':'accuracy'}\n",
    "grid = GridSearchCV(mlp, param_grid=parametros, cv=5, scoring=scoring, refit='accuracy', n_jobs=-1, iid=True)"
   ]
  },
  {
   "cell_type": "code",
   "execution_count": 104,
   "metadata": {},
   "outputs": [
    {
     "name": "stdout",
     "output_type": "stream",
     "text": [
      "Los parámetros del mejor modelo fueron {'hidden_layer_sizes': (10, 10, 10)}, que permiten obtener un Accuracy de 79.34% y un Kappa del 58.67\n",
      "Tiempo total: 0.63 minutos\n"
     ]
    }
   ],
   "source": [
    "grid.fit(X_train, y_train)\n",
    "\n",
    "print(\"Los parámetros del mejor modelo fueron {0}, que permiten obtener un Accuracy de {1:.2f}% y un Kappa del {2:.2f}\".format(\n",
    "    grid.best_params_, grid.best_score_*100, grid.cv_results_['mean_test_kappa'][grid.best_index_]*100))\n",
    "end = time.time() # Tiempo después de finalizar el entrenamiento del modelo\n",
    "print(\"Tiempo total: {0:.2f} minutos\".format((end-start)/60))"
   ]
  },
  {
   "cell_type": "code",
   "execution_count": 105,
   "metadata": {},
   "outputs": [],
   "source": [
    "df = pd.DataFrame([(hidden_layer_sizes, acc*100, kappa*100) for (hidden_layer_sizes, acc, kappa) in \n",
    "                   zip(hidden_layer_sizes_vec, \n",
    "                       grid.cv_results_['mean_test_accuracy'], \n",
    "                       grid.cv_results_['mean_test_kappa'],\n",
    "                      )\n",
    "                   ], columns = ('hidden_layer_sizes', 'Accuracy', 'Kappa'))"
   ]
  },
  {
   "cell_type": "code",
   "execution_count": 106,
   "metadata": {},
   "outputs": [
    {
     "data": {
      "text/html": [
       "<div>\n",
       "<style scoped>\n",
       "    .dataframe tbody tr th:only-of-type {\n",
       "        vertical-align: middle;\n",
       "    }\n",
       "\n",
       "    .dataframe tbody tr th {\n",
       "        vertical-align: top;\n",
       "    }\n",
       "\n",
       "    .dataframe thead th {\n",
       "        text-align: right;\n",
       "    }\n",
       "</style>\n",
       "<table border=\"1\" class=\"dataframe\">\n",
       "  <thead>\n",
       "    <tr style=\"text-align: right;\">\n",
       "      <th></th>\n",
       "      <th>hidden_layer_sizes</th>\n",
       "      <th>Accuracy</th>\n",
       "      <th>Kappa</th>\n",
       "    </tr>\n",
       "  </thead>\n",
       "  <tbody>\n",
       "    <tr>\n",
       "      <th>0</th>\n",
       "      <td>(10,)</td>\n",
       "      <td>79.238882</td>\n",
       "      <td>58.465459</td>\n",
       "    </tr>\n",
       "    <tr>\n",
       "      <th>1</th>\n",
       "      <td>(20,)</td>\n",
       "      <td>79.164868</td>\n",
       "      <td>58.317254</td>\n",
       "    </tr>\n",
       "    <tr>\n",
       "      <th>2</th>\n",
       "      <td>(30,)</td>\n",
       "      <td>79.208043</td>\n",
       "      <td>58.404304</td>\n",
       "    </tr>\n",
       "    <tr>\n",
       "      <th>3</th>\n",
       "      <td>(10, 10)</td>\n",
       "      <td>79.294393</td>\n",
       "      <td>58.577501</td>\n",
       "    </tr>\n",
       "    <tr>\n",
       "      <th>4</th>\n",
       "      <td>(20, 20)</td>\n",
       "      <td>79.288225</td>\n",
       "      <td>58.565183</td>\n",
       "    </tr>\n",
       "    <tr>\n",
       "      <th>5</th>\n",
       "      <td>(30, 30)</td>\n",
       "      <td>79.288225</td>\n",
       "      <td>58.566725</td>\n",
       "    </tr>\n",
       "    <tr>\n",
       "      <th>6</th>\n",
       "      <td>(20, 10)</td>\n",
       "      <td>79.257386</td>\n",
       "      <td>58.504846</td>\n",
       "    </tr>\n",
       "    <tr>\n",
       "      <th>7</th>\n",
       "      <td>(10, 10, 10)</td>\n",
       "      <td>79.337569</td>\n",
       "      <td>58.665348</td>\n",
       "    </tr>\n",
       "    <tr>\n",
       "      <th>8</th>\n",
       "      <td>(20, 20, 20)</td>\n",
       "      <td>79.164868</td>\n",
       "      <td>58.319748</td>\n",
       "    </tr>\n",
       "    <tr>\n",
       "      <th>9</th>\n",
       "      <td>(30, 30, 30)</td>\n",
       "      <td>79.282058</td>\n",
       "      <td>58.554372</td>\n",
       "    </tr>\n",
       "    <tr>\n",
       "      <th>10</th>\n",
       "      <td>(30, 20, 10)</td>\n",
       "      <td>79.152532</td>\n",
       "      <td>58.295210</td>\n",
       "    </tr>\n",
       "  </tbody>\n",
       "</table>\n",
       "</div>"
      ],
      "text/plain": [
       "   hidden_layer_sizes   Accuracy      Kappa\n",
       "0               (10,)  79.238882  58.465459\n",
       "1               (20,)  79.164868  58.317254\n",
       "2               (30,)  79.208043  58.404304\n",
       "3            (10, 10)  79.294393  58.577501\n",
       "4            (20, 20)  79.288225  58.565183\n",
       "5            (30, 30)  79.288225  58.566725\n",
       "6            (20, 10)  79.257386  58.504846\n",
       "7        (10, 10, 10)  79.337569  58.665348\n",
       "8        (20, 20, 20)  79.164868  58.319748\n",
       "9        (30, 30, 30)  79.282058  58.554372\n",
       "10       (30, 20, 10)  79.152532  58.295210"
      ]
     },
     "execution_count": 106,
     "metadata": {},
     "output_type": "execute_result"
    }
   ],
   "source": [
    "df"
   ]
  },
  {
   "cell_type": "code",
   "execution_count": 107,
   "metadata": {},
   "outputs": [
    {
     "name": "stdout",
     "output_type": "stream",
     "text": [
      "Accuracy: 0.793639372571593 , Kappa: 0.5860578418522793 \n",
      "\n",
      "              precision    recall  f1-score   support\n",
      "\n",
      "           0       0.76      0.86      0.81      3542\n",
      "           1       0.83      0.72      0.77      3407\n",
      "\n",
      "    accuracy                           0.79      6949\n",
      "   macro avg       0.80      0.79      0.79      6949\n",
      "weighted avg       0.80      0.79      0.79      6949\n",
      "\n"
     ]
    }
   ],
   "source": [
    "y_pred = grid.best_estimator_.predict(X_test)\n",
    "print(\"Accuracy:\", accuracy_score(y_test, y_pred), \", Kappa:\", cohen_kappa_score(y_test, y_pred), \"\\n\")\n",
    "print(classification_report(y_test, y_pred))"
   ]
  },
  {
   "cell_type": "markdown",
   "metadata": {},
   "source": [
    "### learning_rate_init"
   ]
  },
  {
   "cell_type": "code",
   "execution_count": 108,
   "metadata": {},
   "outputs": [],
   "source": [
    "import time\n",
    "start = time.time() # Devuelve el tiempo actual en segundos desde el 1o de enero de 1970 (punto de referencia)\n",
    "\n",
    "np.random.seed(1234)\n",
    "parametros = {'learning_rate_init':learning_rate_init_vec\n",
    "              }\n",
    "scoring = {'kappa':make_scorer(cohen_kappa_score), 'accuracy':'accuracy'}\n",
    "grid = GridSearchCV(mlp, param_grid=parametros, cv=5, scoring=scoring, refit='accuracy', n_jobs=-1, iid=True)"
   ]
  },
  {
   "cell_type": "code",
   "execution_count": 109,
   "metadata": {},
   "outputs": [
    {
     "name": "stdout",
     "output_type": "stream",
     "text": [
      "Los parámetros del mejor modelo fueron {'learning_rate_init': 0.009}, que permiten obtener un Accuracy de 79.37% y un Kappa del 58.73\n",
      "Tiempo total: 0.66 minutos\n"
     ]
    }
   ],
   "source": [
    "grid.fit(X_train, y_train)\n",
    "\n",
    "print(\"Los parámetros del mejor modelo fueron {0}, que permiten obtener un Accuracy de {1:.2f}% y un Kappa del {2:.2f}\".format(\n",
    "    grid.best_params_, grid.best_score_*100, grid.cv_results_['mean_test_kappa'][grid.best_index_]*100))\n",
    "end = time.time() # Tiempo después de finalizar el entrenamiento del modelo\n",
    "print(\"Tiempo total: {0:.2f} minutos\".format((end-start)/60))"
   ]
  },
  {
   "cell_type": "code",
   "execution_count": 110,
   "metadata": {},
   "outputs": [],
   "source": [
    "df = pd.DataFrame([(learning_rate_init, acc*100, kappa*100) for (learning_rate_init, acc, kappa) in \n",
    "                   zip(learning_rate_init_vec, \n",
    "                       grid.cv_results_['mean_test_accuracy'], \n",
    "                       grid.cv_results_['mean_test_kappa'],\n",
    "                      )\n",
    "                   ], columns = ('learning_rate_init', 'Accuracy', 'Kappa'))"
   ]
  },
  {
   "cell_type": "code",
   "execution_count": 111,
   "metadata": {},
   "outputs": [
    {
     "data": {
      "image/png": "[encoded data removed]",
      "text/plain": [
       "<Figure size 576x432 with 1 Axes>"
      ]
     },
     "metadata": {
      "needs_background": "light"
     },
     "output_type": "display_data"
    }
   ],
   "source": [
    "plt.figure(figsize=(8,6))\n",
    "ax = plt.gca() # get current axis\n",
    "plt.plot(df.learning_rate_init, df.Accuracy)\n",
    "plt.xlabel('learning_rate_init')\n",
    "plt.ylabel('Accuracy')\n",
    "plt.title('Evolución del Accuracy en función de learning_rate_init')\n",
    "plt.show()"
   ]
  },
  {
   "cell_type": "code",
   "execution_count": 112,
   "metadata": {},
   "outputs": [
    {
     "name": "stdout",
     "output_type": "stream",
     "text": [
      "Accuracy: 0.7933515613757375 , Kappa: 0.5856989132757098 \n",
      "\n",
      "              precision    recall  f1-score   support\n",
      "\n",
      "           0       0.77      0.85      0.81      3542\n",
      "           1       0.82      0.74      0.78      3407\n",
      "\n",
      "    accuracy                           0.79      6949\n",
      "   macro avg       0.80      0.79      0.79      6949\n",
      "weighted avg       0.80      0.79      0.79      6949\n",
      "\n"
     ]
    }
   ],
   "source": [
    "y_pred = grid.best_estimator_.predict(X_test)\n",
    "print(\"Accuracy:\", accuracy_score(y_test, y_pred), \", Kappa:\", cohen_kappa_score(y_test, y_pred), \"\\n\")\n",
    "print(classification_report(y_test, y_pred))"
   ]
  },
  {
   "cell_type": "code",
   "execution_count": 113,
   "metadata": {},
   "outputs": [
    {
     "name": "stdout",
     "output_type": "stream",
     "text": [
      "Accuracy: 0.7933515613757375 , Kappa: 0.5856989132757098 \n",
      "\n",
      "              precision    recall  f1-score   support\n",
      "\n",
      "           0       0.77      0.85      0.81      3542\n",
      "           1       0.82      0.74      0.78      3407\n",
      "\n",
      "    accuracy                           0.79      6949\n",
      "   macro avg       0.80      0.79      0.79      6949\n",
      "weighted avg       0.80      0.79      0.79      6949\n",
      "\n"
     ]
    }
   ],
   "source": [
    "y_pred = grid.best_estimator_.predict(X_test)\n",
    "print(\"Accuracy:\", accuracy_score(y_test, y_pred), \", Kappa:\", cohen_kappa_score(y_test, y_pred), \"\\n\")\n",
    "print(classification_report(y_test, y_pred))"
   ]
  },
  {
   "cell_type": "markdown",
   "metadata": {},
   "source": [
    "# Mejor red neuronal"
   ]
  },
  {
   "cell_type": "code",
   "execution_count": 62,
   "metadata": {},
   "outputs": [
    {
     "data": {
      "text/plain": [
       "MLPClassifier(activation='tanh', alpha=0.0001, batch_size='auto', beta_1=0.9,\n",
       "              beta_2=0.999, early_stopping=False, epsilon=1e-08,\n",
       "              hidden_layer_sizes=(10,), learning_rate='constant',\n",
       "              learning_rate_init=0.005, max_fun=15000, max_iter=100,\n",
       "              momentum=0.9, n_iter_no_change=10, nesterovs_momentum=True,\n",
       "              power_t=0.5, random_state=None, shuffle=True, solver='adam',\n",
       "              tol=0.0001, validation_fraction=0.1, verbose=False,\n",
       "              warm_start=False)"
      ]
     },
     "execution_count": 62,
     "metadata": {},
     "output_type": "execute_result"
    }
   ],
   "source": [
    "mlp = MLPClassifier(hidden_layer_sizes=(10,),learning_rate_init=0.005, activation='tanh', solver='adam', max_iter=100)\n",
    "mlp.fit(X_train,y_train)"
   ]
  },
  {
   "cell_type": "code",
   "execution_count": 63,
   "metadata": {
    "scrolled": false
   },
   "outputs": [
    {
     "name": "stdout",
     "output_type": "stream",
     "text": [
      "Matris de confusion\n",
      "[[3002  540]\n",
      " [ 896 2511]]\n",
      "Accuracy: 0.7933515613757375 , Kappa: 0.5857221334149925 \n",
      "\n",
      "              precision    recall  f1-score   support\n",
      "\n",
      "           0       0.77      0.85      0.81      3542\n",
      "           1       0.82      0.74      0.78      3407\n",
      "\n",
      "    accuracy                           0.79      6949\n",
      "   macro avg       0.80      0.79      0.79      6949\n",
      "weighted avg       0.80      0.79      0.79      6949\n",
      "\n"
     ]
    }
   ],
   "source": [
    "y_pred = grid.best_estimator_.predict(X_test)\n",
    "print(\"Matris de confusion\")\n",
    "print(confusion_matrix(y_test, y_pred))\n",
    "print(\"Accuracy:\", accuracy_score(y_test, y_pred), \", Kappa:\", cohen_kappa_score(y_test, y_pred), \"\\n\")\n",
    "print(classification_report(y_test, y_pred))"
   ]
  },
  {
   "cell_type": "code",
   "execution_count": 54,
   "metadata": {},
   "outputs": [],
   "source": [
    "activation_vec = ['logistic', 'relu', 'tanh']\n",
    "max_iter_vec = [10, 20, 50, 75, 100, 200, 300, 400, 500, 1000, 2000]\n",
    "hidden_layer_sizes_vec = [(10,), (20,), (30,), (10, 10), (20, 20), (30, 30), (20, 10), \n",
    "                          (10, 10, 10), (20, 20, 20), (30, 30, 30), (30, 20, 10)]\n",
    "learning_rate_init_vec = [0.001, 0.002, 0.003, 0.004, 0.005, 0.006, 0.007, 0.008, 0.009, 0.01, 0.02]"
   ]
  },
  {
   "cell_type": "code",
   "execution_count": 55,
   "metadata": {},
   "outputs": [],
   "source": [
    "import time\n",
    "start = time.time() # Devuelve el tiempo actual en segundos desde el 1o de enero de 1970 (punto de referencia)\n",
    "\n",
    "np.random.seed(1234)\n",
    "parametros = {'activation': activation_vec,\n",
    "              'max_iter':max_iter_vec,\n",
    "              'hidden_layer_sizes': hidden_layer_sizes_vec,\n",
    "              'learning_rate_init': learning_rate_init_vec\n",
    "              }\n",
    "scoring = {'kappa':make_scorer(cohen_kappa_score), 'accuracy':'accuracy'}\n",
    "grid = GridSearchCV(mlp, param_grid=parametros, cv=5, scoring=scoring, refit='accuracy', n_jobs=-1, iid=True)"
   ]
  },
  {
   "cell_type": "markdown",
   "metadata": {},
   "source": [
    "# <font color=\"red\"><b>No ejecutar este codigo, se demora mucho</b></font>"
   ]
  },
  {
   "cell_type": "code",
   "execution_count": 56,
   "metadata": {},
   "outputs": [
    {
     "name": "stdout",
     "output_type": "stream",
     "text": [
      "Los parámetros del mejor modelo fueron {'activation': 'logistic', 'hidden_layer_sizes': (10, 10, 10), 'learning_rate_init': 0.003, 'max_iter': 200}, que permiten obtener un Accuracy de 79.47% y un Kappa del 58.94\n",
      "Tiempo total: 121.08 minutos\n"
     ]
    }
   ],
   "source": [
    "grid.fit(X_train, y_train)\n",
    "\n",
    "print(\"Los parámetros del mejor modelo fueron {0}, que permiten obtener un Accuracy de {1:.2f}% y un Kappa del {2:.2f}\".format(\n",
    "    grid.best_params_, grid.best_score_*100, grid.cv_results_['mean_test_kappa'][grid.best_index_]*100))\n",
    "end = time.time() # Tiempo después de finalizar el entrenamiento del modelo\n",
    "print(\"Tiempo total: {0:.2f} minutos\".format((end-start)/60))"
   ]
  },
  {
   "cell_type": "code",
   "execution_count": 57,
   "metadata": {},
   "outputs": [],
   "source": [
    "df = pd.DataFrame([(acc*100, kappa*100) for (acc, kappa) in \n",
    "                   zip( \n",
    "                       grid.cv_results_['mean_test_accuracy'], \n",
    "                       grid.cv_results_['mean_test_kappa'],\n",
    "                      )\n",
    "                   ], columns = ('Accuracy', 'Kappa'))"
   ]
  },
  {
   "cell_type": "code",
   "execution_count": 58,
   "metadata": {},
   "outputs": [
    {
     "data": {
      "text/html": [
       "<div>\n",
       "<style scoped>\n",
       "    .dataframe tbody tr th:only-of-type {\n",
       "        vertical-align: middle;\n",
       "    }\n",
       "\n",
       "    .dataframe tbody tr th {\n",
       "        vertical-align: top;\n",
       "    }\n",
       "\n",
       "    .dataframe thead th {\n",
       "        text-align: right;\n",
       "    }\n",
       "</style>\n",
       "<table border=\"1\" class=\"dataframe\">\n",
       "  <thead>\n",
       "    <tr style=\"text-align: right;\">\n",
       "      <th></th>\n",
       "      <th>Accuracy</th>\n",
       "      <th>Kappa</th>\n",
       "    </tr>\n",
       "  </thead>\n",
       "  <tbody>\n",
       "    <tr>\n",
       "      <th>874</th>\n",
       "      <td>79.473262</td>\n",
       "      <td>58.937522</td>\n",
       "    </tr>\n",
       "    <tr>\n",
       "      <th>3557</th>\n",
       "      <td>79.460926</td>\n",
       "      <td>58.913038</td>\n",
       "    </tr>\n",
       "    <tr>\n",
       "      <th>2606</th>\n",
       "      <td>79.448591</td>\n",
       "      <td>58.888741</td>\n",
       "    </tr>\n",
       "    <tr>\n",
       "      <th>2643</th>\n",
       "      <td>79.436255</td>\n",
       "      <td>58.863457</td>\n",
       "    </tr>\n",
       "    <tr>\n",
       "      <th>3329</th>\n",
       "      <td>79.436255</td>\n",
       "      <td>58.864782</td>\n",
       "    </tr>\n",
       "    <tr>\n",
       "      <th>...</th>\n",
       "      <td>...</td>\n",
       "      <td>...</td>\n",
       "    </tr>\n",
       "    <tr>\n",
       "      <th>242</th>\n",
       "      <td>67.871461</td>\n",
       "      <td>35.670493</td>\n",
       "    </tr>\n",
       "    <tr>\n",
       "      <th>121</th>\n",
       "      <td>67.711096</td>\n",
       "      <td>35.348810</td>\n",
       "    </tr>\n",
       "    <tr>\n",
       "      <th>847</th>\n",
       "      <td>67.316351</td>\n",
       "      <td>34.557072</td>\n",
       "    </tr>\n",
       "    <tr>\n",
       "      <th>363</th>\n",
       "      <td>67.310183</td>\n",
       "      <td>34.544772</td>\n",
       "    </tr>\n",
       "    <tr>\n",
       "      <th>0</th>\n",
       "      <td>67.168322</td>\n",
       "      <td>34.260304</td>\n",
       "    </tr>\n",
       "  </tbody>\n",
       "</table>\n",
       "<p>3993 rows × 2 columns</p>\n",
       "</div>"
      ],
      "text/plain": [
       "       Accuracy      Kappa\n",
       "874   79.473262  58.937522\n",
       "3557  79.460926  58.913038\n",
       "2606  79.448591  58.888741\n",
       "2643  79.436255  58.863457\n",
       "3329  79.436255  58.864782\n",
       "...         ...        ...\n",
       "242   67.871461  35.670493\n",
       "121   67.711096  35.348810\n",
       "847   67.316351  34.557072\n",
       "363   67.310183  34.544772\n",
       "0     67.168322  34.260304\n",
       "\n",
       "[3993 rows x 2 columns]"
      ]
     },
     "execution_count": 58,
     "metadata": {},
     "output_type": "execute_result"
    }
   ],
   "source": [
    "df.iloc[np.argsort(-df.Accuracy),]"
   ]
  },
  {
   "cell_type": "code",
   "execution_count": 59,
   "metadata": {},
   "outputs": [],
   "source": [
    "df = pd.DataFrame([(act, hidden_layers, lr, max_iter, acc*100, kappa*100) for (act, hidden_layers, lr, max_iter, acc, kappa) in \n",
    "                   zip(\n",
    "                       grid.cv_results_['param_activation'], \n",
    "                       grid.cv_results_['param_hidden_layer_sizes'], \n",
    "                       grid.cv_results_['param_learning_rate_init'], \n",
    "                       grid.cv_results_['param_max_iter'], \n",
    "                       grid.cv_results_['mean_test_accuracy'], \n",
    "                       grid.cv_results_['mean_test_kappa'],\n",
    "                      )\n",
    "                   ], columns = ('Activation', 'HiddenLayers', 'LearningRate', 'MaxIter', 'Accuracy', 'Kappa'))"
   ]
  },
  {
   "cell_type": "code",
   "execution_count": 60,
   "metadata": {},
   "outputs": [
    {
     "data": {
      "text/html": [
       "<div>\n",
       "<style scoped>\n",
       "    .dataframe tbody tr th:only-of-type {\n",
       "        vertical-align: middle;\n",
       "    }\n",
       "\n",
       "    .dataframe tbody tr th {\n",
       "        vertical-align: top;\n",
       "    }\n",
       "\n",
       "    .dataframe thead th {\n",
       "        text-align: right;\n",
       "    }\n",
       "</style>\n",
       "<table border=\"1\" class=\"dataframe\">\n",
       "  <thead>\n",
       "    <tr style=\"text-align: right;\">\n",
       "      <th></th>\n",
       "      <th>Activation</th>\n",
       "      <th>HiddenLayers</th>\n",
       "      <th>LearningRate</th>\n",
       "      <th>MaxIter</th>\n",
       "      <th>Accuracy</th>\n",
       "      <th>Kappa</th>\n",
       "    </tr>\n",
       "  </thead>\n",
       "  <tbody>\n",
       "    <tr>\n",
       "      <th>874</th>\n",
       "      <td>logistic</td>\n",
       "      <td>(10, 10, 10)</td>\n",
       "      <td>0.003</td>\n",
       "      <td>200</td>\n",
       "      <td>79.473262</td>\n",
       "      <td>58.937522</td>\n",
       "    </tr>\n",
       "    <tr>\n",
       "      <th>3557</th>\n",
       "      <td>tanh</td>\n",
       "      <td>(10, 10, 10)</td>\n",
       "      <td>0.005</td>\n",
       "      <td>100</td>\n",
       "      <td>79.460926</td>\n",
       "      <td>58.913038</td>\n",
       "    </tr>\n",
       "    <tr>\n",
       "      <th>2606</th>\n",
       "      <td>relu</td>\n",
       "      <td>(30, 20, 10)</td>\n",
       "      <td>0.006</td>\n",
       "      <td>2000</td>\n",
       "      <td>79.448591</td>\n",
       "      <td>58.888741</td>\n",
       "    </tr>\n",
       "    <tr>\n",
       "      <th>2643</th>\n",
       "      <td>relu</td>\n",
       "      <td>(30, 20, 10)</td>\n",
       "      <td>0.010</td>\n",
       "      <td>75</td>\n",
       "      <td>79.436255</td>\n",
       "      <td>58.863457</td>\n",
       "    </tr>\n",
       "    <tr>\n",
       "      <th>3329</th>\n",
       "      <td>tanh</td>\n",
       "      <td>(30, 30)</td>\n",
       "      <td>0.006</td>\n",
       "      <td>400</td>\n",
       "      <td>79.436255</td>\n",
       "      <td>58.864782</td>\n",
       "    </tr>\n",
       "    <tr>\n",
       "      <th>2169</th>\n",
       "      <td>relu</td>\n",
       "      <td>(20, 10)</td>\n",
       "      <td>0.020</td>\n",
       "      <td>50</td>\n",
       "      <td>79.436255</td>\n",
       "      <td>58.863182</td>\n",
       "    </tr>\n",
       "    <tr>\n",
       "      <th>1064</th>\n",
       "      <td>logistic</td>\n",
       "      <td>(20, 20, 20)</td>\n",
       "      <td>0.009</td>\n",
       "      <td>500</td>\n",
       "      <td>79.430087</td>\n",
       "      <td>58.853344</td>\n",
       "    </tr>\n",
       "    <tr>\n",
       "      <th>3706</th>\n",
       "      <td>tanh</td>\n",
       "      <td>(20, 20, 20)</td>\n",
       "      <td>0.007</td>\n",
       "      <td>2000</td>\n",
       "      <td>79.423919</td>\n",
       "      <td>58.840484</td>\n",
       "    </tr>\n",
       "    <tr>\n",
       "      <th>2356</th>\n",
       "      <td>relu</td>\n",
       "      <td>(20, 20, 20)</td>\n",
       "      <td>0.006</td>\n",
       "      <td>50</td>\n",
       "      <td>79.423919</td>\n",
       "      <td>58.839001</td>\n",
       "    </tr>\n",
       "    <tr>\n",
       "      <th>2494</th>\n",
       "      <td>relu</td>\n",
       "      <td>(30, 30, 30)</td>\n",
       "      <td>0.007</td>\n",
       "      <td>500</td>\n",
       "      <td>79.423919</td>\n",
       "      <td>58.839926</td>\n",
       "    </tr>\n",
       "    <tr>\n",
       "      <th>3959</th>\n",
       "      <td>tanh</td>\n",
       "      <td>(30, 20, 10)</td>\n",
       "      <td>0.008</td>\n",
       "      <td>2000</td>\n",
       "      <td>79.423919</td>\n",
       "      <td>58.838069</td>\n",
       "    </tr>\n",
       "    <tr>\n",
       "      <th>678</th>\n",
       "      <td>logistic</td>\n",
       "      <td>(30, 30)</td>\n",
       "      <td>0.007</td>\n",
       "      <td>400</td>\n",
       "      <td>79.423919</td>\n",
       "      <td>58.838133</td>\n",
       "    </tr>\n",
       "    <tr>\n",
       "      <th>524</th>\n",
       "      <td>logistic</td>\n",
       "      <td>(20, 20)</td>\n",
       "      <td>0.004</td>\n",
       "      <td>400</td>\n",
       "      <td>79.423919</td>\n",
       "      <td>58.837268</td>\n",
       "    </tr>\n",
       "    <tr>\n",
       "      <th>3601</th>\n",
       "      <td>tanh</td>\n",
       "      <td>(10, 10, 10)</td>\n",
       "      <td>0.009</td>\n",
       "      <td>100</td>\n",
       "      <td>79.423919</td>\n",
       "      <td>58.839513</td>\n",
       "    </tr>\n",
       "    <tr>\n",
       "      <th>1709</th>\n",
       "      <td>relu</td>\n",
       "      <td>(10, 10)</td>\n",
       "      <td>0.002</td>\n",
       "      <td>100</td>\n",
       "      <td>79.417751</td>\n",
       "      <td>58.825618</td>\n",
       "    </tr>\n",
       "    <tr>\n",
       "      <th>1955</th>\n",
       "      <td>relu</td>\n",
       "      <td>(30, 30)</td>\n",
       "      <td>0.002</td>\n",
       "      <td>500</td>\n",
       "      <td>79.417751</td>\n",
       "      <td>58.827046</td>\n",
       "    </tr>\n",
       "    <tr>\n",
       "      <th>2731</th>\n",
       "      <td>tanh</td>\n",
       "      <td>(10,)</td>\n",
       "      <td>0.007</td>\n",
       "      <td>75</td>\n",
       "      <td>79.417751</td>\n",
       "      <td>58.825693</td>\n",
       "    </tr>\n",
       "    <tr>\n",
       "      <th>2897</th>\n",
       "      <td>tanh</td>\n",
       "      <td>(20,)</td>\n",
       "      <td>0.020</td>\n",
       "      <td>100</td>\n",
       "      <td>79.417751</td>\n",
       "      <td>58.827259</td>\n",
       "    </tr>\n",
       "    <tr>\n",
       "      <th>3285</th>\n",
       "      <td>tanh</td>\n",
       "      <td>(30, 30)</td>\n",
       "      <td>0.002</td>\n",
       "      <td>400</td>\n",
       "      <td>79.417751</td>\n",
       "      <td>58.826691</td>\n",
       "    </tr>\n",
       "    <tr>\n",
       "      <th>3229</th>\n",
       "      <td>tanh</td>\n",
       "      <td>(20, 20)</td>\n",
       "      <td>0.008</td>\n",
       "      <td>300</td>\n",
       "      <td>79.411583</td>\n",
       "      <td>58.813096</td>\n",
       "    </tr>\n",
       "  </tbody>\n",
       "</table>\n",
       "</div>"
      ],
      "text/plain": [
       "     Activation  HiddenLayers  LearningRate  MaxIter   Accuracy      Kappa\n",
       "874    logistic  (10, 10, 10)         0.003      200  79.473262  58.937522\n",
       "3557       tanh  (10, 10, 10)         0.005      100  79.460926  58.913038\n",
       "2606       relu  (30, 20, 10)         0.006     2000  79.448591  58.888741\n",
       "2643       relu  (30, 20, 10)         0.010       75  79.436255  58.863457\n",
       "3329       tanh      (30, 30)         0.006      400  79.436255  58.864782\n",
       "2169       relu      (20, 10)         0.020       50  79.436255  58.863182\n",
       "1064   logistic  (20, 20, 20)         0.009      500  79.430087  58.853344\n",
       "3706       tanh  (20, 20, 20)         0.007     2000  79.423919  58.840484\n",
       "2356       relu  (20, 20, 20)         0.006       50  79.423919  58.839001\n",
       "2494       relu  (30, 30, 30)         0.007      500  79.423919  58.839926\n",
       "3959       tanh  (30, 20, 10)         0.008     2000  79.423919  58.838069\n",
       "678    logistic      (30, 30)         0.007      400  79.423919  58.838133\n",
       "524    logistic      (20, 20)         0.004      400  79.423919  58.837268\n",
       "3601       tanh  (10, 10, 10)         0.009      100  79.423919  58.839513\n",
       "1709       relu      (10, 10)         0.002      100  79.417751  58.825618\n",
       "1955       relu      (30, 30)         0.002      500  79.417751  58.827046\n",
       "2731       tanh         (10,)         0.007       75  79.417751  58.825693\n",
       "2897       tanh         (20,)         0.020      100  79.417751  58.827259\n",
       "3285       tanh      (30, 30)         0.002      400  79.417751  58.826691\n",
       "3229       tanh      (20, 20)         0.008      300  79.411583  58.813096"
      ]
     },
     "execution_count": 60,
     "metadata": {},
     "output_type": "execute_result"
    }
   ],
   "source": [
    "df.iloc[np.argsort(-df.Accuracy),].head(20)"
   ]
  },
  {
   "cell_type": "markdown",
   "metadata": {},
   "source": [
    "## La salida del cosigo anterior fue :"
   ]
  },
  {
   "cell_type": "markdown",
   "metadata": {},
   "source": [
    "Los parámetros del mejor modelo fueron {'activation': 'logistic', 'hidden_layer_sizes': (10, 10, 10), 'learning_rate_init': 0.003, 'max_iter': 200}, que permiten obtener un Accuracy de 79.47% y un Kappa del 58.94\n",
    "Tiempo total: 121.08 minutos"
   ]
  }
 ],
 "metadata": {
  "kernelspec": {
   "display_name": "Python 3",
   "language": "python",
   "name": "python3"
  },
  "language_info": {
   "codemirror_mode": {
    "name": "ipython",
    "version": 3
   },
   "file_extension": ".py",
   "mimetype": "text/x-python",
   "name": "python",
   "nbconvert_exporter": "python",
   "pygments_lexer": "ipython3",
   "version": "3.7.6"
  }
 },
 "nbformat": 4,
 "nbformat_minor": 2
}
