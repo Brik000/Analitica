{
 "cells": [
  {
   "cell_type": "code",
   "execution_count": 2,
   "metadata": {},
   "outputs": [
    {
     "name": "stderr",
     "output_type": "stream",
     "text": [
      "C:\\Users\\Alejandro Narvaez\\Anaconda3\\lib\\site-packages\\sklearn\\externals\\six.py:31: DeprecationWarning: The module is deprecated in version 0.21 and will be removed in version 0.23 since we've dropped support for Python 2.7. Please rely on the official version of six (https://pypi.org/project/six/).\n",
      "  \"(https://pypi.org/project/six/).\", DeprecationWarning)\n"
     ]
    }
   ],
   "source": [
    "import numpy as np #operaciones matriciales y con vectores\n",
    "import pandas as pd #tratamiento de datos\n",
    "import matplotlib.pyplot as plt #gráficos\n",
    "from sklearn import tree, datasets, metrics\n",
    "from sklearn.metrics import precision_score\n",
    "from sklearn import neighbors, metrics\n",
    "from matplotlib.colors import ListedColormap\n",
    "from sklearn import preprocessing\n",
    "import matplotlib.patches as mpatches\n",
    "#from sklearn import neighbors, datasets, metrics\n",
    "from sklearn.model_selection import train_test_split #metodo de particionamiento de datasets para evaluación\n",
    "from sklearn.model_selection import cross_val_score, cross_validate #método para evaluar varios particionamientos de C-V\n",
    "from sklearn.model_selection import KFold, StratifiedKFold, RepeatedKFold, LeaveOneOut #Iteradores de C-V\n",
    "import seaborn as sns\n",
    "import math\n",
    "import warnings\n",
    "from sklearn.model_selection import train_test_split\n",
    "from sklearn.preprocessing import StandardScaler\n",
    "from sklearn.neighbors import KNeighborsClassifier\n",
    "from sklearn.metrics import classification_report, confusion_matrix\n",
    "from IPython.display import Image  \n",
    "from sklearn.externals.six import StringIO  \n",
    "\n",
    "from sklearn.neural_network import MLPClassifier\n",
    "import time\n",
    "from sklearn.metrics import make_scorer \n",
    "from sklearn.metrics import accuracy_score, cohen_kappa_score, classification_report\n",
    "from sklearn.model_selection import GridSearchCV\n",
    "\n",
    "warnings.filterwarnings(\"ignore\")"
   ]
  },
  {
   "cell_type": "code",
   "execution_count": 3,
   "metadata": {},
   "outputs": [
    {
     "name": "stdout",
     "output_type": "stream",
     "text": [
      "(23162, 9)\n"
     ]
    },
    {
     "data": {
      "text/html": [
       "<div>\n",
       "<style scoped>\n",
       "    .dataframe tbody tr th:only-of-type {\n",
       "        vertical-align: middle;\n",
       "    }\n",
       "\n",
       "    .dataframe tbody tr th {\n",
       "        vertical-align: top;\n",
       "    }\n",
       "\n",
       "    .dataframe thead th {\n",
       "        text-align: right;\n",
       "    }\n",
       "</style>\n",
       "<table border=\"1\" class=\"dataframe\">\n",
       "  <thead>\n",
       "    <tr style=\"text-align: right;\">\n",
       "      <th></th>\n",
       "      <th>ESTADO</th>\n",
       "      <th>INGRESOS</th>\n",
       "      <th>CASA</th>\n",
       "      <th>PRECIO_DISPOSITIVO</th>\n",
       "      <th>MESES</th>\n",
       "      <th>DURACION</th>\n",
       "      <th>SOBRECARGO</th>\n",
       "      <th>SALDO_RESTANTE</th>\n",
       "      <th>SATISFACCION</th>\n",
       "    </tr>\n",
       "  </thead>\n",
       "  <tbody>\n",
       "    <tr>\n",
       "      <th>0</th>\n",
       "      <td>VINCULADO</td>\n",
       "      <td>4074840</td>\n",
       "      <td>8.830000e+08</td>\n",
       "      <td>1444153.0</td>\n",
       "      <td>26</td>\n",
       "      <td>2.3</td>\n",
       "      <td>11.167542</td>\n",
       "      <td>20.3</td>\n",
       "      <td>1.762872</td>\n",
       "    </tr>\n",
       "    <tr>\n",
       "      <th>1</th>\n",
       "      <td>VINCULADO</td>\n",
       "      <td>8574088</td>\n",
       "      <td>1.745000e+09</td>\n",
       "      <td>2157661.0</td>\n",
       "      <td>23</td>\n",
       "      <td>3.7</td>\n",
       "      <td>0.000000</td>\n",
       "      <td>53.5</td>\n",
       "      <td>3.361266</td>\n",
       "    </tr>\n",
       "    <tr>\n",
       "      <th>2</th>\n",
       "      <td>RETIRADO</td>\n",
       "      <td>795993</td>\n",
       "      <td>9.500000e+07</td>\n",
       "      <td>452809.0</td>\n",
       "      <td>38</td>\n",
       "      <td>16.8</td>\n",
       "      <td>350.610224</td>\n",
       "      <td>13.9</td>\n",
       "      <td>8.359438</td>\n",
       "    </tr>\n",
       "    <tr>\n",
       "      <th>3</th>\n",
       "      <td>RETIRADO</td>\n",
       "      <td>8115015</td>\n",
       "      <td>8.300000e+07</td>\n",
       "      <td>2617184.0</td>\n",
       "      <td>37</td>\n",
       "      <td>17.6</td>\n",
       "      <td>230.913888</td>\n",
       "      <td>45.7</td>\n",
       "      <td>8.964017</td>\n",
       "    </tr>\n",
       "    <tr>\n",
       "      <th>4</th>\n",
       "      <td>RETIRADO</td>\n",
       "      <td>8187499</td>\n",
       "      <td>6.770000e+08</td>\n",
       "      <td>666069.0</td>\n",
       "      <td>19</td>\n",
       "      <td>0.0</td>\n",
       "      <td>131.541983</td>\n",
       "      <td>67.2</td>\n",
       "      <td>8.808206</td>\n",
       "    </tr>\n",
       "  </tbody>\n",
       "</table>\n",
       "</div>"
      ],
      "text/plain": [
       "      ESTADO  INGRESOS          CASA  PRECIO_DISPOSITIVO  MESES  DURACION  \\\n",
       "0  VINCULADO   4074840  8.830000e+08           1444153.0     26       2.3   \n",
       "1  VINCULADO   8574088  1.745000e+09           2157661.0     23       3.7   \n",
       "2   RETIRADO    795993  9.500000e+07            452809.0     38      16.8   \n",
       "3   RETIRADO   8115015  8.300000e+07           2617184.0     37      17.6   \n",
       "4   RETIRADO   8187499  6.770000e+08            666069.0     19       0.0   \n",
       "\n",
       "   SOBRECARGO  SALDO_RESTANTE  SATISFACCION  \n",
       "0   11.167542            20.3      1.762872  \n",
       "1    0.000000            53.5      3.361266  \n",
       "2  350.610224            13.9      8.359438  \n",
       "3  230.913888            45.7      8.964017  \n",
       "4  131.541983            67.2      8.808206  "
      ]
     },
     "execution_count": 3,
     "metadata": {},
     "output_type": "execute_result"
    }
   ],
   "source": [
    "data = pd.read_csv('PF-02-DatosTelco.csv', sep=',')\n",
    "print(data.shape)\n",
    "data.head(5)"
   ]
  },
  {
   "cell_type": "code",
   "execution_count": 4,
   "metadata": {
    "scrolled": true
   },
   "outputs": [
    {
     "name": "stdout",
     "output_type": "stream",
     "text": [
      "<class 'pandas.core.frame.DataFrame'>\n",
      "RangeIndex: 23162 entries, 0 to 23161\n",
      "Data columns (total 9 columns):\n",
      "ESTADO                23162 non-null object\n",
      "INGRESOS              23162 non-null int64\n",
      "CASA                  23162 non-null float64\n",
      "PRECIO_DISPOSITIVO    23162 non-null float64\n",
      "MESES                 23162 non-null int64\n",
      "DURACION              23162 non-null float64\n",
      "SOBRECARGO            23162 non-null float64\n",
      "SALDO_RESTANTE        23162 non-null float64\n",
      "SATISFACCION          23162 non-null float64\n",
      "dtypes: float64(6), int64(2), object(1)\n",
      "memory usage: 1.6+ MB\n"
     ]
    }
   ],
   "source": [
    "data.info()"
   ]
  },
  {
   "cell_type": "code",
   "execution_count": 5,
   "metadata": {},
   "outputs": [
    {
     "data": {
      "text/html": [
       "<div>\n",
       "<style scoped>\n",
       "    .dataframe tbody tr th:only-of-type {\n",
       "        vertical-align: middle;\n",
       "    }\n",
       "\n",
       "    .dataframe tbody tr th {\n",
       "        vertical-align: top;\n",
       "    }\n",
       "\n",
       "    .dataframe thead th {\n",
       "        text-align: right;\n",
       "    }\n",
       "</style>\n",
       "<table border=\"1\" class=\"dataframe\">\n",
       "  <thead>\n",
       "    <tr style=\"text-align: right;\">\n",
       "      <th></th>\n",
       "      <th>ESTADO</th>\n",
       "      <th>INGRESOS</th>\n",
       "      <th>CASA</th>\n",
       "      <th>PRECIO_DISPOSITIVO</th>\n",
       "      <th>MESES</th>\n",
       "      <th>DURACION</th>\n",
       "      <th>SOBRECARGO</th>\n",
       "      <th>SALDO_RESTANTE</th>\n",
       "      <th>SATISFACCION</th>\n",
       "    </tr>\n",
       "  </thead>\n",
       "  <tbody>\n",
       "    <tr>\n",
       "      <th>count</th>\n",
       "      <td>23162</td>\n",
       "      <td>2.316200e+04</td>\n",
       "      <td>2.316200e+04</td>\n",
       "      <td>2.316200e+04</td>\n",
       "      <td>23162.000000</td>\n",
       "      <td>23162.000000</td>\n",
       "      <td>23162.000000</td>\n",
       "      <td>23162.000000</td>\n",
       "      <td>23162.000000</td>\n",
       "    </tr>\n",
       "    <tr>\n",
       "      <th>unique</th>\n",
       "      <td>2</td>\n",
       "      <td>NaN</td>\n",
       "      <td>NaN</td>\n",
       "      <td>NaN</td>\n",
       "      <td>NaN</td>\n",
       "      <td>NaN</td>\n",
       "      <td>NaN</td>\n",
       "      <td>NaN</td>\n",
       "      <td>NaN</td>\n",
       "    </tr>\n",
       "    <tr>\n",
       "      <th>top</th>\n",
       "      <td>RETIRADO</td>\n",
       "      <td>NaN</td>\n",
       "      <td>NaN</td>\n",
       "      <td>NaN</td>\n",
       "      <td>NaN</td>\n",
       "      <td>NaN</td>\n",
       "      <td>NaN</td>\n",
       "      <td>NaN</td>\n",
       "      <td>NaN</td>\n",
       "    </tr>\n",
       "    <tr>\n",
       "      <th>freq</th>\n",
       "      <td>11665</td>\n",
       "      <td>NaN</td>\n",
       "      <td>NaN</td>\n",
       "      <td>NaN</td>\n",
       "      <td>NaN</td>\n",
       "      <td>NaN</td>\n",
       "      <td>NaN</td>\n",
       "      <td>NaN</td>\n",
       "      <td>NaN</td>\n",
       "    </tr>\n",
       "    <tr>\n",
       "      <th>mean</th>\n",
       "      <td>NaN</td>\n",
       "      <td>4.813115e+06</td>\n",
       "      <td>7.161435e+08</td>\n",
       "      <td>1.315340e+06</td>\n",
       "      <td>24.197133</td>\n",
       "      <td>9.609852</td>\n",
       "      <td>110.056296</td>\n",
       "      <td>42.991888</td>\n",
       "      <td>5.480840</td>\n",
       "    </tr>\n",
       "    <tr>\n",
       "      <th>std</th>\n",
       "      <td>NaN</td>\n",
       "      <td>2.737374e+06</td>\n",
       "      <td>4.811551e+08</td>\n",
       "      <td>7.485700e+05</td>\n",
       "      <td>14.264014</td>\n",
       "      <td>7.040007</td>\n",
       "      <td>100.771503</td>\n",
       "      <td>30.204540</td>\n",
       "      <td>2.809938</td>\n",
       "    </tr>\n",
       "    <tr>\n",
       "      <th>min</th>\n",
       "      <td>NaN</td>\n",
       "      <td>1.500000e+05</td>\n",
       "      <td>8.000000e+07</td>\n",
       "      <td>2.000000e+05</td>\n",
       "      <td>0.000000</td>\n",
       "      <td>0.000000</td>\n",
       "      <td>0.000000</td>\n",
       "      <td>0.000000</td>\n",
       "      <td>0.613580</td>\n",
       "    </tr>\n",
       "    <tr>\n",
       "      <th>25%</th>\n",
       "      <td>NaN</td>\n",
       "      <td>2.156296e+06</td>\n",
       "      <td>3.570000e+08</td>\n",
       "      <td>6.571840e+05</td>\n",
       "      <td>14.000000</td>\n",
       "      <td>2.100000</td>\n",
       "      <td>12.566883</td>\n",
       "      <td>15.200000</td>\n",
       "      <td>2.705504</td>\n",
       "    </tr>\n",
       "    <tr>\n",
       "      <th>50%</th>\n",
       "      <td>NaN</td>\n",
       "      <td>6.137553e+06</td>\n",
       "      <td>6.240000e+08</td>\n",
       "      <td>1.237456e+06</td>\n",
       "      <td>24.000000</td>\n",
       "      <td>14.600000</td>\n",
       "      <td>75.383640</td>\n",
       "      <td>37.650000</td>\n",
       "      <td>4.064550</td>\n",
       "    </tr>\n",
       "    <tr>\n",
       "      <th>75%</th>\n",
       "      <td>NaN</td>\n",
       "      <td>7.347180e+06</td>\n",
       "      <td>9.077500e+08</td>\n",
       "      <td>1.829581e+06</td>\n",
       "      <td>34.000000</td>\n",
       "      <td>16.100000</td>\n",
       "      <td>201.550049</td>\n",
       "      <td>70.000000</td>\n",
       "      <td>8.268244</td>\n",
       "    </tr>\n",
       "    <tr>\n",
       "      <th>max</th>\n",
       "      <td>NaN</td>\n",
       "      <td>9.650000e+06</td>\n",
       "      <td>2.180000e+09</td>\n",
       "      <td>4.700000e+06</td>\n",
       "      <td>79.000000</td>\n",
       "      <td>20.100000</td>\n",
       "      <td>411.168400</td>\n",
       "      <td>130.700000</td>\n",
       "      <td>9.642618</td>\n",
       "    </tr>\n",
       "  </tbody>\n",
       "</table>\n",
       "</div>"
      ],
      "text/plain": [
       "          ESTADO      INGRESOS          CASA  PRECIO_DISPOSITIVO  \\\n",
       "count      23162  2.316200e+04  2.316200e+04        2.316200e+04   \n",
       "unique         2           NaN           NaN                 NaN   \n",
       "top     RETIRADO           NaN           NaN                 NaN   \n",
       "freq       11665           NaN           NaN                 NaN   \n",
       "mean         NaN  4.813115e+06  7.161435e+08        1.315340e+06   \n",
       "std          NaN  2.737374e+06  4.811551e+08        7.485700e+05   \n",
       "min          NaN  1.500000e+05  8.000000e+07        2.000000e+05   \n",
       "25%          NaN  2.156296e+06  3.570000e+08        6.571840e+05   \n",
       "50%          NaN  6.137553e+06  6.240000e+08        1.237456e+06   \n",
       "75%          NaN  7.347180e+06  9.077500e+08        1.829581e+06   \n",
       "max          NaN  9.650000e+06  2.180000e+09        4.700000e+06   \n",
       "\n",
       "               MESES      DURACION    SOBRECARGO  SALDO_RESTANTE  SATISFACCION  \n",
       "count   23162.000000  23162.000000  23162.000000    23162.000000  23162.000000  \n",
       "unique           NaN           NaN           NaN             NaN           NaN  \n",
       "top              NaN           NaN           NaN             NaN           NaN  \n",
       "freq             NaN           NaN           NaN             NaN           NaN  \n",
       "mean       24.197133      9.609852    110.056296       42.991888      5.480840  \n",
       "std        14.264014      7.040007    100.771503       30.204540      2.809938  \n",
       "min         0.000000      0.000000      0.000000        0.000000      0.613580  \n",
       "25%        14.000000      2.100000     12.566883       15.200000      2.705504  \n",
       "50%        24.000000     14.600000     75.383640       37.650000      4.064550  \n",
       "75%        34.000000     16.100000    201.550049       70.000000      8.268244  \n",
       "max        79.000000     20.100000    411.168400      130.700000      9.642618  "
      ]
     },
     "execution_count": 5,
     "metadata": {},
     "output_type": "execute_result"
    }
   ],
   "source": [
    "data.describe(include=\"all\")"
   ]
  },
  {
   "cell_type": "markdown",
   "metadata": {},
   "source": [
    "# Busco valores duplicados"
   ]
  },
  {
   "cell_type": "code",
   "execution_count": 6,
   "metadata": {},
   "outputs": [
    {
     "data": {
      "text/html": [
       "<div>\n",
       "<style scoped>\n",
       "    .dataframe tbody tr th:only-of-type {\n",
       "        vertical-align: middle;\n",
       "    }\n",
       "\n",
       "    .dataframe tbody tr th {\n",
       "        vertical-align: top;\n",
       "    }\n",
       "\n",
       "    .dataframe thead th {\n",
       "        text-align: right;\n",
       "    }\n",
       "</style>\n",
       "<table border=\"1\" class=\"dataframe\">\n",
       "  <thead>\n",
       "    <tr style=\"text-align: right;\">\n",
       "      <th></th>\n",
       "      <th>ESTADO</th>\n",
       "      <th>INGRESOS</th>\n",
       "      <th>CASA</th>\n",
       "      <th>PRECIO_DISPOSITIVO</th>\n",
       "      <th>MESES</th>\n",
       "      <th>DURACION</th>\n",
       "      <th>SOBRECARGO</th>\n",
       "      <th>SALDO_RESTANTE</th>\n",
       "      <th>SATISFACCION</th>\n",
       "    </tr>\n",
       "  </thead>\n",
       "  <tbody>\n",
       "  </tbody>\n",
       "</table>\n",
       "</div>"
      ],
      "text/plain": [
       "Empty DataFrame\n",
       "Columns: [ESTADO, INGRESOS, CASA, PRECIO_DISPOSITIVO, MESES, DURACION, SOBRECARGO, SALDO_RESTANTE, SATISFACCION]\n",
       "Index: []"
      ]
     },
     "execution_count": 6,
     "metadata": {},
     "output_type": "execute_result"
    }
   ],
   "source": [
    "data[data.duplicated()]"
   ]
  },
  {
   "cell_type": "markdown",
   "metadata": {},
   "source": [
    "# Buscamos valores nulos"
   ]
  },
  {
   "cell_type": "code",
   "execution_count": 7,
   "metadata": {},
   "outputs": [
    {
     "data": {
      "text/plain": [
       "False"
      ]
     },
     "execution_count": 7,
     "metadata": {},
     "output_type": "execute_result"
    }
   ],
   "source": [
    "data.isnull().values.any()"
   ]
  },
  {
   "cell_type": "markdown",
   "metadata": {},
   "source": [
    "# Revisamos qu elos datos esten completos"
   ]
  },
  {
   "cell_type": "code",
   "execution_count": 8,
   "metadata": {},
   "outputs": [
    {
     "data": {
      "text/plain": [
       "ESTADO                23162\n",
       "INGRESOS              23162\n",
       "CASA                  23162\n",
       "PRECIO_DISPOSITIVO    23162\n",
       "MESES                 23162\n",
       "DURACION              23162\n",
       "SOBRECARGO            23162\n",
       "SALDO_RESTANTE        23162\n",
       "SATISFACCION          23162\n",
       "dtype: int64"
      ]
     },
     "execution_count": 8,
     "metadata": {},
     "output_type": "execute_result"
    }
   ],
   "source": [
    "data.count()"
   ]
  },
  {
   "cell_type": "markdown",
   "metadata": {},
   "source": [
    "# Buscamos valores atipicos en INGRESOS"
   ]
  },
  {
   "cell_type": "code",
   "execution_count": 9,
   "metadata": {},
   "outputs": [
    {
     "data": {
      "text/plain": [
       "<matplotlib.axes._subplots.AxesSubplot at 0x1c8254ba550>"
      ]
     },
     "execution_count": 9,
     "metadata": {},
     "output_type": "execute_result"
    },
    {
     "data": {
      "image/png": "[encoded data removed]",
      "text/plain": [
       "<Figure size 432x288 with 1 Axes>"
      ]
     },
     "metadata": {
      "needs_background": "light"
     },
     "output_type": "display_data"
    }
   ],
   "source": [
    "data.boxplot(column=['INGRESOS'])"
   ]
  },
  {
   "cell_type": "markdown",
   "metadata": {},
   "source": [
    "# Buscamos valores atipicos en CASA"
   ]
  },
  {
   "cell_type": "code",
   "execution_count": 10,
   "metadata": {
    "scrolled": true
   },
   "outputs": [
    {
     "data": {
      "text/plain": [
       "<matplotlib.axes._subplots.AxesSubplot at 0x1c8257c0780>"
      ]
     },
     "execution_count": 10,
     "metadata": {},
     "output_type": "execute_result"
    },
    {
     "data": {
      "image/png": "[encoded data removed]",
      "text/plain": [
       "<Figure size 432x288 with 1 Axes>"
      ]
     },
     "metadata": {
      "needs_background": "light"
     },
     "output_type": "display_data"
    }
   ],
   "source": [
    "data.boxplot(column=['CASA'])"
   ]
  },
  {
   "cell_type": "markdown",
   "metadata": {},
   "source": [
    "## Segun este boxPlot hay una gran cantidad de datos atipicos en la variable CASA"
   ]
  },
  {
   "cell_type": "markdown",
   "metadata": {},
   "source": [
    "# Buscamos valores atipicos en PRECIO_DISPOSITIVO\t"
   ]
  },
  {
   "cell_type": "code",
   "execution_count": 11,
   "metadata": {},
   "outputs": [
    {
     "data": {
      "text/plain": [
       "<matplotlib.axes._subplots.AxesSubplot at 0x1c825839588>"
      ]
     },
     "execution_count": 11,
     "metadata": {},
     "output_type": "execute_result"
    },
    {
     "data": {
      "image/png": "[encoded data removed]",
      "text/plain": [
       "<Figure size 432x288 with 1 Axes>"
      ]
     },
     "metadata": {
      "needs_background": "light"
     },
     "output_type": "display_data"
    }
   ],
   "source": [
    "data.boxplot(column=['PRECIO_DISPOSITIVO'])"
   ]
  },
  {
   "cell_type": "markdown",
   "metadata": {},
   "source": [
    "## Segun este boxPlot hay una gran cantidad de datos atipicos en la variable PRECIO_DISPOSITIVO"
   ]
  },
  {
   "cell_type": "markdown",
   "metadata": {},
   "source": [
    "# Buscamos valores atipicos en MESES\t"
   ]
  },
  {
   "cell_type": "code",
   "execution_count": 12,
   "metadata": {},
   "outputs": [
    {
     "data": {
      "text/plain": [
       "<matplotlib.axes._subplots.AxesSubplot at 0x1c825846940>"
      ]
     },
     "execution_count": 12,
     "metadata": {},
     "output_type": "execute_result"
    },
    {
     "data": {
      "image/png": "[encoded data removed]",
      "text/plain": [
       "<Figure size 432x288 with 1 Axes>"
      ]
     },
     "metadata": {
      "needs_background": "light"
     },
     "output_type": "display_data"
    }
   ],
   "source": [
    "data.boxplot(column=['MESES'])"
   ]
  },
  {
   "cell_type": "markdown",
   "metadata": {},
   "source": [
    "## Segun este boxPlot hay una gran cantidad de datos atipicos en la variable MESES"
   ]
  },
  {
   "cell_type": "markdown",
   "metadata": {},
   "source": [
    "# Buscamos valores atipicos en DURACION"
   ]
  },
  {
   "cell_type": "code",
   "execution_count": 13,
   "metadata": {},
   "outputs": [
    {
     "data": {
      "text/plain": [
       "<matplotlib.axes._subplots.AxesSubplot at 0x1c82591de48>"
      ]
     },
     "execution_count": 13,
     "metadata": {},
     "output_type": "execute_result"
    },
    {
     "data": {
      "image/png": "[encoded data removed]",
      "text/plain": [
       "<Figure size 432x288 with 1 Axes>"
      ]
     },
     "metadata": {
      "needs_background": "light"
     },
     "output_type": "display_data"
    }
   ],
   "source": [
    "data.boxplot(column=['DURACION'])"
   ]
  },
  {
   "cell_type": "markdown",
   "metadata": {},
   "source": [
    "# Buscamos valores atipicos en SOBRECARGO"
   ]
  },
  {
   "cell_type": "code",
   "execution_count": 14,
   "metadata": {},
   "outputs": [
    {
     "data": {
      "text/plain": [
       "<matplotlib.axes._subplots.AxesSubplot at 0x1c825987128>"
      ]
     },
     "execution_count": 14,
     "metadata": {},
     "output_type": "execute_result"
    },
    {
     "data": {
      "image/png": "[encoded data removed]",
      "text/plain": [
       "<Figure size 432x288 with 1 Axes>"
      ]
     },
     "metadata": {
      "needs_background": "light"
     },
     "output_type": "display_data"
    }
   ],
   "source": [
    "data.boxplot(column=['SOBRECARGO'])"
   ]
  },
  {
   "cell_type": "markdown",
   "metadata": {},
   "source": [
    "# Buscamos valores atipicos en SALDO_RESTANTE"
   ]
  },
  {
   "cell_type": "code",
   "execution_count": 15,
   "metadata": {},
   "outputs": [
    {
     "data": {
      "text/plain": [
       "<matplotlib.axes._subplots.AxesSubplot at 0x1c8259eb940>"
      ]
     },
     "execution_count": 15,
     "metadata": {},
     "output_type": "execute_result"
    },
    {
     "data": {
      "image/png": "[encoded data removed]",
      "text/plain": [
       "<Figure size 432x288 with 1 Axes>"
      ]
     },
     "metadata": {
      "needs_background": "light"
     },
     "output_type": "display_data"
    }
   ],
   "source": [
    "data.boxplot(column=['SALDO_RESTANTE'])"
   ]
  },
  {
   "cell_type": "markdown",
   "metadata": {},
   "source": [
    "# Buscamos valores atipicos en SATISFACCION"
   ]
  },
  {
   "cell_type": "code",
   "execution_count": 16,
   "metadata": {
    "scrolled": true
   },
   "outputs": [
    {
     "data": {
      "text/plain": [
       "<matplotlib.axes._subplots.AxesSubplot at 0x1c825a53160>"
      ]
     },
     "execution_count": 16,
     "metadata": {},
     "output_type": "execute_result"
    },
    {
     "data": {
      "image/png": "[encoded data removed]",
      "text/plain": [
       "<Figure size 432x288 with 1 Axes>"
      ]
     },
     "metadata": {
      "needs_background": "light"
     },
     "output_type": "display_data"
    }
   ],
   "source": [
    "data.boxplot(column=['SATISFACCION'])"
   ]
  },
  {
   "cell_type": "markdown",
   "metadata": {},
   "source": [
    "________________"
   ]
  },
  {
   "cell_type": "markdown",
   "metadata": {},
   "source": [
    "________________"
   ]
  },
  {
   "cell_type": "markdown",
   "metadata": {},
   "source": [
    "________________"
   ]
  },
  {
   "cell_type": "markdown",
   "metadata": {},
   "source": [
    "# Solucion de inconsistencias en los datos\n"
   ]
  },
  {
   "cell_type": "code",
   "execution_count": 17,
   "metadata": {},
   "outputs": [],
   "source": [
    "deletedData=data.copy()"
   ]
  },
  {
   "cell_type": "code",
   "execution_count": 18,
   "metadata": {},
   "outputs": [
    {
     "name": "stdout",
     "output_type": "stream",
     "text": [
      "Antes: (23162, 9)\n",
      "Despues: (20953, 9)\n"
     ]
    }
   ],
   "source": [
    "print(\"Antes: \"+str(data.shape))\n",
    "def drop_numerical_outliers(data, minq=0.01,maxq=0.99):\n",
    "    # Constrains will contain `True` or `False` depending on if it is a value below the threshold.\n",
    "    constrains = data.select_dtypes(include=[np.number]) \\\n",
    "        .apply(lambda x: x.between(x.quantile(minq), x.quantile(maxq))) \\\n",
    "        .all(axis=1)\n",
    "    # Drop (inplace) values set to be rejected\n",
    "    data.drop(data.index[~constrains], inplace=True)\n",
    "drop_numerical_outliers(data)\n",
    "data\n",
    "print(\"Despues: \"+str(data.shape))"
   ]
  },
  {
   "cell_type": "code",
   "execution_count": 19,
   "metadata": {},
   "outputs": [
    {
     "name": "stdout",
     "output_type": "stream",
     "text": [
      "Antes: (23162, 9)\n",
      "Despues: (2209, 9)\n"
     ]
    }
   ],
   "source": [
    "print(\"Antes: \"+str(deletedData.shape))\n",
    "def drop_numerical_outliers1(deletedData, minq=0.01,maxq=0.99):\n",
    "    # Constrains will contain `True` or `False` depending on if it is a value below the threshold.\n",
    "    constrains = deletedData.select_dtypes(include=[np.number]) \\\n",
    "        .apply(lambda x: x.between(x.quantile(minq), x.quantile(maxq))) \\\n",
    "        .all(axis=1)\n",
    "    # Drop (inplace) values set to be rejected\n",
    "    deletedData.drop(deletedData.index[constrains], inplace=True)\n",
    "drop_numerical_outliers1(deletedData)\n",
    "deletedData\n",
    "print(\"Despues: \"+str(deletedData.shape))"
   ]
  },
  {
   "cell_type": "markdown",
   "metadata": {
    "scrolled": true
   },
   "source": [
    "## Aqui estan los datos atipicos encontrados y separados de dataFrame original"
   ]
  },
  {
   "cell_type": "code",
   "execution_count": 20,
   "metadata": {
    "scrolled": false
   },
   "outputs": [
    {
     "data": {
      "text/html": [
       "<div>\n",
       "<style scoped>\n",
       "    .dataframe tbody tr th:only-of-type {\n",
       "        vertical-align: middle;\n",
       "    }\n",
       "\n",
       "    .dataframe tbody tr th {\n",
       "        vertical-align: top;\n",
       "    }\n",
       "\n",
       "    .dataframe thead th {\n",
       "        text-align: right;\n",
       "    }\n",
       "</style>\n",
       "<table border=\"1\" class=\"dataframe\">\n",
       "  <thead>\n",
       "    <tr style=\"text-align: right;\">\n",
       "      <th></th>\n",
       "      <th>ESTADO</th>\n",
       "      <th>INGRESOS</th>\n",
       "      <th>CASA</th>\n",
       "      <th>PRECIO_DISPOSITIVO</th>\n",
       "      <th>MESES</th>\n",
       "      <th>DURACION</th>\n",
       "      <th>SOBRECARGO</th>\n",
       "      <th>SALDO_RESTANTE</th>\n",
       "      <th>SATISFACCION</th>\n",
       "    </tr>\n",
       "  </thead>\n",
       "  <tbody>\n",
       "    <tr>\n",
       "      <th>1</th>\n",
       "      <td>VINCULADO</td>\n",
       "      <td>8574088</td>\n",
       "      <td>1.745000e+09</td>\n",
       "      <td>2157661.0</td>\n",
       "      <td>23</td>\n",
       "      <td>3.7</td>\n",
       "      <td>0.000000</td>\n",
       "      <td>53.5</td>\n",
       "      <td>3.361266</td>\n",
       "    </tr>\n",
       "    <tr>\n",
       "      <th>2</th>\n",
       "      <td>RETIRADO</td>\n",
       "      <td>795993</td>\n",
       "      <td>9.500000e+07</td>\n",
       "      <td>452809.0</td>\n",
       "      <td>38</td>\n",
       "      <td>16.8</td>\n",
       "      <td>350.610224</td>\n",
       "      <td>13.9</td>\n",
       "      <td>8.359438</td>\n",
       "    </tr>\n",
       "    <tr>\n",
       "      <th>6</th>\n",
       "      <td>RETIRADO</td>\n",
       "      <td>7256758</td>\n",
       "      <td>7.120000e+08</td>\n",
       "      <td>3493707.0</td>\n",
       "      <td>20</td>\n",
       "      <td>14.8</td>\n",
       "      <td>217.322554</td>\n",
       "      <td>69.5</td>\n",
       "      <td>8.285137</td>\n",
       "    </tr>\n",
       "    <tr>\n",
       "      <th>29</th>\n",
       "      <td>RETIRADO</td>\n",
       "      <td>1409067</td>\n",
       "      <td>1.105000e+09</td>\n",
       "      <td>644429.0</td>\n",
       "      <td>55</td>\n",
       "      <td>16.6</td>\n",
       "      <td>188.592668</td>\n",
       "      <td>5.8</td>\n",
       "      <td>9.027948</td>\n",
       "    </tr>\n",
       "    <tr>\n",
       "      <th>31</th>\n",
       "      <td>VINCULADO</td>\n",
       "      <td>7320612</td>\n",
       "      <td>1.548000e+09</td>\n",
       "      <td>284060.0</td>\n",
       "      <td>38</td>\n",
       "      <td>18.2</td>\n",
       "      <td>31.606283</td>\n",
       "      <td>92.6</td>\n",
       "      <td>2.779810</td>\n",
       "    </tr>\n",
       "    <tr>\n",
       "      <th>44</th>\n",
       "      <td>RETIRADO</td>\n",
       "      <td>8763522</td>\n",
       "      <td>7.940000e+08</td>\n",
       "      <td>902864.0</td>\n",
       "      <td>15</td>\n",
       "      <td>15.0</td>\n",
       "      <td>21.277878</td>\n",
       "      <td>56.6</td>\n",
       "      <td>3.330574</td>\n",
       "    </tr>\n",
       "    <tr>\n",
       "      <th>45</th>\n",
       "      <td>RETIRADO</td>\n",
       "      <td>4036032</td>\n",
       "      <td>5.080000e+08</td>\n",
       "      <td>2750512.0</td>\n",
       "      <td>27</td>\n",
       "      <td>2.5</td>\n",
       "      <td>224.352073</td>\n",
       "      <td>25.6</td>\n",
       "      <td>9.117037</td>\n",
       "    </tr>\n",
       "    <tr>\n",
       "      <th>82</th>\n",
       "      <td>VINCULADO</td>\n",
       "      <td>7319634</td>\n",
       "      <td>1.599000e+09</td>\n",
       "      <td>1259835.0</td>\n",
       "      <td>12</td>\n",
       "      <td>2.0</td>\n",
       "      <td>0.000000</td>\n",
       "      <td>72.7</td>\n",
       "      <td>1.208224</td>\n",
       "    </tr>\n",
       "    <tr>\n",
       "      <th>88</th>\n",
       "      <td>RETIRADO</td>\n",
       "      <td>7659140</td>\n",
       "      <td>8.540000e+08</td>\n",
       "      <td>2944507.0</td>\n",
       "      <td>37</td>\n",
       "      <td>18.4</td>\n",
       "      <td>287.722936</td>\n",
       "      <td>80.8</td>\n",
       "      <td>8.163270</td>\n",
       "    </tr>\n",
       "    <tr>\n",
       "      <th>100</th>\n",
       "      <td>RETIRADO</td>\n",
       "      <td>8691926</td>\n",
       "      <td>1.978000e+09</td>\n",
       "      <td>1100248.0</td>\n",
       "      <td>10</td>\n",
       "      <td>15.1</td>\n",
       "      <td>259.381896</td>\n",
       "      <td>51.1</td>\n",
       "      <td>8.289950</td>\n",
       "    </tr>\n",
       "    <tr>\n",
       "      <th>106</th>\n",
       "      <td>RETIRADO</td>\n",
       "      <td>6498680</td>\n",
       "      <td>1.569000e+09</td>\n",
       "      <td>1157466.0</td>\n",
       "      <td>50</td>\n",
       "      <td>2.0</td>\n",
       "      <td>325.847932</td>\n",
       "      <td>73.2</td>\n",
       "      <td>8.245965</td>\n",
       "    </tr>\n",
       "    <tr>\n",
       "      <th>125</th>\n",
       "      <td>VINCULADO</td>\n",
       "      <td>500452</td>\n",
       "      <td>1.120000e+08</td>\n",
       "      <td>1221589.0</td>\n",
       "      <td>13</td>\n",
       "      <td>18.7</td>\n",
       "      <td>0.000000</td>\n",
       "      <td>0.0</td>\n",
       "      <td>2.559992</td>\n",
       "    </tr>\n",
       "    <tr>\n",
       "      <th>131</th>\n",
       "      <td>VINCULADO</td>\n",
       "      <td>1740282</td>\n",
       "      <td>3.820000e+08</td>\n",
       "      <td>268350.0</td>\n",
       "      <td>25</td>\n",
       "      <td>15.6</td>\n",
       "      <td>0.000000</td>\n",
       "      <td>27.3</td>\n",
       "      <td>3.125431</td>\n",
       "    </tr>\n",
       "    <tr>\n",
       "      <th>164</th>\n",
       "      <td>RETIRADO</td>\n",
       "      <td>1254914</td>\n",
       "      <td>2.740000e+08</td>\n",
       "      <td>471106.0</td>\n",
       "      <td>17</td>\n",
       "      <td>16.1</td>\n",
       "      <td>295.651303</td>\n",
       "      <td>26.0</td>\n",
       "      <td>9.022812</td>\n",
       "    </tr>\n",
       "    <tr>\n",
       "      <th>171</th>\n",
       "      <td>RETIRADO</td>\n",
       "      <td>7814631</td>\n",
       "      <td>8.200000e+07</td>\n",
       "      <td>499554.0</td>\n",
       "      <td>15</td>\n",
       "      <td>16.1</td>\n",
       "      <td>197.760449</td>\n",
       "      <td>59.7</td>\n",
       "      <td>8.347264</td>\n",
       "    </tr>\n",
       "    <tr>\n",
       "      <th>198</th>\n",
       "      <td>RETIRADO</td>\n",
       "      <td>7419360</td>\n",
       "      <td>4.240000e+08</td>\n",
       "      <td>3900085.0</td>\n",
       "      <td>19</td>\n",
       "      <td>14.8</td>\n",
       "      <td>106.426397</td>\n",
       "      <td>59.3</td>\n",
       "      <td>8.169416</td>\n",
       "    </tr>\n",
       "    <tr>\n",
       "      <th>205</th>\n",
       "      <td>RETIRADO</td>\n",
       "      <td>560082</td>\n",
       "      <td>1.214000e+09</td>\n",
       "      <td>2725189.0</td>\n",
       "      <td>9</td>\n",
       "      <td>18.4</td>\n",
       "      <td>135.479783</td>\n",
       "      <td>8.6</td>\n",
       "      <td>8.304915</td>\n",
       "    </tr>\n",
       "    <tr>\n",
       "      <th>215</th>\n",
       "      <td>VINCULADO</td>\n",
       "      <td>7171573</td>\n",
       "      <td>6.040000e+08</td>\n",
       "      <td>1634653.0</td>\n",
       "      <td>22</td>\n",
       "      <td>1.9</td>\n",
       "      <td>0.000000</td>\n",
       "      <td>70.7</td>\n",
       "      <td>1.398058</td>\n",
       "    </tr>\n",
       "    <tr>\n",
       "      <th>220</th>\n",
       "      <td>VINCULADO</td>\n",
       "      <td>425986</td>\n",
       "      <td>7.900000e+08</td>\n",
       "      <td>999679.0</td>\n",
       "      <td>37</td>\n",
       "      <td>18.7</td>\n",
       "      <td>45.774203</td>\n",
       "      <td>10.4</td>\n",
       "      <td>3.159315</td>\n",
       "    </tr>\n",
       "    <tr>\n",
       "      <th>237</th>\n",
       "      <td>RETIRADO</td>\n",
       "      <td>6846667</td>\n",
       "      <td>6.110000e+08</td>\n",
       "      <td>1176578.0</td>\n",
       "      <td>16</td>\n",
       "      <td>4.1</td>\n",
       "      <td>244.530792</td>\n",
       "      <td>64.3</td>\n",
       "      <td>9.157133</td>\n",
       "    </tr>\n",
       "    <tr>\n",
       "      <th>244</th>\n",
       "      <td>VINCULADO</td>\n",
       "      <td>6630441</td>\n",
       "      <td>1.421000e+09</td>\n",
       "      <td>3408798.0</td>\n",
       "      <td>31</td>\n",
       "      <td>14.8</td>\n",
       "      <td>180.492434</td>\n",
       "      <td>63.2</td>\n",
       "      <td>8.991852</td>\n",
       "    </tr>\n",
       "    <tr>\n",
       "      <th>251</th>\n",
       "      <td>VINCULADO</td>\n",
       "      <td>8167579</td>\n",
       "      <td>1.948000e+09</td>\n",
       "      <td>393998.0</td>\n",
       "      <td>21</td>\n",
       "      <td>2.0</td>\n",
       "      <td>24.488372</td>\n",
       "      <td>95.2</td>\n",
       "      <td>2.757290</td>\n",
       "    </tr>\n",
       "    <tr>\n",
       "      <th>253</th>\n",
       "      <td>RETIRADO</td>\n",
       "      <td>2917976</td>\n",
       "      <td>2.830000e+08</td>\n",
       "      <td>824481.0</td>\n",
       "      <td>3</td>\n",
       "      <td>3.3</td>\n",
       "      <td>382.943357</td>\n",
       "      <td>18.5</td>\n",
       "      <td>7.537220</td>\n",
       "    </tr>\n",
       "    <tr>\n",
       "      <th>261</th>\n",
       "      <td>RETIRADO</td>\n",
       "      <td>2865342</td>\n",
       "      <td>4.440000e+08</td>\n",
       "      <td>723521.0</td>\n",
       "      <td>48</td>\n",
       "      <td>1.9</td>\n",
       "      <td>348.036272</td>\n",
       "      <td>15.8</td>\n",
       "      <td>8.242486</td>\n",
       "    </tr>\n",
       "    <tr>\n",
       "      <th>268</th>\n",
       "      <td>RETIRADO</td>\n",
       "      <td>2120877</td>\n",
       "      <td>8.200000e+07</td>\n",
       "      <td>1367476.0</td>\n",
       "      <td>22</td>\n",
       "      <td>16.6</td>\n",
       "      <td>218.805805</td>\n",
       "      <td>19.3</td>\n",
       "      <td>8.304304</td>\n",
       "    </tr>\n",
       "    <tr>\n",
       "      <th>274</th>\n",
       "      <td>RETIRADO</td>\n",
       "      <td>3499394</td>\n",
       "      <td>8.160000e+08</td>\n",
       "      <td>1149506.0</td>\n",
       "      <td>60</td>\n",
       "      <td>2.2</td>\n",
       "      <td>222.020878</td>\n",
       "      <td>21.9</td>\n",
       "      <td>8.502669</td>\n",
       "    </tr>\n",
       "    <tr>\n",
       "      <th>279</th>\n",
       "      <td>VINCULADO</td>\n",
       "      <td>7926949</td>\n",
       "      <td>1.903000e+09</td>\n",
       "      <td>977319.0</td>\n",
       "      <td>33</td>\n",
       "      <td>0.0</td>\n",
       "      <td>45.768984</td>\n",
       "      <td>103.9</td>\n",
       "      <td>2.941750</td>\n",
       "    </tr>\n",
       "    <tr>\n",
       "      <th>281</th>\n",
       "      <td>VINCULADO</td>\n",
       "      <td>7925242</td>\n",
       "      <td>6.800000e+08</td>\n",
       "      <td>2361103.0</td>\n",
       "      <td>12</td>\n",
       "      <td>17.8</td>\n",
       "      <td>67.640411</td>\n",
       "      <td>79.2</td>\n",
       "      <td>1.591804</td>\n",
       "    </tr>\n",
       "    <tr>\n",
       "      <th>284</th>\n",
       "      <td>RETIRADO</td>\n",
       "      <td>7147938</td>\n",
       "      <td>6.230000e+08</td>\n",
       "      <td>2112939.0</td>\n",
       "      <td>4</td>\n",
       "      <td>18.6</td>\n",
       "      <td>154.178605</td>\n",
       "      <td>84.5</td>\n",
       "      <td>7.831342</td>\n",
       "    </tr>\n",
       "    <tr>\n",
       "      <th>286</th>\n",
       "      <td>VINCULADO</td>\n",
       "      <td>8503026</td>\n",
       "      <td>1.729000e+09</td>\n",
       "      <td>1355817.0</td>\n",
       "      <td>13</td>\n",
       "      <td>2.2</td>\n",
       "      <td>18.243825</td>\n",
       "      <td>79.3</td>\n",
       "      <td>2.799137</td>\n",
       "    </tr>\n",
       "    <tr>\n",
       "      <th>...</th>\n",
       "      <td>...</td>\n",
       "      <td>...</td>\n",
       "      <td>...</td>\n",
       "      <td>...</td>\n",
       "      <td>...</td>\n",
       "      <td>...</td>\n",
       "      <td>...</td>\n",
       "      <td>...</td>\n",
       "      <td>...</td>\n",
       "    </tr>\n",
       "    <tr>\n",
       "      <th>22870</th>\n",
       "      <td>RETIRADO</td>\n",
       "      <td>1121767</td>\n",
       "      <td>5.810000e+08</td>\n",
       "      <td>213877.0</td>\n",
       "      <td>21</td>\n",
       "      <td>15.5</td>\n",
       "      <td>192.770200</td>\n",
       "      <td>19.8</td>\n",
       "      <td>7.865820</td>\n",
       "    </tr>\n",
       "    <tr>\n",
       "      <th>22874</th>\n",
       "      <td>RETIRADO</td>\n",
       "      <td>7091405</td>\n",
       "      <td>4.200000e+08</td>\n",
       "      <td>291860.0</td>\n",
       "      <td>12</td>\n",
       "      <td>1.9</td>\n",
       "      <td>162.088700</td>\n",
       "      <td>67.4</td>\n",
       "      <td>7.832097</td>\n",
       "    </tr>\n",
       "    <tr>\n",
       "      <th>22882</th>\n",
       "      <td>VINCULADO</td>\n",
       "      <td>7357010</td>\n",
       "      <td>2.050000e+08</td>\n",
       "      <td>708797.0</td>\n",
       "      <td>63</td>\n",
       "      <td>1.4</td>\n",
       "      <td>0.000000</td>\n",
       "      <td>100.8</td>\n",
       "      <td>2.895299</td>\n",
       "    </tr>\n",
       "    <tr>\n",
       "      <th>22915</th>\n",
       "      <td>VINCULADO</td>\n",
       "      <td>8660548</td>\n",
       "      <td>4.420000e+08</td>\n",
       "      <td>2138307.0</td>\n",
       "      <td>15</td>\n",
       "      <td>0.4</td>\n",
       "      <td>0.000000</td>\n",
       "      <td>85.0</td>\n",
       "      <td>2.110537</td>\n",
       "    </tr>\n",
       "    <tr>\n",
       "      <th>22916</th>\n",
       "      <td>VINCULADO</td>\n",
       "      <td>578651</td>\n",
       "      <td>5.250000e+08</td>\n",
       "      <td>2528896.0</td>\n",
       "      <td>62</td>\n",
       "      <td>17.3</td>\n",
       "      <td>43.674230</td>\n",
       "      <td>12.5</td>\n",
       "      <td>2.387023</td>\n",
       "    </tr>\n",
       "    <tr>\n",
       "      <th>22934</th>\n",
       "      <td>RETIRADO</td>\n",
       "      <td>8206369</td>\n",
       "      <td>6.500000e+08</td>\n",
       "      <td>421766.0</td>\n",
       "      <td>22</td>\n",
       "      <td>16.7</td>\n",
       "      <td>333.853900</td>\n",
       "      <td>71.0</td>\n",
       "      <td>8.211674</td>\n",
       "    </tr>\n",
       "    <tr>\n",
       "      <th>22940</th>\n",
       "      <td>VINCULADO</td>\n",
       "      <td>7147431</td>\n",
       "      <td>1.608000e+09</td>\n",
       "      <td>906166.0</td>\n",
       "      <td>0</td>\n",
       "      <td>4.5</td>\n",
       "      <td>0.000000</td>\n",
       "      <td>95.3</td>\n",
       "      <td>1.554709</td>\n",
       "    </tr>\n",
       "    <tr>\n",
       "      <th>22947</th>\n",
       "      <td>RETIRADO</td>\n",
       "      <td>8587999</td>\n",
       "      <td>8.970000e+08</td>\n",
       "      <td>464885.0</td>\n",
       "      <td>0</td>\n",
       "      <td>0.4</td>\n",
       "      <td>205.059600</td>\n",
       "      <td>120.5</td>\n",
       "      <td>8.095677</td>\n",
       "    </tr>\n",
       "    <tr>\n",
       "      <th>22963</th>\n",
       "      <td>VINCULADO</td>\n",
       "      <td>4829745</td>\n",
       "      <td>1.137000e+09</td>\n",
       "      <td>1149210.0</td>\n",
       "      <td>62</td>\n",
       "      <td>2.6</td>\n",
       "      <td>0.735571</td>\n",
       "      <td>26.5</td>\n",
       "      <td>2.955354</td>\n",
       "    </tr>\n",
       "    <tr>\n",
       "      <th>22964</th>\n",
       "      <td>RETIRADO</td>\n",
       "      <td>8023635</td>\n",
       "      <td>3.980000e+08</td>\n",
       "      <td>1801577.0</td>\n",
       "      <td>44</td>\n",
       "      <td>14.8</td>\n",
       "      <td>342.772600</td>\n",
       "      <td>81.6</td>\n",
       "      <td>7.661582</td>\n",
       "    </tr>\n",
       "    <tr>\n",
       "      <th>22968</th>\n",
       "      <td>RETIRADO</td>\n",
       "      <td>7254859</td>\n",
       "      <td>1.322000e+09</td>\n",
       "      <td>665699.0</td>\n",
       "      <td>18</td>\n",
       "      <td>16.6</td>\n",
       "      <td>232.721800</td>\n",
       "      <td>112.8</td>\n",
       "      <td>8.281512</td>\n",
       "    </tr>\n",
       "    <tr>\n",
       "      <th>22970</th>\n",
       "      <td>VINCULADO</td>\n",
       "      <td>6328930</td>\n",
       "      <td>1.860000e+08</td>\n",
       "      <td>465697.0</td>\n",
       "      <td>24</td>\n",
       "      <td>16.2</td>\n",
       "      <td>0.000000</td>\n",
       "      <td>63.7</td>\n",
       "      <td>1.566127</td>\n",
       "    </tr>\n",
       "    <tr>\n",
       "      <th>22973</th>\n",
       "      <td>RETIRADO</td>\n",
       "      <td>6915137</td>\n",
       "      <td>1.041000e+09</td>\n",
       "      <td>872827.0</td>\n",
       "      <td>38</td>\n",
       "      <td>16.9</td>\n",
       "      <td>133.177800</td>\n",
       "      <td>112.5</td>\n",
       "      <td>8.555576</td>\n",
       "    </tr>\n",
       "    <tr>\n",
       "      <th>22978</th>\n",
       "      <td>RETIRADO</td>\n",
       "      <td>8427360</td>\n",
       "      <td>1.801000e+09</td>\n",
       "      <td>395777.0</td>\n",
       "      <td>20</td>\n",
       "      <td>0.4</td>\n",
       "      <td>132.452800</td>\n",
       "      <td>60.7</td>\n",
       "      <td>9.068966</td>\n",
       "    </tr>\n",
       "    <tr>\n",
       "      <th>22980</th>\n",
       "      <td>VINCULADO</td>\n",
       "      <td>7663743</td>\n",
       "      <td>6.410000e+08</td>\n",
       "      <td>992312.0</td>\n",
       "      <td>8</td>\n",
       "      <td>16.6</td>\n",
       "      <td>7.810196</td>\n",
       "      <td>71.5</td>\n",
       "      <td>1.478909</td>\n",
       "    </tr>\n",
       "    <tr>\n",
       "      <th>22989</th>\n",
       "      <td>VINCULADO</td>\n",
       "      <td>8595204</td>\n",
       "      <td>8.800000e+08</td>\n",
       "      <td>589332.0</td>\n",
       "      <td>43</td>\n",
       "      <td>15.5</td>\n",
       "      <td>13.677990</td>\n",
       "      <td>60.8</td>\n",
       "      <td>2.105382</td>\n",
       "    </tr>\n",
       "    <tr>\n",
       "      <th>23009</th>\n",
       "      <td>RETIRADO</td>\n",
       "      <td>7037442</td>\n",
       "      <td>1.659000e+09</td>\n",
       "      <td>1042353.0</td>\n",
       "      <td>18</td>\n",
       "      <td>18.2</td>\n",
       "      <td>336.125500</td>\n",
       "      <td>56.7</td>\n",
       "      <td>8.177903</td>\n",
       "    </tr>\n",
       "    <tr>\n",
       "      <th>23030</th>\n",
       "      <td>RETIRADO</td>\n",
       "      <td>3375942</td>\n",
       "      <td>8.310000e+08</td>\n",
       "      <td>260679.0</td>\n",
       "      <td>27</td>\n",
       "      <td>0.7</td>\n",
       "      <td>210.019200</td>\n",
       "      <td>16.8</td>\n",
       "      <td>8.865585</td>\n",
       "    </tr>\n",
       "    <tr>\n",
       "      <th>23033</th>\n",
       "      <td>RETIRADO</td>\n",
       "      <td>150000</td>\n",
       "      <td>8.080000e+08</td>\n",
       "      <td>1581031.0</td>\n",
       "      <td>24</td>\n",
       "      <td>16.5</td>\n",
       "      <td>189.139400</td>\n",
       "      <td>32.3</td>\n",
       "      <td>9.096923</td>\n",
       "    </tr>\n",
       "    <tr>\n",
       "      <th>23041</th>\n",
       "      <td>RETIRADO</td>\n",
       "      <td>6961032</td>\n",
       "      <td>6.090000e+08</td>\n",
       "      <td>2101462.0</td>\n",
       "      <td>30</td>\n",
       "      <td>13.2</td>\n",
       "      <td>267.821900</td>\n",
       "      <td>80.7</td>\n",
       "      <td>9.073058</td>\n",
       "    </tr>\n",
       "    <tr>\n",
       "      <th>23042</th>\n",
       "      <td>VINCULADO</td>\n",
       "      <td>7955630</td>\n",
       "      <td>6.620000e+08</td>\n",
       "      <td>737602.0</td>\n",
       "      <td>22</td>\n",
       "      <td>15.1</td>\n",
       "      <td>17.979350</td>\n",
       "      <td>108.5</td>\n",
       "      <td>2.390845</td>\n",
       "    </tr>\n",
       "    <tr>\n",
       "      <th>23049</th>\n",
       "      <td>VINCULADO</td>\n",
       "      <td>8578558</td>\n",
       "      <td>2.067000e+09</td>\n",
       "      <td>1602614.0</td>\n",
       "      <td>11</td>\n",
       "      <td>17.9</td>\n",
       "      <td>57.687330</td>\n",
       "      <td>86.1</td>\n",
       "      <td>2.231407</td>\n",
       "    </tr>\n",
       "    <tr>\n",
       "      <th>23068</th>\n",
       "      <td>VINCULADO</td>\n",
       "      <td>4330610</td>\n",
       "      <td>8.860000e+08</td>\n",
       "      <td>594886.0</td>\n",
       "      <td>20</td>\n",
       "      <td>2.2</td>\n",
       "      <td>23.493710</td>\n",
       "      <td>5.9</td>\n",
       "      <td>1.637326</td>\n",
       "    </tr>\n",
       "    <tr>\n",
       "      <th>23082</th>\n",
       "      <td>RETIRADO</td>\n",
       "      <td>2961331</td>\n",
       "      <td>8.220000e+08</td>\n",
       "      <td>3654177.0</td>\n",
       "      <td>55</td>\n",
       "      <td>3.6</td>\n",
       "      <td>97.860910</td>\n",
       "      <td>26.4</td>\n",
       "      <td>8.405691</td>\n",
       "    </tr>\n",
       "    <tr>\n",
       "      <th>23083</th>\n",
       "      <td>RETIRADO</td>\n",
       "      <td>833790</td>\n",
       "      <td>1.650000e+08</td>\n",
       "      <td>1200591.0</td>\n",
       "      <td>65</td>\n",
       "      <td>15.2</td>\n",
       "      <td>217.189200</td>\n",
       "      <td>14.8</td>\n",
       "      <td>8.520510</td>\n",
       "    </tr>\n",
       "    <tr>\n",
       "      <th>23098</th>\n",
       "      <td>RETIRADO</td>\n",
       "      <td>8291908</td>\n",
       "      <td>1.828000e+09</td>\n",
       "      <td>255881.0</td>\n",
       "      <td>26</td>\n",
       "      <td>2.9</td>\n",
       "      <td>196.476100</td>\n",
       "      <td>72.6</td>\n",
       "      <td>7.369689</td>\n",
       "    </tr>\n",
       "    <tr>\n",
       "      <th>23117</th>\n",
       "      <td>RETIRADO</td>\n",
       "      <td>8287662</td>\n",
       "      <td>8.060000e+08</td>\n",
       "      <td>630352.0</td>\n",
       "      <td>27</td>\n",
       "      <td>14.6</td>\n",
       "      <td>110.126300</td>\n",
       "      <td>104.9</td>\n",
       "      <td>8.337101</td>\n",
       "    </tr>\n",
       "    <tr>\n",
       "      <th>23131</th>\n",
       "      <td>RETIRADO</td>\n",
       "      <td>672224</td>\n",
       "      <td>8.200000e+07</td>\n",
       "      <td>991964.0</td>\n",
       "      <td>12</td>\n",
       "      <td>17.0</td>\n",
       "      <td>251.252400</td>\n",
       "      <td>17.1</td>\n",
       "      <td>8.329838</td>\n",
       "    </tr>\n",
       "    <tr>\n",
       "      <th>23150</th>\n",
       "      <td>VINCULADO</td>\n",
       "      <td>8592558</td>\n",
       "      <td>4.960000e+08</td>\n",
       "      <td>898233.0</td>\n",
       "      <td>31</td>\n",
       "      <td>1.0</td>\n",
       "      <td>37.265020</td>\n",
       "      <td>100.8</td>\n",
       "      <td>2.700061</td>\n",
       "    </tr>\n",
       "    <tr>\n",
       "      <th>23156</th>\n",
       "      <td>VINCULADO</td>\n",
       "      <td>2032565</td>\n",
       "      <td>5.770000e+08</td>\n",
       "      <td>3556600.0</td>\n",
       "      <td>43</td>\n",
       "      <td>16.2</td>\n",
       "      <td>9.792493</td>\n",
       "      <td>7.8</td>\n",
       "      <td>1.978885</td>\n",
       "    </tr>\n",
       "  </tbody>\n",
       "</table>\n",
       "<p>2209 rows × 9 columns</p>\n",
       "</div>"
      ],
      "text/plain": [
       "          ESTADO  INGRESOS          CASA  PRECIO_DISPOSITIVO  MESES  DURACION  \\\n",
       "1      VINCULADO   8574088  1.745000e+09           2157661.0     23       3.7   \n",
       "2       RETIRADO    795993  9.500000e+07            452809.0     38      16.8   \n",
       "6       RETIRADO   7256758  7.120000e+08           3493707.0     20      14.8   \n",
       "29      RETIRADO   1409067  1.105000e+09            644429.0     55      16.6   \n",
       "31     VINCULADO   7320612  1.548000e+09            284060.0     38      18.2   \n",
       "44      RETIRADO   8763522  7.940000e+08            902864.0     15      15.0   \n",
       "45      RETIRADO   4036032  5.080000e+08           2750512.0     27       2.5   \n",
       "82     VINCULADO   7319634  1.599000e+09           1259835.0     12       2.0   \n",
       "88      RETIRADO   7659140  8.540000e+08           2944507.0     37      18.4   \n",
       "100     RETIRADO   8691926  1.978000e+09           1100248.0     10      15.1   \n",
       "106     RETIRADO   6498680  1.569000e+09           1157466.0     50       2.0   \n",
       "125    VINCULADO    500452  1.120000e+08           1221589.0     13      18.7   \n",
       "131    VINCULADO   1740282  3.820000e+08            268350.0     25      15.6   \n",
       "164     RETIRADO   1254914  2.740000e+08            471106.0     17      16.1   \n",
       "171     RETIRADO   7814631  8.200000e+07            499554.0     15      16.1   \n",
       "198     RETIRADO   7419360  4.240000e+08           3900085.0     19      14.8   \n",
       "205     RETIRADO    560082  1.214000e+09           2725189.0      9      18.4   \n",
       "215    VINCULADO   7171573  6.040000e+08           1634653.0     22       1.9   \n",
       "220    VINCULADO    425986  7.900000e+08            999679.0     37      18.7   \n",
       "237     RETIRADO   6846667  6.110000e+08           1176578.0     16       4.1   \n",
       "244    VINCULADO   6630441  1.421000e+09           3408798.0     31      14.8   \n",
       "251    VINCULADO   8167579  1.948000e+09            393998.0     21       2.0   \n",
       "253     RETIRADO   2917976  2.830000e+08            824481.0      3       3.3   \n",
       "261     RETIRADO   2865342  4.440000e+08            723521.0     48       1.9   \n",
       "268     RETIRADO   2120877  8.200000e+07           1367476.0     22      16.6   \n",
       "274     RETIRADO   3499394  8.160000e+08           1149506.0     60       2.2   \n",
       "279    VINCULADO   7926949  1.903000e+09            977319.0     33       0.0   \n",
       "281    VINCULADO   7925242  6.800000e+08           2361103.0     12      17.8   \n",
       "284     RETIRADO   7147938  6.230000e+08           2112939.0      4      18.6   \n",
       "286    VINCULADO   8503026  1.729000e+09           1355817.0     13       2.2   \n",
       "...          ...       ...           ...                 ...    ...       ...   \n",
       "22870   RETIRADO   1121767  5.810000e+08            213877.0     21      15.5   \n",
       "22874   RETIRADO   7091405  4.200000e+08            291860.0     12       1.9   \n",
       "22882  VINCULADO   7357010  2.050000e+08            708797.0     63       1.4   \n",
       "22915  VINCULADO   8660548  4.420000e+08           2138307.0     15       0.4   \n",
       "22916  VINCULADO    578651  5.250000e+08           2528896.0     62      17.3   \n",
       "22934   RETIRADO   8206369  6.500000e+08            421766.0     22      16.7   \n",
       "22940  VINCULADO   7147431  1.608000e+09            906166.0      0       4.5   \n",
       "22947   RETIRADO   8587999  8.970000e+08            464885.0      0       0.4   \n",
       "22963  VINCULADO   4829745  1.137000e+09           1149210.0     62       2.6   \n",
       "22964   RETIRADO   8023635  3.980000e+08           1801577.0     44      14.8   \n",
       "22968   RETIRADO   7254859  1.322000e+09            665699.0     18      16.6   \n",
       "22970  VINCULADO   6328930  1.860000e+08            465697.0     24      16.2   \n",
       "22973   RETIRADO   6915137  1.041000e+09            872827.0     38      16.9   \n",
       "22978   RETIRADO   8427360  1.801000e+09            395777.0     20       0.4   \n",
       "22980  VINCULADO   7663743  6.410000e+08            992312.0      8      16.6   \n",
       "22989  VINCULADO   8595204  8.800000e+08            589332.0     43      15.5   \n",
       "23009   RETIRADO   7037442  1.659000e+09           1042353.0     18      18.2   \n",
       "23030   RETIRADO   3375942  8.310000e+08            260679.0     27       0.7   \n",
       "23033   RETIRADO    150000  8.080000e+08           1581031.0     24      16.5   \n",
       "23041   RETIRADO   6961032  6.090000e+08           2101462.0     30      13.2   \n",
       "23042  VINCULADO   7955630  6.620000e+08            737602.0     22      15.1   \n",
       "23049  VINCULADO   8578558  2.067000e+09           1602614.0     11      17.9   \n",
       "23068  VINCULADO   4330610  8.860000e+08            594886.0     20       2.2   \n",
       "23082   RETIRADO   2961331  8.220000e+08           3654177.0     55       3.6   \n",
       "23083   RETIRADO    833790  1.650000e+08           1200591.0     65      15.2   \n",
       "23098   RETIRADO   8291908  1.828000e+09            255881.0     26       2.9   \n",
       "23117   RETIRADO   8287662  8.060000e+08            630352.0     27      14.6   \n",
       "23131   RETIRADO    672224  8.200000e+07            991964.0     12      17.0   \n",
       "23150  VINCULADO   8592558  4.960000e+08            898233.0     31       1.0   \n",
       "23156  VINCULADO   2032565  5.770000e+08           3556600.0     43      16.2   \n",
       "\n",
       "       SOBRECARGO  SALDO_RESTANTE  SATISFACCION  \n",
       "1        0.000000            53.5      3.361266  \n",
       "2      350.610224            13.9      8.359438  \n",
       "6      217.322554            69.5      8.285137  \n",
       "29     188.592668             5.8      9.027948  \n",
       "31      31.606283            92.6      2.779810  \n",
       "44      21.277878            56.6      3.330574  \n",
       "45     224.352073            25.6      9.117037  \n",
       "82       0.000000            72.7      1.208224  \n",
       "88     287.722936            80.8      8.163270  \n",
       "100    259.381896            51.1      8.289950  \n",
       "106    325.847932            73.2      8.245965  \n",
       "125      0.000000             0.0      2.559992  \n",
       "131      0.000000            27.3      3.125431  \n",
       "164    295.651303            26.0      9.022812  \n",
       "171    197.760449            59.7      8.347264  \n",
       "198    106.426397            59.3      8.169416  \n",
       "205    135.479783             8.6      8.304915  \n",
       "215      0.000000            70.7      1.398058  \n",
       "220     45.774203            10.4      3.159315  \n",
       "237    244.530792            64.3      9.157133  \n",
       "244    180.492434            63.2      8.991852  \n",
       "251     24.488372            95.2      2.757290  \n",
       "253    382.943357            18.5      7.537220  \n",
       "261    348.036272            15.8      8.242486  \n",
       "268    218.805805            19.3      8.304304  \n",
       "274    222.020878            21.9      8.502669  \n",
       "279     45.768984           103.9      2.941750  \n",
       "281     67.640411            79.2      1.591804  \n",
       "284    154.178605            84.5      7.831342  \n",
       "286     18.243825            79.3      2.799137  \n",
       "...           ...             ...           ...  \n",
       "22870  192.770200            19.8      7.865820  \n",
       "22874  162.088700            67.4      7.832097  \n",
       "22882    0.000000           100.8      2.895299  \n",
       "22915    0.000000            85.0      2.110537  \n",
       "22916   43.674230            12.5      2.387023  \n",
       "22934  333.853900            71.0      8.211674  \n",
       "22940    0.000000            95.3      1.554709  \n",
       "22947  205.059600           120.5      8.095677  \n",
       "22963    0.735571            26.5      2.955354  \n",
       "22964  342.772600            81.6      7.661582  \n",
       "22968  232.721800           112.8      8.281512  \n",
       "22970    0.000000            63.7      1.566127  \n",
       "22973  133.177800           112.5      8.555576  \n",
       "22978  132.452800            60.7      9.068966  \n",
       "22980    7.810196            71.5      1.478909  \n",
       "22989   13.677990            60.8      2.105382  \n",
       "23009  336.125500            56.7      8.177903  \n",
       "23030  210.019200            16.8      8.865585  \n",
       "23033  189.139400            32.3      9.096923  \n",
       "23041  267.821900            80.7      9.073058  \n",
       "23042   17.979350           108.5      2.390845  \n",
       "23049   57.687330            86.1      2.231407  \n",
       "23068   23.493710             5.9      1.637326  \n",
       "23082   97.860910            26.4      8.405691  \n",
       "23083  217.189200            14.8      8.520510  \n",
       "23098  196.476100            72.6      7.369689  \n",
       "23117  110.126300           104.9      8.337101  \n",
       "23131  251.252400            17.1      8.329838  \n",
       "23150   37.265020           100.8      2.700061  \n",
       "23156    9.792493             7.8      1.978885  \n",
       "\n",
       "[2209 rows x 9 columns]"
      ]
     },
     "execution_count": 20,
     "metadata": {},
     "output_type": "execute_result"
    }
   ],
   "source": [
    "deletedData"
   ]
  },
  {
   "cell_type": "markdown",
   "metadata": {},
   "source": [
    "# 3 Tipos de modelos"
   ]
  },
  {
   "cell_type": "markdown",
   "metadata": {},
   "source": [
    "# Protocolo de evalucaion HoldOut\n"
   ]
  },
  {
   "cell_type": "markdown",
   "metadata": {},
   "source": [
    "## Vamos a utilizar el protocolo de evaluacion holdout con un 70% train y 30% test para los 3 modelos a evaluar."
   ]
  },
  {
   "cell_type": "markdown",
   "metadata": {},
   "source": [
    "Para este proyecto vamos a utilizar las metricas  de <b>Kappa global</b>, <b>Accuracy</b> y la <b>Precision</b> que nos permitiran determinar el mejor modelo a seguir. En este caso el <b>Kappa global</b> determinar el mejor modelo que se encuentre por encima del baseline. El <b>Accuracy</b> nos permitira ver la cantidad de predicciones positivas que fueron correctas. Por ultimo la <b>Precision</b> nos dara una vista del porcentaje de casos positivos detectados."
   ]
  },
  {
   "cell_type": "code",
   "execution_count": 21,
   "metadata": {},
   "outputs": [],
   "source": [
    "def transformar(n):\n",
    "  if n==\"VINCULADO\" or n==\"1\" :\n",
    "    return 1\n",
    "  if n==\"RETIRADO\" or n==\"0\":\n",
    "    return 0\n",
    "  return n"
   ]
  },
  {
   "cell_type": "code",
   "execution_count": 22,
   "metadata": {},
   "outputs": [],
   "source": [
    "def transformar2(n):\n",
    "  if n==\"VINCULADO\" or n==\"1\" :\n",
    "    return 1\n",
    "  if n==\"RETIRADO\" or n==\"0\":\n",
    "    return 0\n",
    "  return n"
   ]
  },
  {
   "cell_type": "code",
   "execution_count": 23,
   "metadata": {},
   "outputs": [],
   "source": [
    "data['ESTADO'] = data.applymap(transformar)['ESTADO']"
   ]
  },
  {
   "cell_type": "code",
   "execution_count": 24,
   "metadata": {
    "scrolled": true
   },
   "outputs": [
    {
     "data": {
      "text/html": [
       "<div>\n",
       "<style scoped>\n",
       "    .dataframe tbody tr th:only-of-type {\n",
       "        vertical-align: middle;\n",
       "    }\n",
       "\n",
       "    .dataframe tbody tr th {\n",
       "        vertical-align: top;\n",
       "    }\n",
       "\n",
       "    .dataframe thead th {\n",
       "        text-align: right;\n",
       "    }\n",
       "</style>\n",
       "<table border=\"1\" class=\"dataframe\">\n",
       "  <thead>\n",
       "    <tr style=\"text-align: right;\">\n",
       "      <th></th>\n",
       "      <th>ESTADO</th>\n",
       "      <th>INGRESOS</th>\n",
       "      <th>CASA</th>\n",
       "      <th>PRECIO_DISPOSITIVO</th>\n",
       "      <th>MESES</th>\n",
       "      <th>DURACION</th>\n",
       "      <th>SOBRECARGO</th>\n",
       "      <th>SALDO_RESTANTE</th>\n",
       "      <th>SATISFACCION</th>\n",
       "    </tr>\n",
       "  </thead>\n",
       "  <tbody>\n",
       "    <tr>\n",
       "      <th>0</th>\n",
       "      <td>1</td>\n",
       "      <td>4074840</td>\n",
       "      <td>883000000.0</td>\n",
       "      <td>1444153.0</td>\n",
       "      <td>26</td>\n",
       "      <td>2.3</td>\n",
       "      <td>11.167542</td>\n",
       "      <td>20.3</td>\n",
       "      <td>1.762872</td>\n",
       "    </tr>\n",
       "    <tr>\n",
       "      <th>3</th>\n",
       "      <td>0</td>\n",
       "      <td>8115015</td>\n",
       "      <td>83000000.0</td>\n",
       "      <td>2617184.0</td>\n",
       "      <td>37</td>\n",
       "      <td>17.6</td>\n",
       "      <td>230.913888</td>\n",
       "      <td>45.7</td>\n",
       "      <td>8.964017</td>\n",
       "    </tr>\n",
       "    <tr>\n",
       "      <th>4</th>\n",
       "      <td>0</td>\n",
       "      <td>8187499</td>\n",
       "      <td>677000000.0</td>\n",
       "      <td>666069.0</td>\n",
       "      <td>19</td>\n",
       "      <td>0.0</td>\n",
       "      <td>131.541983</td>\n",
       "      <td>67.2</td>\n",
       "      <td>8.808206</td>\n",
       "    </tr>\n",
       "    <tr>\n",
       "      <th>5</th>\n",
       "      <td>1</td>\n",
       "      <td>7250225</td>\n",
       "      <td>424000000.0</td>\n",
       "      <td>548116.0</td>\n",
       "      <td>19</td>\n",
       "      <td>2.2</td>\n",
       "      <td>0.000000</td>\n",
       "      <td>72.0</td>\n",
       "      <td>1.979549</td>\n",
       "    </tr>\n",
       "    <tr>\n",
       "      <th>7</th>\n",
       "      <td>0</td>\n",
       "      <td>3262245</td>\n",
       "      <td>684000000.0</td>\n",
       "      <td>985708.0</td>\n",
       "      <td>32</td>\n",
       "      <td>1.3</td>\n",
       "      <td>275.595131</td>\n",
       "      <td>19.0</td>\n",
       "      <td>8.040629</td>\n",
       "    </tr>\n",
       "  </tbody>\n",
       "</table>\n",
       "</div>"
      ],
      "text/plain": [
       "   ESTADO  INGRESOS         CASA  PRECIO_DISPOSITIVO  MESES  DURACION  \\\n",
       "0       1   4074840  883000000.0           1444153.0     26       2.3   \n",
       "3       0   8115015   83000000.0           2617184.0     37      17.6   \n",
       "4       0   8187499  677000000.0            666069.0     19       0.0   \n",
       "5       1   7250225  424000000.0            548116.0     19       2.2   \n",
       "7       0   3262245  684000000.0            985708.0     32       1.3   \n",
       "\n",
       "   SOBRECARGO  SALDO_RESTANTE  SATISFACCION  \n",
       "0   11.167542            20.3      1.762872  \n",
       "3  230.913888            45.7      8.964017  \n",
       "4  131.541983            67.2      8.808206  \n",
       "5    0.000000            72.0      1.979549  \n",
       "7  275.595131            19.0      8.040629  "
      ]
     },
     "execution_count": 24,
     "metadata": {},
     "output_type": "execute_result"
    }
   ],
   "source": [
    "data.head(5)"
   ]
  },
  {
   "cell_type": "markdown",
   "metadata": {},
   "source": [
    "# BaseLine"
   ]
  },
  {
   "cell_type": "code",
   "execution_count": 25,
   "metadata": {},
   "outputs": [
    {
     "data": {
      "text/html": [
       "<div>\n",
       "<style scoped>\n",
       "    .dataframe tbody tr th:only-of-type {\n",
       "        vertical-align: middle;\n",
       "    }\n",
       "\n",
       "    .dataframe tbody tr th {\n",
       "        vertical-align: top;\n",
       "    }\n",
       "\n",
       "    .dataframe thead th {\n",
       "        text-align: right;\n",
       "    }\n",
       "</style>\n",
       "<table border=\"1\" class=\"dataframe\">\n",
       "  <thead>\n",
       "    <tr style=\"text-align: right;\">\n",
       "      <th></th>\n",
       "      <th>ESTADO</th>\n",
       "      <th>INGRESOS</th>\n",
       "      <th>CASA</th>\n",
       "      <th>PRECIO_DISPOSITIVO</th>\n",
       "      <th>MESES</th>\n",
       "      <th>DURACION</th>\n",
       "      <th>SOBRECARGO</th>\n",
       "      <th>SALDO_RESTANTE</th>\n",
       "      <th>SATISFACCION</th>\n",
       "    </tr>\n",
       "  </thead>\n",
       "  <tbody>\n",
       "    <tr>\n",
       "      <th>0</th>\n",
       "      <td>1</td>\n",
       "      <td>4074840</td>\n",
       "      <td>883000000.0</td>\n",
       "      <td>1444153.0</td>\n",
       "      <td>26</td>\n",
       "      <td>2.3</td>\n",
       "      <td>11.167542</td>\n",
       "      <td>20.3</td>\n",
       "      <td>1.762872</td>\n",
       "    </tr>\n",
       "    <tr>\n",
       "      <th>3</th>\n",
       "      <td>0</td>\n",
       "      <td>8115015</td>\n",
       "      <td>83000000.0</td>\n",
       "      <td>2617184.0</td>\n",
       "      <td>37</td>\n",
       "      <td>17.6</td>\n",
       "      <td>230.913888</td>\n",
       "      <td>45.7</td>\n",
       "      <td>8.964017</td>\n",
       "    </tr>\n",
       "    <tr>\n",
       "      <th>4</th>\n",
       "      <td>0</td>\n",
       "      <td>8187499</td>\n",
       "      <td>677000000.0</td>\n",
       "      <td>666069.0</td>\n",
       "      <td>19</td>\n",
       "      <td>0.0</td>\n",
       "      <td>131.541983</td>\n",
       "      <td>67.2</td>\n",
       "      <td>8.808206</td>\n",
       "    </tr>\n",
       "    <tr>\n",
       "      <th>5</th>\n",
       "      <td>1</td>\n",
       "      <td>7250225</td>\n",
       "      <td>424000000.0</td>\n",
       "      <td>548116.0</td>\n",
       "      <td>19</td>\n",
       "      <td>2.2</td>\n",
       "      <td>0.000000</td>\n",
       "      <td>72.0</td>\n",
       "      <td>1.979549</td>\n",
       "    </tr>\n",
       "    <tr>\n",
       "      <th>7</th>\n",
       "      <td>0</td>\n",
       "      <td>3262245</td>\n",
       "      <td>684000000.0</td>\n",
       "      <td>985708.0</td>\n",
       "      <td>32</td>\n",
       "      <td>1.3</td>\n",
       "      <td>275.595131</td>\n",
       "      <td>19.0</td>\n",
       "      <td>8.040629</td>\n",
       "    </tr>\n",
       "  </tbody>\n",
       "</table>\n",
       "</div>"
      ],
      "text/plain": [
       "   ESTADO  INGRESOS         CASA  PRECIO_DISPOSITIVO  MESES  DURACION  \\\n",
       "0       1   4074840  883000000.0           1444153.0     26       2.3   \n",
       "3       0   8115015   83000000.0           2617184.0     37      17.6   \n",
       "4       0   8187499  677000000.0            666069.0     19       0.0   \n",
       "5       1   7250225  424000000.0            548116.0     19       2.2   \n",
       "7       0   3262245  684000000.0            985708.0     32       1.3   \n",
       "\n",
       "   SOBRECARGO  SALDO_RESTANTE  SATISFACCION  \n",
       "0   11.167542            20.3      1.762872  \n",
       "3  230.913888            45.7      8.964017  \n",
       "4  131.541983            67.2      8.808206  \n",
       "5    0.000000            72.0      1.979549  \n",
       "7  275.595131            19.0      8.040629  "
      ]
     },
     "execution_count": 25,
     "metadata": {},
     "output_type": "execute_result"
    }
   ],
   "source": [
    "data.head()"
   ]
  },
  {
   "cell_type": "code",
   "execution_count": 26,
   "metadata": {},
   "outputs": [
    {
     "data": {
      "text/plain": [
       "50.13601870853815"
      ]
     },
     "execution_count": 26,
     "metadata": {},
     "output_type": "execute_result"
    },
    {
     "data": {
      "image/png": "[encoded data removed]",
      "text/plain": [
       "<Figure size 432x288 with 1 Axes>"
      ]
     },
     "metadata": {
      "needs_background": "light"
     },
     "output_type": "display_data"
    }
   ],
   "source": [
    "### Baseline\n",
    "ax = sns.countplot(x=\"ESTADO\", data=data)\n",
    "data.ESTADO[data.ESTADO==1].aggregate('count') / data.shape[0] * 100"
   ]
  },
  {
   "cell_type": "markdown",
   "metadata": {},
   "source": [
    "## La probabilidad de que el siguiente cliente sea vinculado, accuracy del baseLine 50.136018%"
   ]
  },
  {
   "cell_type": "markdown",
   "metadata": {},
   "source": [
    "# Holdout del datset"
   ]
  },
  {
   "cell_type": "code",
   "execution_count": 27,
   "metadata": {},
   "outputs": [],
   "source": [
    "data['ESTADO'] = data.applymap(transformar2)['ESTADO']"
   ]
  },
  {
   "cell_type": "code",
   "execution_count": 28,
   "metadata": {
    "scrolled": true
   },
   "outputs": [
    {
     "data": {
      "text/html": [
       "<div>\n",
       "<style scoped>\n",
       "    .dataframe tbody tr th:only-of-type {\n",
       "        vertical-align: middle;\n",
       "    }\n",
       "\n",
       "    .dataframe tbody tr th {\n",
       "        vertical-align: top;\n",
       "    }\n",
       "\n",
       "    .dataframe thead th {\n",
       "        text-align: right;\n",
       "    }\n",
       "</style>\n",
       "<table border=\"1\" class=\"dataframe\">\n",
       "  <thead>\n",
       "    <tr style=\"text-align: right;\">\n",
       "      <th></th>\n",
       "      <th>ESTADO</th>\n",
       "      <th>INGRESOS</th>\n",
       "      <th>CASA</th>\n",
       "      <th>PRECIO_DISPOSITIVO</th>\n",
       "      <th>MESES</th>\n",
       "      <th>DURACION</th>\n",
       "      <th>SOBRECARGO</th>\n",
       "      <th>SALDO_RESTANTE</th>\n",
       "      <th>SATISFACCION</th>\n",
       "    </tr>\n",
       "  </thead>\n",
       "  <tbody>\n",
       "    <tr>\n",
       "      <th>ESTADO</th>\n",
       "      <td>1.000000</td>\n",
       "      <td>-0.002640</td>\n",
       "      <td>-0.000811</td>\n",
       "      <td>0.004680</td>\n",
       "      <td>0.005914</td>\n",
       "      <td>0.003026</td>\n",
       "      <td>-0.733850</td>\n",
       "      <td>-0.003172</td>\n",
       "      <td>-0.799079</td>\n",
       "    </tr>\n",
       "    <tr>\n",
       "      <th>INGRESOS</th>\n",
       "      <td>-0.002640</td>\n",
       "      <td>1.000000</td>\n",
       "      <td>0.376284</td>\n",
       "      <td>-0.002491</td>\n",
       "      <td>-0.007802</td>\n",
       "      <td>-0.162776</td>\n",
       "      <td>0.000992</td>\n",
       "      <td>0.849837</td>\n",
       "      <td>0.004364</td>\n",
       "    </tr>\n",
       "    <tr>\n",
       "      <th>CASA</th>\n",
       "      <td>-0.000811</td>\n",
       "      <td>0.376284</td>\n",
       "      <td>1.000000</td>\n",
       "      <td>0.001979</td>\n",
       "      <td>-0.000172</td>\n",
       "      <td>-0.063783</td>\n",
       "      <td>0.003193</td>\n",
       "      <td>0.324477</td>\n",
       "      <td>0.003523</td>\n",
       "    </tr>\n",
       "    <tr>\n",
       "      <th>PRECIO_DISPOSITIVO</th>\n",
       "      <td>0.004680</td>\n",
       "      <td>-0.002491</td>\n",
       "      <td>0.001979</td>\n",
       "      <td>1.000000</td>\n",
       "      <td>-0.004031</td>\n",
       "      <td>0.012935</td>\n",
       "      <td>0.000949</td>\n",
       "      <td>-0.000027</td>\n",
       "      <td>-0.002261</td>\n",
       "    </tr>\n",
       "    <tr>\n",
       "      <th>MESES</th>\n",
       "      <td>0.005914</td>\n",
       "      <td>-0.007802</td>\n",
       "      <td>-0.000172</td>\n",
       "      <td>-0.004031</td>\n",
       "      <td>1.000000</td>\n",
       "      <td>0.007726</td>\n",
       "      <td>0.002495</td>\n",
       "      <td>-0.007470</td>\n",
       "      <td>-0.000090</td>\n",
       "    </tr>\n",
       "    <tr>\n",
       "      <th>DURACION</th>\n",
       "      <td>0.003026</td>\n",
       "      <td>-0.162776</td>\n",
       "      <td>-0.063783</td>\n",
       "      <td>0.012935</td>\n",
       "      <td>0.007726</td>\n",
       "      <td>1.000000</td>\n",
       "      <td>-0.001173</td>\n",
       "      <td>0.047924</td>\n",
       "      <td>-0.001634</td>\n",
       "    </tr>\n",
       "    <tr>\n",
       "      <th>SOBRECARGO</th>\n",
       "      <td>-0.733850</td>\n",
       "      <td>0.000992</td>\n",
       "      <td>0.003193</td>\n",
       "      <td>0.000949</td>\n",
       "      <td>0.002495</td>\n",
       "      <td>-0.001173</td>\n",
       "      <td>1.000000</td>\n",
       "      <td>0.002620</td>\n",
       "      <td>0.897264</td>\n",
       "    </tr>\n",
       "    <tr>\n",
       "      <th>SALDO_RESTANTE</th>\n",
       "      <td>-0.003172</td>\n",
       "      <td>0.849837</td>\n",
       "      <td>0.324477</td>\n",
       "      <td>-0.000027</td>\n",
       "      <td>-0.007470</td>\n",
       "      <td>0.047924</td>\n",
       "      <td>0.002620</td>\n",
       "      <td>1.000000</td>\n",
       "      <td>0.004455</td>\n",
       "    </tr>\n",
       "    <tr>\n",
       "      <th>SATISFACCION</th>\n",
       "      <td>-0.799079</td>\n",
       "      <td>0.004364</td>\n",
       "      <td>0.003523</td>\n",
       "      <td>-0.002261</td>\n",
       "      <td>-0.000090</td>\n",
       "      <td>-0.001634</td>\n",
       "      <td>0.897264</td>\n",
       "      <td>0.004455</td>\n",
       "      <td>1.000000</td>\n",
       "    </tr>\n",
       "  </tbody>\n",
       "</table>\n",
       "</div>"
      ],
      "text/plain": [
       "                      ESTADO  INGRESOS      CASA  PRECIO_DISPOSITIVO  \\\n",
       "ESTADO              1.000000 -0.002640 -0.000811            0.004680   \n",
       "INGRESOS           -0.002640  1.000000  0.376284           -0.002491   \n",
       "CASA               -0.000811  0.376284  1.000000            0.001979   \n",
       "PRECIO_DISPOSITIVO  0.004680 -0.002491  0.001979            1.000000   \n",
       "MESES               0.005914 -0.007802 -0.000172           -0.004031   \n",
       "DURACION            0.003026 -0.162776 -0.063783            0.012935   \n",
       "SOBRECARGO         -0.733850  0.000992  0.003193            0.000949   \n",
       "SALDO_RESTANTE     -0.003172  0.849837  0.324477           -0.000027   \n",
       "SATISFACCION       -0.799079  0.004364  0.003523           -0.002261   \n",
       "\n",
       "                       MESES  DURACION  SOBRECARGO  SALDO_RESTANTE  \\\n",
       "ESTADO              0.005914  0.003026   -0.733850       -0.003172   \n",
       "INGRESOS           -0.007802 -0.162776    0.000992        0.849837   \n",
       "CASA               -0.000172 -0.063783    0.003193        0.324477   \n",
       "PRECIO_DISPOSITIVO -0.004031  0.012935    0.000949       -0.000027   \n",
       "MESES               1.000000  0.007726    0.002495       -0.007470   \n",
       "DURACION            0.007726  1.000000   -0.001173        0.047924   \n",
       "SOBRECARGO          0.002495 -0.001173    1.000000        0.002620   \n",
       "SALDO_RESTANTE     -0.007470  0.047924    0.002620        1.000000   \n",
       "SATISFACCION       -0.000090 -0.001634    0.897264        0.004455   \n",
       "\n",
       "                    SATISFACCION  \n",
       "ESTADO                 -0.799079  \n",
       "INGRESOS                0.004364  \n",
       "CASA                    0.003523  \n",
       "PRECIO_DISPOSITIVO     -0.002261  \n",
       "MESES                  -0.000090  \n",
       "DURACION               -0.001634  \n",
       "SOBRECARGO              0.897264  \n",
       "SALDO_RESTANTE          0.004455  \n",
       "SATISFACCION            1.000000  "
      ]
     },
     "execution_count": 28,
     "metadata": {},
     "output_type": "execute_result"
    }
   ],
   "source": [
    "data.corr(method=\"pearson\")"
   ]
  },
  {
   "cell_type": "code",
   "execution_count": 29,
   "metadata": {},
   "outputs": [
    {
     "data": {
      "text/plain": [
       "<matplotlib.image.AxesImage at 0x1c825b021d0>"
      ]
     },
     "execution_count": 29,
     "metadata": {},
     "output_type": "execute_result"
    },
    {
     "data": {
      "image/png": "[encoded data removed]",
      "text/plain": [
       "<Figure size 288x288 with 1 Axes>"
      ]
     },
     "metadata": {
      "needs_background": "light"
     },
     "output_type": "display_data"
    }
   ],
   "source": [
    "plt.matshow(data.corr())"
   ]
  },
  {
   "cell_type": "markdown",
   "metadata": {},
   "source": [
    "Encontramos que la variable ESTADO esta fuertemente correlacionada con las variables SOBRECARGO y SATISFACCION.\n",
    "De ahi podemos decir que es necesario aplicar PCA debido a la fuerte correlacion que existe entre las variables, esto permitira tener las variables independientes."
   ]
  },
  {
   "cell_type": "markdown",
   "metadata": {},
   "source": []
  },
  {
   "cell_type": "code",
   "execution_count": 30,
   "metadata": {
    "scrolled": false
   },
   "outputs": [
    {
     "data": {
      "text/html": [
       "<div>\n",
       "<style scoped>\n",
       "    .dataframe tbody tr th:only-of-type {\n",
       "        vertical-align: middle;\n",
       "    }\n",
       "\n",
       "    .dataframe tbody tr th {\n",
       "        vertical-align: top;\n",
       "    }\n",
       "\n",
       "    .dataframe thead th {\n",
       "        text-align: right;\n",
       "    }\n",
       "</style>\n",
       "<table border=\"1\" class=\"dataframe\">\n",
       "  <thead>\n",
       "    <tr style=\"text-align: right;\">\n",
       "      <th></th>\n",
       "      <th>ESTADO</th>\n",
       "      <th>INGRESOS</th>\n",
       "      <th>CASA</th>\n",
       "      <th>PRECIO_DISPOSITIVO</th>\n",
       "      <th>MESES</th>\n",
       "      <th>DURACION</th>\n",
       "      <th>SOBRECARGO</th>\n",
       "      <th>SALDO_RESTANTE</th>\n",
       "      <th>SATISFACCION</th>\n",
       "    </tr>\n",
       "  </thead>\n",
       "  <tbody>\n",
       "    <tr>\n",
       "      <th>0</th>\n",
       "      <td>1</td>\n",
       "      <td>4074840</td>\n",
       "      <td>883000000.0</td>\n",
       "      <td>1444153.0</td>\n",
       "      <td>26</td>\n",
       "      <td>2.3</td>\n",
       "      <td>11.167542</td>\n",
       "      <td>20.3</td>\n",
       "      <td>1.762872</td>\n",
       "    </tr>\n",
       "    <tr>\n",
       "      <th>3</th>\n",
       "      <td>0</td>\n",
       "      <td>8115015</td>\n",
       "      <td>83000000.0</td>\n",
       "      <td>2617184.0</td>\n",
       "      <td>37</td>\n",
       "      <td>17.6</td>\n",
       "      <td>230.913888</td>\n",
       "      <td>45.7</td>\n",
       "      <td>8.964017</td>\n",
       "    </tr>\n",
       "    <tr>\n",
       "      <th>4</th>\n",
       "      <td>0</td>\n",
       "      <td>8187499</td>\n",
       "      <td>677000000.0</td>\n",
       "      <td>666069.0</td>\n",
       "      <td>19</td>\n",
       "      <td>0.0</td>\n",
       "      <td>131.541983</td>\n",
       "      <td>67.2</td>\n",
       "      <td>8.808206</td>\n",
       "    </tr>\n",
       "    <tr>\n",
       "      <th>5</th>\n",
       "      <td>1</td>\n",
       "      <td>7250225</td>\n",
       "      <td>424000000.0</td>\n",
       "      <td>548116.0</td>\n",
       "      <td>19</td>\n",
       "      <td>2.2</td>\n",
       "      <td>0.000000</td>\n",
       "      <td>72.0</td>\n",
       "      <td>1.979549</td>\n",
       "    </tr>\n",
       "    <tr>\n",
       "      <th>7</th>\n",
       "      <td>0</td>\n",
       "      <td>3262245</td>\n",
       "      <td>684000000.0</td>\n",
       "      <td>985708.0</td>\n",
       "      <td>32</td>\n",
       "      <td>1.3</td>\n",
       "      <td>275.595131</td>\n",
       "      <td>19.0</td>\n",
       "      <td>8.040629</td>\n",
       "    </tr>\n",
       "  </tbody>\n",
       "</table>\n",
       "</div>"
      ],
      "text/plain": [
       "   ESTADO  INGRESOS         CASA  PRECIO_DISPOSITIVO  MESES  DURACION  \\\n",
       "0       1   4074840  883000000.0           1444153.0     26       2.3   \n",
       "3       0   8115015   83000000.0           2617184.0     37      17.6   \n",
       "4       0   8187499  677000000.0            666069.0     19       0.0   \n",
       "5       1   7250225  424000000.0            548116.0     19       2.2   \n",
       "7       0   3262245  684000000.0            985708.0     32       1.3   \n",
       "\n",
       "   SOBRECARGO  SALDO_RESTANTE  SATISFACCION  \n",
       "0   11.167542            20.3      1.762872  \n",
       "3  230.913888            45.7      8.964017  \n",
       "4  131.541983            67.2      8.808206  \n",
       "5    0.000000            72.0      1.979549  \n",
       "7  275.595131            19.0      8.040629  "
      ]
     },
     "execution_count": 30,
     "metadata": {},
     "output_type": "execute_result"
    }
   ],
   "source": [
    "data.head()"
   ]
  },
  {
   "cell_type": "code",
   "execution_count": 31,
   "metadata": {},
   "outputs": [],
   "source": [
    "x=data[[\"SOBRECARGO\",\"SATISFACCION\"]].values\n",
    "y=data[[\"ESTADO\"]].values"
   ]
  },
  {
   "cell_type": "code",
   "execution_count": 32,
   "metadata": {},
   "outputs": [],
   "source": [
    "from sklearn.model_selection import train_test_split\n",
    "X_train, X_test, y_train, y_test = train_test_split(x, y, test_size=0.30)"
   ]
  },
  {
   "cell_type": "code",
   "execution_count": 33,
   "metadata": {},
   "outputs": [],
   "source": [
    "from sklearn.preprocessing import StandardScaler\n",
    "scaler = StandardScaler()\n",
    "scaler.fit(X_train)\n",
    "\n",
    "X_train = scaler.transform(X_train)\n",
    "X_test = scaler.transform(X_test)"
   ]
  },
  {
   "cell_type": "markdown",
   "metadata": {},
   "source": [
    "# Modelo KNN"
   ]
  },
  {
   "cell_type": "code",
   "execution_count": 34,
   "metadata": {},
   "outputs": [],
   "source": [
    "from sklearn.neighbors import KNeighborsClassifier\n",
    "from sklearn.metrics import classification_report, confusion_matrix"
   ]
  },
  {
   "cell_type": "markdown",
   "metadata": {},
   "source": [
    "# Holdout"
   ]
  },
  {
   "cell_type": "code",
   "execution_count": 35,
   "metadata": {},
   "outputs": [],
   "source": [
    "X_normalized = preprocessing.normalize(x, norm='l2')\n",
    "X_train, X_test, y_train, y_test = train_test_split(X_normalized, y, test_size=0.3,random_state=12345)"
   ]
  },
  {
   "cell_type": "code",
   "execution_count": 36,
   "metadata": {},
   "outputs": [
    {
     "data": {
      "text/plain": [
       "array([ 1,  4,  7, 10, 13, 16, 19, 22, 25, 28, 31, 34, 37])"
      ]
     },
     "execution_count": 36,
     "metadata": {},
     "output_type": "execute_result"
    }
   ],
   "source": [
    "k_vec= np.arange(1,40,3)\n",
    "k_vec"
   ]
  },
  {
   "cell_type": "code",
   "execution_count": 37,
   "metadata": {},
   "outputs": [
    {
     "name": "stdout",
     "output_type": "stream",
     "text": [
      "------------------------------------------------------------------------\n",
      "1\n",
      "[[2164  993]\n",
      " [ 854 2275]]\n",
      "              precision    recall  f1-score   support\n",
      "\n",
      "           0       0.72      0.69      0.70      3157\n",
      "           1       0.70      0.73      0.71      3129\n",
      "\n",
      "    accuracy                           0.71      6286\n",
      "   macro avg       0.71      0.71      0.71      6286\n",
      "weighted avg       0.71      0.71      0.71      6286\n",
      "\n",
      "------------------------------------------------------------------------\n",
      "------------------------------------------------------------------------\n",
      "4\n",
      "[[2638  519]\n",
      " [ 960 2169]]\n",
      "              precision    recall  f1-score   support\n",
      "\n",
      "           0       0.73      0.84      0.78      3157\n",
      "           1       0.81      0.69      0.75      3129\n",
      "\n",
      "    accuracy                           0.76      6286\n",
      "   macro avg       0.77      0.76      0.76      6286\n",
      "weighted avg       0.77      0.76      0.76      6286\n",
      "\n",
      "------------------------------------------------------------------------\n",
      "------------------------------------------------------------------------\n",
      "7\n",
      "[[2529  628]\n",
      " [ 786 2343]]\n",
      "              precision    recall  f1-score   support\n",
      "\n",
      "           0       0.76      0.80      0.78      3157\n",
      "           1       0.79      0.75      0.77      3129\n",
      "\n",
      "    accuracy                           0.78      6286\n",
      "   macro avg       0.78      0.77      0.77      6286\n",
      "weighted avg       0.78      0.78      0.77      6286\n",
      "\n",
      "------------------------------------------------------------------------\n",
      "------------------------------------------------------------------------\n",
      "10\n",
      "[[2670  487]\n",
      " [ 853 2276]]\n",
      "              precision    recall  f1-score   support\n",
      "\n",
      "           0       0.76      0.85      0.80      3157\n",
      "           1       0.82      0.73      0.77      3129\n",
      "\n",
      "    accuracy                           0.79      6286\n",
      "   macro avg       0.79      0.79      0.79      6286\n",
      "weighted avg       0.79      0.79      0.79      6286\n",
      "\n",
      "------------------------------------------------------------------------\n",
      "------------------------------------------------------------------------\n",
      "13\n",
      "[[2623  534]\n",
      " [ 778 2351]]\n",
      "              precision    recall  f1-score   support\n",
      "\n",
      "           0       0.77      0.83      0.80      3157\n",
      "           1       0.81      0.75      0.78      3129\n",
      "\n",
      "    accuracy                           0.79      6286\n",
      "   macro avg       0.79      0.79      0.79      6286\n",
      "weighted avg       0.79      0.79      0.79      6286\n",
      "\n",
      "------------------------------------------------------------------------\n",
      "------------------------------------------------------------------------\n",
      "16\n",
      "[[2657  500]\n",
      " [ 812 2317]]\n",
      "              precision    recall  f1-score   support\n",
      "\n",
      "           0       0.77      0.84      0.80      3157\n",
      "           1       0.82      0.74      0.78      3129\n",
      "\n",
      "    accuracy                           0.79      6286\n",
      "   macro avg       0.79      0.79      0.79      6286\n",
      "weighted avg       0.79      0.79      0.79      6286\n",
      "\n",
      "------------------------------------------------------------------------\n",
      "------------------------------------------------------------------------\n",
      "19\n",
      "[[2631  526]\n",
      " [ 778 2351]]\n",
      "              precision    recall  f1-score   support\n",
      "\n",
      "           0       0.77      0.83      0.80      3157\n",
      "           1       0.82      0.75      0.78      3129\n",
      "\n",
      "    accuracy                           0.79      6286\n",
      "   macro avg       0.79      0.79      0.79      6286\n",
      "weighted avg       0.79      0.79      0.79      6286\n",
      "\n",
      "------------------------------------------------------------------------\n",
      "------------------------------------------------------------------------\n",
      "22\n",
      "[[2652  505]\n",
      " [ 805 2324]]\n",
      "              precision    recall  f1-score   support\n",
      "\n",
      "           0       0.77      0.84      0.80      3157\n",
      "           1       0.82      0.74      0.78      3129\n",
      "\n",
      "    accuracy                           0.79      6286\n",
      "   macro avg       0.79      0.79      0.79      6286\n",
      "weighted avg       0.79      0.79      0.79      6286\n",
      "\n",
      "------------------------------------------------------------------------\n",
      "------------------------------------------------------------------------\n",
      "25\n",
      "[[2625  532]\n",
      " [ 775 2354]]\n",
      "              precision    recall  f1-score   support\n",
      "\n",
      "           0       0.77      0.83      0.80      3157\n",
      "           1       0.82      0.75      0.78      3129\n",
      "\n",
      "    accuracy                           0.79      6286\n",
      "   macro avg       0.79      0.79      0.79      6286\n",
      "weighted avg       0.79      0.79      0.79      6286\n",
      "\n",
      "------------------------------------------------------------------------\n",
      "------------------------------------------------------------------------\n",
      "28\n",
      "[[2641  516]\n",
      " [ 790 2339]]\n",
      "              precision    recall  f1-score   support\n",
      "\n",
      "           0       0.77      0.84      0.80      3157\n",
      "           1       0.82      0.75      0.78      3129\n",
      "\n",
      "    accuracy                           0.79      6286\n",
      "   macro avg       0.79      0.79      0.79      6286\n",
      "weighted avg       0.79      0.79      0.79      6286\n",
      "\n",
      "------------------------------------------------------------------------\n",
      "------------------------------------------------------------------------\n",
      "31\n",
      "[[2628  529]\n",
      " [ 776 2353]]\n",
      "              precision    recall  f1-score   support\n",
      "\n",
      "           0       0.77      0.83      0.80      3157\n",
      "           1       0.82      0.75      0.78      3129\n",
      "\n",
      "    accuracy                           0.79      6286\n",
      "   macro avg       0.79      0.79      0.79      6286\n",
      "weighted avg       0.79      0.79      0.79      6286\n",
      "\n",
      "------------------------------------------------------------------------\n",
      "------------------------------------------------------------------------\n",
      "34\n",
      "[[2647  510]\n",
      " [ 784 2345]]\n",
      "              precision    recall  f1-score   support\n",
      "\n",
      "           0       0.77      0.84      0.80      3157\n",
      "           1       0.82      0.75      0.78      3129\n",
      "\n",
      "    accuracy                           0.79      6286\n",
      "   macro avg       0.80      0.79      0.79      6286\n",
      "weighted avg       0.80      0.79      0.79      6286\n",
      "\n",
      "------------------------------------------------------------------------\n",
      "------------------------------------------------------------------------\n",
      "37\n",
      "[[2633  524]\n",
      " [ 777 2352]]\n",
      "              precision    recall  f1-score   support\n",
      "\n",
      "           0       0.77      0.83      0.80      3157\n",
      "           1       0.82      0.75      0.78      3129\n",
      "\n",
      "    accuracy                           0.79      6286\n",
      "   macro avg       0.79      0.79      0.79      6286\n",
      "weighted avg       0.79      0.79      0.79      6286\n",
      "\n",
      "------------------------------------------------------------------------\n"
     ]
    }
   ],
   "source": [
    "error_test_vect = []\n",
    "error_train_vect = []\n",
    "kappa_train_vec=[]\n",
    "kappa_test_vec=[]\n",
    "acc_train_vec=[]\n",
    "acc_test_vec=[]\n",
    "Confusion_matrix_vect=[]\n",
    "report_vect=[]\n",
    "\n",
    "for k in k_vec:\n",
    "    knn = neighbors.KNeighborsClassifier(n_neighbors=k)\n",
    "    knn.fit(X_train, y_train)\n",
    "    y_pred = knn.predict(X_train)\n",
    "    error_train_vect.append(metrics.precision_score(y_train, y_pred))\n",
    "    acc_train_vec.append(metrics.accuracy_score(y_train, y_pred))\n",
    "    kappa_train_vec.append(metrics.cohen_kappa_score(y_train, y_pred))\n",
    "    \n",
    "    \n",
    "    \n",
    "    \n",
    "    y_pred = knn.predict(X_test)\n",
    "    acc_test_vec.append(metrics.accuracy_score(y_test, y_pred))\n",
    "    error_test_vect.append(metrics.precision_score(y_test, y_pred))\n",
    "    kappa_test_vec.append(metrics.cohen_kappa_score(y_test, y_pred))\n",
    "    print(\"------------------------------------------------------------------------\")\n",
    "    print(k)\n",
    "    print(confusion_matrix(y_test, y_pred))\n",
    "    print(classification_report(y_test, y_pred))\n",
    "    print(\"------------------------------------------------------------------------\")"
   ]
  },
  {
   "cell_type": "markdown",
   "metadata": {},
   "source": [
    "## Grafica Kappa vs complejidad del modelo K-NN"
   ]
  },
  {
   "cell_type": "code",
   "execution_count": 38,
   "metadata": {
    "scrolled": true
   },
   "outputs": [
    {
     "data": {
      "text/plain": [
       "<matplotlib.legend.Legend at 0x1c825b83da0>"
      ]
     },
     "execution_count": 38,
     "metadata": {},
     "output_type": "execute_result"
    },
    {
     "data": {
      "image/png": "[encoded data removed]",
      "text/plain": [
       "<Figure size 720x360 with 1 Axes>"
      ]
     },
     "metadata": {
      "needs_background": "light"
     },
     "output_type": "display_data"
    }
   ],
   "source": [
    "plt.figure(figsize=(10,5))\n",
    "ax = plt.gca() # get current axis\n",
    "plt.plot(k_vec, kappa_train_vec)\n",
    "plt.plot(k_vec, kappa_test_vec)\n",
    "ax.set_xlim(ax.get_xlim()[::-1])  # reverse axis\n",
    "plt.axis('tight')\n",
    "plt.xlabel('k')\n",
    "plt.ylabel('Kappa')\n",
    "plt.title('Evolución de le kappa vs complejidad del modelo k-nn (valor de k más pequeño)')\n",
    "plt.legend(['train', 'test'])"
   ]
  },
  {
   "cell_type": "markdown",
   "metadata": {},
   "source": [
    "## Grafica exactitud vs complejidad del modelo K-NN"
   ]
  },
  {
   "cell_type": "code",
   "execution_count": 39,
   "metadata": {
    "scrolled": false
   },
   "outputs": [
    {
     "data": {
      "text/plain": [
       "<matplotlib.legend.Legend at 0x1c826bf7be0>"
      ]
     },
     "execution_count": 39,
     "metadata": {},
     "output_type": "execute_result"
    },
    {
     "data": {
      "image/png": "[encoded data removed]",
      "text/plain": [
       "<Figure size 720x360 with 1 Axes>"
      ]
     },
     "metadata": {
      "needs_background": "light"
     },
     "output_type": "display_data"
    }
   ],
   "source": [
    "plt.figure(figsize=(10,5))\n",
    "ax = plt.gca() # get current axis\n",
    "plt.plot(k_vec, acc_train_vec)\n",
    "plt.plot(k_vec, acc_test_vec)\n",
    "ax.set_xlim(ax.get_xlim()[::-1])  # reverse axis\n",
    "plt.axis('tight')\n",
    "plt.xlabel('k')\n",
    "plt.ylabel('accuracy')\n",
    "plt.title('Evolución de le exactitud vs complejidad del modelo k-nn (valor de k más pequeño)')\n",
    "plt.legend(['train', 'test'])"
   ]
  },
  {
   "cell_type": "markdown",
   "metadata": {},
   "source": [
    "## Grafica Precision vs complejidad del modelo K-NN"
   ]
  },
  {
   "cell_type": "code",
   "execution_count": 40,
   "metadata": {
    "scrolled": false
   },
   "outputs": [
    {
     "data": {
      "text/plain": [
       "<matplotlib.legend.Legend at 0x1c826c6ac50>"
      ]
     },
     "execution_count": 40,
     "metadata": {},
     "output_type": "execute_result"
    },
    {
     "data": {
      "image/png": "[encoded data removed]",
      "text/plain": [
       "<Figure size 720x360 with 1 Axes>"
      ]
     },
     "metadata": {
      "needs_background": "light"
     },
     "output_type": "display_data"
    }
   ],
   "source": [
    "plt.figure(figsize=(10,5))\n",
    "ax = plt.gca() # get current axis\n",
    "plt.plot(k_vec, error_test_vect)\n",
    "plt.plot(k_vec, error_train_vect)\n",
    "ax.set_xlim(ax.get_xlim()[::-1])  # reverse axis\n",
    "plt.axis('tight')\n",
    "plt.xlabel('k')\n",
    "plt.ylabel('precison')\n",
    "plt.title('Evolución de la precision vs complejidad del modelo k-nn (valor de k más pequeño)')\n",
    "plt.legend(['train', 'test'])"
   ]
  },
  {
   "cell_type": "markdown",
   "metadata": {},
   "source": [
    "# Modelo Arbol de decision"
   ]
  },
  {
   "cell_type": "code",
   "execution_count": 41,
   "metadata": {},
   "outputs": [],
   "source": [
    "np.random.seed(1234)\n",
    "ctree = tree.DecisionTreeClassifier(\n",
    "    criterion='entropy', # el criterio de particionamiento de un conjunto de datos (gini, entropy)\n",
    "    max_depth=8,      # prepoda: controla la profundidad del árbol (largo máximo de las ramas)\n",
    "    min_samples_split=4, # prepoda: el mínimo número de registros necesarios para crear una nueva rama\n",
    "    min_samples_leaf=2,  # prepoda: el mínimo número de registros en una hoja\n",
    "    random_state=None,   # semilla del generador aleatorio utilizado para \n",
    "    max_leaf_nodes=2, # prepoda: máximo número de nodos hojas\n",
    "    min_impurity_decrease=0.0, # prepoda: umbral mínimo de reducción de la impureza para aceptar la creación de una rama\n",
    "    class_weight=None    # permite asociar pesos a las clases, en el caso de diferencias de importancia entre ellas\n",
    ")"
   ]
  },
  {
   "cell_type": "code",
   "execution_count": 42,
   "metadata": {},
   "outputs": [
    {
     "data": {
      "text/plain": [
       "DecisionTreeClassifier(class_weight=None, criterion='entropy', max_depth=8,\n",
       "                       max_features=None, max_leaf_nodes=2,\n",
       "                       min_impurity_decrease=0.0, min_impurity_split=None,\n",
       "                       min_samples_leaf=2, min_samples_split=4,\n",
       "                       min_weight_fraction_leaf=0.0, presort=False,\n",
       "                       random_state=None, splitter='best')"
      ]
     },
     "execution_count": 42,
     "metadata": {},
     "output_type": "execute_result"
    }
   ],
   "source": [
    "ctree.fit(X_train, y_train)"
   ]
  },
  {
   "cell_type": "code",
   "execution_count": 43,
   "metadata": {
    "scrolled": false
   },
   "outputs": [
    {
     "data": {
      "text/plain": [
       "array([1., 0.])"
      ]
     },
     "execution_count": 43,
     "metadata": {},
     "output_type": "execute_result"
    }
   ],
   "source": [
    "ctree.feature_importances_"
   ]
  },
  {
   "cell_type": "markdown",
   "metadata": {},
   "source": [
    "Evaluacion del modelo"
   ]
  },
  {
   "cell_type": "code",
   "execution_count": 44,
   "metadata": {},
   "outputs": [],
   "source": [
    "y_pred = ctree.predict(X_test)"
   ]
  },
  {
   "cell_type": "code",
   "execution_count": 45,
   "metadata": {},
   "outputs": [
    {
     "data": {
      "image/png": "[encoded data removed]",
      "text/plain": [
       "<Figure size 432x288 with 2 Axes>"
      ]
     },
     "metadata": {
      "needs_background": "light"
     },
     "output_type": "display_data"
    }
   ],
   "source": [
    "cm= metrics.confusion_matrix(y_test, y_pred)\n",
    "plt.imshow(cm, cmap=plt.cm.Blues)\n",
    "plt.title(\"Matriz de confusión\")\n",
    "plt.colorbar()\n",
    "tick_marks = np.arange(2)\n",
    "plt.xticks(tick_marks, y_test)\n",
    "plt.yticks(tick_marks, y_test)\n",
    "plt.show()"
   ]
  },
  {
   "cell_type": "code",
   "execution_count": 46,
   "metadata": {},
   "outputs": [
    {
     "name": "stdout",
     "output_type": "stream",
     "text": [
      "[[2718  439]\n",
      " [ 851 2278]]\n",
      "Exactitud:  0.7947820553611199\n",
      "Kappa    :  0.5893161650790049\n",
      "Precisión     :  0.7999912962529647\n",
      "Recall        :  0.794486029057972\n",
      "Especificidad :  0.8384247331615753\n",
      "F1-score      :  0.7937716281983945\n"
     ]
    }
   ],
   "source": [
    "print(cm)\n",
    "print(\"Exactitud: \", metrics.accuracy_score(y_test, y_pred))\n",
    "print(\"Kappa    : \", metrics.cohen_kappa_score(y_test, y_pred))\n",
    "print(\"Precisión     : \", metrics.precision_score(y_test, y_pred, average='macro'))\n",
    "print(\"Recall        : \", metrics.recall_score(y_test, y_pred, average='macro'))\n",
    "VN = np.sum(cm[1:3,1:3])\n",
    "FP = np.sum(cm[0,1:3])\n",
    "specificity = VN/(VN+FP)\n",
    "print(\"Especificidad : \", specificity)\n",
    "print(\"F1-score      : \", metrics.f1_score(y_test, y_pred, average='macro'))\n"
   ]
  },
  {
   "cell_type": "markdown",
   "metadata": {},
   "source": [
    "## Mejor arbol de decision"
   ]
  },
  {
   "cell_type": "code",
   "execution_count": null,
   "metadata": {},
   "outputs": [],
   "source": [
    "ctree = tree.DecisionTreeClassifier(\n",
    "    criterion='entropy', # el criterio de particionamiento de un conjunto de datos (gini, entropy)\n",
    "    max_depth=8,      # prepoda: controla la profundidad del árbol (largo máximo de las ramas)\n",
    "    min_samples_split=4, # prepoda: el mínimo número de registros necesarios para crear una nueva rama\n",
    "    min_samples_leaf=2,  # prepoda: el mínimo número de registros en una hoja\n",
    "    random_state=None,   # semilla del generador aleatorio utilizado para \n",
    "    max_leaf_nodes=2, # prepoda: máximo número de nodos hojas\n",
    "    min_impurity_decrease=0.0, # prepoda: umbral mínimo de reducción de la impureza para aceptar la creación de una rama\n",
    "    class_weight=None    # permite asociar pesos a las clases, en el caso de diferencias de importancia entre ellas\n",
    ")\n",
    "criterion_vec = ['entropy', 'gini']\n",
    "max_depth_vec = [6, 8, 12, 16]\n",
    "min_samples_split_vec = [4,6,8,12,16,20]\n",
    "min_samples_leaf_vec = [2,4,6,8,10,12]\n",
    "random_state_vec = [None]\n",
    "max_leaf_nodes_vec = [2,4,6,8,10]\n",
    "min_impurity_decrease_vec = [0.0,0.1,0.2,0.4]\n",
    "class_weight_vec=[None]"
   ]
  },
  {
   "cell_type": "code",
   "execution_count": null,
   "metadata": {},
   "outputs": [],
   "source": [
    "import time\n",
    "start = time.time() # Devuelve el tiempo actual en segundos desde el 1o de enero de 1970 (punto de referencia)\n",
    "\n",
    "np.random.seed(1234)\n",
    "parametros = {'criterion': criterion_vec,\n",
    "              'max_depth':max_depth_vec,\n",
    "              'min_samples_split': min_samples_split_vec,\n",
    "              'min_samples_leaf': min_samples_leaf_vec,\n",
    "              'random_state': random_state_vec,\n",
    "              'max_leaf_nodes': max_leaf_nodes_vec,\n",
    "              'min_impurity_decrease': min_impurity_decrease_vec,\n",
    "              'class_weight': class_weight_vec\n",
    "              }\n",
    "scoring = {'kappa':make_scorer(cohen_kappa_score), 'accuracy':'accuracy'}\n",
    "grid = GridSearchCV(ctree, param_grid=parametros, cv=5, scoring=scoring, refit='accuracy', n_jobs=-1, iid=True)"
   ]
  },
  {
   "cell_type": "code",
   "execution_count": null,
   "metadata": {},
   "outputs": [],
   "source": [
    "grid.fit(X_train, y_train)\n",
    "\n",
    "print(\"Los parámetros del mejor modelo fueron {0}, que permiten obtener un Accuracy de {1:.2f}% y un Kappa del {2:.2f}\".format(\n",
    "    grid.best_params_, grid.best_score_*100, grid.cv_results_['mean_test_kappa'][grid.best_index_]*100))\n",
    "end = time.time() # Tiempo después de finalizar el entrenamiento del modelo\n",
    "print(\"Tiempo total: {0:.2f} minutos\".format((end-start)/60))"
   ]
  },
  {
   "cell_type": "code",
   "execution_count": null,
   "metadata": {},
   "outputs": [],
   "source": [
    "df = pd.DataFrame([(acc*100, kappa*100) for (acc, kappa) in \n",
    "                   zip( \n",
    "                       grid.cv_results_['mean_test_accuracy'], \n",
    "                       grid.cv_results_['mean_test_kappa'],\n",
    "                      )\n",
    "                   ], columns = ('Accuracy', 'Kappa'))"
   ]
  },
  {
   "cell_type": "code",
   "execution_count": null,
   "metadata": {},
   "outputs": [],
   "source": [
    "df.iloc[np.argsort(-df.Accuracy),]"
   ]
  },
  {
   "cell_type": "code",
   "execution_count": null,
   "metadata": {},
   "outputs": [],
   "source": [
    "df = pd.DataFrame([(act, hidden_layers, lr, max_iter, acc*100, kappa*100) for (act, hidden_layers, lr, max_iter, acc, kappa) in \n",
    "                   zip(\n",
    "                       grid.cv_results_['param_activation'], \n",
    "                       grid.cv_results_['param_hidden_layer_sizes'], \n",
    "                       grid.cv_results_['param_learning_rate_init'], \n",
    "                       grid.cv_results_['param_max_iter'], \n",
    "                       grid.cv_results_['mean_test_accuracy'], \n",
    "                       grid.cv_results_['mean_test_kappa'],\n",
    "                      )\n",
    "                   ], columns = ('Activation', 'HiddenLayers', 'LearningRate', 'MaxIter', 'Accuracy', 'Kappa'))"
   ]
  },
  {
   "cell_type": "code",
   "execution_count": null,
   "metadata": {},
   "outputs": [],
   "source": [
    "df.iloc[np.argsort(-df.Accuracy),].head(20)"
   ]
  },
  {
   "cell_type": "markdown",
   "metadata": {},
   "source": [
    "# Red Neuronal"
   ]
  },
  {
   "cell_type": "code",
   "execution_count": 47,
   "metadata": {},
   "outputs": [],
   "source": [
    "X_normalized = preprocessing.normalize(x, norm='l2')\n",
    "X_train, X_test, y_train, y_test = train_test_split(X_normalized, y, test_size=0.3,random_state=12345)"
   ]
  },
  {
   "cell_type": "code",
   "execution_count": 48,
   "metadata": {
    "scrolled": true
   },
   "outputs": [
    {
     "name": "stdout",
     "output_type": "stream",
     "text": [
      "(14667, 2)\n",
      "(6286, 2)\n"
     ]
    }
   ],
   "source": [
    "print(X_train.shape); print(X_test.shape)"
   ]
  },
  {
   "cell_type": "code",
   "execution_count": 49,
   "metadata": {},
   "outputs": [],
   "source": [
    "activation_vec = ['logistic', 'relu', 'tanh']\n",
    "max_iter_vec = [10, 20, 50, 75, 100, 200, 300, 400, 500, 1000, 2000]\n",
    "hidden_layer_sizes_vec = [(10,), (20,), (30,), (10, 10), (20, 20), (30, 30), (20, 10), (30, 20, 10)]\n",
    "learning_rate_init_vec = [0.001, 0.002, 0.003, 0.004, 0.005, 0.006, 0.007, 0.008, 0.009, 0.01, 0.02, 0.03, 0.04, 0.05]"
   ]
  },
  {
   "cell_type": "code",
   "execution_count": 50,
   "metadata": {},
   "outputs": [],
   "source": [
    "mlp = MLPClassifier(hidden_layer_sizes=(30,30,30))"
   ]
  },
  {
   "cell_type": "markdown",
   "metadata": {},
   "source": [
    "### Activation"
   ]
  },
  {
   "cell_type": "code",
   "execution_count": 51,
   "metadata": {},
   "outputs": [],
   "source": [
    "import time\n",
    "from sklearn.metrics import make_scorer \n",
    "from sklearn.metrics import accuracy_score, cohen_kappa_score, classification_report\n",
    "from sklearn.model_selection import GridSearchCV\n",
    "\n",
    "start = time.time() # Devuelve el tiempo actual en segundos desde el 1o de enero de 1970 (punto de referencia)\n",
    "\n",
    "np.random.seed(1234)\n",
    "parametros = {'activation': activation_vec\n",
    "              }\n",
    "scoring = {'kappa':make_scorer(cohen_kappa_score), 'accuracy':'accuracy'}\n",
    "grid = GridSearchCV(mlp, param_grid=parametros, cv=5, scoring=scoring, refit='accuracy', n_jobs=-1, iid=True)"
   ]
  },
  {
   "cell_type": "code",
   "execution_count": 52,
   "metadata": {},
   "outputs": [
    {
     "name": "stdout",
     "output_type": "stream",
     "text": [
      "Los parámetros del mejor modelo fueron {'activation': 'tanh'}, que permiten obtener un Accuracy de 79.25% y un Kappa del 58.53%\n",
      "Tiempo total: 0.38 minutos\n"
     ]
    }
   ],
   "source": [
    "grid.fit(X_train, y_train)\n",
    "\n",
    "print(\"Los parámetros del mejor modelo fueron {0}, que permiten obtener un Accuracy de {1:.2f}% y un Kappa del {2:.2f}%\".format(\n",
    "    grid.best_params_, grid.best_score_*100, grid.cv_results_['mean_test_kappa'][grid.best_index_]*100))\n",
    "end = time.time() # Tiempo después de finalizar el entrenamiento del modelo\n",
    "print(\"Tiempo total: {0:.2f} minutos\".format((end-start)/60))"
   ]
  },
  {
   "cell_type": "code",
   "execution_count": 53,
   "metadata": {},
   "outputs": [],
   "source": [
    "df = pd.DataFrame([(activation, acc*100, kappa*100) for (activation, acc, kappa) in \n",
    "                   zip(activation_vec, \n",
    "                       grid.cv_results_['mean_test_accuracy'], \n",
    "                       grid.cv_results_['mean_test_kappa'],\n",
    "                      )\n",
    "                   ], columns = ('activation', 'Accuracy', 'Kappa'))"
   ]
  },
  {
   "cell_type": "code",
   "execution_count": 54,
   "metadata": {},
   "outputs": [
    {
     "data": {
      "text/html": [
       "<div>\n",
       "<style scoped>\n",
       "    .dataframe tbody tr th:only-of-type {\n",
       "        vertical-align: middle;\n",
       "    }\n",
       "\n",
       "    .dataframe tbody tr th {\n",
       "        vertical-align: top;\n",
       "    }\n",
       "\n",
       "    .dataframe thead th {\n",
       "        text-align: right;\n",
       "    }\n",
       "</style>\n",
       "<table border=\"1\" class=\"dataframe\">\n",
       "  <thead>\n",
       "    <tr style=\"text-align: right;\">\n",
       "      <th></th>\n",
       "      <th>activation</th>\n",
       "      <th>Accuracy</th>\n",
       "      <th>Kappa</th>\n",
       "    </tr>\n",
       "  </thead>\n",
       "  <tbody>\n",
       "    <tr>\n",
       "      <th>0</th>\n",
       "      <td>logistic</td>\n",
       "      <td>79.198200</td>\n",
       "      <td>58.422029</td>\n",
       "    </tr>\n",
       "    <tr>\n",
       "      <th>1</th>\n",
       "      <td>relu</td>\n",
       "      <td>79.232290</td>\n",
       "      <td>58.489414</td>\n",
       "    </tr>\n",
       "    <tr>\n",
       "      <th>2</th>\n",
       "      <td>tanh</td>\n",
       "      <td>79.252744</td>\n",
       "      <td>58.532143</td>\n",
       "    </tr>\n",
       "  </tbody>\n",
       "</table>\n",
       "</div>"
      ],
      "text/plain": [
       "  activation   Accuracy      Kappa\n",
       "0   logistic  79.198200  58.422029\n",
       "1       relu  79.232290  58.489414\n",
       "2       tanh  79.252744  58.532143"
      ]
     },
     "execution_count": 54,
     "metadata": {},
     "output_type": "execute_result"
    }
   ],
   "source": [
    "df"
   ]
  },
  {
   "cell_type": "code",
   "execution_count": 55,
   "metadata": {
    "scrolled": true
   },
   "outputs": [
    {
     "name": "stdout",
     "output_type": "stream",
     "text": [
      "Accuracy: 0.7957365574292078 , Kappa: 0.5913248434282392 \n",
      "\n",
      "              precision    recall  f1-score   support\n",
      "\n",
      "           0       0.78      0.83      0.80      3157\n",
      "           1       0.82      0.76      0.79      3129\n",
      "\n",
      "    accuracy                           0.80      6286\n",
      "   macro avg       0.80      0.80      0.80      6286\n",
      "weighted avg       0.80      0.80      0.80      6286\n",
      "\n"
     ]
    }
   ],
   "source": [
    "y_pred = grid.best_estimator_.predict(X_test)\n",
    "print(\"Accuracy:\", accuracy_score(y_test, y_pred), \", Kappa:\", cohen_kappa_score(y_test, y_pred), \"\\n\")\n",
    "print(classification_report(y_test, y_pred))"
   ]
  },
  {
   "cell_type": "markdown",
   "metadata": {},
   "source": [
    "### max_iter"
   ]
  },
  {
   "cell_type": "code",
   "execution_count": 56,
   "metadata": {},
   "outputs": [],
   "source": [
    "import time\n",
    "start = time.time() # Devuelve el tiempo actual en segundos desde el 1o de enero de 1970 (punto de referencia)\n",
    "\n",
    "np.random.seed(1234)\n",
    "parametros = {'max_iter':max_iter_vec\n",
    "              }\n",
    "scoring = {'kappa':make_scorer(cohen_kappa_score), 'accuracy':'accuracy'}\n",
    "grid = GridSearchCV(mlp, param_grid=parametros, cv=5, scoring=scoring, refit='accuracy', n_jobs=-1, iid=True)"
   ]
  },
  {
   "cell_type": "code",
   "execution_count": 57,
   "metadata": {},
   "outputs": [
    {
     "name": "stdout",
     "output_type": "stream",
     "text": [
      "Los parámetros del mejor modelo fueron {'max_iter': 400}, que permiten obtener un Accuracy de 79.36% y un Kappa del 58.75\n",
      "Tiempo total: 0.70 minutos\n"
     ]
    }
   ],
   "source": [
    "grid.fit(X_train, y_train)\n",
    "\n",
    "print(\"Los parámetros del mejor modelo fueron {0}, que permiten obtener un Accuracy de {1:.2f}% y un Kappa del {2:.2f}\".format(\n",
    "    grid.best_params_, grid.best_score_*100, grid.cv_results_['mean_test_kappa'][grid.best_index_]*100))\n",
    "end = time.time() # Tiempo después de finalizar el entrenamiento del modelo\n",
    "print(\"Tiempo total: {0:.2f} minutos\".format((end-start)/60))"
   ]
  },
  {
   "cell_type": "code",
   "execution_count": 58,
   "metadata": {},
   "outputs": [],
   "source": [
    "df = pd.DataFrame([(max_iter, acc*100, kappa*100) for (max_iter, acc, kappa) in \n",
    "                   zip(max_iter_vec, \n",
    "                       grid.cv_results_['mean_test_accuracy'], \n",
    "                       grid.cv_results_['mean_test_kappa'],\n",
    "                      )\n",
    "                   ], columns = ('max_iter', 'Accuracy', 'Kappa'))"
   ]
  },
  {
   "cell_type": "code",
   "execution_count": 59,
   "metadata": {},
   "outputs": [
    {
     "data": {
      "image/png": "[encoded data removed]",
      "text/plain": [
       "<Figure size 576x432 with 1 Axes>"
      ]
     },
     "metadata": {
      "needs_background": "light"
     },
     "output_type": "display_data"
    }
   ],
   "source": [
    "plt.figure(figsize=(8,6))\n",
    "ax = plt.gca() # get current axis\n",
    "plt.plot(df.max_iter, df.Accuracy)\n",
    "plt.xlabel('max_iter')\n",
    "plt.ylabel('Accuracy')\n",
    "plt.title('Evolución del Accuracy en función de max_iter')\n",
    "plt.show()"
   ]
  },
  {
   "cell_type": "code",
   "execution_count": 60,
   "metadata": {},
   "outputs": [
    {
     "name": "stdout",
     "output_type": "stream",
     "text": [
      "Accuracy: 0.7951002227171492 , Kappa: 0.5900854189540625 \n",
      "\n",
      "              precision    recall  f1-score   support\n",
      "\n",
      "           0       0.78      0.83      0.80      3157\n",
      "           1       0.81      0.76      0.79      3129\n",
      "\n",
      "    accuracy                           0.80      6286\n",
      "   macro avg       0.80      0.79      0.79      6286\n",
      "weighted avg       0.80      0.80      0.79      6286\n",
      "\n"
     ]
    }
   ],
   "source": [
    "y_pred = grid.best_estimator_.predict(X_test)\n",
    "print(\"Accuracy:\", accuracy_score(y_test, y_pred), \", Kappa:\", cohen_kappa_score(y_test, y_pred), \"\\n\")\n",
    "print(classification_report(y_test, y_pred))"
   ]
  },
  {
   "cell_type": "markdown",
   "metadata": {},
   "source": [
    "### hidden_layer_sizes"
   ]
  },
  {
   "cell_type": "code",
   "execution_count": 61,
   "metadata": {},
   "outputs": [],
   "source": [
    "import time\n",
    "start = time.time() # Devuelve el tiempo actual en segundos desde el 1o de enero de 1970 (punto de referencia)\n",
    "\n",
    "np.random.seed(1234)\n",
    "parametros = {'hidden_layer_sizes':hidden_layer_sizes_vec\n",
    "              }\n",
    "scoring = {'kappa':make_scorer(cohen_kappa_score), 'accuracy':'accuracy'}\n",
    "grid = GridSearchCV(mlp, param_grid=parametros, cv=5, scoring=scoring, refit='accuracy', n_jobs=-1, iid=True)"
   ]
  },
  {
   "cell_type": "code",
   "execution_count": 62,
   "metadata": {},
   "outputs": [
    {
     "name": "stdout",
     "output_type": "stream",
     "text": [
      "Los parámetros del mejor modelo fueron {'hidden_layer_sizes': (30, 30)}, que permiten obtener un Accuracy de 79.40% y un Kappa del 58.82\n",
      "Tiempo total: 0.58 minutos\n"
     ]
    }
   ],
   "source": [
    "grid.fit(X_train, y_train)\n",
    "\n",
    "print(\"Los parámetros del mejor modelo fueron {0}, que permiten obtener un Accuracy de {1:.2f}% y un Kappa del {2:.2f}\".format(\n",
    "    grid.best_params_, grid.best_score_*100, grid.cv_results_['mean_test_kappa'][grid.best_index_]*100))\n",
    "end = time.time() # Tiempo después de finalizar el entrenamiento del modelo\n",
    "print(\"Tiempo total: {0:.2f} minutos\".format((end-start)/60))"
   ]
  },
  {
   "cell_type": "code",
   "execution_count": 63,
   "metadata": {},
   "outputs": [],
   "source": [
    "df = pd.DataFrame([(hidden_layer_sizes, acc*100, kappa*100) for (hidden_layer_sizes, acc, kappa) in \n",
    "                   zip(hidden_layer_sizes_vec, \n",
    "                       grid.cv_results_['mean_test_accuracy'], \n",
    "                       grid.cv_results_['mean_test_kappa'],\n",
    "                      )\n",
    "                   ], columns = ('hidden_layer_sizes', 'Accuracy', 'Kappa'))"
   ]
  },
  {
   "cell_type": "code",
   "execution_count": 64,
   "metadata": {},
   "outputs": [
    {
     "data": {
      "text/html": [
       "<div>\n",
       "<style scoped>\n",
       "    .dataframe tbody tr th:only-of-type {\n",
       "        vertical-align: middle;\n",
       "    }\n",
       "\n",
       "    .dataframe tbody tr th {\n",
       "        vertical-align: top;\n",
       "    }\n",
       "\n",
       "    .dataframe thead th {\n",
       "        text-align: right;\n",
       "    }\n",
       "</style>\n",
       "<table border=\"1\" class=\"dataframe\">\n",
       "  <thead>\n",
       "    <tr style=\"text-align: right;\">\n",
       "      <th></th>\n",
       "      <th>hidden_layer_sizes</th>\n",
       "      <th>Accuracy</th>\n",
       "      <th>Kappa</th>\n",
       "    </tr>\n",
       "  </thead>\n",
       "  <tbody>\n",
       "    <tr>\n",
       "      <th>0</th>\n",
       "      <td>(10,)</td>\n",
       "      <td>79.266380</td>\n",
       "      <td>58.564720</td>\n",
       "    </tr>\n",
       "    <tr>\n",
       "      <th>1</th>\n",
       "      <td>(20,)</td>\n",
       "      <td>79.314106</td>\n",
       "      <td>58.658432</td>\n",
       "    </tr>\n",
       "    <tr>\n",
       "      <th>2</th>\n",
       "      <td>(30,)</td>\n",
       "      <td>79.245926</td>\n",
       "      <td>58.520061</td>\n",
       "    </tr>\n",
       "    <tr>\n",
       "      <th>3</th>\n",
       "      <td>(10, 10)</td>\n",
       "      <td>79.177746</td>\n",
       "      <td>58.386583</td>\n",
       "    </tr>\n",
       "    <tr>\n",
       "      <th>4</th>\n",
       "      <td>(20, 20)</td>\n",
       "      <td>79.307288</td>\n",
       "      <td>58.645874</td>\n",
       "    </tr>\n",
       "    <tr>\n",
       "      <th>5</th>\n",
       "      <td>(30, 30)</td>\n",
       "      <td>79.395923</td>\n",
       "      <td>58.819098</td>\n",
       "    </tr>\n",
       "    <tr>\n",
       "      <th>6</th>\n",
       "      <td>(20, 10)</td>\n",
       "      <td>79.164110</td>\n",
       "      <td>58.354628</td>\n",
       "    </tr>\n",
       "    <tr>\n",
       "      <th>7</th>\n",
       "      <td>(30, 20, 10)</td>\n",
       "      <td>79.307288</td>\n",
       "      <td>58.637334</td>\n",
       "    </tr>\n",
       "  </tbody>\n",
       "</table>\n",
       "</div>"
      ],
      "text/plain": [
       "  hidden_layer_sizes   Accuracy      Kappa\n",
       "0              (10,)  79.266380  58.564720\n",
       "1              (20,)  79.314106  58.658432\n",
       "2              (30,)  79.245926  58.520061\n",
       "3           (10, 10)  79.177746  58.386583\n",
       "4           (20, 20)  79.307288  58.645874\n",
       "5           (30, 30)  79.395923  58.819098\n",
       "6           (20, 10)  79.164110  58.354628\n",
       "7       (30, 20, 10)  79.307288  58.637334"
      ]
     },
     "execution_count": 64,
     "metadata": {},
     "output_type": "execute_result"
    }
   ],
   "source": [
    "df"
   ]
  },
  {
   "cell_type": "code",
   "execution_count": 65,
   "metadata": {},
   "outputs": [
    {
     "name": "stdout",
     "output_type": "stream",
     "text": [
      "Accuracy: 0.7971683105313395 , Kappa: 0.5941266677868551 \n",
      "\n",
      "              precision    recall  f1-score   support\n",
      "\n",
      "           0       0.77      0.85      0.81      3157\n",
      "           1       0.83      0.74      0.78      3129\n",
      "\n",
      "    accuracy                           0.80      6286\n",
      "   macro avg       0.80      0.80      0.80      6286\n",
      "weighted avg       0.80      0.80      0.80      6286\n",
      "\n"
     ]
    }
   ],
   "source": [
    "y_pred = grid.best_estimator_.predict(X_test)\n",
    "print(\"Accuracy:\", accuracy_score(y_test, y_pred), \", Kappa:\", cohen_kappa_score(y_test, y_pred), \"\\n\")\n",
    "print(classification_report(y_test, y_pred))"
   ]
  },
  {
   "cell_type": "markdown",
   "metadata": {},
   "source": [
    "### learning_rate_init"
   ]
  },
  {
   "cell_type": "code",
   "execution_count": 66,
   "metadata": {},
   "outputs": [],
   "source": [
    "import time\n",
    "start = time.time() # Devuelve el tiempo actual en segundos desde el 1o de enero de 1970 (punto de referencia)\n",
    "\n",
    "np.random.seed(1234)\n",
    "parametros = {'learning_rate_init':learning_rate_init_vec\n",
    "              }\n",
    "scoring = {'kappa':make_scorer(cohen_kappa_score), 'accuracy':'accuracy'}\n",
    "grid = GridSearchCV(mlp, param_grid=parametros, cv=5, scoring=scoring, refit='accuracy', n_jobs=-1, iid=True)"
   ]
  },
  {
   "cell_type": "code",
   "execution_count": 67,
   "metadata": {},
   "outputs": [
    {
     "name": "stdout",
     "output_type": "stream",
     "text": [
      "Los parámetros del mejor modelo fueron {'learning_rate_init': 0.006}, que permiten obtener un Accuracy de 79.33% y un Kappa del 58.68\n",
      "Tiempo total: 0.78 minutos\n"
     ]
    }
   ],
   "source": [
    "grid.fit(X_train, y_train)\n",
    "\n",
    "print(\"Los parámetros del mejor modelo fueron {0}, que permiten obtener un Accuracy de {1:.2f}% y un Kappa del {2:.2f}\".format(\n",
    "    grid.best_params_, grid.best_score_*100, grid.cv_results_['mean_test_kappa'][grid.best_index_]*100))\n",
    "end = time.time() # Tiempo después de finalizar el entrenamiento del modelo\n",
    "print(\"Tiempo total: {0:.2f} minutos\".format((end-start)/60))"
   ]
  },
  {
   "cell_type": "code",
   "execution_count": 68,
   "metadata": {},
   "outputs": [],
   "source": [
    "df = pd.DataFrame([(learning_rate_init, acc*100, kappa*100) for (learning_rate_init, acc, kappa) in \n",
    "                   zip(learning_rate_init_vec, \n",
    "                       grid.cv_results_['mean_test_accuracy'], \n",
    "                       grid.cv_results_['mean_test_kappa'],\n",
    "                      )\n",
    "                   ], columns = ('learning_rate_init', 'Accuracy', 'Kappa'))"
   ]
  },
  {
   "cell_type": "code",
   "execution_count": 69,
   "metadata": {},
   "outputs": [
    {
     "data": {
      "image/png": "[encoded data removed]",
      "text/plain": [
       "<Figure size 576x432 with 1 Axes>"
      ]
     },
     "metadata": {
      "needs_background": "light"
     },
     "output_type": "display_data"
    }
   ],
   "source": [
    "plt.figure(figsize=(8,6))\n",
    "ax = plt.gca() # get current axis\n",
    "plt.plot(df.learning_rate_init, df.Accuracy)\n",
    "plt.xlabel('learning_rate_init')\n",
    "plt.ylabel('Accuracy')\n",
    "plt.title('Evolución del Accuracy en función de learning_rate_init')\n",
    "plt.show()"
   ]
  },
  {
   "cell_type": "code",
   "execution_count": 70,
   "metadata": {},
   "outputs": [
    {
     "name": "stdout",
     "output_type": "stream",
     "text": [
      "Accuracy: 0.7949411390391345 , Kappa: 0.5897572756006088 \n",
      "\n",
      "              precision    recall  f1-score   support\n",
      "\n",
      "           0       0.78      0.83      0.80      3157\n",
      "           1       0.81      0.76      0.79      3129\n",
      "\n",
      "    accuracy                           0.79      6286\n",
      "   macro avg       0.80      0.79      0.79      6286\n",
      "weighted avg       0.80      0.79      0.79      6286\n",
      "\n"
     ]
    }
   ],
   "source": [
    "y_pred = grid.best_estimator_.predict(X_test)\n",
    "print(\"Accuracy:\", accuracy_score(y_test, y_pred), \", Kappa:\", cohen_kappa_score(y_test, y_pred), \"\\n\")\n",
    "print(classification_report(y_test, y_pred))"
   ]
  },
  {
   "cell_type": "code",
   "execution_count": 71,
   "metadata": {},
   "outputs": [
    {
     "name": "stdout",
     "output_type": "stream",
     "text": [
      "Accuracy: 0.7949411390391345 , Kappa: 0.5897572756006088 \n",
      "\n",
      "              precision    recall  f1-score   support\n",
      "\n",
      "           0       0.78      0.83      0.80      3157\n",
      "           1       0.81      0.76      0.79      3129\n",
      "\n",
      "    accuracy                           0.79      6286\n",
      "   macro avg       0.80      0.79      0.79      6286\n",
      "weighted avg       0.80      0.79      0.79      6286\n",
      "\n"
     ]
    }
   ],
   "source": [
    "y_pred = grid.best_estimator_.predict(X_test)\n",
    "print(\"Accuracy:\", accuracy_score(y_test, y_pred), \", Kappa:\", cohen_kappa_score(y_test, y_pred), \"\\n\")\n",
    "print(classification_report(y_test, y_pred))"
   ]
  },
  {
   "cell_type": "markdown",
   "metadata": {},
   "source": [
    "# Mejor red neuronal"
   ]
  },
  {
   "cell_type": "code",
   "execution_count": 72,
   "metadata": {},
   "outputs": [
    {
     "data": {
      "text/plain": [
       "MLPClassifier(activation='tanh', alpha=0.0001, batch_size='auto', beta_1=0.9,\n",
       "              beta_2=0.999, early_stopping=False, epsilon=1e-08,\n",
       "              hidden_layer_sizes=(10,), learning_rate='constant',\n",
       "              learning_rate_init=0.005, max_iter=100, momentum=0.9,\n",
       "              n_iter_no_change=10, nesterovs_momentum=True, power_t=0.5,\n",
       "              random_state=None, shuffle=True, solver='adam', tol=0.0001,\n",
       "              validation_fraction=0.1, verbose=False, warm_start=False)"
      ]
     },
     "execution_count": 72,
     "metadata": {},
     "output_type": "execute_result"
    }
   ],
   "source": [
    "mlp = MLPClassifier(hidden_layer_sizes=(10,),learning_rate_init=0.005, activation='tanh', solver='adam', max_iter=100)\n",
    "mlp.fit(X_train,y_train)"
   ]
  },
  {
   "cell_type": "code",
   "execution_count": 73,
   "metadata": {
    "scrolled": false
   },
   "outputs": [
    {
     "name": "stdout",
     "output_type": "stream",
     "text": [
      "Matris de confusion\n",
      "[[2613  544]\n",
      " [ 745 2384]]\n",
      "Accuracy: 0.7949411390391345 , Kappa: 0.5897572756006088 \n",
      "\n",
      "              precision    recall  f1-score   support\n",
      "\n",
      "           0       0.78      0.83      0.80      3157\n",
      "           1       0.81      0.76      0.79      3129\n",
      "\n",
      "    accuracy                           0.79      6286\n",
      "   macro avg       0.80      0.79      0.79      6286\n",
      "weighted avg       0.80      0.79      0.79      6286\n",
      "\n"
     ]
    }
   ],
   "source": [
    "y_pred = grid.best_estimator_.predict(X_test)\n",
    "print(\"Matris de confusion\")\n",
    "print(confusion_matrix(y_test, y_pred))\n",
    "print(\"Accuracy:\", accuracy_score(y_test, y_pred), \", Kappa:\", cohen_kappa_score(y_test, y_pred), \"\\n\")\n",
    "print(classification_report(y_test, y_pred))"
   ]
  },
  {
   "cell_type": "code",
   "execution_count": 74,
   "metadata": {},
   "outputs": [],
   "source": [
    "activation_vec = ['logistic', 'relu', 'tanh']\n",
    "max_iter_vec = [10, 20, 50, 75, 100, 200, 300, 400, 500, 1000, 2000]\n",
    "hidden_layer_sizes_vec = [(10,), (20,), (30,), (10, 10), (20, 20), (30, 30), (20, 10), \n",
    "                          (10, 10, 10), (20, 20, 20), (30, 30, 30), (30, 20, 10)]\n",
    "learning_rate_init_vec = [0.001, 0.002, 0.003, 0.004, 0.005, 0.006, 0.007, 0.008, 0.009, 0.01, 0.02]"
   ]
  },
  {
   "cell_type": "code",
   "execution_count": 75,
   "metadata": {},
   "outputs": [],
   "source": [
    "import time\n",
    "start = time.time() # Devuelve el tiempo actual en segundos desde el 1o de enero de 1970 (punto de referencia)\n",
    "\n",
    "np.random.seed(1234)\n",
    "parametros = {'activation': activation_vec,\n",
    "              'max_iter':max_iter_vec,\n",
    "              'hidden_layer_sizes': hidden_layer_sizes_vec,\n",
    "              'learning_rate_init': learning_rate_init_vec\n",
    "              }\n",
    "scoring = {'kappa':make_scorer(cohen_kappa_score), 'accuracy':'accuracy'}\n",
    "grid = GridSearchCV(mlp, param_grid=parametros, cv=5, scoring=scoring, refit='accuracy', n_jobs=-1, iid=True)"
   ]
  },
  {
   "cell_type": "markdown",
   "metadata": {},
   "source": [
    "# <font color=\"red\"><b>No ejecutar este codigo, se demora mucho</b></font>"
   ]
  },
  {
   "cell_type": "code",
   "execution_count": 76,
   "metadata": {},
   "outputs": [
    {
     "ename": "KeyboardInterrupt",
     "evalue": "",
     "output_type": "error",
     "traceback": [
      "\u001b[1;31m---------------------------------------------------------------------------\u001b[0m",
      "\u001b[1;31mKeyboardInterrupt\u001b[0m                         Traceback (most recent call last)",
      "\u001b[1;32m<ipython-input-76-eff0423a2927>\u001b[0m in \u001b[0;36m<module>\u001b[1;34m\u001b[0m\n\u001b[1;32m----> 1\u001b[1;33m \u001b[0mgrid\u001b[0m\u001b[1;33m.\u001b[0m\u001b[0mfit\u001b[0m\u001b[1;33m(\u001b[0m\u001b[0mX_train\u001b[0m\u001b[1;33m,\u001b[0m \u001b[0my_train\u001b[0m\u001b[1;33m)\u001b[0m\u001b[1;33m\u001b[0m\u001b[1;33m\u001b[0m\u001b[0m\n\u001b[0m\u001b[0;32m      2\u001b[0m \u001b[1;33m\u001b[0m\u001b[0m\n\u001b[0;32m      3\u001b[0m print(\"Los parámetros del mejor modelo fueron {0}, que permiten obtener un Accuracy de {1:.2f}% y un Kappa del {2:.2f}\".format(\n\u001b[0;32m      4\u001b[0m     grid.best_params_, grid.best_score_*100, grid.cv_results_['mean_test_kappa'][grid.best_index_]*100))\n\u001b[0;32m      5\u001b[0m \u001b[0mend\u001b[0m \u001b[1;33m=\u001b[0m \u001b[0mtime\u001b[0m\u001b[1;33m.\u001b[0m\u001b[0mtime\u001b[0m\u001b[1;33m(\u001b[0m\u001b[1;33m)\u001b[0m \u001b[1;31m# Tiempo después de finalizar el entrenamiento del modelo\u001b[0m\u001b[1;33m\u001b[0m\u001b[1;33m\u001b[0m\u001b[0m\n",
      "\u001b[1;32m~\\Anaconda3\\lib\\site-packages\\sklearn\\model_selection\\_search.py\u001b[0m in \u001b[0;36mfit\u001b[1;34m(self, X, y, groups, **fit_params)\u001b[0m\n\u001b[0;32m    685\u001b[0m                 \u001b[1;32mreturn\u001b[0m \u001b[0mresults\u001b[0m\u001b[1;33m\u001b[0m\u001b[1;33m\u001b[0m\u001b[0m\n\u001b[0;32m    686\u001b[0m \u001b[1;33m\u001b[0m\u001b[0m\n\u001b[1;32m--> 687\u001b[1;33m             \u001b[0mself\u001b[0m\u001b[1;33m.\u001b[0m\u001b[0m_run_search\u001b[0m\u001b[1;33m(\u001b[0m\u001b[0mevaluate_candidates\u001b[0m\u001b[1;33m)\u001b[0m\u001b[1;33m\u001b[0m\u001b[1;33m\u001b[0m\u001b[0m\n\u001b[0m\u001b[0;32m    688\u001b[0m \u001b[1;33m\u001b[0m\u001b[0m\n\u001b[0;32m    689\u001b[0m         \u001b[1;31m# For multi-metric evaluation, store the best_index_, best_params_ and\u001b[0m\u001b[1;33m\u001b[0m\u001b[1;33m\u001b[0m\u001b[1;33m\u001b[0m\u001b[0m\n",
      "\u001b[1;32m~\\Anaconda3\\lib\\site-packages\\sklearn\\model_selection\\_search.py\u001b[0m in \u001b[0;36m_run_search\u001b[1;34m(self, evaluate_candidates)\u001b[0m\n\u001b[0;32m   1146\u001b[0m     \u001b[1;32mdef\u001b[0m \u001b[0m_run_search\u001b[0m\u001b[1;33m(\u001b[0m\u001b[0mself\u001b[0m\u001b[1;33m,\u001b[0m \u001b[0mevaluate_candidates\u001b[0m\u001b[1;33m)\u001b[0m\u001b[1;33m:\u001b[0m\u001b[1;33m\u001b[0m\u001b[1;33m\u001b[0m\u001b[0m\n\u001b[0;32m   1147\u001b[0m         \u001b[1;34m\"\"\"Search all candidates in param_grid\"\"\"\u001b[0m\u001b[1;33m\u001b[0m\u001b[1;33m\u001b[0m\u001b[0m\n\u001b[1;32m-> 1148\u001b[1;33m         \u001b[0mevaluate_candidates\u001b[0m\u001b[1;33m(\u001b[0m\u001b[0mParameterGrid\u001b[0m\u001b[1;33m(\u001b[0m\u001b[0mself\u001b[0m\u001b[1;33m.\u001b[0m\u001b[0mparam_grid\u001b[0m\u001b[1;33m)\u001b[0m\u001b[1;33m)\u001b[0m\u001b[1;33m\u001b[0m\u001b[1;33m\u001b[0m\u001b[0m\n\u001b[0m\u001b[0;32m   1149\u001b[0m \u001b[1;33m\u001b[0m\u001b[0m\n\u001b[0;32m   1150\u001b[0m \u001b[1;33m\u001b[0m\u001b[0m\n",
      "\u001b[1;32m~\\Anaconda3\\lib\\site-packages\\sklearn\\model_selection\\_search.py\u001b[0m in \u001b[0;36mevaluate_candidates\u001b[1;34m(candidate_params)\u001b[0m\n\u001b[0;32m    664\u001b[0m                                \u001b[1;32mfor\u001b[0m \u001b[0mparameters\u001b[0m\u001b[1;33m,\u001b[0m \u001b[1;33m(\u001b[0m\u001b[0mtrain\u001b[0m\u001b[1;33m,\u001b[0m \u001b[0mtest\u001b[0m\u001b[1;33m)\u001b[0m\u001b[1;33m\u001b[0m\u001b[1;33m\u001b[0m\u001b[0m\n\u001b[0;32m    665\u001b[0m                                in product(candidate_params,\n\u001b[1;32m--> 666\u001b[1;33m                                           cv.split(X, y, groups)))\n\u001b[0m\u001b[0;32m    667\u001b[0m \u001b[1;33m\u001b[0m\u001b[0m\n\u001b[0;32m    668\u001b[0m                 \u001b[1;32mif\u001b[0m \u001b[0mlen\u001b[0m\u001b[1;33m(\u001b[0m\u001b[0mout\u001b[0m\u001b[1;33m)\u001b[0m \u001b[1;33m<\u001b[0m \u001b[1;36m1\u001b[0m\u001b[1;33m:\u001b[0m\u001b[1;33m\u001b[0m\u001b[1;33m\u001b[0m\u001b[0m\n",
      "\u001b[1;32m~\\Anaconda3\\lib\\site-packages\\joblib\\parallel.py\u001b[0m in \u001b[0;36m__call__\u001b[1;34m(self, iterable)\u001b[0m\n\u001b[0;32m    932\u001b[0m \u001b[1;33m\u001b[0m\u001b[0m\n\u001b[0;32m    933\u001b[0m             \u001b[1;32mwith\u001b[0m \u001b[0mself\u001b[0m\u001b[1;33m.\u001b[0m\u001b[0m_backend\u001b[0m\u001b[1;33m.\u001b[0m\u001b[0mretrieval_context\u001b[0m\u001b[1;33m(\u001b[0m\u001b[1;33m)\u001b[0m\u001b[1;33m:\u001b[0m\u001b[1;33m\u001b[0m\u001b[1;33m\u001b[0m\u001b[0m\n\u001b[1;32m--> 934\u001b[1;33m                 \u001b[0mself\u001b[0m\u001b[1;33m.\u001b[0m\u001b[0mretrieve\u001b[0m\u001b[1;33m(\u001b[0m\u001b[1;33m)\u001b[0m\u001b[1;33m\u001b[0m\u001b[1;33m\u001b[0m\u001b[0m\n\u001b[0m\u001b[0;32m    935\u001b[0m             \u001b[1;31m# Make sure that we get a last message telling us we are done\u001b[0m\u001b[1;33m\u001b[0m\u001b[1;33m\u001b[0m\u001b[1;33m\u001b[0m\u001b[0m\n\u001b[0;32m    936\u001b[0m             \u001b[0melapsed_time\u001b[0m \u001b[1;33m=\u001b[0m \u001b[0mtime\u001b[0m\u001b[1;33m.\u001b[0m\u001b[0mtime\u001b[0m\u001b[1;33m(\u001b[0m\u001b[1;33m)\u001b[0m \u001b[1;33m-\u001b[0m \u001b[0mself\u001b[0m\u001b[1;33m.\u001b[0m\u001b[0m_start_time\u001b[0m\u001b[1;33m\u001b[0m\u001b[1;33m\u001b[0m\u001b[0m\n",
      "\u001b[1;32m~\\Anaconda3\\lib\\site-packages\\joblib\\parallel.py\u001b[0m in \u001b[0;36mretrieve\u001b[1;34m(self)\u001b[0m\n\u001b[0;32m    831\u001b[0m             \u001b[1;32mtry\u001b[0m\u001b[1;33m:\u001b[0m\u001b[1;33m\u001b[0m\u001b[1;33m\u001b[0m\u001b[0m\n\u001b[0;32m    832\u001b[0m                 \u001b[1;32mif\u001b[0m \u001b[0mgetattr\u001b[0m\u001b[1;33m(\u001b[0m\u001b[0mself\u001b[0m\u001b[1;33m.\u001b[0m\u001b[0m_backend\u001b[0m\u001b[1;33m,\u001b[0m \u001b[1;34m'supports_timeout'\u001b[0m\u001b[1;33m,\u001b[0m \u001b[1;32mFalse\u001b[0m\u001b[1;33m)\u001b[0m\u001b[1;33m:\u001b[0m\u001b[1;33m\u001b[0m\u001b[1;33m\u001b[0m\u001b[0m\n\u001b[1;32m--> 833\u001b[1;33m                     \u001b[0mself\u001b[0m\u001b[1;33m.\u001b[0m\u001b[0m_output\u001b[0m\u001b[1;33m.\u001b[0m\u001b[0mextend\u001b[0m\u001b[1;33m(\u001b[0m\u001b[0mjob\u001b[0m\u001b[1;33m.\u001b[0m\u001b[0mget\u001b[0m\u001b[1;33m(\u001b[0m\u001b[0mtimeout\u001b[0m\u001b[1;33m=\u001b[0m\u001b[0mself\u001b[0m\u001b[1;33m.\u001b[0m\u001b[0mtimeout\u001b[0m\u001b[1;33m)\u001b[0m\u001b[1;33m)\u001b[0m\u001b[1;33m\u001b[0m\u001b[1;33m\u001b[0m\u001b[0m\n\u001b[0m\u001b[0;32m    834\u001b[0m                 \u001b[1;32melse\u001b[0m\u001b[1;33m:\u001b[0m\u001b[1;33m\u001b[0m\u001b[1;33m\u001b[0m\u001b[0m\n\u001b[0;32m    835\u001b[0m                     \u001b[0mself\u001b[0m\u001b[1;33m.\u001b[0m\u001b[0m_output\u001b[0m\u001b[1;33m.\u001b[0m\u001b[0mextend\u001b[0m\u001b[1;33m(\u001b[0m\u001b[0mjob\u001b[0m\u001b[1;33m.\u001b[0m\u001b[0mget\u001b[0m\u001b[1;33m(\u001b[0m\u001b[1;33m)\u001b[0m\u001b[1;33m)\u001b[0m\u001b[1;33m\u001b[0m\u001b[1;33m\u001b[0m\u001b[0m\n",
      "\u001b[1;32m~\\Anaconda3\\lib\\site-packages\\joblib\\_parallel_backends.py\u001b[0m in \u001b[0;36mwrap_future_result\u001b[1;34m(future, timeout)\u001b[0m\n\u001b[0;32m    519\u001b[0m         AsyncResults.get from multiprocessing.\"\"\"\n\u001b[0;32m    520\u001b[0m         \u001b[1;32mtry\u001b[0m\u001b[1;33m:\u001b[0m\u001b[1;33m\u001b[0m\u001b[1;33m\u001b[0m\u001b[0m\n\u001b[1;32m--> 521\u001b[1;33m             \u001b[1;32mreturn\u001b[0m \u001b[0mfuture\u001b[0m\u001b[1;33m.\u001b[0m\u001b[0mresult\u001b[0m\u001b[1;33m(\u001b[0m\u001b[0mtimeout\u001b[0m\u001b[1;33m=\u001b[0m\u001b[0mtimeout\u001b[0m\u001b[1;33m)\u001b[0m\u001b[1;33m\u001b[0m\u001b[1;33m\u001b[0m\u001b[0m\n\u001b[0m\u001b[0;32m    522\u001b[0m         \u001b[1;32mexcept\u001b[0m \u001b[0mLokyTimeoutError\u001b[0m\u001b[1;33m:\u001b[0m\u001b[1;33m\u001b[0m\u001b[1;33m\u001b[0m\u001b[0m\n\u001b[0;32m    523\u001b[0m             \u001b[1;32mraise\u001b[0m \u001b[0mTimeoutError\u001b[0m\u001b[1;33m(\u001b[0m\u001b[1;33m)\u001b[0m\u001b[1;33m\u001b[0m\u001b[1;33m\u001b[0m\u001b[0m\n",
      "\u001b[1;32m~\\Anaconda3\\lib\\concurrent\\futures\\_base.py\u001b[0m in \u001b[0;36mresult\u001b[1;34m(self, timeout)\u001b[0m\n\u001b[0;32m    425\u001b[0m                 \u001b[1;32mreturn\u001b[0m \u001b[0mself\u001b[0m\u001b[1;33m.\u001b[0m\u001b[0m__get_result\u001b[0m\u001b[1;33m(\u001b[0m\u001b[1;33m)\u001b[0m\u001b[1;33m\u001b[0m\u001b[1;33m\u001b[0m\u001b[0m\n\u001b[0;32m    426\u001b[0m \u001b[1;33m\u001b[0m\u001b[0m\n\u001b[1;32m--> 427\u001b[1;33m             \u001b[0mself\u001b[0m\u001b[1;33m.\u001b[0m\u001b[0m_condition\u001b[0m\u001b[1;33m.\u001b[0m\u001b[0mwait\u001b[0m\u001b[1;33m(\u001b[0m\u001b[0mtimeout\u001b[0m\u001b[1;33m)\u001b[0m\u001b[1;33m\u001b[0m\u001b[1;33m\u001b[0m\u001b[0m\n\u001b[0m\u001b[0;32m    428\u001b[0m \u001b[1;33m\u001b[0m\u001b[0m\n\u001b[0;32m    429\u001b[0m             \u001b[1;32mif\u001b[0m \u001b[0mself\u001b[0m\u001b[1;33m.\u001b[0m\u001b[0m_state\u001b[0m \u001b[1;32min\u001b[0m \u001b[1;33m[\u001b[0m\u001b[0mCANCELLED\u001b[0m\u001b[1;33m,\u001b[0m \u001b[0mCANCELLED_AND_NOTIFIED\u001b[0m\u001b[1;33m]\u001b[0m\u001b[1;33m:\u001b[0m\u001b[1;33m\u001b[0m\u001b[1;33m\u001b[0m\u001b[0m\n",
      "\u001b[1;32m~\\Anaconda3\\lib\\threading.py\u001b[0m in \u001b[0;36mwait\u001b[1;34m(self, timeout)\u001b[0m\n\u001b[0;32m    294\u001b[0m         \u001b[1;32mtry\u001b[0m\u001b[1;33m:\u001b[0m    \u001b[1;31m# restore state no matter what (e.g., KeyboardInterrupt)\u001b[0m\u001b[1;33m\u001b[0m\u001b[1;33m\u001b[0m\u001b[0m\n\u001b[0;32m    295\u001b[0m             \u001b[1;32mif\u001b[0m \u001b[0mtimeout\u001b[0m \u001b[1;32mis\u001b[0m \u001b[1;32mNone\u001b[0m\u001b[1;33m:\u001b[0m\u001b[1;33m\u001b[0m\u001b[1;33m\u001b[0m\u001b[0m\n\u001b[1;32m--> 296\u001b[1;33m                 \u001b[0mwaiter\u001b[0m\u001b[1;33m.\u001b[0m\u001b[0macquire\u001b[0m\u001b[1;33m(\u001b[0m\u001b[1;33m)\u001b[0m\u001b[1;33m\u001b[0m\u001b[1;33m\u001b[0m\u001b[0m\n\u001b[0m\u001b[0;32m    297\u001b[0m                 \u001b[0mgotit\u001b[0m \u001b[1;33m=\u001b[0m \u001b[1;32mTrue\u001b[0m\u001b[1;33m\u001b[0m\u001b[1;33m\u001b[0m\u001b[0m\n\u001b[0;32m    298\u001b[0m             \u001b[1;32melse\u001b[0m\u001b[1;33m:\u001b[0m\u001b[1;33m\u001b[0m\u001b[1;33m\u001b[0m\u001b[0m\n",
      "\u001b[1;31mKeyboardInterrupt\u001b[0m: "
     ]
    }
   ],
   "source": [
    "grid.fit(X_train, y_train)\n",
    "\n",
    "print(\"Los parámetros del mejor modelo fueron {0}, que permiten obtener un Accuracy de {1:.2f}% y un Kappa del {2:.2f}\".format(\n",
    "    grid.best_params_, grid.best_score_*100, grid.cv_results_['mean_test_kappa'][grid.best_index_]*100))\n",
    "end = time.time() # Tiempo después de finalizar el entrenamiento del modelo\n",
    "print(\"Tiempo total: {0:.2f} minutos\".format((end-start)/60))"
   ]
  },
  {
   "cell_type": "code",
   "execution_count": null,
   "metadata": {},
   "outputs": [],
   "source": [
    "df = pd.DataFrame([(acc*100, kappa*100) for (acc, kappa) in \n",
    "                   zip( \n",
    "                       grid.cv_results_['mean_test_accuracy'], \n",
    "                       grid.cv_results_['mean_test_kappa'],\n",
    "                      )\n",
    "                   ], columns = ('Accuracy', 'Kappa'))"
   ]
  },
  {
   "cell_type": "code",
   "execution_count": null,
   "metadata": {},
   "outputs": [],
   "source": [
    "df.iloc[np.argsort(-df.Accuracy),]"
   ]
  },
  {
   "cell_type": "code",
   "execution_count": null,
   "metadata": {},
   "outputs": [],
   "source": [
    "df = pd.DataFrame([(act, hidden_layers, lr, max_iter, acc*100, kappa*100) for (act, hidden_layers, lr, max_iter, acc, kappa) in \n",
    "                   zip(\n",
    "                       grid.cv_results_['param_activation'], \n",
    "                       grid.cv_results_['param_hidden_layer_sizes'], \n",
    "                       grid.cv_results_['param_learning_rate_init'], \n",
    "                       grid.cv_results_['param_max_iter'], \n",
    "                       grid.cv_results_['mean_test_accuracy'], \n",
    "                       grid.cv_results_['mean_test_kappa'],\n",
    "                      )\n",
    "                   ], columns = ('Activation', 'HiddenLayers', 'LearningRate', 'MaxIter', 'Accuracy', 'Kappa'))"
   ]
  },
  {
   "cell_type": "code",
   "execution_count": null,
   "metadata": {},
   "outputs": [],
   "source": [
    "df.iloc[np.argsort(-df.Accuracy),].head(20)"
   ]
  },
  {
   "cell_type": "markdown",
   "metadata": {},
   "source": [
    "## La salida del cosigo anterior fue :"
   ]
  },
  {
   "cell_type": "markdown",
   "metadata": {},
   "source": [
    "Los parámetros del mejor modelo fueron {'activation': 'logistic', 'hidden_layer_sizes': (10, 10, 10), 'learning_rate_init': 0.003, 'max_iter': 200}, que permiten obtener un Accuracy de 79.47% y un Kappa del 58.94\n",
    "Tiempo total: 121.08 minutos"
   ]
  },
  {
   "cell_type": "markdown",
   "metadata": {},
   "source": [
    "# PARTE 2"
   ]
  },
  {
   "cell_type": "markdown",
   "metadata": {},
   "source": [
    "## Filtramos del data frame que se le eliminaron los datos atipicos y procedemos a separar los clientes que retirados para empezar a construir los clusters."
   ]
  },
  {
   "cell_type": "code",
   "execution_count": 82,
   "metadata": {},
   "outputs": [
    {
     "data": {
      "text/html": [
       "<div>\n",
       "<style scoped>\n",
       "    .dataframe tbody tr th:only-of-type {\n",
       "        vertical-align: middle;\n",
       "    }\n",
       "\n",
       "    .dataframe tbody tr th {\n",
       "        vertical-align: top;\n",
       "    }\n",
       "\n",
       "    .dataframe thead th {\n",
       "        text-align: right;\n",
       "    }\n",
       "</style>\n",
       "<table border=\"1\" class=\"dataframe\">\n",
       "  <thead>\n",
       "    <tr style=\"text-align: right;\">\n",
       "      <th></th>\n",
       "      <th>ESTADO</th>\n",
       "      <th>INGRESOS</th>\n",
       "      <th>CASA</th>\n",
       "      <th>PRECIO_DISPOSITIVO</th>\n",
       "      <th>MESES</th>\n",
       "      <th>DURACION</th>\n",
       "      <th>SOBRECARGO</th>\n",
       "      <th>SALDO_RESTANTE</th>\n",
       "      <th>SATISFACCION</th>\n",
       "    </tr>\n",
       "  </thead>\n",
       "  <tbody>\n",
       "    <tr>\n",
       "      <th>3</th>\n",
       "      <td>0</td>\n",
       "      <td>8115015</td>\n",
       "      <td>8.300000e+07</td>\n",
       "      <td>2617184.0</td>\n",
       "      <td>37</td>\n",
       "      <td>17.6</td>\n",
       "      <td>230.913888</td>\n",
       "      <td>45.7</td>\n",
       "      <td>8.964017</td>\n",
       "    </tr>\n",
       "    <tr>\n",
       "      <th>4</th>\n",
       "      <td>0</td>\n",
       "      <td>8187499</td>\n",
       "      <td>6.770000e+08</td>\n",
       "      <td>666069.0</td>\n",
       "      <td>19</td>\n",
       "      <td>0.0</td>\n",
       "      <td>131.541983</td>\n",
       "      <td>67.2</td>\n",
       "      <td>8.808206</td>\n",
       "    </tr>\n",
       "    <tr>\n",
       "      <th>7</th>\n",
       "      <td>0</td>\n",
       "      <td>3262245</td>\n",
       "      <td>6.840000e+08</td>\n",
       "      <td>985708.0</td>\n",
       "      <td>32</td>\n",
       "      <td>1.3</td>\n",
       "      <td>275.595131</td>\n",
       "      <td>19.0</td>\n",
       "      <td>8.040629</td>\n",
       "    </tr>\n",
       "    <tr>\n",
       "      <th>9</th>\n",
       "      <td>0</td>\n",
       "      <td>874177</td>\n",
       "      <td>7.250000e+08</td>\n",
       "      <td>1403586.0</td>\n",
       "      <td>19</td>\n",
       "      <td>17.8</td>\n",
       "      <td>0.000000</td>\n",
       "      <td>19.9</td>\n",
       "      <td>2.138861</td>\n",
       "    </tr>\n",
       "    <tr>\n",
       "      <th>10</th>\n",
       "      <td>0</td>\n",
       "      <td>4061667</td>\n",
       "      <td>9.340000e+08</td>\n",
       "      <td>438256.0</td>\n",
       "      <td>9</td>\n",
       "      <td>1.8</td>\n",
       "      <td>0.000000</td>\n",
       "      <td>4.9</td>\n",
       "      <td>2.164890</td>\n",
       "    </tr>\n",
       "    <tr>\n",
       "      <th>11</th>\n",
       "      <td>0</td>\n",
       "      <td>3529836</td>\n",
       "      <td>7.240000e+08</td>\n",
       "      <td>647659.0</td>\n",
       "      <td>18</td>\n",
       "      <td>4.3</td>\n",
       "      <td>303.162095</td>\n",
       "      <td>29.6</td>\n",
       "      <td>7.984475</td>\n",
       "    </tr>\n",
       "    <tr>\n",
       "      <th>12</th>\n",
       "      <td>0</td>\n",
       "      <td>3829846</td>\n",
       "      <td>8.770000e+08</td>\n",
       "      <td>1150132.0</td>\n",
       "      <td>40</td>\n",
       "      <td>5.4</td>\n",
       "      <td>150.868408</td>\n",
       "      <td>33.2</td>\n",
       "      <td>7.855744</td>\n",
       "    </tr>\n",
       "    <tr>\n",
       "      <th>13</th>\n",
       "      <td>0</td>\n",
       "      <td>7639749</td>\n",
       "      <td>3.170000e+08</td>\n",
       "      <td>825889.0</td>\n",
       "      <td>27</td>\n",
       "      <td>0.7</td>\n",
       "      <td>178.247186</td>\n",
       "      <td>89.5</td>\n",
       "      <td>7.826984</td>\n",
       "    </tr>\n",
       "    <tr>\n",
       "      <th>15</th>\n",
       "      <td>0</td>\n",
       "      <td>661848</td>\n",
       "      <td>1.450000e+08</td>\n",
       "      <td>1241824.0</td>\n",
       "      <td>0</td>\n",
       "      <td>14.7</td>\n",
       "      <td>311.590203</td>\n",
       "      <td>23.7</td>\n",
       "      <td>8.221092</td>\n",
       "    </tr>\n",
       "    <tr>\n",
       "      <th>16</th>\n",
       "      <td>0</td>\n",
       "      <td>1494939</td>\n",
       "      <td>5.740000e+08</td>\n",
       "      <td>665683.0</td>\n",
       "      <td>26</td>\n",
       "      <td>16.0</td>\n",
       "      <td>132.838471</td>\n",
       "      <td>18.0</td>\n",
       "      <td>8.646060</td>\n",
       "    </tr>\n",
       "    <tr>\n",
       "      <th>17</th>\n",
       "      <td>0</td>\n",
       "      <td>6461843</td>\n",
       "      <td>2.400000e+08</td>\n",
       "      <td>323295.0</td>\n",
       "      <td>17</td>\n",
       "      <td>16.3</td>\n",
       "      <td>202.166587</td>\n",
       "      <td>78.8</td>\n",
       "      <td>8.215941</td>\n",
       "    </tr>\n",
       "    <tr>\n",
       "      <th>18</th>\n",
       "      <td>0</td>\n",
       "      <td>901956</td>\n",
       "      <td>9.330000e+08</td>\n",
       "      <td>1280582.0</td>\n",
       "      <td>32</td>\n",
       "      <td>16.0</td>\n",
       "      <td>223.750972</td>\n",
       "      <td>20.3</td>\n",
       "      <td>7.617305</td>\n",
       "    </tr>\n",
       "    <tr>\n",
       "      <th>21</th>\n",
       "      <td>0</td>\n",
       "      <td>7597008</td>\n",
       "      <td>4.000000e+08</td>\n",
       "      <td>2392791.0</td>\n",
       "      <td>49</td>\n",
       "      <td>15.8</td>\n",
       "      <td>130.654947</td>\n",
       "      <td>47.6</td>\n",
       "      <td>7.920290</td>\n",
       "    </tr>\n",
       "    <tr>\n",
       "      <th>22</th>\n",
       "      <td>0</td>\n",
       "      <td>3294147</td>\n",
       "      <td>6.650000e+08</td>\n",
       "      <td>795158.0</td>\n",
       "      <td>45</td>\n",
       "      <td>2.7</td>\n",
       "      <td>263.796777</td>\n",
       "      <td>16.2</td>\n",
       "      <td>7.520494</td>\n",
       "    </tr>\n",
       "    <tr>\n",
       "      <th>23</th>\n",
       "      <td>0</td>\n",
       "      <td>660089</td>\n",
       "      <td>2.600000e+08</td>\n",
       "      <td>1827659.0</td>\n",
       "      <td>7</td>\n",
       "      <td>17.1</td>\n",
       "      <td>120.049717</td>\n",
       "      <td>4.2</td>\n",
       "      <td>8.019859</td>\n",
       "    </tr>\n",
       "    <tr>\n",
       "      <th>25</th>\n",
       "      <td>0</td>\n",
       "      <td>7757860</td>\n",
       "      <td>5.030000e+08</td>\n",
       "      <td>2001734.0</td>\n",
       "      <td>47</td>\n",
       "      <td>15.9</td>\n",
       "      <td>212.295364</td>\n",
       "      <td>55.7</td>\n",
       "      <td>8.308562</td>\n",
       "    </tr>\n",
       "    <tr>\n",
       "      <th>27</th>\n",
       "      <td>0</td>\n",
       "      <td>3503361</td>\n",
       "      <td>8.010000e+08</td>\n",
       "      <td>1048801.0</td>\n",
       "      <td>25</td>\n",
       "      <td>1.1</td>\n",
       "      <td>88.972147</td>\n",
       "      <td>25.5</td>\n",
       "      <td>8.458615</td>\n",
       "    </tr>\n",
       "    <tr>\n",
       "      <th>32</th>\n",
       "      <td>0</td>\n",
       "      <td>7836527</td>\n",
       "      <td>4.880000e+08</td>\n",
       "      <td>3098366.0</td>\n",
       "      <td>37</td>\n",
       "      <td>1.1</td>\n",
       "      <td>248.958836</td>\n",
       "      <td>71.3</td>\n",
       "      <td>8.180256</td>\n",
       "    </tr>\n",
       "    <tr>\n",
       "      <th>36</th>\n",
       "      <td>0</td>\n",
       "      <td>6850367</td>\n",
       "      <td>6.230000e+08</td>\n",
       "      <td>1542276.0</td>\n",
       "      <td>29</td>\n",
       "      <td>16.7</td>\n",
       "      <td>121.874704</td>\n",
       "      <td>47.6</td>\n",
       "      <td>8.139602</td>\n",
       "    </tr>\n",
       "    <tr>\n",
       "      <th>37</th>\n",
       "      <td>0</td>\n",
       "      <td>7178324</td>\n",
       "      <td>9.680000e+08</td>\n",
       "      <td>414357.0</td>\n",
       "      <td>14</td>\n",
       "      <td>15.9</td>\n",
       "      <td>252.386522</td>\n",
       "      <td>82.1</td>\n",
       "      <td>7.993144</td>\n",
       "    </tr>\n",
       "    <tr>\n",
       "      <th>39</th>\n",
       "      <td>0</td>\n",
       "      <td>992085</td>\n",
       "      <td>3.130000e+08</td>\n",
       "      <td>1479609.0</td>\n",
       "      <td>20</td>\n",
       "      <td>15.7</td>\n",
       "      <td>178.074269</td>\n",
       "      <td>5.2</td>\n",
       "      <td>8.863133</td>\n",
       "    </tr>\n",
       "    <tr>\n",
       "      <th>41</th>\n",
       "      <td>0</td>\n",
       "      <td>3876596</td>\n",
       "      <td>9.730000e+08</td>\n",
       "      <td>901927.0</td>\n",
       "      <td>7</td>\n",
       "      <td>3.3</td>\n",
       "      <td>215.608585</td>\n",
       "      <td>0.0</td>\n",
       "      <td>8.642419</td>\n",
       "    </tr>\n",
       "    <tr>\n",
       "      <th>42</th>\n",
       "      <td>0</td>\n",
       "      <td>7832980</td>\n",
       "      <td>1.799000e+09</td>\n",
       "      <td>353363.0</td>\n",
       "      <td>14</td>\n",
       "      <td>16.0</td>\n",
       "      <td>251.828787</td>\n",
       "      <td>72.9</td>\n",
       "      <td>8.700907</td>\n",
       "    </tr>\n",
       "    <tr>\n",
       "      <th>43</th>\n",
       "      <td>0</td>\n",
       "      <td>7047010</td>\n",
       "      <td>1.030000e+08</td>\n",
       "      <td>383579.0</td>\n",
       "      <td>22</td>\n",
       "      <td>14.7</td>\n",
       "      <td>236.707273</td>\n",
       "      <td>75.1</td>\n",
       "      <td>8.659403</td>\n",
       "    </tr>\n",
       "    <tr>\n",
       "      <th>46</th>\n",
       "      <td>0</td>\n",
       "      <td>796967</td>\n",
       "      <td>8.300000e+07</td>\n",
       "      <td>311671.0</td>\n",
       "      <td>18</td>\n",
       "      <td>15.2</td>\n",
       "      <td>164.501227</td>\n",
       "      <td>15.1</td>\n",
       "      <td>8.579127</td>\n",
       "    </tr>\n",
       "    <tr>\n",
       "      <th>47</th>\n",
       "      <td>0</td>\n",
       "      <td>7835561</td>\n",
       "      <td>1.698000e+09</td>\n",
       "      <td>2092882.0</td>\n",
       "      <td>48</td>\n",
       "      <td>16.6</td>\n",
       "      <td>230.909984</td>\n",
       "      <td>83.9</td>\n",
       "      <td>7.873396</td>\n",
       "    </tr>\n",
       "    <tr>\n",
       "      <th>50</th>\n",
       "      <td>0</td>\n",
       "      <td>951739</td>\n",
       "      <td>2.120000e+08</td>\n",
       "      <td>379677.0</td>\n",
       "      <td>27</td>\n",
       "      <td>15.4</td>\n",
       "      <td>194.873185</td>\n",
       "      <td>11.1</td>\n",
       "      <td>7.522266</td>\n",
       "    </tr>\n",
       "    <tr>\n",
       "      <th>53</th>\n",
       "      <td>0</td>\n",
       "      <td>7519976</td>\n",
       "      <td>4.270000e+08</td>\n",
       "      <td>1386760.0</td>\n",
       "      <td>10</td>\n",
       "      <td>15.8</td>\n",
       "      <td>201.522956</td>\n",
       "      <td>96.0</td>\n",
       "      <td>8.713332</td>\n",
       "    </tr>\n",
       "    <tr>\n",
       "      <th>57</th>\n",
       "      <td>0</td>\n",
       "      <td>1680459</td>\n",
       "      <td>3.510000e+08</td>\n",
       "      <td>824000.0</td>\n",
       "      <td>10</td>\n",
       "      <td>15.7</td>\n",
       "      <td>191.247820</td>\n",
       "      <td>16.9</td>\n",
       "      <td>8.309565</td>\n",
       "    </tr>\n",
       "    <tr>\n",
       "      <th>59</th>\n",
       "      <td>0</td>\n",
       "      <td>1461310</td>\n",
       "      <td>3.270000e+08</td>\n",
       "      <td>1963727.0</td>\n",
       "      <td>32</td>\n",
       "      <td>16.2</td>\n",
       "      <td>189.713153</td>\n",
       "      <td>14.7</td>\n",
       "      <td>7.913309</td>\n",
       "    </tr>\n",
       "    <tr>\n",
       "      <th>...</th>\n",
       "      <td>...</td>\n",
       "      <td>...</td>\n",
       "      <td>...</td>\n",
       "      <td>...</td>\n",
       "      <td>...</td>\n",
       "      <td>...</td>\n",
       "      <td>...</td>\n",
       "      <td>...</td>\n",
       "      <td>...</td>\n",
       "    </tr>\n",
       "    <tr>\n",
       "      <th>23100</th>\n",
       "      <td>0</td>\n",
       "      <td>7704359</td>\n",
       "      <td>7.060000e+08</td>\n",
       "      <td>448877.0</td>\n",
       "      <td>32</td>\n",
       "      <td>15.6</td>\n",
       "      <td>137.525300</td>\n",
       "      <td>52.9</td>\n",
       "      <td>7.985821</td>\n",
       "    </tr>\n",
       "    <tr>\n",
       "      <th>23101</th>\n",
       "      <td>0</td>\n",
       "      <td>7456949</td>\n",
       "      <td>8.400000e+07</td>\n",
       "      <td>924092.0</td>\n",
       "      <td>41</td>\n",
       "      <td>2.5</td>\n",
       "      <td>250.151600</td>\n",
       "      <td>74.1</td>\n",
       "      <td>8.322932</td>\n",
       "    </tr>\n",
       "    <tr>\n",
       "      <th>23103</th>\n",
       "      <td>0</td>\n",
       "      <td>7394639</td>\n",
       "      <td>5.180000e+08</td>\n",
       "      <td>1196106.0</td>\n",
       "      <td>0</td>\n",
       "      <td>15.7</td>\n",
       "      <td>238.335900</td>\n",
       "      <td>90.6</td>\n",
       "      <td>7.493668</td>\n",
       "    </tr>\n",
       "    <tr>\n",
       "      <th>23105</th>\n",
       "      <td>0</td>\n",
       "      <td>8352534</td>\n",
       "      <td>4.170000e+08</td>\n",
       "      <td>2222343.0</td>\n",
       "      <td>17</td>\n",
       "      <td>17.5</td>\n",
       "      <td>234.748400</td>\n",
       "      <td>85.1</td>\n",
       "      <td>8.045938</td>\n",
       "    </tr>\n",
       "    <tr>\n",
       "      <th>23111</th>\n",
       "      <td>0</td>\n",
       "      <td>2869043</td>\n",
       "      <td>6.320000e+08</td>\n",
       "      <td>1242962.0</td>\n",
       "      <td>21</td>\n",
       "      <td>1.5</td>\n",
       "      <td>197.464900</td>\n",
       "      <td>6.2</td>\n",
       "      <td>8.109598</td>\n",
       "    </tr>\n",
       "    <tr>\n",
       "      <th>23112</th>\n",
       "      <td>0</td>\n",
       "      <td>6790461</td>\n",
       "      <td>1.660000e+08</td>\n",
       "      <td>3131288.0</td>\n",
       "      <td>24</td>\n",
       "      <td>16.7</td>\n",
       "      <td>18.915930</td>\n",
       "      <td>64.8</td>\n",
       "      <td>2.655891</td>\n",
       "    </tr>\n",
       "    <tr>\n",
       "      <th>23114</th>\n",
       "      <td>0</td>\n",
       "      <td>2897519</td>\n",
       "      <td>7.070000e+08</td>\n",
       "      <td>718474.0</td>\n",
       "      <td>45</td>\n",
       "      <td>0.4</td>\n",
       "      <td>188.990200</td>\n",
       "      <td>19.9</td>\n",
       "      <td>8.335357</td>\n",
       "    </tr>\n",
       "    <tr>\n",
       "      <th>23115</th>\n",
       "      <td>0</td>\n",
       "      <td>826570</td>\n",
       "      <td>1.900000e+08</td>\n",
       "      <td>1986325.0</td>\n",
       "      <td>35</td>\n",
       "      <td>16.0</td>\n",
       "      <td>211.773200</td>\n",
       "      <td>5.9</td>\n",
       "      <td>8.411922</td>\n",
       "    </tr>\n",
       "    <tr>\n",
       "      <th>23116</th>\n",
       "      <td>0</td>\n",
       "      <td>6435620</td>\n",
       "      <td>1.324000e+09</td>\n",
       "      <td>1443734.0</td>\n",
       "      <td>7</td>\n",
       "      <td>2.3</td>\n",
       "      <td>30.322250</td>\n",
       "      <td>61.9</td>\n",
       "      <td>3.092596</td>\n",
       "    </tr>\n",
       "    <tr>\n",
       "      <th>23118</th>\n",
       "      <td>0</td>\n",
       "      <td>4059267</td>\n",
       "      <td>7.350000e+08</td>\n",
       "      <td>1726130.0</td>\n",
       "      <td>9</td>\n",
       "      <td>3.0</td>\n",
       "      <td>235.957800</td>\n",
       "      <td>19.1</td>\n",
       "      <td>8.412230</td>\n",
       "    </tr>\n",
       "    <tr>\n",
       "      <th>23119</th>\n",
       "      <td>0</td>\n",
       "      <td>3313975</td>\n",
       "      <td>3.150000e+08</td>\n",
       "      <td>392106.0</td>\n",
       "      <td>12</td>\n",
       "      <td>1.0</td>\n",
       "      <td>195.625600</td>\n",
       "      <td>2.0</td>\n",
       "      <td>8.821141</td>\n",
       "    </tr>\n",
       "    <tr>\n",
       "      <th>23121</th>\n",
       "      <td>0</td>\n",
       "      <td>837812</td>\n",
       "      <td>1.770000e+08</td>\n",
       "      <td>1284183.0</td>\n",
       "      <td>5</td>\n",
       "      <td>16.7</td>\n",
       "      <td>167.538900</td>\n",
       "      <td>16.8</td>\n",
       "      <td>8.759315</td>\n",
       "    </tr>\n",
       "    <tr>\n",
       "      <th>23123</th>\n",
       "      <td>0</td>\n",
       "      <td>1961294</td>\n",
       "      <td>4.560000e+08</td>\n",
       "      <td>2196508.0</td>\n",
       "      <td>35</td>\n",
       "      <td>15.6</td>\n",
       "      <td>276.530100</td>\n",
       "      <td>9.5</td>\n",
       "      <td>7.774550</td>\n",
       "    </tr>\n",
       "    <tr>\n",
       "      <th>23127</th>\n",
       "      <td>0</td>\n",
       "      <td>7152480</td>\n",
       "      <td>4.690000e+08</td>\n",
       "      <td>1780983.0</td>\n",
       "      <td>18</td>\n",
       "      <td>16.3</td>\n",
       "      <td>197.916000</td>\n",
       "      <td>61.9</td>\n",
       "      <td>8.213172</td>\n",
       "    </tr>\n",
       "    <tr>\n",
       "      <th>23128</th>\n",
       "      <td>0</td>\n",
       "      <td>7207557</td>\n",
       "      <td>8.300000e+07</td>\n",
       "      <td>1588752.0</td>\n",
       "      <td>10</td>\n",
       "      <td>0.6</td>\n",
       "      <td>228.378800</td>\n",
       "      <td>69.4</td>\n",
       "      <td>8.144150</td>\n",
       "    </tr>\n",
       "    <tr>\n",
       "      <th>23130</th>\n",
       "      <td>0</td>\n",
       "      <td>7693579</td>\n",
       "      <td>3.870000e+08</td>\n",
       "      <td>331694.0</td>\n",
       "      <td>25</td>\n",
       "      <td>15.1</td>\n",
       "      <td>230.561700</td>\n",
       "      <td>91.8</td>\n",
       "      <td>8.379348</td>\n",
       "    </tr>\n",
       "    <tr>\n",
       "      <th>23135</th>\n",
       "      <td>0</td>\n",
       "      <td>6763179</td>\n",
       "      <td>1.549000e+09</td>\n",
       "      <td>1074711.0</td>\n",
       "      <td>10</td>\n",
       "      <td>16.1</td>\n",
       "      <td>209.479500</td>\n",
       "      <td>70.0</td>\n",
       "      <td>8.596276</td>\n",
       "    </tr>\n",
       "    <tr>\n",
       "      <th>23137</th>\n",
       "      <td>0</td>\n",
       "      <td>8057022</td>\n",
       "      <td>1.796000e+09</td>\n",
       "      <td>1703029.0</td>\n",
       "      <td>30</td>\n",
       "      <td>16.2</td>\n",
       "      <td>254.109500</td>\n",
       "      <td>62.1</td>\n",
       "      <td>8.532075</td>\n",
       "    </tr>\n",
       "    <tr>\n",
       "      <th>23138</th>\n",
       "      <td>0</td>\n",
       "      <td>8051166</td>\n",
       "      <td>1.690000e+08</td>\n",
       "      <td>1198456.0</td>\n",
       "      <td>15</td>\n",
       "      <td>1.2</td>\n",
       "      <td>241.661100</td>\n",
       "      <td>91.6</td>\n",
       "      <td>8.398221</td>\n",
       "    </tr>\n",
       "    <tr>\n",
       "      <th>23139</th>\n",
       "      <td>0</td>\n",
       "      <td>6530454</td>\n",
       "      <td>2.620000e+08</td>\n",
       "      <td>3096611.0</td>\n",
       "      <td>26</td>\n",
       "      <td>3.3</td>\n",
       "      <td>172.154000</td>\n",
       "      <td>52.6</td>\n",
       "      <td>7.778537</td>\n",
       "    </tr>\n",
       "    <tr>\n",
       "      <th>23141</th>\n",
       "      <td>0</td>\n",
       "      <td>7939024</td>\n",
       "      <td>9.000000e+08</td>\n",
       "      <td>535506.0</td>\n",
       "      <td>0</td>\n",
       "      <td>16.0</td>\n",
       "      <td>209.965600</td>\n",
       "      <td>93.8</td>\n",
       "      <td>8.716063</td>\n",
       "    </tr>\n",
       "    <tr>\n",
       "      <th>23142</th>\n",
       "      <td>0</td>\n",
       "      <td>1361856</td>\n",
       "      <td>5.300000e+08</td>\n",
       "      <td>1408954.0</td>\n",
       "      <td>37</td>\n",
       "      <td>16.6</td>\n",
       "      <td>5.487242</td>\n",
       "      <td>6.1</td>\n",
       "      <td>3.028736</td>\n",
       "    </tr>\n",
       "    <tr>\n",
       "      <th>23144</th>\n",
       "      <td>0</td>\n",
       "      <td>8228561</td>\n",
       "      <td>7.730000e+08</td>\n",
       "      <td>1178242.0</td>\n",
       "      <td>19</td>\n",
       "      <td>16.2</td>\n",
       "      <td>231.280000</td>\n",
       "      <td>65.2</td>\n",
       "      <td>8.366117</td>\n",
       "    </tr>\n",
       "    <tr>\n",
       "      <th>23146</th>\n",
       "      <td>0</td>\n",
       "      <td>3025125</td>\n",
       "      <td>3.800000e+08</td>\n",
       "      <td>313013.0</td>\n",
       "      <td>7</td>\n",
       "      <td>1.1</td>\n",
       "      <td>278.809000</td>\n",
       "      <td>20.7</td>\n",
       "      <td>8.393918</td>\n",
       "    </tr>\n",
       "    <tr>\n",
       "      <th>23147</th>\n",
       "      <td>0</td>\n",
       "      <td>7252107</td>\n",
       "      <td>1.558000e+09</td>\n",
       "      <td>2432110.0</td>\n",
       "      <td>27</td>\n",
       "      <td>4.0</td>\n",
       "      <td>155.577000</td>\n",
       "      <td>79.4</td>\n",
       "      <td>8.401253</td>\n",
       "    </tr>\n",
       "    <tr>\n",
       "      <th>23149</th>\n",
       "      <td>0</td>\n",
       "      <td>6891205</td>\n",
       "      <td>4.620000e+08</td>\n",
       "      <td>376963.0</td>\n",
       "      <td>42</td>\n",
       "      <td>17.4</td>\n",
       "      <td>266.344600</td>\n",
       "      <td>68.4</td>\n",
       "      <td>8.039179</td>\n",
       "    </tr>\n",
       "    <tr>\n",
       "      <th>23153</th>\n",
       "      <td>0</td>\n",
       "      <td>534323</td>\n",
       "      <td>1.270000e+08</td>\n",
       "      <td>3144722.0</td>\n",
       "      <td>2</td>\n",
       "      <td>15.1</td>\n",
       "      <td>0.000000</td>\n",
       "      <td>16.8</td>\n",
       "      <td>3.331059</td>\n",
       "    </tr>\n",
       "    <tr>\n",
       "      <th>23155</th>\n",
       "      <td>0</td>\n",
       "      <td>2879014</td>\n",
       "      <td>3.290000e+08</td>\n",
       "      <td>1518581.0</td>\n",
       "      <td>22</td>\n",
       "      <td>2.1</td>\n",
       "      <td>176.444400</td>\n",
       "      <td>10.9</td>\n",
       "      <td>7.973555</td>\n",
       "    </tr>\n",
       "    <tr>\n",
       "      <th>23157</th>\n",
       "      <td>0</td>\n",
       "      <td>473169</td>\n",
       "      <td>9.900000e+07</td>\n",
       "      <td>1128088.0</td>\n",
       "      <td>28</td>\n",
       "      <td>14.9</td>\n",
       "      <td>153.900600</td>\n",
       "      <td>18.6</td>\n",
       "      <td>8.359296</td>\n",
       "    </tr>\n",
       "    <tr>\n",
       "      <th>23159</th>\n",
       "      <td>0</td>\n",
       "      <td>7523054</td>\n",
       "      <td>4.460000e+08</td>\n",
       "      <td>296138.0</td>\n",
       "      <td>6</td>\n",
       "      <td>17.8</td>\n",
       "      <td>290.730900</td>\n",
       "      <td>58.9</td>\n",
       "      <td>8.510907</td>\n",
       "    </tr>\n",
       "  </tbody>\n",
       "</table>\n",
       "<p>10448 rows × 9 columns</p>\n",
       "</div>"
      ],
      "text/plain": [
       "       ESTADO  INGRESOS          CASA  PRECIO_DISPOSITIVO  MESES  DURACION  \\\n",
       "3           0   8115015  8.300000e+07           2617184.0     37      17.6   \n",
       "4           0   8187499  6.770000e+08            666069.0     19       0.0   \n",
       "7           0   3262245  6.840000e+08            985708.0     32       1.3   \n",
       "9           0    874177  7.250000e+08           1403586.0     19      17.8   \n",
       "10          0   4061667  9.340000e+08            438256.0      9       1.8   \n",
       "11          0   3529836  7.240000e+08            647659.0     18       4.3   \n",
       "12          0   3829846  8.770000e+08           1150132.0     40       5.4   \n",
       "13          0   7639749  3.170000e+08            825889.0     27       0.7   \n",
       "15          0    661848  1.450000e+08           1241824.0      0      14.7   \n",
       "16          0   1494939  5.740000e+08            665683.0     26      16.0   \n",
       "17          0   6461843  2.400000e+08            323295.0     17      16.3   \n",
       "18          0    901956  9.330000e+08           1280582.0     32      16.0   \n",
       "21          0   7597008  4.000000e+08           2392791.0     49      15.8   \n",
       "22          0   3294147  6.650000e+08            795158.0     45       2.7   \n",
       "23          0    660089  2.600000e+08           1827659.0      7      17.1   \n",
       "25          0   7757860  5.030000e+08           2001734.0     47      15.9   \n",
       "27          0   3503361  8.010000e+08           1048801.0     25       1.1   \n",
       "32          0   7836527  4.880000e+08           3098366.0     37       1.1   \n",
       "36          0   6850367  6.230000e+08           1542276.0     29      16.7   \n",
       "37          0   7178324  9.680000e+08            414357.0     14      15.9   \n",
       "39          0    992085  3.130000e+08           1479609.0     20      15.7   \n",
       "41          0   3876596  9.730000e+08            901927.0      7       3.3   \n",
       "42          0   7832980  1.799000e+09            353363.0     14      16.0   \n",
       "43          0   7047010  1.030000e+08            383579.0     22      14.7   \n",
       "46          0    796967  8.300000e+07            311671.0     18      15.2   \n",
       "47          0   7835561  1.698000e+09           2092882.0     48      16.6   \n",
       "50          0    951739  2.120000e+08            379677.0     27      15.4   \n",
       "53          0   7519976  4.270000e+08           1386760.0     10      15.8   \n",
       "57          0   1680459  3.510000e+08            824000.0     10      15.7   \n",
       "59          0   1461310  3.270000e+08           1963727.0     32      16.2   \n",
       "...       ...       ...           ...                 ...    ...       ...   \n",
       "23100       0   7704359  7.060000e+08            448877.0     32      15.6   \n",
       "23101       0   7456949  8.400000e+07            924092.0     41       2.5   \n",
       "23103       0   7394639  5.180000e+08           1196106.0      0      15.7   \n",
       "23105       0   8352534  4.170000e+08           2222343.0     17      17.5   \n",
       "23111       0   2869043  6.320000e+08           1242962.0     21       1.5   \n",
       "23112       0   6790461  1.660000e+08           3131288.0     24      16.7   \n",
       "23114       0   2897519  7.070000e+08            718474.0     45       0.4   \n",
       "23115       0    826570  1.900000e+08           1986325.0     35      16.0   \n",
       "23116       0   6435620  1.324000e+09           1443734.0      7       2.3   \n",
       "23118       0   4059267  7.350000e+08           1726130.0      9       3.0   \n",
       "23119       0   3313975  3.150000e+08            392106.0     12       1.0   \n",
       "23121       0    837812  1.770000e+08           1284183.0      5      16.7   \n",
       "23123       0   1961294  4.560000e+08           2196508.0     35      15.6   \n",
       "23127       0   7152480  4.690000e+08           1780983.0     18      16.3   \n",
       "23128       0   7207557  8.300000e+07           1588752.0     10       0.6   \n",
       "23130       0   7693579  3.870000e+08            331694.0     25      15.1   \n",
       "23135       0   6763179  1.549000e+09           1074711.0     10      16.1   \n",
       "23137       0   8057022  1.796000e+09           1703029.0     30      16.2   \n",
       "23138       0   8051166  1.690000e+08           1198456.0     15       1.2   \n",
       "23139       0   6530454  2.620000e+08           3096611.0     26       3.3   \n",
       "23141       0   7939024  9.000000e+08            535506.0      0      16.0   \n",
       "23142       0   1361856  5.300000e+08           1408954.0     37      16.6   \n",
       "23144       0   8228561  7.730000e+08           1178242.0     19      16.2   \n",
       "23146       0   3025125  3.800000e+08            313013.0      7       1.1   \n",
       "23147       0   7252107  1.558000e+09           2432110.0     27       4.0   \n",
       "23149       0   6891205  4.620000e+08            376963.0     42      17.4   \n",
       "23153       0    534323  1.270000e+08           3144722.0      2      15.1   \n",
       "23155       0   2879014  3.290000e+08           1518581.0     22       2.1   \n",
       "23157       0    473169  9.900000e+07           1128088.0     28      14.9   \n",
       "23159       0   7523054  4.460000e+08            296138.0      6      17.8   \n",
       "\n",
       "       SOBRECARGO  SALDO_RESTANTE  SATISFACCION  \n",
       "3      230.913888            45.7      8.964017  \n",
       "4      131.541983            67.2      8.808206  \n",
       "7      275.595131            19.0      8.040629  \n",
       "9        0.000000            19.9      2.138861  \n",
       "10       0.000000             4.9      2.164890  \n",
       "11     303.162095            29.6      7.984475  \n",
       "12     150.868408            33.2      7.855744  \n",
       "13     178.247186            89.5      7.826984  \n",
       "15     311.590203            23.7      8.221092  \n",
       "16     132.838471            18.0      8.646060  \n",
       "17     202.166587            78.8      8.215941  \n",
       "18     223.750972            20.3      7.617305  \n",
       "21     130.654947            47.6      7.920290  \n",
       "22     263.796777            16.2      7.520494  \n",
       "23     120.049717             4.2      8.019859  \n",
       "25     212.295364            55.7      8.308562  \n",
       "27      88.972147            25.5      8.458615  \n",
       "32     248.958836            71.3      8.180256  \n",
       "36     121.874704            47.6      8.139602  \n",
       "37     252.386522            82.1      7.993144  \n",
       "39     178.074269             5.2      8.863133  \n",
       "41     215.608585             0.0      8.642419  \n",
       "42     251.828787            72.9      8.700907  \n",
       "43     236.707273            75.1      8.659403  \n",
       "46     164.501227            15.1      8.579127  \n",
       "47     230.909984            83.9      7.873396  \n",
       "50     194.873185            11.1      7.522266  \n",
       "53     201.522956            96.0      8.713332  \n",
       "57     191.247820            16.9      8.309565  \n",
       "59     189.713153            14.7      7.913309  \n",
       "...           ...             ...           ...  \n",
       "23100  137.525300            52.9      7.985821  \n",
       "23101  250.151600            74.1      8.322932  \n",
       "23103  238.335900            90.6      7.493668  \n",
       "23105  234.748400            85.1      8.045938  \n",
       "23111  197.464900             6.2      8.109598  \n",
       "23112   18.915930            64.8      2.655891  \n",
       "23114  188.990200            19.9      8.335357  \n",
       "23115  211.773200             5.9      8.411922  \n",
       "23116   30.322250            61.9      3.092596  \n",
       "23118  235.957800            19.1      8.412230  \n",
       "23119  195.625600             2.0      8.821141  \n",
       "23121  167.538900            16.8      8.759315  \n",
       "23123  276.530100             9.5      7.774550  \n",
       "23127  197.916000            61.9      8.213172  \n",
       "23128  228.378800            69.4      8.144150  \n",
       "23130  230.561700            91.8      8.379348  \n",
       "23135  209.479500            70.0      8.596276  \n",
       "23137  254.109500            62.1      8.532075  \n",
       "23138  241.661100            91.6      8.398221  \n",
       "23139  172.154000            52.6      7.778537  \n",
       "23141  209.965600            93.8      8.716063  \n",
       "23142    5.487242             6.1      3.028736  \n",
       "23144  231.280000            65.2      8.366117  \n",
       "23146  278.809000            20.7      8.393918  \n",
       "23147  155.577000            79.4      8.401253  \n",
       "23149  266.344600            68.4      8.039179  \n",
       "23153    0.000000            16.8      3.331059  \n",
       "23155  176.444400            10.9      7.973555  \n",
       "23157  153.900600            18.6      8.359296  \n",
       "23159  290.730900            58.9      8.510907  \n",
       "\n",
       "[10448 rows x 9 columns]"
      ]
     },
     "execution_count": 82,
     "metadata": {},
     "output_type": "execute_result"
    }
   ],
   "source": [
    "data[data['ESTADO'] == 0]"
   ]
  },
  {
   "cell_type": "code",
   "execution_count": null,
   "metadata": {},
   "outputs": [],
   "source": [
    "\n"
   ]
  },
  {
   "cell_type": "code",
   "execution_count": null,
   "metadata": {},
   "outputs": [],
   "source": []
  }
 ],
 "metadata": {
  "kernelspec": {
   "display_name": "Python 3",
   "language": "python",
   "name": "python3"
  },
  "language_info": {
   "codemirror_mode": {
    "name": "ipython",
    "version": 3
   },
   "file_extension": ".py",
   "mimetype": "text/x-python",
   "name": "python",
   "nbconvert_exporter": "python",
   "pygments_lexer": "ipython3",
   "version": "3.7.3"
  }
 },
 "nbformat": 4,
 "nbformat_minor": 2
}
