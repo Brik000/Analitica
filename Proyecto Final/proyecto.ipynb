{
 "cells": [
  {
   "cell_type": "code",
   "execution_count": 48,
   "metadata": {},
   "outputs": [],
   "source": [
    "import numpy as np #operaciones matriciales y con vectores\n",
    "import pandas as pd #tratamiento de datos\n",
    "import matplotlib.pyplot as plt #gráficos\n",
    "from sklearn import tree, datasets, metrics\n",
    "from sklearn.metrics import precision_score\n",
    "from sklearn import neighbors, metrics\n",
    "from matplotlib.colors import ListedColormap\n",
    "from sklearn import preprocessing\n",
    "import matplotlib.patches as mpatches\n",
    "#from sklearn import neighbors, datasets, metrics\n",
    "from sklearn.model_selection import train_test_split #metodo de particionamiento de datasets para evaluación\n",
    "from sklearn.model_selection import cross_val_score, cross_validate #método para evaluar varios particionamientos de C-V\n",
    "from sklearn.model_selection import KFold, StratifiedKFold, RepeatedKFold, LeaveOneOut #Iteradores de C-V\n",
    "import seaborn as sns\n",
    "import math\n",
    "import warnings\n",
    "warnings.filterwarnings(\"ignore\")"
   ]
  },
  {
   "cell_type": "code",
   "execution_count": 49,
   "metadata": {},
   "outputs": [
    {
     "name": "stdout",
     "output_type": "stream",
     "text": [
      "(23162, 9)\n"
     ]
    },
    {
     "data": {
      "text/html": [
       "<div>\n",
       "<style scoped>\n",
       "    .dataframe tbody tr th:only-of-type {\n",
       "        vertical-align: middle;\n",
       "    }\n",
       "\n",
       "    .dataframe tbody tr th {\n",
       "        vertical-align: top;\n",
       "    }\n",
       "\n",
       "    .dataframe thead th {\n",
       "        text-align: right;\n",
       "    }\n",
       "</style>\n",
       "<table border=\"1\" class=\"dataframe\">\n",
       "  <thead>\n",
       "    <tr style=\"text-align: right;\">\n",
       "      <th></th>\n",
       "      <th>ESTADO</th>\n",
       "      <th>INGRESOS</th>\n",
       "      <th>CASA</th>\n",
       "      <th>PRECIO_DISPOSITIVO</th>\n",
       "      <th>MESES</th>\n",
       "      <th>DURACION</th>\n",
       "      <th>SOBRECARGO</th>\n",
       "      <th>SALDO_RESTANTE</th>\n",
       "      <th>SATISFACCION</th>\n",
       "    </tr>\n",
       "  </thead>\n",
       "  <tbody>\n",
       "    <tr>\n",
       "      <th>0</th>\n",
       "      <td>VINCULADO</td>\n",
       "      <td>4074840</td>\n",
       "      <td>8.830000e+08</td>\n",
       "      <td>1444153.0</td>\n",
       "      <td>26</td>\n",
       "      <td>2.3</td>\n",
       "      <td>11.167542</td>\n",
       "      <td>20.3</td>\n",
       "      <td>1.762872</td>\n",
       "    </tr>\n",
       "    <tr>\n",
       "      <th>1</th>\n",
       "      <td>VINCULADO</td>\n",
       "      <td>8574088</td>\n",
       "      <td>1.745000e+09</td>\n",
       "      <td>2157661.0</td>\n",
       "      <td>23</td>\n",
       "      <td>3.7</td>\n",
       "      <td>0.000000</td>\n",
       "      <td>53.5</td>\n",
       "      <td>3.361266</td>\n",
       "    </tr>\n",
       "    <tr>\n",
       "      <th>2</th>\n",
       "      <td>RETIRADO</td>\n",
       "      <td>795993</td>\n",
       "      <td>9.500000e+07</td>\n",
       "      <td>452809.0</td>\n",
       "      <td>38</td>\n",
       "      <td>16.8</td>\n",
       "      <td>350.610224</td>\n",
       "      <td>13.9</td>\n",
       "      <td>8.359438</td>\n",
       "    </tr>\n",
       "    <tr>\n",
       "      <th>3</th>\n",
       "      <td>RETIRADO</td>\n",
       "      <td>8115015</td>\n",
       "      <td>8.300000e+07</td>\n",
       "      <td>2617184.0</td>\n",
       "      <td>37</td>\n",
       "      <td>17.6</td>\n",
       "      <td>230.913888</td>\n",
       "      <td>45.7</td>\n",
       "      <td>8.964017</td>\n",
       "    </tr>\n",
       "    <tr>\n",
       "      <th>4</th>\n",
       "      <td>RETIRADO</td>\n",
       "      <td>8187499</td>\n",
       "      <td>6.770000e+08</td>\n",
       "      <td>666069.0</td>\n",
       "      <td>19</td>\n",
       "      <td>0.0</td>\n",
       "      <td>131.541983</td>\n",
       "      <td>67.2</td>\n",
       "      <td>8.808206</td>\n",
       "    </tr>\n",
       "  </tbody>\n",
       "</table>\n",
       "</div>"
      ],
      "text/plain": [
       "      ESTADO  INGRESOS          CASA  PRECIO_DISPOSITIVO  MESES  DURACION  \\\n",
       "0  VINCULADO   4074840  8.830000e+08           1444153.0     26       2.3   \n",
       "1  VINCULADO   8574088  1.745000e+09           2157661.0     23       3.7   \n",
       "2   RETIRADO    795993  9.500000e+07            452809.0     38      16.8   \n",
       "3   RETIRADO   8115015  8.300000e+07           2617184.0     37      17.6   \n",
       "4   RETIRADO   8187499  6.770000e+08            666069.0     19       0.0   \n",
       "\n",
       "   SOBRECARGO  SALDO_RESTANTE  SATISFACCION  \n",
       "0   11.167542            20.3      1.762872  \n",
       "1    0.000000            53.5      3.361266  \n",
       "2  350.610224            13.9      8.359438  \n",
       "3  230.913888            45.7      8.964017  \n",
       "4  131.541983            67.2      8.808206  "
      ]
     },
     "execution_count": 49,
     "metadata": {},
     "output_type": "execute_result"
    }
   ],
   "source": [
    "data = pd.read_csv('PF-02-DatosTelco.csv', sep=',')\n",
    "print(data.shape)\n",
    "data.head(5)"
   ]
  },
  {
   "cell_type": "code",
   "execution_count": 50,
   "metadata": {
    "scrolled": true
   },
   "outputs": [
    {
     "name": "stdout",
     "output_type": "stream",
     "text": [
      "<class 'pandas.core.frame.DataFrame'>\n",
      "RangeIndex: 23162 entries, 0 to 23161\n",
      "Data columns (total 9 columns):\n",
      "ESTADO                23162 non-null object\n",
      "INGRESOS              23162 non-null int64\n",
      "CASA                  23162 non-null float64\n",
      "PRECIO_DISPOSITIVO    23162 non-null float64\n",
      "MESES                 23162 non-null int64\n",
      "DURACION              23162 non-null float64\n",
      "SOBRECARGO            23162 non-null float64\n",
      "SALDO_RESTANTE        23162 non-null float64\n",
      "SATISFACCION          23162 non-null float64\n",
      "dtypes: float64(6), int64(2), object(1)\n",
      "memory usage: 1.6+ MB\n"
     ]
    }
   ],
   "source": [
    "data.info()"
   ]
  },
  {
   "cell_type": "code",
   "execution_count": 51,
   "metadata": {},
   "outputs": [
    {
     "data": {
      "text/html": [
       "<div>\n",
       "<style scoped>\n",
       "    .dataframe tbody tr th:only-of-type {\n",
       "        vertical-align: middle;\n",
       "    }\n",
       "\n",
       "    .dataframe tbody tr th {\n",
       "        vertical-align: top;\n",
       "    }\n",
       "\n",
       "    .dataframe thead th {\n",
       "        text-align: right;\n",
       "    }\n",
       "</style>\n",
       "<table border=\"1\" class=\"dataframe\">\n",
       "  <thead>\n",
       "    <tr style=\"text-align: right;\">\n",
       "      <th></th>\n",
       "      <th>ESTADO</th>\n",
       "      <th>INGRESOS</th>\n",
       "      <th>CASA</th>\n",
       "      <th>PRECIO_DISPOSITIVO</th>\n",
       "      <th>MESES</th>\n",
       "      <th>DURACION</th>\n",
       "      <th>SOBRECARGO</th>\n",
       "      <th>SALDO_RESTANTE</th>\n",
       "      <th>SATISFACCION</th>\n",
       "    </tr>\n",
       "  </thead>\n",
       "  <tbody>\n",
       "    <tr>\n",
       "      <th>count</th>\n",
       "      <td>23162</td>\n",
       "      <td>2.316200e+04</td>\n",
       "      <td>2.316200e+04</td>\n",
       "      <td>2.316200e+04</td>\n",
       "      <td>23162.000000</td>\n",
       "      <td>23162.000000</td>\n",
       "      <td>23162.000000</td>\n",
       "      <td>23162.000000</td>\n",
       "      <td>23162.000000</td>\n",
       "    </tr>\n",
       "    <tr>\n",
       "      <th>unique</th>\n",
       "      <td>2</td>\n",
       "      <td>NaN</td>\n",
       "      <td>NaN</td>\n",
       "      <td>NaN</td>\n",
       "      <td>NaN</td>\n",
       "      <td>NaN</td>\n",
       "      <td>NaN</td>\n",
       "      <td>NaN</td>\n",
       "      <td>NaN</td>\n",
       "    </tr>\n",
       "    <tr>\n",
       "      <th>top</th>\n",
       "      <td>RETIRADO</td>\n",
       "      <td>NaN</td>\n",
       "      <td>NaN</td>\n",
       "      <td>NaN</td>\n",
       "      <td>NaN</td>\n",
       "      <td>NaN</td>\n",
       "      <td>NaN</td>\n",
       "      <td>NaN</td>\n",
       "      <td>NaN</td>\n",
       "    </tr>\n",
       "    <tr>\n",
       "      <th>freq</th>\n",
       "      <td>11665</td>\n",
       "      <td>NaN</td>\n",
       "      <td>NaN</td>\n",
       "      <td>NaN</td>\n",
       "      <td>NaN</td>\n",
       "      <td>NaN</td>\n",
       "      <td>NaN</td>\n",
       "      <td>NaN</td>\n",
       "      <td>NaN</td>\n",
       "    </tr>\n",
       "    <tr>\n",
       "      <th>mean</th>\n",
       "      <td>NaN</td>\n",
       "      <td>4.813115e+06</td>\n",
       "      <td>7.161435e+08</td>\n",
       "      <td>1.315340e+06</td>\n",
       "      <td>24.197133</td>\n",
       "      <td>9.609852</td>\n",
       "      <td>110.056296</td>\n",
       "      <td>42.991888</td>\n",
       "      <td>5.480840</td>\n",
       "    </tr>\n",
       "    <tr>\n",
       "      <th>std</th>\n",
       "      <td>NaN</td>\n",
       "      <td>2.737374e+06</td>\n",
       "      <td>4.811551e+08</td>\n",
       "      <td>7.485700e+05</td>\n",
       "      <td>14.264014</td>\n",
       "      <td>7.040007</td>\n",
       "      <td>100.771503</td>\n",
       "      <td>30.204540</td>\n",
       "      <td>2.809938</td>\n",
       "    </tr>\n",
       "    <tr>\n",
       "      <th>min</th>\n",
       "      <td>NaN</td>\n",
       "      <td>1.500000e+05</td>\n",
       "      <td>8.000000e+07</td>\n",
       "      <td>2.000000e+05</td>\n",
       "      <td>0.000000</td>\n",
       "      <td>0.000000</td>\n",
       "      <td>0.000000</td>\n",
       "      <td>0.000000</td>\n",
       "      <td>0.613580</td>\n",
       "    </tr>\n",
       "    <tr>\n",
       "      <th>25%</th>\n",
       "      <td>NaN</td>\n",
       "      <td>2.156296e+06</td>\n",
       "      <td>3.570000e+08</td>\n",
       "      <td>6.571840e+05</td>\n",
       "      <td>14.000000</td>\n",
       "      <td>2.100000</td>\n",
       "      <td>12.566883</td>\n",
       "      <td>15.200000</td>\n",
       "      <td>2.705504</td>\n",
       "    </tr>\n",
       "    <tr>\n",
       "      <th>50%</th>\n",
       "      <td>NaN</td>\n",
       "      <td>6.137553e+06</td>\n",
       "      <td>6.240000e+08</td>\n",
       "      <td>1.237456e+06</td>\n",
       "      <td>24.000000</td>\n",
       "      <td>14.600000</td>\n",
       "      <td>75.383640</td>\n",
       "      <td>37.650000</td>\n",
       "      <td>4.064550</td>\n",
       "    </tr>\n",
       "    <tr>\n",
       "      <th>75%</th>\n",
       "      <td>NaN</td>\n",
       "      <td>7.347180e+06</td>\n",
       "      <td>9.077500e+08</td>\n",
       "      <td>1.829581e+06</td>\n",
       "      <td>34.000000</td>\n",
       "      <td>16.100000</td>\n",
       "      <td>201.550049</td>\n",
       "      <td>70.000000</td>\n",
       "      <td>8.268244</td>\n",
       "    </tr>\n",
       "    <tr>\n",
       "      <th>max</th>\n",
       "      <td>NaN</td>\n",
       "      <td>9.650000e+06</td>\n",
       "      <td>2.180000e+09</td>\n",
       "      <td>4.700000e+06</td>\n",
       "      <td>79.000000</td>\n",
       "      <td>20.100000</td>\n",
       "      <td>411.168400</td>\n",
       "      <td>130.700000</td>\n",
       "      <td>9.642618</td>\n",
       "    </tr>\n",
       "  </tbody>\n",
       "</table>\n",
       "</div>"
      ],
      "text/plain": [
       "          ESTADO      INGRESOS          CASA  PRECIO_DISPOSITIVO  \\\n",
       "count      23162  2.316200e+04  2.316200e+04        2.316200e+04   \n",
       "unique         2           NaN           NaN                 NaN   \n",
       "top     RETIRADO           NaN           NaN                 NaN   \n",
       "freq       11665           NaN           NaN                 NaN   \n",
       "mean         NaN  4.813115e+06  7.161435e+08        1.315340e+06   \n",
       "std          NaN  2.737374e+06  4.811551e+08        7.485700e+05   \n",
       "min          NaN  1.500000e+05  8.000000e+07        2.000000e+05   \n",
       "25%          NaN  2.156296e+06  3.570000e+08        6.571840e+05   \n",
       "50%          NaN  6.137553e+06  6.240000e+08        1.237456e+06   \n",
       "75%          NaN  7.347180e+06  9.077500e+08        1.829581e+06   \n",
       "max          NaN  9.650000e+06  2.180000e+09        4.700000e+06   \n",
       "\n",
       "               MESES      DURACION    SOBRECARGO  SALDO_RESTANTE  SATISFACCION  \n",
       "count   23162.000000  23162.000000  23162.000000    23162.000000  23162.000000  \n",
       "unique           NaN           NaN           NaN             NaN           NaN  \n",
       "top              NaN           NaN           NaN             NaN           NaN  \n",
       "freq             NaN           NaN           NaN             NaN           NaN  \n",
       "mean       24.197133      9.609852    110.056296       42.991888      5.480840  \n",
       "std        14.264014      7.040007    100.771503       30.204540      2.809938  \n",
       "min         0.000000      0.000000      0.000000        0.000000      0.613580  \n",
       "25%        14.000000      2.100000     12.566883       15.200000      2.705504  \n",
       "50%        24.000000     14.600000     75.383640       37.650000      4.064550  \n",
       "75%        34.000000     16.100000    201.550049       70.000000      8.268244  \n",
       "max        79.000000     20.100000    411.168400      130.700000      9.642618  "
      ]
     },
     "execution_count": 51,
     "metadata": {},
     "output_type": "execute_result"
    }
   ],
   "source": [
    "data.describe(include=\"all\")"
   ]
  },
  {
   "cell_type": "markdown",
   "metadata": {},
   "source": [
    "# Busco valores duplicados"
   ]
  },
  {
   "cell_type": "code",
   "execution_count": 52,
   "metadata": {},
   "outputs": [
    {
     "data": {
      "text/html": [
       "<div>\n",
       "<style scoped>\n",
       "    .dataframe tbody tr th:only-of-type {\n",
       "        vertical-align: middle;\n",
       "    }\n",
       "\n",
       "    .dataframe tbody tr th {\n",
       "        vertical-align: top;\n",
       "    }\n",
       "\n",
       "    .dataframe thead th {\n",
       "        text-align: right;\n",
       "    }\n",
       "</style>\n",
       "<table border=\"1\" class=\"dataframe\">\n",
       "  <thead>\n",
       "    <tr style=\"text-align: right;\">\n",
       "      <th></th>\n",
       "      <th>ESTADO</th>\n",
       "      <th>INGRESOS</th>\n",
       "      <th>CASA</th>\n",
       "      <th>PRECIO_DISPOSITIVO</th>\n",
       "      <th>MESES</th>\n",
       "      <th>DURACION</th>\n",
       "      <th>SOBRECARGO</th>\n",
       "      <th>SALDO_RESTANTE</th>\n",
       "      <th>SATISFACCION</th>\n",
       "    </tr>\n",
       "  </thead>\n",
       "  <tbody>\n",
       "  </tbody>\n",
       "</table>\n",
       "</div>"
      ],
      "text/plain": [
       "Empty DataFrame\n",
       "Columns: [ESTADO, INGRESOS, CASA, PRECIO_DISPOSITIVO, MESES, DURACION, SOBRECARGO, SALDO_RESTANTE, SATISFACCION]\n",
       "Index: []"
      ]
     },
     "execution_count": 52,
     "metadata": {},
     "output_type": "execute_result"
    }
   ],
   "source": [
    "data[data.duplicated()]"
   ]
  },
  {
   "cell_type": "markdown",
   "metadata": {},
   "source": [
    "# Buscamos valores nulos"
   ]
  },
  {
   "cell_type": "code",
   "execution_count": 53,
   "metadata": {},
   "outputs": [
    {
     "data": {
      "text/plain": [
       "False"
      ]
     },
     "execution_count": 53,
     "metadata": {},
     "output_type": "execute_result"
    }
   ],
   "source": [
    "data.isnull().values.any()"
   ]
  },
  {
   "cell_type": "markdown",
   "metadata": {},
   "source": [
    "# Revisamos qu elos datos esten completos"
   ]
  },
  {
   "cell_type": "code",
   "execution_count": 54,
   "metadata": {},
   "outputs": [
    {
     "data": {
      "text/plain": [
       "ESTADO                23162\n",
       "INGRESOS              23162\n",
       "CASA                  23162\n",
       "PRECIO_DISPOSITIVO    23162\n",
       "MESES                 23162\n",
       "DURACION              23162\n",
       "SOBRECARGO            23162\n",
       "SALDO_RESTANTE        23162\n",
       "SATISFACCION          23162\n",
       "dtype: int64"
      ]
     },
     "execution_count": 54,
     "metadata": {},
     "output_type": "execute_result"
    }
   ],
   "source": [
    "data.count()"
   ]
  },
  {
   "cell_type": "markdown",
   "metadata": {},
   "source": [
    "# Buscamos valores atipicos en INGRESOS"
   ]
  },
  {
   "cell_type": "code",
   "execution_count": 55,
   "metadata": {},
   "outputs": [
    {
     "data": {
      "text/plain": [
       "<matplotlib.axes._subplots.AxesSubplot at 0x1a1f044240>"
      ]
     },
     "execution_count": 55,
     "metadata": {},
     "output_type": "execute_result"
    },
    {
     "data": {
      "image/png": "[encoded data removed]",
      "text/plain": [
       "<Figure size 432x288 with 1 Axes>"
      ]
     },
     "metadata": {
      "needs_background": "light"
     },
     "output_type": "display_data"
    }
   ],
   "source": [
    "data.boxplot(column=['INGRESOS'])"
   ]
  },
  {
   "cell_type": "markdown",
   "metadata": {},
   "source": [
    "# Buscamos valores atipicos en CASA"
   ]
  },
  {
   "cell_type": "code",
   "execution_count": 56,
   "metadata": {
    "scrolled": true
   },
   "outputs": [
    {
     "data": {
      "text/plain": [
       "<matplotlib.axes._subplots.AxesSubplot at 0x1a1fc26da0>"
      ]
     },
     "execution_count": 56,
     "metadata": {},
     "output_type": "execute_result"
    },
    {
     "data": {
      "image/png": "[encoded data removed]",
      "text/plain": [
       "<Figure size 432x288 with 1 Axes>"
      ]
     },
     "metadata": {
      "needs_background": "light"
     },
     "output_type": "display_data"
    }
   ],
   "source": [
    "data.boxplot(column=['CASA'])"
   ]
  },
  {
   "cell_type": "markdown",
   "metadata": {},
   "source": [
    "## Segun este boxPlot hay una gran cantidad de datos atipicos en la variable CASA"
   ]
  },
  {
   "cell_type": "markdown",
   "metadata": {},
   "source": [
    "# Buscamos valores atipicos en PRECIO_DISPOSITIVO\t"
   ]
  },
  {
   "cell_type": "code",
   "execution_count": 57,
   "metadata": {},
   "outputs": [
    {
     "data": {
      "text/plain": [
       "<matplotlib.axes._subplots.AxesSubplot at 0x1a1f8bae48>"
      ]
     },
     "execution_count": 57,
     "metadata": {},
     "output_type": "execute_result"
    },
    {
     "data": {
      "image/png": "[encoded data removed]",
      "text/plain": [
       "<Figure size 432x288 with 1 Axes>"
      ]
     },
     "metadata": {
      "needs_background": "light"
     },
     "output_type": "display_data"
    }
   ],
   "source": [
    "data.boxplot(column=['PRECIO_DISPOSITIVO'])"
   ]
  },
  {
   "cell_type": "markdown",
   "metadata": {},
   "source": [
    "## Segun este boxPlot hay una gran cantidad de datos atipicos en la variable PRECIO_DISPOSITIVO"
   ]
  },
  {
   "cell_type": "markdown",
   "metadata": {},
   "source": [
    "# Buscamos valores atipicos en MESES\t"
   ]
  },
  {
   "cell_type": "code",
   "execution_count": 58,
   "metadata": {},
   "outputs": [
    {
     "data": {
      "text/plain": [
       "<matplotlib.axes._subplots.AxesSubplot at 0x1a1fca5b70>"
      ]
     },
     "execution_count": 58,
     "metadata": {},
     "output_type": "execute_result"
    },
    {
     "data": {
      "image/png": "[encoded data removed]",
      "text/plain": [
       "<Figure size 432x288 with 1 Axes>"
      ]
     },
     "metadata": {
      "needs_background": "light"
     },
     "output_type": "display_data"
    }
   ],
   "source": [
    "data.boxplot(column=['MESES'])"
   ]
  },
  {
   "cell_type": "markdown",
   "metadata": {},
   "source": [
    "## Segun este boxPlot hay una gran cantidad de datos atipicos en la variable MESES"
   ]
  },
  {
   "cell_type": "markdown",
   "metadata": {},
   "source": [
    "# Buscamos valores atipicos en DURACION"
   ]
  },
  {
   "cell_type": "code",
   "execution_count": 59,
   "metadata": {},
   "outputs": [
    {
     "data": {
      "text/plain": [
       "<matplotlib.axes._subplots.AxesSubplot at 0x1a1fa530b8>"
      ]
     },
     "execution_count": 59,
     "metadata": {},
     "output_type": "execute_result"
    },
    {
     "data": {
      "image/png": "[encoded data removed]",
      "text/plain": [
       "<Figure size 432x288 with 1 Axes>"
      ]
     },
     "metadata": {
      "needs_background": "light"
     },
     "output_type": "display_data"
    }
   ],
   "source": [
    "data.boxplot(column=['DURACION'])"
   ]
  },
  {
   "cell_type": "markdown",
   "metadata": {},
   "source": [
    "# Buscamos valores atipicos en SOBRECARGO"
   ]
  },
  {
   "cell_type": "code",
   "execution_count": 60,
   "metadata": {},
   "outputs": [
    {
     "data": {
      "text/plain": [
       "<matplotlib.axes._subplots.AxesSubplot at 0x1a1f6de978>"
      ]
     },
     "execution_count": 60,
     "metadata": {},
     "output_type": "execute_result"
    },
    {
     "data": {
      "image/png": "[encoded data removed]",
      "text/plain": [
       "<Figure size 432x288 with 1 Axes>"
      ]
     },
     "metadata": {
      "needs_background": "light"
     },
     "output_type": "display_data"
    }
   ],
   "source": [
    "data.boxplot(column=['SOBRECARGO'])"
   ]
  },
  {
   "cell_type": "markdown",
   "metadata": {},
   "source": [
    "# Buscamos valores atipicos en SALDO_RESTANTE"
   ]
  },
  {
   "cell_type": "code",
   "execution_count": 61,
   "metadata": {},
   "outputs": [
    {
     "data": {
      "text/plain": [
       "<matplotlib.axes._subplots.AxesSubplot at 0x1a1f701da0>"
      ]
     },
     "execution_count": 61,
     "metadata": {},
     "output_type": "execute_result"
    },
    {
     "data": {
      "image/png": "[encoded data removed]",
      "text/plain": [
       "<Figure size 432x288 with 1 Axes>"
      ]
     },
     "metadata": {
      "needs_background": "light"
     },
     "output_type": "display_data"
    }
   ],
   "source": [
    "data.boxplot(column=['SALDO_RESTANTE'])"
   ]
  },
  {
   "cell_type": "markdown",
   "metadata": {},
   "source": [
    "# Buscamos valores atipicos en SATISFACCION"
   ]
  },
  {
   "cell_type": "code",
   "execution_count": 62,
   "metadata": {},
   "outputs": [
    {
     "data": {
      "text/plain": [
       "<matplotlib.axes._subplots.AxesSubplot at 0x1a1f47d358>"
      ]
     },
     "execution_count": 62,
     "metadata": {},
     "output_type": "execute_result"
    },
    {
     "data": {
      "image/png": "[encoded data removed]",
      "text/plain": [
       "<Figure size 432x288 with 1 Axes>"
      ]
     },
     "metadata": {
      "needs_background": "light"
     },
     "output_type": "display_data"
    }
   ],
   "source": [
    "data.boxplot(column=['SATISFACCION'])"
   ]
  },
  {
   "cell_type": "markdown",
   "metadata": {},
   "source": [
    "________________"
   ]
  },
  {
   "cell_type": "markdown",
   "metadata": {},
   "source": [
    "________________"
   ]
  },
  {
   "cell_type": "markdown",
   "metadata": {},
   "source": [
    "________________"
   ]
  },
  {
   "cell_type": "markdown",
   "metadata": {},
   "source": [
    "# Solucion de inconsistencias en los datos\n"
   ]
  },
  {
   "cell_type": "code",
   "execution_count": 63,
   "metadata": {},
   "outputs": [],
   "source": [
    "deletedData=data.copy()"
   ]
  },
  {
   "cell_type": "code",
   "execution_count": 64,
   "metadata": {},
   "outputs": [
    {
     "name": "stdout",
     "output_type": "stream",
     "text": [
      "Antes: (23162, 9)\n",
      "Despues: (20953, 9)\n"
     ]
    }
   ],
   "source": [
    "print(\"Antes: \"+str(data.shape))\n",
    "def drop_numerical_outliers(data, minq=0.01,maxq=0.99):\n",
    "    # Constrains will contain `True` or `False` depending on if it is a value below the threshold.\n",
    "    constrains = data.select_dtypes(include=[np.number]) \\\n",
    "        .apply(lambda x: x.between(x.quantile(minq), x.quantile(maxq)), reduce=False) \\\n",
    "        .all(axis=1)\n",
    "    # Drop (inplace) values set to be rejected\n",
    "    data.drop(data.index[~constrains], inplace=True)\n",
    "drop_numerical_outliers(data)\n",
    "data\n",
    "print(\"Despues: \"+str(data.shape))"
   ]
  },
  {
   "cell_type": "code",
   "execution_count": 65,
   "metadata": {},
   "outputs": [
    {
     "name": "stdout",
     "output_type": "stream",
     "text": [
      "Antes: (23162, 9)\n",
      "Despues: (2209, 9)\n"
     ]
    }
   ],
   "source": [
    "print(\"Antes: \"+str(deletedData.shape))\n",
    "def drop_numerical_outliers1(deletedData, minq=0.01,maxq=0.99):\n",
    "    # Constrains will contain `True` or `False` depending on if it is a value below the threshold.\n",
    "    constrains = deletedData.select_dtypes(include=[np.number]) \\\n",
    "        .apply(lambda x: x.between(x.quantile(minq), x.quantile(maxq)), reduce=False) \\\n",
    "        .all(axis=1)\n",
    "    # Drop (inplace) values set to be rejected\n",
    "    deletedData.drop(deletedData.index[constrains], inplace=True)\n",
    "drop_numerical_outliers1(deletedData)\n",
    "deletedData\n",
    "print(\"Despues: \"+str(deletedData.shape))"
   ]
  },
  {
   "cell_type": "markdown",
   "metadata": {
    "scrolled": true
   },
   "source": [
    "## Aqui estan los datos atipicos encontrados y separados de dataFrame original"
   ]
  },
  {
   "cell_type": "code",
   "execution_count": 66,
   "metadata": {},
   "outputs": [
    {
     "data": {
      "text/html": [
       "<div>\n",
       "<style scoped>\n",
       "    .dataframe tbody tr th:only-of-type {\n",
       "        vertical-align: middle;\n",
       "    }\n",
       "\n",
       "    .dataframe tbody tr th {\n",
       "        vertical-align: top;\n",
       "    }\n",
       "\n",
       "    .dataframe thead th {\n",
       "        text-align: right;\n",
       "    }\n",
       "</style>\n",
       "<table border=\"1\" class=\"dataframe\">\n",
       "  <thead>\n",
       "    <tr style=\"text-align: right;\">\n",
       "      <th></th>\n",
       "      <th>ESTADO</th>\n",
       "      <th>INGRESOS</th>\n",
       "      <th>CASA</th>\n",
       "      <th>PRECIO_DISPOSITIVO</th>\n",
       "      <th>MESES</th>\n",
       "      <th>DURACION</th>\n",
       "      <th>SOBRECARGO</th>\n",
       "      <th>SALDO_RESTANTE</th>\n",
       "      <th>SATISFACCION</th>\n",
       "    </tr>\n",
       "  </thead>\n",
       "  <tbody>\n",
       "    <tr>\n",
       "      <th>1</th>\n",
       "      <td>VINCULADO</td>\n",
       "      <td>8574088</td>\n",
       "      <td>1.745000e+09</td>\n",
       "      <td>2157661.0</td>\n",
       "      <td>23</td>\n",
       "      <td>3.7</td>\n",
       "      <td>0.000000</td>\n",
       "      <td>53.5</td>\n",
       "      <td>3.361266</td>\n",
       "    </tr>\n",
       "    <tr>\n",
       "      <th>2</th>\n",
       "      <td>RETIRADO</td>\n",
       "      <td>795993</td>\n",
       "      <td>9.500000e+07</td>\n",
       "      <td>452809.0</td>\n",
       "      <td>38</td>\n",
       "      <td>16.8</td>\n",
       "      <td>350.610224</td>\n",
       "      <td>13.9</td>\n",
       "      <td>8.359438</td>\n",
       "    </tr>\n",
       "    <tr>\n",
       "      <th>6</th>\n",
       "      <td>RETIRADO</td>\n",
       "      <td>7256758</td>\n",
       "      <td>7.120000e+08</td>\n",
       "      <td>3493707.0</td>\n",
       "      <td>20</td>\n",
       "      <td>14.8</td>\n",
       "      <td>217.322554</td>\n",
       "      <td>69.5</td>\n",
       "      <td>8.285137</td>\n",
       "    </tr>\n",
       "    <tr>\n",
       "      <th>29</th>\n",
       "      <td>RETIRADO</td>\n",
       "      <td>1409067</td>\n",
       "      <td>1.105000e+09</td>\n",
       "      <td>644429.0</td>\n",
       "      <td>55</td>\n",
       "      <td>16.6</td>\n",
       "      <td>188.592668</td>\n",
       "      <td>5.8</td>\n",
       "      <td>9.027948</td>\n",
       "    </tr>\n",
       "    <tr>\n",
       "      <th>31</th>\n",
       "      <td>VINCULADO</td>\n",
       "      <td>7320612</td>\n",
       "      <td>1.548000e+09</td>\n",
       "      <td>284060.0</td>\n",
       "      <td>38</td>\n",
       "      <td>18.2</td>\n",
       "      <td>31.606283</td>\n",
       "      <td>92.6</td>\n",
       "      <td>2.779810</td>\n",
       "    </tr>\n",
       "    <tr>\n",
       "      <th>44</th>\n",
       "      <td>RETIRADO</td>\n",
       "      <td>8763522</td>\n",
       "      <td>7.940000e+08</td>\n",
       "      <td>902864.0</td>\n",
       "      <td>15</td>\n",
       "      <td>15.0</td>\n",
       "      <td>21.277878</td>\n",
       "      <td>56.6</td>\n",
       "      <td>3.330574</td>\n",
       "    </tr>\n",
       "    <tr>\n",
       "      <th>45</th>\n",
       "      <td>RETIRADO</td>\n",
       "      <td>4036032</td>\n",
       "      <td>5.080000e+08</td>\n",
       "      <td>2750512.0</td>\n",
       "      <td>27</td>\n",
       "      <td>2.5</td>\n",
       "      <td>224.352073</td>\n",
       "      <td>25.6</td>\n",
       "      <td>9.117037</td>\n",
       "    </tr>\n",
       "    <tr>\n",
       "      <th>82</th>\n",
       "      <td>VINCULADO</td>\n",
       "      <td>7319634</td>\n",
       "      <td>1.599000e+09</td>\n",
       "      <td>1259835.0</td>\n",
       "      <td>12</td>\n",
       "      <td>2.0</td>\n",
       "      <td>0.000000</td>\n",
       "      <td>72.7</td>\n",
       "      <td>1.208224</td>\n",
       "    </tr>\n",
       "    <tr>\n",
       "      <th>88</th>\n",
       "      <td>RETIRADO</td>\n",
       "      <td>7659140</td>\n",
       "      <td>8.540000e+08</td>\n",
       "      <td>2944507.0</td>\n",
       "      <td>37</td>\n",
       "      <td>18.4</td>\n",
       "      <td>287.722936</td>\n",
       "      <td>80.8</td>\n",
       "      <td>8.163270</td>\n",
       "    </tr>\n",
       "    <tr>\n",
       "      <th>100</th>\n",
       "      <td>RETIRADO</td>\n",
       "      <td>8691926</td>\n",
       "      <td>1.978000e+09</td>\n",
       "      <td>1100248.0</td>\n",
       "      <td>10</td>\n",
       "      <td>15.1</td>\n",
       "      <td>259.381896</td>\n",
       "      <td>51.1</td>\n",
       "      <td>8.289950</td>\n",
       "    </tr>\n",
       "    <tr>\n",
       "      <th>106</th>\n",
       "      <td>RETIRADO</td>\n",
       "      <td>6498680</td>\n",
       "      <td>1.569000e+09</td>\n",
       "      <td>1157466.0</td>\n",
       "      <td>50</td>\n",
       "      <td>2.0</td>\n",
       "      <td>325.847932</td>\n",
       "      <td>73.2</td>\n",
       "      <td>8.245965</td>\n",
       "    </tr>\n",
       "    <tr>\n",
       "      <th>125</th>\n",
       "      <td>VINCULADO</td>\n",
       "      <td>500452</td>\n",
       "      <td>1.120000e+08</td>\n",
       "      <td>1221589.0</td>\n",
       "      <td>13</td>\n",
       "      <td>18.7</td>\n",
       "      <td>0.000000</td>\n",
       "      <td>0.0</td>\n",
       "      <td>2.559992</td>\n",
       "    </tr>\n",
       "    <tr>\n",
       "      <th>131</th>\n",
       "      <td>VINCULADO</td>\n",
       "      <td>1740282</td>\n",
       "      <td>3.820000e+08</td>\n",
       "      <td>268350.0</td>\n",
       "      <td>25</td>\n",
       "      <td>15.6</td>\n",
       "      <td>0.000000</td>\n",
       "      <td>27.3</td>\n",
       "      <td>3.125431</td>\n",
       "    </tr>\n",
       "    <tr>\n",
       "      <th>164</th>\n",
       "      <td>RETIRADO</td>\n",
       "      <td>1254914</td>\n",
       "      <td>2.740000e+08</td>\n",
       "      <td>471106.0</td>\n",
       "      <td>17</td>\n",
       "      <td>16.1</td>\n",
       "      <td>295.651303</td>\n",
       "      <td>26.0</td>\n",
       "      <td>9.022812</td>\n",
       "    </tr>\n",
       "    <tr>\n",
       "      <th>171</th>\n",
       "      <td>RETIRADO</td>\n",
       "      <td>7814631</td>\n",
       "      <td>8.200000e+07</td>\n",
       "      <td>499554.0</td>\n",
       "      <td>15</td>\n",
       "      <td>16.1</td>\n",
       "      <td>197.760449</td>\n",
       "      <td>59.7</td>\n",
       "      <td>8.347264</td>\n",
       "    </tr>\n",
       "    <tr>\n",
       "      <th>198</th>\n",
       "      <td>RETIRADO</td>\n",
       "      <td>7419360</td>\n",
       "      <td>4.240000e+08</td>\n",
       "      <td>3900085.0</td>\n",
       "      <td>19</td>\n",
       "      <td>14.8</td>\n",
       "      <td>106.426397</td>\n",
       "      <td>59.3</td>\n",
       "      <td>8.169416</td>\n",
       "    </tr>\n",
       "    <tr>\n",
       "      <th>205</th>\n",
       "      <td>RETIRADO</td>\n",
       "      <td>560082</td>\n",
       "      <td>1.214000e+09</td>\n",
       "      <td>2725189.0</td>\n",
       "      <td>9</td>\n",
       "      <td>18.4</td>\n",
       "      <td>135.479783</td>\n",
       "      <td>8.6</td>\n",
       "      <td>8.304915</td>\n",
       "    </tr>\n",
       "    <tr>\n",
       "      <th>215</th>\n",
       "      <td>VINCULADO</td>\n",
       "      <td>7171573</td>\n",
       "      <td>6.040000e+08</td>\n",
       "      <td>1634653.0</td>\n",
       "      <td>22</td>\n",
       "      <td>1.9</td>\n",
       "      <td>0.000000</td>\n",
       "      <td>70.7</td>\n",
       "      <td>1.398058</td>\n",
       "    </tr>\n",
       "    <tr>\n",
       "      <th>220</th>\n",
       "      <td>VINCULADO</td>\n",
       "      <td>425986</td>\n",
       "      <td>7.900000e+08</td>\n",
       "      <td>999679.0</td>\n",
       "      <td>37</td>\n",
       "      <td>18.7</td>\n",
       "      <td>45.774203</td>\n",
       "      <td>10.4</td>\n",
       "      <td>3.159315</td>\n",
       "    </tr>\n",
       "    <tr>\n",
       "      <th>237</th>\n",
       "      <td>RETIRADO</td>\n",
       "      <td>6846667</td>\n",
       "      <td>6.110000e+08</td>\n",
       "      <td>1176578.0</td>\n",
       "      <td>16</td>\n",
       "      <td>4.1</td>\n",
       "      <td>244.530792</td>\n",
       "      <td>64.3</td>\n",
       "      <td>9.157133</td>\n",
       "    </tr>\n",
       "    <tr>\n",
       "      <th>244</th>\n",
       "      <td>VINCULADO</td>\n",
       "      <td>6630441</td>\n",
       "      <td>1.421000e+09</td>\n",
       "      <td>3408798.0</td>\n",
       "      <td>31</td>\n",
       "      <td>14.8</td>\n",
       "      <td>180.492434</td>\n",
       "      <td>63.2</td>\n",
       "      <td>8.991852</td>\n",
       "    </tr>\n",
       "    <tr>\n",
       "      <th>251</th>\n",
       "      <td>VINCULADO</td>\n",
       "      <td>8167579</td>\n",
       "      <td>1.948000e+09</td>\n",
       "      <td>393998.0</td>\n",
       "      <td>21</td>\n",
       "      <td>2.0</td>\n",
       "      <td>24.488372</td>\n",
       "      <td>95.2</td>\n",
       "      <td>2.757290</td>\n",
       "    </tr>\n",
       "    <tr>\n",
       "      <th>253</th>\n",
       "      <td>RETIRADO</td>\n",
       "      <td>2917976</td>\n",
       "      <td>2.830000e+08</td>\n",
       "      <td>824481.0</td>\n",
       "      <td>3</td>\n",
       "      <td>3.3</td>\n",
       "      <td>382.943357</td>\n",
       "      <td>18.5</td>\n",
       "      <td>7.537220</td>\n",
       "    </tr>\n",
       "    <tr>\n",
       "      <th>261</th>\n",
       "      <td>RETIRADO</td>\n",
       "      <td>2865342</td>\n",
       "      <td>4.440000e+08</td>\n",
       "      <td>723521.0</td>\n",
       "      <td>48</td>\n",
       "      <td>1.9</td>\n",
       "      <td>348.036272</td>\n",
       "      <td>15.8</td>\n",
       "      <td>8.242486</td>\n",
       "    </tr>\n",
       "    <tr>\n",
       "      <th>268</th>\n",
       "      <td>RETIRADO</td>\n",
       "      <td>2120877</td>\n",
       "      <td>8.200000e+07</td>\n",
       "      <td>1367476.0</td>\n",
       "      <td>22</td>\n",
       "      <td>16.6</td>\n",
       "      <td>218.805805</td>\n",
       "      <td>19.3</td>\n",
       "      <td>8.304304</td>\n",
       "    </tr>\n",
       "    <tr>\n",
       "      <th>274</th>\n",
       "      <td>RETIRADO</td>\n",
       "      <td>3499394</td>\n",
       "      <td>8.160000e+08</td>\n",
       "      <td>1149506.0</td>\n",
       "      <td>60</td>\n",
       "      <td>2.2</td>\n",
       "      <td>222.020878</td>\n",
       "      <td>21.9</td>\n",
       "      <td>8.502669</td>\n",
       "    </tr>\n",
       "    <tr>\n",
       "      <th>279</th>\n",
       "      <td>VINCULADO</td>\n",
       "      <td>7926949</td>\n",
       "      <td>1.903000e+09</td>\n",
       "      <td>977319.0</td>\n",
       "      <td>33</td>\n",
       "      <td>0.0</td>\n",
       "      <td>45.768984</td>\n",
       "      <td>103.9</td>\n",
       "      <td>2.941750</td>\n",
       "    </tr>\n",
       "    <tr>\n",
       "      <th>281</th>\n",
       "      <td>VINCULADO</td>\n",
       "      <td>7925242</td>\n",
       "      <td>6.800000e+08</td>\n",
       "      <td>2361103.0</td>\n",
       "      <td>12</td>\n",
       "      <td>17.8</td>\n",
       "      <td>67.640411</td>\n",
       "      <td>79.2</td>\n",
       "      <td>1.591804</td>\n",
       "    </tr>\n",
       "    <tr>\n",
       "      <th>284</th>\n",
       "      <td>RETIRADO</td>\n",
       "      <td>7147938</td>\n",
       "      <td>6.230000e+08</td>\n",
       "      <td>2112939.0</td>\n",
       "      <td>4</td>\n",
       "      <td>18.6</td>\n",
       "      <td>154.178605</td>\n",
       "      <td>84.5</td>\n",
       "      <td>7.831342</td>\n",
       "    </tr>\n",
       "    <tr>\n",
       "      <th>286</th>\n",
       "      <td>VINCULADO</td>\n",
       "      <td>8503026</td>\n",
       "      <td>1.729000e+09</td>\n",
       "      <td>1355817.0</td>\n",
       "      <td>13</td>\n",
       "      <td>2.2</td>\n",
       "      <td>18.243825</td>\n",
       "      <td>79.3</td>\n",
       "      <td>2.799137</td>\n",
       "    </tr>\n",
       "    <tr>\n",
       "      <th>...</th>\n",
       "      <td>...</td>\n",
       "      <td>...</td>\n",
       "      <td>...</td>\n",
       "      <td>...</td>\n",
       "      <td>...</td>\n",
       "      <td>...</td>\n",
       "      <td>...</td>\n",
       "      <td>...</td>\n",
       "      <td>...</td>\n",
       "    </tr>\n",
       "    <tr>\n",
       "      <th>22870</th>\n",
       "      <td>RETIRADO</td>\n",
       "      <td>1121767</td>\n",
       "      <td>5.810000e+08</td>\n",
       "      <td>213877.0</td>\n",
       "      <td>21</td>\n",
       "      <td>15.5</td>\n",
       "      <td>192.770200</td>\n",
       "      <td>19.8</td>\n",
       "      <td>7.865820</td>\n",
       "    </tr>\n",
       "    <tr>\n",
       "      <th>22874</th>\n",
       "      <td>RETIRADO</td>\n",
       "      <td>7091405</td>\n",
       "      <td>4.200000e+08</td>\n",
       "      <td>291860.0</td>\n",
       "      <td>12</td>\n",
       "      <td>1.9</td>\n",
       "      <td>162.088700</td>\n",
       "      <td>67.4</td>\n",
       "      <td>7.832097</td>\n",
       "    </tr>\n",
       "    <tr>\n",
       "      <th>22882</th>\n",
       "      <td>VINCULADO</td>\n",
       "      <td>7357010</td>\n",
       "      <td>2.050000e+08</td>\n",
       "      <td>708797.0</td>\n",
       "      <td>63</td>\n",
       "      <td>1.4</td>\n",
       "      <td>0.000000</td>\n",
       "      <td>100.8</td>\n",
       "      <td>2.895299</td>\n",
       "    </tr>\n",
       "    <tr>\n",
       "      <th>22915</th>\n",
       "      <td>VINCULADO</td>\n",
       "      <td>8660548</td>\n",
       "      <td>4.420000e+08</td>\n",
       "      <td>2138307.0</td>\n",
       "      <td>15</td>\n",
       "      <td>0.4</td>\n",
       "      <td>0.000000</td>\n",
       "      <td>85.0</td>\n",
       "      <td>2.110537</td>\n",
       "    </tr>\n",
       "    <tr>\n",
       "      <th>22916</th>\n",
       "      <td>VINCULADO</td>\n",
       "      <td>578651</td>\n",
       "      <td>5.250000e+08</td>\n",
       "      <td>2528896.0</td>\n",
       "      <td>62</td>\n",
       "      <td>17.3</td>\n",
       "      <td>43.674230</td>\n",
       "      <td>12.5</td>\n",
       "      <td>2.387023</td>\n",
       "    </tr>\n",
       "    <tr>\n",
       "      <th>22934</th>\n",
       "      <td>RETIRADO</td>\n",
       "      <td>8206369</td>\n",
       "      <td>6.500000e+08</td>\n",
       "      <td>421766.0</td>\n",
       "      <td>22</td>\n",
       "      <td>16.7</td>\n",
       "      <td>333.853900</td>\n",
       "      <td>71.0</td>\n",
       "      <td>8.211674</td>\n",
       "    </tr>\n",
       "    <tr>\n",
       "      <th>22940</th>\n",
       "      <td>VINCULADO</td>\n",
       "      <td>7147431</td>\n",
       "      <td>1.608000e+09</td>\n",
       "      <td>906166.0</td>\n",
       "      <td>0</td>\n",
       "      <td>4.5</td>\n",
       "      <td>0.000000</td>\n",
       "      <td>95.3</td>\n",
       "      <td>1.554709</td>\n",
       "    </tr>\n",
       "    <tr>\n",
       "      <th>22947</th>\n",
       "      <td>RETIRADO</td>\n",
       "      <td>8587999</td>\n",
       "      <td>8.970000e+08</td>\n",
       "      <td>464885.0</td>\n",
       "      <td>0</td>\n",
       "      <td>0.4</td>\n",
       "      <td>205.059600</td>\n",
       "      <td>120.5</td>\n",
       "      <td>8.095677</td>\n",
       "    </tr>\n",
       "    <tr>\n",
       "      <th>22963</th>\n",
       "      <td>VINCULADO</td>\n",
       "      <td>4829745</td>\n",
       "      <td>1.137000e+09</td>\n",
       "      <td>1149210.0</td>\n",
       "      <td>62</td>\n",
       "      <td>2.6</td>\n",
       "      <td>0.735571</td>\n",
       "      <td>26.5</td>\n",
       "      <td>2.955354</td>\n",
       "    </tr>\n",
       "    <tr>\n",
       "      <th>22964</th>\n",
       "      <td>RETIRADO</td>\n",
       "      <td>8023635</td>\n",
       "      <td>3.980000e+08</td>\n",
       "      <td>1801577.0</td>\n",
       "      <td>44</td>\n",
       "      <td>14.8</td>\n",
       "      <td>342.772600</td>\n",
       "      <td>81.6</td>\n",
       "      <td>7.661582</td>\n",
       "    </tr>\n",
       "    <tr>\n",
       "      <th>22968</th>\n",
       "      <td>RETIRADO</td>\n",
       "      <td>7254859</td>\n",
       "      <td>1.322000e+09</td>\n",
       "      <td>665699.0</td>\n",
       "      <td>18</td>\n",
       "      <td>16.6</td>\n",
       "      <td>232.721800</td>\n",
       "      <td>112.8</td>\n",
       "      <td>8.281512</td>\n",
       "    </tr>\n",
       "    <tr>\n",
       "      <th>22970</th>\n",
       "      <td>VINCULADO</td>\n",
       "      <td>6328930</td>\n",
       "      <td>1.860000e+08</td>\n",
       "      <td>465697.0</td>\n",
       "      <td>24</td>\n",
       "      <td>16.2</td>\n",
       "      <td>0.000000</td>\n",
       "      <td>63.7</td>\n",
       "      <td>1.566127</td>\n",
       "    </tr>\n",
       "    <tr>\n",
       "      <th>22973</th>\n",
       "      <td>RETIRADO</td>\n",
       "      <td>6915137</td>\n",
       "      <td>1.041000e+09</td>\n",
       "      <td>872827.0</td>\n",
       "      <td>38</td>\n",
       "      <td>16.9</td>\n",
       "      <td>133.177800</td>\n",
       "      <td>112.5</td>\n",
       "      <td>8.555576</td>\n",
       "    </tr>\n",
       "    <tr>\n",
       "      <th>22978</th>\n",
       "      <td>RETIRADO</td>\n",
       "      <td>8427360</td>\n",
       "      <td>1.801000e+09</td>\n",
       "      <td>395777.0</td>\n",
       "      <td>20</td>\n",
       "      <td>0.4</td>\n",
       "      <td>132.452800</td>\n",
       "      <td>60.7</td>\n",
       "      <td>9.068966</td>\n",
       "    </tr>\n",
       "    <tr>\n",
       "      <th>22980</th>\n",
       "      <td>VINCULADO</td>\n",
       "      <td>7663743</td>\n",
       "      <td>6.410000e+08</td>\n",
       "      <td>992312.0</td>\n",
       "      <td>8</td>\n",
       "      <td>16.6</td>\n",
       "      <td>7.810196</td>\n",
       "      <td>71.5</td>\n",
       "      <td>1.478909</td>\n",
       "    </tr>\n",
       "    <tr>\n",
       "      <th>22989</th>\n",
       "      <td>VINCULADO</td>\n",
       "      <td>8595204</td>\n",
       "      <td>8.800000e+08</td>\n",
       "      <td>589332.0</td>\n",
       "      <td>43</td>\n",
       "      <td>15.5</td>\n",
       "      <td>13.677990</td>\n",
       "      <td>60.8</td>\n",
       "      <td>2.105382</td>\n",
       "    </tr>\n",
       "    <tr>\n",
       "      <th>23009</th>\n",
       "      <td>RETIRADO</td>\n",
       "      <td>7037442</td>\n",
       "      <td>1.659000e+09</td>\n",
       "      <td>1042353.0</td>\n",
       "      <td>18</td>\n",
       "      <td>18.2</td>\n",
       "      <td>336.125500</td>\n",
       "      <td>56.7</td>\n",
       "      <td>8.177903</td>\n",
       "    </tr>\n",
       "    <tr>\n",
       "      <th>23030</th>\n",
       "      <td>RETIRADO</td>\n",
       "      <td>3375942</td>\n",
       "      <td>8.310000e+08</td>\n",
       "      <td>260679.0</td>\n",
       "      <td>27</td>\n",
       "      <td>0.7</td>\n",
       "      <td>210.019200</td>\n",
       "      <td>16.8</td>\n",
       "      <td>8.865585</td>\n",
       "    </tr>\n",
       "    <tr>\n",
       "      <th>23033</th>\n",
       "      <td>RETIRADO</td>\n",
       "      <td>150000</td>\n",
       "      <td>8.080000e+08</td>\n",
       "      <td>1581031.0</td>\n",
       "      <td>24</td>\n",
       "      <td>16.5</td>\n",
       "      <td>189.139400</td>\n",
       "      <td>32.3</td>\n",
       "      <td>9.096923</td>\n",
       "    </tr>\n",
       "    <tr>\n",
       "      <th>23041</th>\n",
       "      <td>RETIRADO</td>\n",
       "      <td>6961032</td>\n",
       "      <td>6.090000e+08</td>\n",
       "      <td>2101462.0</td>\n",
       "      <td>30</td>\n",
       "      <td>13.2</td>\n",
       "      <td>267.821900</td>\n",
       "      <td>80.7</td>\n",
       "      <td>9.073058</td>\n",
       "    </tr>\n",
       "    <tr>\n",
       "      <th>23042</th>\n",
       "      <td>VINCULADO</td>\n",
       "      <td>7955630</td>\n",
       "      <td>6.620000e+08</td>\n",
       "      <td>737602.0</td>\n",
       "      <td>22</td>\n",
       "      <td>15.1</td>\n",
       "      <td>17.979350</td>\n",
       "      <td>108.5</td>\n",
       "      <td>2.390845</td>\n",
       "    </tr>\n",
       "    <tr>\n",
       "      <th>23049</th>\n",
       "      <td>VINCULADO</td>\n",
       "      <td>8578558</td>\n",
       "      <td>2.067000e+09</td>\n",
       "      <td>1602614.0</td>\n",
       "      <td>11</td>\n",
       "      <td>17.9</td>\n",
       "      <td>57.687330</td>\n",
       "      <td>86.1</td>\n",
       "      <td>2.231407</td>\n",
       "    </tr>\n",
       "    <tr>\n",
       "      <th>23068</th>\n",
       "      <td>VINCULADO</td>\n",
       "      <td>4330610</td>\n",
       "      <td>8.860000e+08</td>\n",
       "      <td>594886.0</td>\n",
       "      <td>20</td>\n",
       "      <td>2.2</td>\n",
       "      <td>23.493710</td>\n",
       "      <td>5.9</td>\n",
       "      <td>1.637326</td>\n",
       "    </tr>\n",
       "    <tr>\n",
       "      <th>23082</th>\n",
       "      <td>RETIRADO</td>\n",
       "      <td>2961331</td>\n",
       "      <td>8.220000e+08</td>\n",
       "      <td>3654177.0</td>\n",
       "      <td>55</td>\n",
       "      <td>3.6</td>\n",
       "      <td>97.860910</td>\n",
       "      <td>26.4</td>\n",
       "      <td>8.405691</td>\n",
       "    </tr>\n",
       "    <tr>\n",
       "      <th>23083</th>\n",
       "      <td>RETIRADO</td>\n",
       "      <td>833790</td>\n",
       "      <td>1.650000e+08</td>\n",
       "      <td>1200591.0</td>\n",
       "      <td>65</td>\n",
       "      <td>15.2</td>\n",
       "      <td>217.189200</td>\n",
       "      <td>14.8</td>\n",
       "      <td>8.520510</td>\n",
       "    </tr>\n",
       "    <tr>\n",
       "      <th>23098</th>\n",
       "      <td>RETIRADO</td>\n",
       "      <td>8291908</td>\n",
       "      <td>1.828000e+09</td>\n",
       "      <td>255881.0</td>\n",
       "      <td>26</td>\n",
       "      <td>2.9</td>\n",
       "      <td>196.476100</td>\n",
       "      <td>72.6</td>\n",
       "      <td>7.369689</td>\n",
       "    </tr>\n",
       "    <tr>\n",
       "      <th>23117</th>\n",
       "      <td>RETIRADO</td>\n",
       "      <td>8287662</td>\n",
       "      <td>8.060000e+08</td>\n",
       "      <td>630352.0</td>\n",
       "      <td>27</td>\n",
       "      <td>14.6</td>\n",
       "      <td>110.126300</td>\n",
       "      <td>104.9</td>\n",
       "      <td>8.337101</td>\n",
       "    </tr>\n",
       "    <tr>\n",
       "      <th>23131</th>\n",
       "      <td>RETIRADO</td>\n",
       "      <td>672224</td>\n",
       "      <td>8.200000e+07</td>\n",
       "      <td>991964.0</td>\n",
       "      <td>12</td>\n",
       "      <td>17.0</td>\n",
       "      <td>251.252400</td>\n",
       "      <td>17.1</td>\n",
       "      <td>8.329838</td>\n",
       "    </tr>\n",
       "    <tr>\n",
       "      <th>23150</th>\n",
       "      <td>VINCULADO</td>\n",
       "      <td>8592558</td>\n",
       "      <td>4.960000e+08</td>\n",
       "      <td>898233.0</td>\n",
       "      <td>31</td>\n",
       "      <td>1.0</td>\n",
       "      <td>37.265020</td>\n",
       "      <td>100.8</td>\n",
       "      <td>2.700061</td>\n",
       "    </tr>\n",
       "    <tr>\n",
       "      <th>23156</th>\n",
       "      <td>VINCULADO</td>\n",
       "      <td>2032565</td>\n",
       "      <td>5.770000e+08</td>\n",
       "      <td>3556600.0</td>\n",
       "      <td>43</td>\n",
       "      <td>16.2</td>\n",
       "      <td>9.792493</td>\n",
       "      <td>7.8</td>\n",
       "      <td>1.978885</td>\n",
       "    </tr>\n",
       "  </tbody>\n",
       "</table>\n",
       "<p>2209 rows × 9 columns</p>\n",
       "</div>"
      ],
      "text/plain": [
       "          ESTADO  INGRESOS          CASA  PRECIO_DISPOSITIVO  MESES  DURACION  \\\n",
       "1      VINCULADO   8574088  1.745000e+09           2157661.0     23       3.7   \n",
       "2       RETIRADO    795993  9.500000e+07            452809.0     38      16.8   \n",
       "6       RETIRADO   7256758  7.120000e+08           3493707.0     20      14.8   \n",
       "29      RETIRADO   1409067  1.105000e+09            644429.0     55      16.6   \n",
       "31     VINCULADO   7320612  1.548000e+09            284060.0     38      18.2   \n",
       "44      RETIRADO   8763522  7.940000e+08            902864.0     15      15.0   \n",
       "45      RETIRADO   4036032  5.080000e+08           2750512.0     27       2.5   \n",
       "82     VINCULADO   7319634  1.599000e+09           1259835.0     12       2.0   \n",
       "88      RETIRADO   7659140  8.540000e+08           2944507.0     37      18.4   \n",
       "100     RETIRADO   8691926  1.978000e+09           1100248.0     10      15.1   \n",
       "106     RETIRADO   6498680  1.569000e+09           1157466.0     50       2.0   \n",
       "125    VINCULADO    500452  1.120000e+08           1221589.0     13      18.7   \n",
       "131    VINCULADO   1740282  3.820000e+08            268350.0     25      15.6   \n",
       "164     RETIRADO   1254914  2.740000e+08            471106.0     17      16.1   \n",
       "171     RETIRADO   7814631  8.200000e+07            499554.0     15      16.1   \n",
       "198     RETIRADO   7419360  4.240000e+08           3900085.0     19      14.8   \n",
       "205     RETIRADO    560082  1.214000e+09           2725189.0      9      18.4   \n",
       "215    VINCULADO   7171573  6.040000e+08           1634653.0     22       1.9   \n",
       "220    VINCULADO    425986  7.900000e+08            999679.0     37      18.7   \n",
       "237     RETIRADO   6846667  6.110000e+08           1176578.0     16       4.1   \n",
       "244    VINCULADO   6630441  1.421000e+09           3408798.0     31      14.8   \n",
       "251    VINCULADO   8167579  1.948000e+09            393998.0     21       2.0   \n",
       "253     RETIRADO   2917976  2.830000e+08            824481.0      3       3.3   \n",
       "261     RETIRADO   2865342  4.440000e+08            723521.0     48       1.9   \n",
       "268     RETIRADO   2120877  8.200000e+07           1367476.0     22      16.6   \n",
       "274     RETIRADO   3499394  8.160000e+08           1149506.0     60       2.2   \n",
       "279    VINCULADO   7926949  1.903000e+09            977319.0     33       0.0   \n",
       "281    VINCULADO   7925242  6.800000e+08           2361103.0     12      17.8   \n",
       "284     RETIRADO   7147938  6.230000e+08           2112939.0      4      18.6   \n",
       "286    VINCULADO   8503026  1.729000e+09           1355817.0     13       2.2   \n",
       "...          ...       ...           ...                 ...    ...       ...   \n",
       "22870   RETIRADO   1121767  5.810000e+08            213877.0     21      15.5   \n",
       "22874   RETIRADO   7091405  4.200000e+08            291860.0     12       1.9   \n",
       "22882  VINCULADO   7357010  2.050000e+08            708797.0     63       1.4   \n",
       "22915  VINCULADO   8660548  4.420000e+08           2138307.0     15       0.4   \n",
       "22916  VINCULADO    578651  5.250000e+08           2528896.0     62      17.3   \n",
       "22934   RETIRADO   8206369  6.500000e+08            421766.0     22      16.7   \n",
       "22940  VINCULADO   7147431  1.608000e+09            906166.0      0       4.5   \n",
       "22947   RETIRADO   8587999  8.970000e+08            464885.0      0       0.4   \n",
       "22963  VINCULADO   4829745  1.137000e+09           1149210.0     62       2.6   \n",
       "22964   RETIRADO   8023635  3.980000e+08           1801577.0     44      14.8   \n",
       "22968   RETIRADO   7254859  1.322000e+09            665699.0     18      16.6   \n",
       "22970  VINCULADO   6328930  1.860000e+08            465697.0     24      16.2   \n",
       "22973   RETIRADO   6915137  1.041000e+09            872827.0     38      16.9   \n",
       "22978   RETIRADO   8427360  1.801000e+09            395777.0     20       0.4   \n",
       "22980  VINCULADO   7663743  6.410000e+08            992312.0      8      16.6   \n",
       "22989  VINCULADO   8595204  8.800000e+08            589332.0     43      15.5   \n",
       "23009   RETIRADO   7037442  1.659000e+09           1042353.0     18      18.2   \n",
       "23030   RETIRADO   3375942  8.310000e+08            260679.0     27       0.7   \n",
       "23033   RETIRADO    150000  8.080000e+08           1581031.0     24      16.5   \n",
       "23041   RETIRADO   6961032  6.090000e+08           2101462.0     30      13.2   \n",
       "23042  VINCULADO   7955630  6.620000e+08            737602.0     22      15.1   \n",
       "23049  VINCULADO   8578558  2.067000e+09           1602614.0     11      17.9   \n",
       "23068  VINCULADO   4330610  8.860000e+08            594886.0     20       2.2   \n",
       "23082   RETIRADO   2961331  8.220000e+08           3654177.0     55       3.6   \n",
       "23083   RETIRADO    833790  1.650000e+08           1200591.0     65      15.2   \n",
       "23098   RETIRADO   8291908  1.828000e+09            255881.0     26       2.9   \n",
       "23117   RETIRADO   8287662  8.060000e+08            630352.0     27      14.6   \n",
       "23131   RETIRADO    672224  8.200000e+07            991964.0     12      17.0   \n",
       "23150  VINCULADO   8592558  4.960000e+08            898233.0     31       1.0   \n",
       "23156  VINCULADO   2032565  5.770000e+08           3556600.0     43      16.2   \n",
       "\n",
       "       SOBRECARGO  SALDO_RESTANTE  SATISFACCION  \n",
       "1        0.000000            53.5      3.361266  \n",
       "2      350.610224            13.9      8.359438  \n",
       "6      217.322554            69.5      8.285137  \n",
       "29     188.592668             5.8      9.027948  \n",
       "31      31.606283            92.6      2.779810  \n",
       "44      21.277878            56.6      3.330574  \n",
       "45     224.352073            25.6      9.117037  \n",
       "82       0.000000            72.7      1.208224  \n",
       "88     287.722936            80.8      8.163270  \n",
       "100    259.381896            51.1      8.289950  \n",
       "106    325.847932            73.2      8.245965  \n",
       "125      0.000000             0.0      2.559992  \n",
       "131      0.000000            27.3      3.125431  \n",
       "164    295.651303            26.0      9.022812  \n",
       "171    197.760449            59.7      8.347264  \n",
       "198    106.426397            59.3      8.169416  \n",
       "205    135.479783             8.6      8.304915  \n",
       "215      0.000000            70.7      1.398058  \n",
       "220     45.774203            10.4      3.159315  \n",
       "237    244.530792            64.3      9.157133  \n",
       "244    180.492434            63.2      8.991852  \n",
       "251     24.488372            95.2      2.757290  \n",
       "253    382.943357            18.5      7.537220  \n",
       "261    348.036272            15.8      8.242486  \n",
       "268    218.805805            19.3      8.304304  \n",
       "274    222.020878            21.9      8.502669  \n",
       "279     45.768984           103.9      2.941750  \n",
       "281     67.640411            79.2      1.591804  \n",
       "284    154.178605            84.5      7.831342  \n",
       "286     18.243825            79.3      2.799137  \n",
       "...           ...             ...           ...  \n",
       "22870  192.770200            19.8      7.865820  \n",
       "22874  162.088700            67.4      7.832097  \n",
       "22882    0.000000           100.8      2.895299  \n",
       "22915    0.000000            85.0      2.110537  \n",
       "22916   43.674230            12.5      2.387023  \n",
       "22934  333.853900            71.0      8.211674  \n",
       "22940    0.000000            95.3      1.554709  \n",
       "22947  205.059600           120.5      8.095677  \n",
       "22963    0.735571            26.5      2.955354  \n",
       "22964  342.772600            81.6      7.661582  \n",
       "22968  232.721800           112.8      8.281512  \n",
       "22970    0.000000            63.7      1.566127  \n",
       "22973  133.177800           112.5      8.555576  \n",
       "22978  132.452800            60.7      9.068966  \n",
       "22980    7.810196            71.5      1.478909  \n",
       "22989   13.677990            60.8      2.105382  \n",
       "23009  336.125500            56.7      8.177903  \n",
       "23030  210.019200            16.8      8.865585  \n",
       "23033  189.139400            32.3      9.096923  \n",
       "23041  267.821900            80.7      9.073058  \n",
       "23042   17.979350           108.5      2.390845  \n",
       "23049   57.687330            86.1      2.231407  \n",
       "23068   23.493710             5.9      1.637326  \n",
       "23082   97.860910            26.4      8.405691  \n",
       "23083  217.189200            14.8      8.520510  \n",
       "23098  196.476100            72.6      7.369689  \n",
       "23117  110.126300           104.9      8.337101  \n",
       "23131  251.252400            17.1      8.329838  \n",
       "23150   37.265020           100.8      2.700061  \n",
       "23156    9.792493             7.8      1.978885  \n",
       "\n",
       "[2209 rows x 9 columns]"
      ]
     },
     "execution_count": 66,
     "metadata": {},
     "output_type": "execute_result"
    }
   ],
   "source": [
    "deletedData"
   ]
  },
  {
   "cell_type": "markdown",
   "metadata": {},
   "source": [
    "# 3 Tipos de modelos"
   ]
  },
  {
   "cell_type": "markdown",
   "metadata": {},
   "source": [
    "# Protocolo de evalucaion HoldOut\n"
   ]
  },
  {
   "cell_type": "markdown",
   "metadata": {},
   "source": [
    "## Vamos a utilizar el protocolo de evaluacion holdout con un 70% train y 30% test para los 3 modelos a evaluar."
   ]
  },
  {
   "cell_type": "markdown",
   "metadata": {},
   "source": [
    "Para este proyecto vamos a utilizar las metricas  de <b>Kappa global</b>, <b>Accuracy</b> y la <b>Precision</b> que nos permitiran determinar el mejor modelo a seguir. En este caso el <b>Kappa global</b> determinar el mejor modelo que se encuentre por encima del baseline. El <b>Accuracy</b> nos permitira ver la cantidad de predicciones positivas que fueron correctas. Por ultimo la <b>Precision</b> nos dara una vista del porcentaje de casos positivos detectados."
   ]
  },
  {
   "cell_type": "code",
   "execution_count": 67,
   "metadata": {},
   "outputs": [],
   "source": [
    "def transformar(n):\n",
    "  if n==\"VINCULADO\" or n==\"1\" :\n",
    "    return 1\n",
    "  if n==\"RETIRADO\" or n==\"0\":\n",
    "    return 0\n",
    "  return n"
   ]
  },
  {
   "cell_type": "code",
   "execution_count": 68,
   "metadata": {},
   "outputs": [],
   "source": [
    "def transformar2(n):\n",
    "  if n==\"VINCULADO\" or n==\"1\" :\n",
    "    return 1\n",
    "  if n==\"RETIRADO\" or n==\"0\":\n",
    "    return 0\n",
    "  return n"
   ]
  },
  {
   "cell_type": "code",
   "execution_count": 69,
   "metadata": {},
   "outputs": [],
   "source": [
    "data['ESTADO'] = data.applymap(transformar)['ESTADO']"
   ]
  },
  {
   "cell_type": "code",
   "execution_count": 70,
   "metadata": {
    "scrolled": true
   },
   "outputs": [
    {
     "data": {
      "text/html": [
       "<div>\n",
       "<style scoped>\n",
       "    .dataframe tbody tr th:only-of-type {\n",
       "        vertical-align: middle;\n",
       "    }\n",
       "\n",
       "    .dataframe tbody tr th {\n",
       "        vertical-align: top;\n",
       "    }\n",
       "\n",
       "    .dataframe thead th {\n",
       "        text-align: right;\n",
       "    }\n",
       "</style>\n",
       "<table border=\"1\" class=\"dataframe\">\n",
       "  <thead>\n",
       "    <tr style=\"text-align: right;\">\n",
       "      <th></th>\n",
       "      <th>ESTADO</th>\n",
       "      <th>INGRESOS</th>\n",
       "      <th>CASA</th>\n",
       "      <th>PRECIO_DISPOSITIVO</th>\n",
       "      <th>MESES</th>\n",
       "      <th>DURACION</th>\n",
       "      <th>SOBRECARGO</th>\n",
       "      <th>SALDO_RESTANTE</th>\n",
       "      <th>SATISFACCION</th>\n",
       "    </tr>\n",
       "  </thead>\n",
       "  <tbody>\n",
       "    <tr>\n",
       "      <th>0</th>\n",
       "      <td>1</td>\n",
       "      <td>4074840</td>\n",
       "      <td>883000000.0</td>\n",
       "      <td>1444153.0</td>\n",
       "      <td>26</td>\n",
       "      <td>2.3</td>\n",
       "      <td>11.167542</td>\n",
       "      <td>20.3</td>\n",
       "      <td>1.762872</td>\n",
       "    </tr>\n",
       "    <tr>\n",
       "      <th>3</th>\n",
       "      <td>0</td>\n",
       "      <td>8115015</td>\n",
       "      <td>83000000.0</td>\n",
       "      <td>2617184.0</td>\n",
       "      <td>37</td>\n",
       "      <td>17.6</td>\n",
       "      <td>230.913888</td>\n",
       "      <td>45.7</td>\n",
       "      <td>8.964017</td>\n",
       "    </tr>\n",
       "    <tr>\n",
       "      <th>4</th>\n",
       "      <td>0</td>\n",
       "      <td>8187499</td>\n",
       "      <td>677000000.0</td>\n",
       "      <td>666069.0</td>\n",
       "      <td>19</td>\n",
       "      <td>0.0</td>\n",
       "      <td>131.541983</td>\n",
       "      <td>67.2</td>\n",
       "      <td>8.808206</td>\n",
       "    </tr>\n",
       "    <tr>\n",
       "      <th>5</th>\n",
       "      <td>1</td>\n",
       "      <td>7250225</td>\n",
       "      <td>424000000.0</td>\n",
       "      <td>548116.0</td>\n",
       "      <td>19</td>\n",
       "      <td>2.2</td>\n",
       "      <td>0.000000</td>\n",
       "      <td>72.0</td>\n",
       "      <td>1.979549</td>\n",
       "    </tr>\n",
       "    <tr>\n",
       "      <th>7</th>\n",
       "      <td>0</td>\n",
       "      <td>3262245</td>\n",
       "      <td>684000000.0</td>\n",
       "      <td>985708.0</td>\n",
       "      <td>32</td>\n",
       "      <td>1.3</td>\n",
       "      <td>275.595131</td>\n",
       "      <td>19.0</td>\n",
       "      <td>8.040629</td>\n",
       "    </tr>\n",
       "  </tbody>\n",
       "</table>\n",
       "</div>"
      ],
      "text/plain": [
       "   ESTADO  INGRESOS         CASA  PRECIO_DISPOSITIVO  MESES  DURACION  \\\n",
       "0       1   4074840  883000000.0           1444153.0     26       2.3   \n",
       "3       0   8115015   83000000.0           2617184.0     37      17.6   \n",
       "4       0   8187499  677000000.0            666069.0     19       0.0   \n",
       "5       1   7250225  424000000.0            548116.0     19       2.2   \n",
       "7       0   3262245  684000000.0            985708.0     32       1.3   \n",
       "\n",
       "   SOBRECARGO  SALDO_RESTANTE  SATISFACCION  \n",
       "0   11.167542            20.3      1.762872  \n",
       "3  230.913888            45.7      8.964017  \n",
       "4  131.541983            67.2      8.808206  \n",
       "5    0.000000            72.0      1.979549  \n",
       "7  275.595131            19.0      8.040629  "
      ]
     },
     "execution_count": 70,
     "metadata": {},
     "output_type": "execute_result"
    }
   ],
   "source": [
    "data.head(5)"
   ]
  },
  {
   "cell_type": "markdown",
   "metadata": {},
   "source": [
    "# BaseLine"
   ]
  },
  {
   "cell_type": "code",
   "execution_count": 71,
   "metadata": {},
   "outputs": [
    {
     "data": {
      "text/html": [
       "<div>\n",
       "<style scoped>\n",
       "    .dataframe tbody tr th:only-of-type {\n",
       "        vertical-align: middle;\n",
       "    }\n",
       "\n",
       "    .dataframe tbody tr th {\n",
       "        vertical-align: top;\n",
       "    }\n",
       "\n",
       "    .dataframe thead th {\n",
       "        text-align: right;\n",
       "    }\n",
       "</style>\n",
       "<table border=\"1\" class=\"dataframe\">\n",
       "  <thead>\n",
       "    <tr style=\"text-align: right;\">\n",
       "      <th></th>\n",
       "      <th>ESTADO</th>\n",
       "      <th>INGRESOS</th>\n",
       "      <th>CASA</th>\n",
       "      <th>PRECIO_DISPOSITIVO</th>\n",
       "      <th>MESES</th>\n",
       "      <th>DURACION</th>\n",
       "      <th>SOBRECARGO</th>\n",
       "      <th>SALDO_RESTANTE</th>\n",
       "      <th>SATISFACCION</th>\n",
       "    </tr>\n",
       "  </thead>\n",
       "  <tbody>\n",
       "    <tr>\n",
       "      <th>0</th>\n",
       "      <td>1</td>\n",
       "      <td>4074840</td>\n",
       "      <td>883000000.0</td>\n",
       "      <td>1444153.0</td>\n",
       "      <td>26</td>\n",
       "      <td>2.3</td>\n",
       "      <td>11.167542</td>\n",
       "      <td>20.3</td>\n",
       "      <td>1.762872</td>\n",
       "    </tr>\n",
       "    <tr>\n",
       "      <th>3</th>\n",
       "      <td>0</td>\n",
       "      <td>8115015</td>\n",
       "      <td>83000000.0</td>\n",
       "      <td>2617184.0</td>\n",
       "      <td>37</td>\n",
       "      <td>17.6</td>\n",
       "      <td>230.913888</td>\n",
       "      <td>45.7</td>\n",
       "      <td>8.964017</td>\n",
       "    </tr>\n",
       "    <tr>\n",
       "      <th>4</th>\n",
       "      <td>0</td>\n",
       "      <td>8187499</td>\n",
       "      <td>677000000.0</td>\n",
       "      <td>666069.0</td>\n",
       "      <td>19</td>\n",
       "      <td>0.0</td>\n",
       "      <td>131.541983</td>\n",
       "      <td>67.2</td>\n",
       "      <td>8.808206</td>\n",
       "    </tr>\n",
       "    <tr>\n",
       "      <th>5</th>\n",
       "      <td>1</td>\n",
       "      <td>7250225</td>\n",
       "      <td>424000000.0</td>\n",
       "      <td>548116.0</td>\n",
       "      <td>19</td>\n",
       "      <td>2.2</td>\n",
       "      <td>0.000000</td>\n",
       "      <td>72.0</td>\n",
       "      <td>1.979549</td>\n",
       "    </tr>\n",
       "    <tr>\n",
       "      <th>7</th>\n",
       "      <td>0</td>\n",
       "      <td>3262245</td>\n",
       "      <td>684000000.0</td>\n",
       "      <td>985708.0</td>\n",
       "      <td>32</td>\n",
       "      <td>1.3</td>\n",
       "      <td>275.595131</td>\n",
       "      <td>19.0</td>\n",
       "      <td>8.040629</td>\n",
       "    </tr>\n",
       "  </tbody>\n",
       "</table>\n",
       "</div>"
      ],
      "text/plain": [
       "   ESTADO  INGRESOS         CASA  PRECIO_DISPOSITIVO  MESES  DURACION  \\\n",
       "0       1   4074840  883000000.0           1444153.0     26       2.3   \n",
       "3       0   8115015   83000000.0           2617184.0     37      17.6   \n",
       "4       0   8187499  677000000.0            666069.0     19       0.0   \n",
       "5       1   7250225  424000000.0            548116.0     19       2.2   \n",
       "7       0   3262245  684000000.0            985708.0     32       1.3   \n",
       "\n",
       "   SOBRECARGO  SALDO_RESTANTE  SATISFACCION  \n",
       "0   11.167542            20.3      1.762872  \n",
       "3  230.913888            45.7      8.964017  \n",
       "4  131.541983            67.2      8.808206  \n",
       "5    0.000000            72.0      1.979549  \n",
       "7  275.595131            19.0      8.040629  "
      ]
     },
     "execution_count": 71,
     "metadata": {},
     "output_type": "execute_result"
    }
   ],
   "source": [
    "data.head()"
   ]
  },
  {
   "cell_type": "code",
   "execution_count": 72,
   "metadata": {},
   "outputs": [
    {
     "data": {
      "text/plain": [
       "50.13601870853815"
      ]
     },
     "execution_count": 72,
     "metadata": {},
     "output_type": "execute_result"
    },
    {
     "data": {
      "image/png": "[encoded data removed]",
      "text/plain": [
       "<Figure size 432x288 with 1 Axes>"
      ]
     },
     "metadata": {
      "needs_background": "light"
     },
     "output_type": "display_data"
    }
   ],
   "source": [
    "### Baseline\n",
    "ax = sns.countplot(x=\"ESTADO\", data=data)\n",
    "data.ESTADO[data.ESTADO==1].aggregate('count') / data.shape[0] * 100"
   ]
  },
  {
   "cell_type": "markdown",
   "metadata": {},
   "source": [
    "## La probabilidad de que el siguiente cliente sea vinculado, accuracy del baseLine 50.136018%"
   ]
  },
  {
   "cell_type": "markdown",
   "metadata": {},
   "source": [
    "# Holdout del datset"
   ]
  },
  {
   "cell_type": "code",
   "execution_count": 73,
   "metadata": {},
   "outputs": [],
   "source": [
    "data['ESTADO'] = data.applymap(transformar2)['ESTADO']"
   ]
  },
  {
   "cell_type": "code",
   "execution_count": 74,
   "metadata": {},
   "outputs": [
    {
     "data": {
      "text/html": [
       "<div>\n",
       "<style scoped>\n",
       "    .dataframe tbody tr th:only-of-type {\n",
       "        vertical-align: middle;\n",
       "    }\n",
       "\n",
       "    .dataframe tbody tr th {\n",
       "        vertical-align: top;\n",
       "    }\n",
       "\n",
       "    .dataframe thead th {\n",
       "        text-align: right;\n",
       "    }\n",
       "</style>\n",
       "<table border=\"1\" class=\"dataframe\">\n",
       "  <thead>\n",
       "    <tr style=\"text-align: right;\">\n",
       "      <th></th>\n",
       "      <th>ESTADO</th>\n",
       "      <th>INGRESOS</th>\n",
       "      <th>CASA</th>\n",
       "      <th>PRECIO_DISPOSITIVO</th>\n",
       "      <th>MESES</th>\n",
       "      <th>DURACION</th>\n",
       "      <th>SOBRECARGO</th>\n",
       "      <th>SALDO_RESTANTE</th>\n",
       "      <th>SATISFACCION</th>\n",
       "    </tr>\n",
       "  </thead>\n",
       "  <tbody>\n",
       "    <tr>\n",
       "      <th>ESTADO</th>\n",
       "      <td>1.000000</td>\n",
       "      <td>-0.002640</td>\n",
       "      <td>-0.000811</td>\n",
       "      <td>0.004680</td>\n",
       "      <td>0.005914</td>\n",
       "      <td>0.003026</td>\n",
       "      <td>-0.733850</td>\n",
       "      <td>-0.003172</td>\n",
       "      <td>-0.799079</td>\n",
       "    </tr>\n",
       "    <tr>\n",
       "      <th>INGRESOS</th>\n",
       "      <td>-0.002640</td>\n",
       "      <td>1.000000</td>\n",
       "      <td>0.376284</td>\n",
       "      <td>-0.002491</td>\n",
       "      <td>-0.007802</td>\n",
       "      <td>-0.162776</td>\n",
       "      <td>0.000992</td>\n",
       "      <td>0.849837</td>\n",
       "      <td>0.004364</td>\n",
       "    </tr>\n",
       "    <tr>\n",
       "      <th>CASA</th>\n",
       "      <td>-0.000811</td>\n",
       "      <td>0.376284</td>\n",
       "      <td>1.000000</td>\n",
       "      <td>0.001979</td>\n",
       "      <td>-0.000172</td>\n",
       "      <td>-0.063783</td>\n",
       "      <td>0.003193</td>\n",
       "      <td>0.324477</td>\n",
       "      <td>0.003523</td>\n",
       "    </tr>\n",
       "    <tr>\n",
       "      <th>PRECIO_DISPOSITIVO</th>\n",
       "      <td>0.004680</td>\n",
       "      <td>-0.002491</td>\n",
       "      <td>0.001979</td>\n",
       "      <td>1.000000</td>\n",
       "      <td>-0.004031</td>\n",
       "      <td>0.012935</td>\n",
       "      <td>0.000949</td>\n",
       "      <td>-0.000027</td>\n",
       "      <td>-0.002261</td>\n",
       "    </tr>\n",
       "    <tr>\n",
       "      <th>MESES</th>\n",
       "      <td>0.005914</td>\n",
       "      <td>-0.007802</td>\n",
       "      <td>-0.000172</td>\n",
       "      <td>-0.004031</td>\n",
       "      <td>1.000000</td>\n",
       "      <td>0.007726</td>\n",
       "      <td>0.002495</td>\n",
       "      <td>-0.007470</td>\n",
       "      <td>-0.000090</td>\n",
       "    </tr>\n",
       "    <tr>\n",
       "      <th>DURACION</th>\n",
       "      <td>0.003026</td>\n",
       "      <td>-0.162776</td>\n",
       "      <td>-0.063783</td>\n",
       "      <td>0.012935</td>\n",
       "      <td>0.007726</td>\n",
       "      <td>1.000000</td>\n",
       "      <td>-0.001173</td>\n",
       "      <td>0.047924</td>\n",
       "      <td>-0.001634</td>\n",
       "    </tr>\n",
       "    <tr>\n",
       "      <th>SOBRECARGO</th>\n",
       "      <td>-0.733850</td>\n",
       "      <td>0.000992</td>\n",
       "      <td>0.003193</td>\n",
       "      <td>0.000949</td>\n",
       "      <td>0.002495</td>\n",
       "      <td>-0.001173</td>\n",
       "      <td>1.000000</td>\n",
       "      <td>0.002620</td>\n",
       "      <td>0.897264</td>\n",
       "    </tr>\n",
       "    <tr>\n",
       "      <th>SALDO_RESTANTE</th>\n",
       "      <td>-0.003172</td>\n",
       "      <td>0.849837</td>\n",
       "      <td>0.324477</td>\n",
       "      <td>-0.000027</td>\n",
       "      <td>-0.007470</td>\n",
       "      <td>0.047924</td>\n",
       "      <td>0.002620</td>\n",
       "      <td>1.000000</td>\n",
       "      <td>0.004455</td>\n",
       "    </tr>\n",
       "    <tr>\n",
       "      <th>SATISFACCION</th>\n",
       "      <td>-0.799079</td>\n",
       "      <td>0.004364</td>\n",
       "      <td>0.003523</td>\n",
       "      <td>-0.002261</td>\n",
       "      <td>-0.000090</td>\n",
       "      <td>-0.001634</td>\n",
       "      <td>0.897264</td>\n",
       "      <td>0.004455</td>\n",
       "      <td>1.000000</td>\n",
       "    </tr>\n",
       "  </tbody>\n",
       "</table>\n",
       "</div>"
      ],
      "text/plain": [
       "                      ESTADO  INGRESOS      CASA  PRECIO_DISPOSITIVO  \\\n",
       "ESTADO              1.000000 -0.002640 -0.000811            0.004680   \n",
       "INGRESOS           -0.002640  1.000000  0.376284           -0.002491   \n",
       "CASA               -0.000811  0.376284  1.000000            0.001979   \n",
       "PRECIO_DISPOSITIVO  0.004680 -0.002491  0.001979            1.000000   \n",
       "MESES               0.005914 -0.007802 -0.000172           -0.004031   \n",
       "DURACION            0.003026 -0.162776 -0.063783            0.012935   \n",
       "SOBRECARGO         -0.733850  0.000992  0.003193            0.000949   \n",
       "SALDO_RESTANTE     -0.003172  0.849837  0.324477           -0.000027   \n",
       "SATISFACCION       -0.799079  0.004364  0.003523           -0.002261   \n",
       "\n",
       "                       MESES  DURACION  SOBRECARGO  SALDO_RESTANTE  \\\n",
       "ESTADO              0.005914  0.003026   -0.733850       -0.003172   \n",
       "INGRESOS           -0.007802 -0.162776    0.000992        0.849837   \n",
       "CASA               -0.000172 -0.063783    0.003193        0.324477   \n",
       "PRECIO_DISPOSITIVO -0.004031  0.012935    0.000949       -0.000027   \n",
       "MESES               1.000000  0.007726    0.002495       -0.007470   \n",
       "DURACION            0.007726  1.000000   -0.001173        0.047924   \n",
       "SOBRECARGO          0.002495 -0.001173    1.000000        0.002620   \n",
       "SALDO_RESTANTE     -0.007470  0.047924    0.002620        1.000000   \n",
       "SATISFACCION       -0.000090 -0.001634    0.897264        0.004455   \n",
       "\n",
       "                    SATISFACCION  \n",
       "ESTADO                 -0.799079  \n",
       "INGRESOS                0.004364  \n",
       "CASA                    0.003523  \n",
       "PRECIO_DISPOSITIVO     -0.002261  \n",
       "MESES                  -0.000090  \n",
       "DURACION               -0.001634  \n",
       "SOBRECARGO              0.897264  \n",
       "SALDO_RESTANTE          0.004455  \n",
       "SATISFACCION            1.000000  "
      ]
     },
     "execution_count": 74,
     "metadata": {},
     "output_type": "execute_result"
    }
   ],
   "source": [
    "data.corr(method=\"pearson\")"
   ]
  },
  {
   "cell_type": "code",
   "execution_count": 75,
   "metadata": {
    "scrolled": false
   },
   "outputs": [
    {
     "data": {
      "text/html": [
       "<div>\n",
       "<style scoped>\n",
       "    .dataframe tbody tr th:only-of-type {\n",
       "        vertical-align: middle;\n",
       "    }\n",
       "\n",
       "    .dataframe tbody tr th {\n",
       "        vertical-align: top;\n",
       "    }\n",
       "\n",
       "    .dataframe thead th {\n",
       "        text-align: right;\n",
       "    }\n",
       "</style>\n",
       "<table border=\"1\" class=\"dataframe\">\n",
       "  <thead>\n",
       "    <tr style=\"text-align: right;\">\n",
       "      <th></th>\n",
       "      <th>ESTADO</th>\n",
       "      <th>INGRESOS</th>\n",
       "      <th>CASA</th>\n",
       "      <th>PRECIO_DISPOSITIVO</th>\n",
       "      <th>MESES</th>\n",
       "      <th>DURACION</th>\n",
       "      <th>SOBRECARGO</th>\n",
       "      <th>SALDO_RESTANTE</th>\n",
       "      <th>SATISFACCION</th>\n",
       "    </tr>\n",
       "  </thead>\n",
       "  <tbody>\n",
       "    <tr>\n",
       "      <th>0</th>\n",
       "      <td>1</td>\n",
       "      <td>4074840</td>\n",
       "      <td>883000000.0</td>\n",
       "      <td>1444153.0</td>\n",
       "      <td>26</td>\n",
       "      <td>2.3</td>\n",
       "      <td>11.167542</td>\n",
       "      <td>20.3</td>\n",
       "      <td>1.762872</td>\n",
       "    </tr>\n",
       "    <tr>\n",
       "      <th>3</th>\n",
       "      <td>0</td>\n",
       "      <td>8115015</td>\n",
       "      <td>83000000.0</td>\n",
       "      <td>2617184.0</td>\n",
       "      <td>37</td>\n",
       "      <td>17.6</td>\n",
       "      <td>230.913888</td>\n",
       "      <td>45.7</td>\n",
       "      <td>8.964017</td>\n",
       "    </tr>\n",
       "    <tr>\n",
       "      <th>4</th>\n",
       "      <td>0</td>\n",
       "      <td>8187499</td>\n",
       "      <td>677000000.0</td>\n",
       "      <td>666069.0</td>\n",
       "      <td>19</td>\n",
       "      <td>0.0</td>\n",
       "      <td>131.541983</td>\n",
       "      <td>67.2</td>\n",
       "      <td>8.808206</td>\n",
       "    </tr>\n",
       "    <tr>\n",
       "      <th>5</th>\n",
       "      <td>1</td>\n",
       "      <td>7250225</td>\n",
       "      <td>424000000.0</td>\n",
       "      <td>548116.0</td>\n",
       "      <td>19</td>\n",
       "      <td>2.2</td>\n",
       "      <td>0.000000</td>\n",
       "      <td>72.0</td>\n",
       "      <td>1.979549</td>\n",
       "    </tr>\n",
       "    <tr>\n",
       "      <th>7</th>\n",
       "      <td>0</td>\n",
       "      <td>3262245</td>\n",
       "      <td>684000000.0</td>\n",
       "      <td>985708.0</td>\n",
       "      <td>32</td>\n",
       "      <td>1.3</td>\n",
       "      <td>275.595131</td>\n",
       "      <td>19.0</td>\n",
       "      <td>8.040629</td>\n",
       "    </tr>\n",
       "  </tbody>\n",
       "</table>\n",
       "</div>"
      ],
      "text/plain": [
       "   ESTADO  INGRESOS         CASA  PRECIO_DISPOSITIVO  MESES  DURACION  \\\n",
       "0       1   4074840  883000000.0           1444153.0     26       2.3   \n",
       "3       0   8115015   83000000.0           2617184.0     37      17.6   \n",
       "4       0   8187499  677000000.0            666069.0     19       0.0   \n",
       "5       1   7250225  424000000.0            548116.0     19       2.2   \n",
       "7       0   3262245  684000000.0            985708.0     32       1.3   \n",
       "\n",
       "   SOBRECARGO  SALDO_RESTANTE  SATISFACCION  \n",
       "0   11.167542            20.3      1.762872  \n",
       "3  230.913888            45.7      8.964017  \n",
       "4  131.541983            67.2      8.808206  \n",
       "5    0.000000            72.0      1.979549  \n",
       "7  275.595131            19.0      8.040629  "
      ]
     },
     "execution_count": 75,
     "metadata": {},
     "output_type": "execute_result"
    }
   ],
   "source": [
    "data.head()"
   ]
  },
  {
   "cell_type": "code",
   "execution_count": 76,
   "metadata": {},
   "outputs": [],
   "source": [
    "x=data[[\"SOBRECARGO\",\"SATISFACCION\"]].values\n",
    "y=data[[\"ESTADO\"]].values"
   ]
  },
  {
   "cell_type": "code",
   "execution_count": 77,
   "metadata": {},
   "outputs": [],
   "source": [
    "from sklearn.model_selection import train_test_split\n",
    "X_train, X_test, y_train, y_test = train_test_split(x, y, test_size=0.30)"
   ]
  },
  {
   "cell_type": "code",
   "execution_count": 78,
   "metadata": {},
   "outputs": [],
   "source": [
    "from sklearn.preprocessing import StandardScaler\n",
    "scaler = StandardScaler()\n",
    "scaler.fit(X_train)\n",
    "\n",
    "X_train = scaler.transform(X_train)\n",
    "X_test = scaler.transform(X_test)"
   ]
  },
  {
   "cell_type": "markdown",
   "metadata": {},
   "source": [
    "# Modelo KNN"
   ]
  },
  {
   "cell_type": "code",
   "execution_count": 79,
   "metadata": {},
   "outputs": [
    {
     "data": {
      "text/plain": [
       "KNeighborsClassifier(algorithm='auto', leaf_size=30, metric='minkowski',\n",
       "                     metric_params=None, n_jobs=None, n_neighbors=5, p=2,\n",
       "                     weights='uniform')"
      ]
     },
     "execution_count": 79,
     "metadata": {},
     "output_type": "execute_result"
    }
   ],
   "source": [
    "from sklearn.neighbors import KNeighborsClassifier\n",
    "classifier = KNeighborsClassifier(n_neighbors=5)\n",
    "classifier.fit(X_train, y_train)"
   ]
  },
  {
   "cell_type": "code",
   "execution_count": 80,
   "metadata": {},
   "outputs": [],
   "source": [
    "y_pred = classifier.predict(X_test)"
   ]
  },
  {
   "cell_type": "code",
   "execution_count": 81,
   "metadata": {
    "scrolled": true
   },
   "outputs": [
    {
     "name": "stdout",
     "output_type": "stream",
     "text": [
      "[[2787  324]\n",
      " [ 290 2885]]\n",
      "              precision    recall  f1-score   support\n",
      "\n",
      "           0       0.91      0.90      0.90      3111\n",
      "           1       0.90      0.91      0.90      3175\n",
      "\n",
      "    accuracy                           0.90      6286\n",
      "   macro avg       0.90      0.90      0.90      6286\n",
      "weighted avg       0.90      0.90      0.90      6286\n",
      "\n"
     ]
    }
   ],
   "source": [
    "from sklearn.metrics import classification_report, confusion_matrix\n",
    "print(confusion_matrix(y_test, y_pred))\n",
    "print(classification_report(y_test, y_pred))"
   ]
  },
  {
   "cell_type": "markdown",
   "metadata": {},
   "source": [
    "# Holdout"
   ]
  },
  {
   "cell_type": "code",
   "execution_count": 82,
   "metadata": {},
   "outputs": [],
   "source": [
    "X_normalized = preprocessing.normalize(x, norm='l2')\n",
    "X_train, X_test, y_train, y_test = train_test_split(X_normalized, y, test_size=0.3,random_state=12345)"
   ]
  },
  {
   "cell_type": "code",
   "execution_count": 95,
   "metadata": {},
   "outputs": [
    {
     "data": {
      "text/plain": [
       "array([ 1,  4,  7, 10, 13, 16, 19, 22, 25, 28, 31, 34, 37])"
      ]
     },
     "execution_count": 95,
     "metadata": {},
     "output_type": "execute_result"
    }
   ],
   "source": [
    "k_vec= np.arange(1,40,3)\n",
    "k_vec"
   ]
  },
  {
   "cell_type": "code",
   "execution_count": 96,
   "metadata": {},
   "outputs": [
    {
     "name": "stdout",
     "output_type": "stream",
     "text": [
      "------------------------------------------------------------------------\n",
      "1\n",
      "[[2164  993]\n",
      " [ 854 2275]]\n",
      "              precision    recall  f1-score   support\n",
      "\n",
      "           0       0.72      0.69      0.70      3157\n",
      "           1       0.70      0.73      0.71      3129\n",
      "\n",
      "    accuracy                           0.71      6286\n",
      "   macro avg       0.71      0.71      0.71      6286\n",
      "weighted avg       0.71      0.71      0.71      6286\n",
      "\n",
      "------------------------------------------------------------------------\n",
      "------------------------------------------------------------------------\n",
      "4\n",
      "[[2638  519]\n",
      " [ 960 2169]]\n",
      "              precision    recall  f1-score   support\n",
      "\n",
      "           0       0.73      0.84      0.78      3157\n",
      "           1       0.81      0.69      0.75      3129\n",
      "\n",
      "    accuracy                           0.76      6286\n",
      "   macro avg       0.77      0.76      0.76      6286\n",
      "weighted avg       0.77      0.76      0.76      6286\n",
      "\n",
      "------------------------------------------------------------------------\n",
      "------------------------------------------------------------------------\n",
      "7\n",
      "[[2529  628]\n",
      " [ 786 2343]]\n",
      "              precision    recall  f1-score   support\n",
      "\n",
      "           0       0.76      0.80      0.78      3157\n",
      "           1       0.79      0.75      0.77      3129\n",
      "\n",
      "    accuracy                           0.78      6286\n",
      "   macro avg       0.78      0.77      0.77      6286\n",
      "weighted avg       0.78      0.78      0.77      6286\n",
      "\n",
      "------------------------------------------------------------------------\n",
      "------------------------------------------------------------------------\n",
      "10\n",
      "[[2670  487]\n",
      " [ 853 2276]]\n",
      "              precision    recall  f1-score   support\n",
      "\n",
      "           0       0.76      0.85      0.80      3157\n",
      "           1       0.82      0.73      0.77      3129\n",
      "\n",
      "    accuracy                           0.79      6286\n",
      "   macro avg       0.79      0.79      0.79      6286\n",
      "weighted avg       0.79      0.79      0.79      6286\n",
      "\n",
      "------------------------------------------------------------------------\n",
      "------------------------------------------------------------------------\n",
      "13\n",
      "[[2623  534]\n",
      " [ 778 2351]]\n",
      "              precision    recall  f1-score   support\n",
      "\n",
      "           0       0.77      0.83      0.80      3157\n",
      "           1       0.81      0.75      0.78      3129\n",
      "\n",
      "    accuracy                           0.79      6286\n",
      "   macro avg       0.79      0.79      0.79      6286\n",
      "weighted avg       0.79      0.79      0.79      6286\n",
      "\n",
      "------------------------------------------------------------------------\n",
      "------------------------------------------------------------------------\n",
      "16\n",
      "[[2657  500]\n",
      " [ 812 2317]]\n",
      "              precision    recall  f1-score   support\n",
      "\n",
      "           0       0.77      0.84      0.80      3157\n",
      "           1       0.82      0.74      0.78      3129\n",
      "\n",
      "    accuracy                           0.79      6286\n",
      "   macro avg       0.79      0.79      0.79      6286\n",
      "weighted avg       0.79      0.79      0.79      6286\n",
      "\n",
      "------------------------------------------------------------------------\n",
      "------------------------------------------------------------------------\n",
      "19\n",
      "[[2631  526]\n",
      " [ 778 2351]]\n",
      "              precision    recall  f1-score   support\n",
      "\n",
      "           0       0.77      0.83      0.80      3157\n",
      "           1       0.82      0.75      0.78      3129\n",
      "\n",
      "    accuracy                           0.79      6286\n",
      "   macro avg       0.79      0.79      0.79      6286\n",
      "weighted avg       0.79      0.79      0.79      6286\n",
      "\n",
      "------------------------------------------------------------------------\n",
      "------------------------------------------------------------------------\n",
      "22\n",
      "[[2652  505]\n",
      " [ 805 2324]]\n",
      "              precision    recall  f1-score   support\n",
      "\n",
      "           0       0.77      0.84      0.80      3157\n",
      "           1       0.82      0.74      0.78      3129\n",
      "\n",
      "    accuracy                           0.79      6286\n",
      "   macro avg       0.79      0.79      0.79      6286\n",
      "weighted avg       0.79      0.79      0.79      6286\n",
      "\n",
      "------------------------------------------------------------------------\n",
      "------------------------------------------------------------------------\n",
      "25\n",
      "[[2625  532]\n",
      " [ 775 2354]]\n",
      "              precision    recall  f1-score   support\n",
      "\n",
      "           0       0.77      0.83      0.80      3157\n",
      "           1       0.82      0.75      0.78      3129\n",
      "\n",
      "    accuracy                           0.79      6286\n",
      "   macro avg       0.79      0.79      0.79      6286\n",
      "weighted avg       0.79      0.79      0.79      6286\n",
      "\n",
      "------------------------------------------------------------------------\n",
      "------------------------------------------------------------------------\n",
      "28\n",
      "[[2641  516]\n",
      " [ 790 2339]]\n",
      "              precision    recall  f1-score   support\n",
      "\n",
      "           0       0.77      0.84      0.80      3157\n",
      "           1       0.82      0.75      0.78      3129\n",
      "\n",
      "    accuracy                           0.79      6286\n",
      "   macro avg       0.79      0.79      0.79      6286\n",
      "weighted avg       0.79      0.79      0.79      6286\n",
      "\n",
      "------------------------------------------------------------------------\n",
      "------------------------------------------------------------------------\n",
      "31\n",
      "[[2628  529]\n",
      " [ 776 2353]]\n",
      "              precision    recall  f1-score   support\n",
      "\n",
      "           0       0.77      0.83      0.80      3157\n",
      "           1       0.82      0.75      0.78      3129\n",
      "\n",
      "    accuracy                           0.79      6286\n",
      "   macro avg       0.79      0.79      0.79      6286\n",
      "weighted avg       0.79      0.79      0.79      6286\n",
      "\n",
      "------------------------------------------------------------------------\n",
      "------------------------------------------------------------------------\n",
      "34\n",
      "[[2647  510]\n",
      " [ 784 2345]]\n",
      "              precision    recall  f1-score   support\n",
      "\n",
      "           0       0.77      0.84      0.80      3157\n",
      "           1       0.82      0.75      0.78      3129\n",
      "\n",
      "    accuracy                           0.79      6286\n",
      "   macro avg       0.80      0.79      0.79      6286\n",
      "weighted avg       0.80      0.79      0.79      6286\n",
      "\n",
      "------------------------------------------------------------------------\n",
      "------------------------------------------------------------------------\n",
      "37\n",
      "[[2633  524]\n",
      " [ 777 2352]]\n",
      "              precision    recall  f1-score   support\n",
      "\n",
      "           0       0.77      0.83      0.80      3157\n",
      "           1       0.82      0.75      0.78      3129\n",
      "\n",
      "    accuracy                           0.79      6286\n",
      "   macro avg       0.79      0.79      0.79      6286\n",
      "weighted avg       0.79      0.79      0.79      6286\n",
      "\n",
      "------------------------------------------------------------------------\n"
     ]
    }
   ],
   "source": [
    "error_test_vect = []\n",
    "error_train_vect = []\n",
    "kappa_train_vec=[]\n",
    "kappa_test_vec=[]\n",
    "acc_train_vec=[]\n",
    "acc_test_vec=[]\n",
    "Confusion_matrix_vect=[]\n",
    "report_vect=[]\n",
    "\n",
    "for k in k_vec:\n",
    "    knn = neighbors.KNeighborsClassifier(n_neighbors=k)\n",
    "    knn.fit(X_train, y_train)\n",
    "    y_pred = knn.predict(X_train)\n",
    "    error_train_vect.append(metrics.precision_score(y_train, y_pred))\n",
    "    acc_train_vec.append(metrics.accuracy_score(y_train, y_pred))\n",
    "    kappa_train_vec.append(metrics.cohen_kappa_score(y_train, y_pred))\n",
    "    \n",
    "    \n",
    "    \n",
    "    \n",
    "    y_pred = knn.predict(X_test)\n",
    "    acc_test_vec.append(metrics.accuracy_score(y_test, y_pred))\n",
    "    error_test_vect.append(metrics.precision_score(y_test, y_pred))\n",
    "    kappa_test_vec.append(metrics.cohen_kappa_score(y_test, y_pred))\n",
    "    print(\"------------------------------------------------------------------------\")\n",
    "    print(k)\n",
    "    print(confusion_matrix(y_test, y_pred))\n",
    "    print(classification_report(y_test, y_pred))\n",
    "    print(\"------------------------------------------------------------------------\")"
   ]
  },
  {
   "cell_type": "markdown",
   "metadata": {},
   "source": [
    "## Grafica Kappa vs complejidad del modelo K-NN"
   ]
  },
  {
   "cell_type": "code",
   "execution_count": 85,
   "metadata": {
    "scrolled": true
   },
   "outputs": [
    {
     "data": {
      "text/plain": [
       "<matplotlib.legend.Legend at 0x1a20c75f60>"
      ]
     },
     "execution_count": 85,
     "metadata": {},
     "output_type": "execute_result"
    },
    {
     "data": {
      "image/png": "[encoded data removed]",
      "text/plain": [
       "<Figure size 720x360 with 1 Axes>"
      ]
     },
     "metadata": {
      "needs_background": "light"
     },
     "output_type": "display_data"
    }
   ],
   "source": [
    "plt.figure(figsize=(10,5))\n",
    "ax = plt.gca() # get current axis\n",
    "plt.plot(k_vec, kappa_train_vec)\n",
    "plt.plot(k_vec, kappa_test_vec)\n",
    "ax.set_xlim(ax.get_xlim()[::-1])  # reverse axis\n",
    "plt.axis('tight')\n",
    "plt.xlabel('k')\n",
    "plt.ylabel('Kappa')\n",
    "plt.title('Evolución de le kappa vs complejidad del modelo k-nn (valor de k más pequeño)')\n",
    "plt.legend(['train', 'test'])"
   ]
  },
  {
   "cell_type": "markdown",
   "metadata": {},
   "source": [
    "## Grafica exactitud vs complejidad del modelo K-NN"
   ]
  },
  {
   "cell_type": "code",
   "execution_count": 86,
   "metadata": {
    "scrolled": false
   },
   "outputs": [
    {
     "data": {
      "text/plain": [
       "<matplotlib.legend.Legend at 0x1a1fa7a0f0>"
      ]
     },
     "execution_count": 86,
     "metadata": {},
     "output_type": "execute_result"
    },
    {
     "data": {
      "image/png": "[encoded data removed]",
      "text/plain": [
       "<Figure size 720x360 with 1 Axes>"
      ]
     },
     "metadata": {
      "needs_background": "light"
     },
     "output_type": "display_data"
    }
   ],
   "source": [
    "plt.figure(figsize=(10,5))\n",
    "ax = plt.gca() # get current axis\n",
    "plt.plot(k_vec, acc_train_vec)\n",
    "plt.plot(k_vec, acc_test_vec)\n",
    "ax.set_xlim(ax.get_xlim()[::-1])  # reverse axis\n",
    "plt.axis('tight')\n",
    "plt.xlabel('k')\n",
    "plt.ylabel('accuracy')\n",
    "plt.title('Evolución de le exactitud vs complejidad del modelo k-nn (valor de k más pequeño)')\n",
    "plt.legend(['train', 'test'])"
   ]
  },
  {
   "cell_type": "markdown",
   "metadata": {},
   "source": [
    "## Grafica Precision vs complejidad del modelo K-NN"
   ]
  },
  {
   "cell_type": "code",
   "execution_count": 87,
   "metadata": {
    "scrolled": false
   },
   "outputs": [
    {
     "data": {
      "text/plain": [
       "<matplotlib.legend.Legend at 0x1a1ff65f60>"
      ]
     },
     "execution_count": 87,
     "metadata": {},
     "output_type": "execute_result"
    },
    {
     "data": {
      "image/png": "[encoded data removed]",
      "text/plain": [
       "<Figure size 720x360 with 1 Axes>"
      ]
     },
     "metadata": {
      "needs_background": "light"
     },
     "output_type": "display_data"
    }
   ],
   "source": [
    "plt.figure(figsize=(10,5))\n",
    "ax = plt.gca() # get current axis\n",
    "plt.plot(k_vec, error_test_vect)\n",
    "plt.plot(k_vec, error_train_vect)\n",
    "ax.set_xlim(ax.get_xlim()[::-1])  # reverse axis\n",
    "plt.axis('tight')\n",
    "plt.xlabel('k')\n",
    "plt.ylabel('precison')\n",
    "plt.title('Evolución de la precision vs complejidad del modelo k-nn (valor de k más pequeño)')\n",
    "plt.legend(['train', 'test'])"
   ]
  },
  {
   "cell_type": "markdown",
   "metadata": {},
   "source": [
    "# Modelo Arbol de decision"
   ]
  },
  {
   "cell_type": "code",
   "execution_count": 88,
   "metadata": {},
   "outputs": [],
   "source": [
    "np.random.seed(1234)\n",
    "ctree = tree.DecisionTreeClassifier(\n",
    "    criterion='entropy', # el criterio de particionamiento de un conjunto de datos (gini, entropy)\n",
    "    max_depth=8,      # prepoda: controla la profundidad del árbol (largo máximo de las ramas)\n",
    "    min_samples_split=4, # prepoda: el mínimo número de registros necesarios para crear una nueva rama\n",
    "    min_samples_leaf=2,  # prepoda: el mínimo número de registros en una hoja\n",
    "    random_state=None,   # semilla del generador aleatorio utilizado para \n",
    "    max_leaf_nodes=2, # prepoda: máximo número de nodos hojas\n",
    "    min_impurity_decrease=0.0, # prepoda: umbral mínimo de reducción de la impureza para aceptar la creación de una rama\n",
    "    class_weight=None    # permite asociar pesos a las clases, en el caso de diferencias de importancia entre ellas\n",
    ")"
   ]
  },
  {
   "cell_type": "code",
   "execution_count": 89,
   "metadata": {},
   "outputs": [
    {
     "data": {
      "text/plain": [
       "DecisionTreeClassifier(class_weight=None, criterion='entropy', max_depth=8,\n",
       "                       max_features=None, max_leaf_nodes=2,\n",
       "                       min_impurity_decrease=0.0, min_impurity_split=None,\n",
       "                       min_samples_leaf=2, min_samples_split=4,\n",
       "                       min_weight_fraction_leaf=0.0, presort=False,\n",
       "                       random_state=None, splitter='best')"
      ]
     },
     "execution_count": 89,
     "metadata": {},
     "output_type": "execute_result"
    }
   ],
   "source": [
    "ctree.fit(X_train, y_train)"
   ]
  },
  {
   "cell_type": "code",
   "execution_count": 90,
   "metadata": {},
   "outputs": [
    {
     "data": {
      "text/plain": [
       "array([1., 0.])"
      ]
     },
     "execution_count": 90,
     "metadata": {},
     "output_type": "execute_result"
    }
   ],
   "source": [
    "ctree.feature_importances_"
   ]
  },
  {
   "cell_type": "code",
   "execution_count": 91,
   "metadata": {},
   "outputs": [],
   "source": [
    "from IPython.display import Image  \n",
    "from sklearn.externals.six import StringIO  "
   ]
  },
  {
   "cell_type": "markdown",
   "metadata": {},
   "source": [
    "Evaluacion del modelo"
   ]
  },
  {
   "cell_type": "code",
   "execution_count": 92,
   "metadata": {},
   "outputs": [],
   "source": [
    "y_pred = ctree.predict(X_test)"
   ]
  },
  {
   "cell_type": "code",
   "execution_count": 93,
   "metadata": {},
   "outputs": [
    {
     "data": {
      "image/png": "[encoded data removed]",
      "text/plain": [
       "<Figure size 432x288 with 2 Axes>"
      ]
     },
     "metadata": {
      "needs_background": "light"
     },
     "output_type": "display_data"
    }
   ],
   "source": [
    "cm= metrics.confusion_matrix(y_test, y_pred)\n",
    "plt.imshow(cm, cmap=plt.cm.Blues)\n",
    "plt.title(\"Matriz de confusión para K=5\")\n",
    "plt.colorbar()\n",
    "tick_marks = np.arange(2)\n",
    "plt.xticks(tick_marks, y_test)\n",
    "plt.yticks(tick_marks, y_test)\n",
    "plt.show()"
   ]
  },
  {
   "cell_type": "code",
   "execution_count": 94,
   "metadata": {},
   "outputs": [
    {
     "name": "stdout",
     "output_type": "stream",
     "text": [
      "[[2718  439]\n",
      " [ 851 2278]]\n",
      "Exactitud:  0.7947820553611199\n",
      "Kappa    :  0.5893161650790049\n",
      "Precisión     :  0.7999912962529647\n",
      "Recall        :  0.794486029057972\n",
      "Especificidad :  0.8384247331615753\n",
      "F1-score      :  0.7937716281983945\n"
     ]
    }
   ],
   "source": [
    "print(cm)\n",
    "print(\"Exactitud: \", metrics.accuracy_score(y_test, y_pred))\n",
    "print(\"Kappa    : \", metrics.cohen_kappa_score(y_test, y_pred))\n",
    "print(\"Precisión     : \", metrics.precision_score(y_test, y_pred, average='macro'))\n",
    "print(\"Recall        : \", metrics.recall_score(y_test, y_pred, average='macro'))\n",
    "VN = np.sum(cm[1:3,1:3])\n",
    "FP = np.sum(cm[0,1:3])\n",
    "specificity = VN/(VN+FP)\n",
    "print(\"Especificidad : \", specificity)\n",
    "print(\"F1-score      : \", metrics.f1_score(y_test, y_pred, average='macro'))\n"
   ]
  },
  {
   "cell_type": "code",
   "execution_count": null,
   "metadata": {},
   "outputs": [],
   "source": []
  },
  {
   "cell_type": "code",
   "execution_count": null,
   "metadata": {},
   "outputs": [],
   "source": []
  },
  {
   "cell_type": "code",
   "execution_count": null,
   "metadata": {},
   "outputs": [],
   "source": []
  },
  {
   "cell_type": "markdown",
   "metadata": {},
   "source": [
    "# Naive-Bayes"
   ]
  },
  {
   "cell_type": "code",
   "execution_count": null,
   "metadata": {},
   "outputs": [],
   "source": []
  },
  {
   "cell_type": "code",
   "execution_count": null,
   "metadata": {},
   "outputs": [],
   "source": []
  }
 ],
 "metadata": {
  "kernelspec": {
   "display_name": "Python 3",
   "language": "python",
   "name": "python3"
  },
  "language_info": {
   "codemirror_mode": {
    "name": "ipython",
    "version": 3
   },
   "file_extension": ".py",
   "mimetype": "text/x-python",
   "name": "python",
   "nbconvert_exporter": "python",
   "pygments_lexer": "ipython3",
   "version": "3.7.3"
  }
 },
 "nbformat": 4,
 "nbformat_minor": 2
}
